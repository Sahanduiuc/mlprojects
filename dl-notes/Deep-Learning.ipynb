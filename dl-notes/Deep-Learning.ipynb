{
 "cells": [
  {
   "cell_type": "markdown",
   "metadata": {},
   "source": [
    "# Deep Learning"
   ]
  },
  {
   "cell_type": "markdown",
   "metadata": {},
   "source": [
    "- Deep learning is a class of machine learning algorithms that learn a hierarchical representation of the data.\n",
    "- In the context of Machine Learning, the word “learning” describes an automatic search process for better representation of the data\n",
    "- Deep learning algorithms seek to exploit the unknown structure in the input distribution\n",
    "- Most modern deep learning models are based on an artificial neural network, although they can also include propositional formulas or latent variables organized layer-wise in deep generative models such as the nodes in deep belief networks and deep Boltzmann machines\n",
    "- The key aspect of deep learning is that these layers of features are not designed by human engineers. A deep learning process can learn which features to optimally place in which level on its own."
   ]
  },
  {
   "cell_type": "markdown",
   "metadata": {},
   "source": [
    "## Rise of deep learning"
   ]
  },
  {
   "cell_type": "markdown",
   "metadata": {},
   "source": [
    "- Deep learning is taking off due to a large amount of data available through the digitization of the society, faster computation and innovation in the development of neural network algorithms\n",
    "- Previously, the labeled datasets were too small, the computers were too slow, the weights were initialized poorly, and the wrong type of non-linearity was used (Geoff Hinton)\n",
    "- Neural networks are extremely better than traditional methods because of the advances in hardware (mostly GPUs, now TPUs), and the exponential generation and accumulation of data\n",
    "\n",
    "<img width=500 src=\"images/riseofDeeplearning.jpg\"/>\n",
    "<center><a href=\"http://bytes.schibsted.com/deep-learning-changing-data-science-paradigms/\" style=\"color: lightgrey\">Credit</a></center>\n",
    "\n",
    "- One reason that deep learning has taken off is because of important theoretical and algorithmic improvements, mainly in supervised learning\n",
    "\n",
    "<img width=900 src=\"images/deepLearningTimeline.png\"/>\n",
    "<center><a href=\"https://towardsdatascience.com/a-weird-introduction-to-deep-learning-7828803693b0\" style=\"color: lightgrey\">Credit</a></center>"
   ]
  },
  {
   "cell_type": "markdown",
   "metadata": {},
   "source": [
    "## Hierarchical learning"
   ]
  },
  {
   "cell_type": "markdown",
   "metadata": {},
   "source": [
    "- DL is a branch of machine learning that covers the set of algorithms that model complex patterns by feeding data through multiple non-linear transformations causing each level to capture a different level of abstraction\n",
    "- In deep learning, each level learns to transform its input data into a slightly more abstract and composite representation\n",
    "- The most attractive thing about DL is that it is motivated by the way the world works: the world is compositional, atoms form molecules, and molecules form organisms.\n",
    "- In literature we have `letters->words->sentences->paragraph`, just as in vision we have `pixels->edges->parts->objects`\n",
    "\n",
    "<img width=500 src=\"images/featureLearning.jpg\"/>\n",
    "<center><a href=\"https://www.picswe.com/pics/feature-learning-a0.html\" style=\"color: lightgrey\">Credit</a></center>"
   ]
  },
  {
   "cell_type": "markdown",
   "metadata": {},
   "source": [
    "## Deep neural networks"
   ]
  },
  {
   "cell_type": "markdown",
   "metadata": {},
   "source": [
    "- \"Neural networks\" can be used to refer to the whole class of machine learning architectures where individual units (neurons) are connected in an acyclic graph\n",
    "- Deep neural networks have more layers between input and output, which allows richer intermediate representations to be built. With those additional layers in deep learning, the idea is that more of that feature engineering can be achieved by the algorithm itself.\n",
    "- DNN architectures generate compositional models where the object is expressed as a layered composition of primitives\n",
    "\n",
    "<img width=400 src=\"images/0*0mia7BQKjUAuXeqZ.jpeg\"/>\n",
    "<center><a href=\"http://cs231n.github.io/neural-networks-1/\" style=\"color: lightgrey\">Credit</a></center>"
   ]
  },
  {
   "cell_type": "markdown",
   "metadata": {},
   "source": [
    "#### As a universal function approximators:\n",
    "- It turns out that Neural Networks with at least one hidden layer are universal approximators. It means that they can compute and learn any function at all. Almost any process we can think of can be represented as a functional computation in neural networks.\n",
    "- The fact that deeper networks (with multiple hidden layers) can work better than a single-hidden-layer networks is an empirical observation, despite the fact that their representational power is equal.\n",
    "\n",
    "<img width=400 src=\"images/decisionBoundary.jpg\"/>\n",
    "<center><a href=\"https://www.learnopencv.com/understanding-feedforward-neural-networks/\" style=\"color: lightgrey\">Credit</a></center>\n",
    "\n",
    "- [A visual proof that neural nets can compute any function](http://neuralnetworksanddeeplearning.com/chap4.html)"
   ]
  },
  {
   "cell_type": "markdown",
   "metadata": {},
   "source": [
    "#### Benefits:\n",
    "-  The scalability of neural networks indicating that results get better with more data and larger models\n",
    "- Ability to perform automatic feature extraction from raw data, also called feature learning\n",
    "- Relatively simple learning algorithm (SGD and backprop)\n",
    "- Scales well to larger datasets with new GPGPU hardware and CUDA software\n",
    "- Information such as in traditional programming is stored on the entire network, not on a database\n",
    "- The disappearance of a few pieces of information in one place does not prevent the network from functioning (think of brain damage)\n",
    "- Parallel processing capability"
   ]
  },
  {
   "cell_type": "markdown",
   "metadata": {},
   "source": [
    "#### Drawbacks:\n",
    "- DNNs are prone to overfitting because of the added layers of abstraction, which allow them to model rare dependencies in the training data\n",
    "- Hard to interpret the model. NNs are a black box once they are trained.\n",
    "- Don't perform as well on small data sets. The Bayesian approaches do have an advantage here.\n",
    "- There is no specific rule for determining appropriate structur but through experience and trial and error.\n",
    "- They are computationally intensive to train; i.e. you need a lot of chips and a distributed run-time to train on very large datasets.\n",
    "- Sometimes DL can be an overkill especially in smaller problems with little data availability and in some unsupervised learning problems, clustering still works."
   ]
  },
  {
   "cell_type": "markdown",
   "metadata": {},
   "source": [
    "## Biology"
   ]
  },
  {
   "cell_type": "markdown",
   "metadata": {},
   "source": [
    "- Deep learning models are vaguely inspired by information processing and communication patterns in biological nervous systems yet have various differences from the structural and functional properties of biological brains (especially human brains), which make them incompatible with neuroscience evidences\n",
    "- For example, there are many different types of neurons, each with different properties. The dendrites in biological neurons perform complex nonlinear computations. The synapses are not just a single weight, they’re a complex non-linear dynamical system.\n",
    "- [Dendritic Computation](https://neurophysics.ucsd.edu/courses/physics_171/annurev.neuro.28.061604.135703.pdf)\n",
    "- Nevertheless, the computations performed by deep learning units could be similar to those of actual neurons and neural populations. Similarly, the representations developed by deep learning models are similar to those measured in the primate visual system both at the single-unit and at the population levels.\n",
    "- Other researchers have argued that unsupervised forms of deep learning, such as those based on hierarchical generative models and deep belief networks, may be closer to biological reality.\n",
    "\n",
    "<img width=500 src=\"images/biologicalNeuron.png\"/>\n",
    "<center><a href=\"https://www.mentalconstruction.com/mental-construction/neural-connections/neural-threshold/attachment/generic-neuron-input-output/\" style=\"color: lightgrey\">Credit</a></center>"
   ]
  },
  {
   "cell_type": "markdown",
   "metadata": {},
   "source": [
    "## Research"
   ]
  },
  {
   "cell_type": "markdown",
   "metadata": {},
   "source": [
    "#### Current state:\n",
    "- Modern state-of-the-art deep learning is focused on training deep (multi-layered) neural network models using the backpropagation algorithm\n",
    "- Most deep learning techniques are extensions or adaptions of ANN’s, called deep nets. Different configurations of deep nets are suitable for different machine learning tasks. \n",
    "- Restricted Boltzman Machines (RBM’s) (Smolensky 1986; Hinton & Salakhutdinov, 2006) and Autoencoders (Vincent, Larochelle, Bengio, & Manzagol ,2008) are the main deep learning techniques for finding patterns in unlabeled data. This includes tasks such as feature extraction, pattern recognition and other unsupervised learning settings. \n",
    "- Recurrent nets (Graves et al. , 2009. ; Sak, Senior & Beaufays, 2014) are the state of the art in text processing (sentiment analysis, text parsing, named entity recognition,…), speech recognition and time series analysis. \n",
    "- Deep believe nets (Hinton, Osindero & The, 2006; Taylor, Hinton & Roweis, 2006) and convolutional nets (Lee, Grosse, Ranganath & Ng, 2009) are today’s best choice for imagine recognition. \n",
    "- Deep believe networks are also state of the art in classification, together with multilayered perceptrons with rectified linear units (MLP/RELU).\n",
    "\n",
    "<img width=800 src=\"images/knowledgeMap.jpeg\"/>\n",
    "<center><a href=\"https://www.kdnuggets.com/2018/08/ai-knowledge-map-classify-ai-technologies.html\" style=\"color: lightgrey\">Credit</a></center>\n",
    "\n",
    "- [AI Knowledge Map: how to classify AI technologies](https://medium.com/@Francesco_AI/ai-knowledge-map-how-to-classify-ai-technologies-6c073b969020?fbclid=IwAR1mrs0KqMNST6AwqBFFZFWJmWNs34NFoADNk_LT-3o27w2nEyFfmBB9T_Q)"
   ]
  },
  {
   "cell_type": "markdown",
   "metadata": {},
   "source": [
    "#### Challenges:\n",
    "- We are beginning to realize that there are major complexity problems with regards to the entire Machine Learning paradigm of specifying reward functions and optimizing based on these rewards\n",
    "- DL is a tool for perceptual classification, when general intelligence involves so much more.\n",
    "- Back-propagation has trouble generalizing outside a space of training examples. Therefore, current models cannot account for those cognitive phenomena that involve universals that can be freely extended to arbitrary cases.\n",
    "\n",
    "<img width=400 src=\"images/confusion.jpeg\"/>\n",
    "<center><a href=\"https://medium.com/@GaryMarcus/the-deepest-problem-with-deep-learning-91c5991f5695\" style=\"color: lightgrey\">Credit</a></center>\n",
    "\n",
    "\n",
    "- State-of-the-art DNNs perform image classification well but are still far from true object recognition. \n",
    "- [Strike (with) a Pose: Neural Networks Are Easily Fooled by Strange Poses of Familiar Objects (2018)](https://arxiv.org/pdf/1811.11553.pdf)\n",
    "\n",
    "Deep learning is:\n",
    "- data hungry: DL currently lacks a mechanism for learning abstractions through explicit, verbal definition, and works best when there are millions of training examples,\n",
    "- actually quite swallow: There is, so far, no good way to carry training from one set of circumstances to another,\n",
    "- not sufficiently transparent: The transparency issue, as yet unsolved, is a potential liability when using deep learning for problem domains like financial trades or medical diagnosis,\n",
    "- difficult to engineer: Engineering risks could be particularly problematic with deep learning given their statistical nature, opacity, and difficulty distinguishing causation from correlation.\n",
    "- [Deep Learning: A Critical Appraisal (2017)](https://arxiv.org/pdf/1801.00631.pdf)\n",
    "- [The deepest problem with deep learning](https://medium.com/@GaryMarcus/the-deepest-problem-with-deep-learning-91c5991f5695)"
   ]
  },
  {
   "cell_type": "markdown",
   "metadata": {},
   "source": [
    "#### Future research:\n",
    "- Deep Learning is an active field of research too, nothing is settle or closed, we are still searching for the best models, topology of the networks, best ways to optimize their hyperparameters and more\n",
    "- We should and will see more benefits coming from the unsupervised side of the tracks as the field matures to deal with the abundance of unlabeled data available. Unsupervised feature learning approaches, like Autoencoders, would automatically make conclusions from similar observations. Then manually labeling these conclusions can be practical, and this is the way curiosity of computers are satisfied.\n",
    "- Deep learning and symbol-manipulation will co-exist, with deep learning handling many aspects of perceptual classification, but symbol-manipulation playing a vital role in reasoning about abstract knowledge. Gradient descent plus symbols, not gradient descent alone.\n",
    "- Deep Reinforcement Learning is another future direction. And the model works more like to a human brain, it interacts with the noisy environment and make precise decisions upon given scalar reward value.\n",
    "- The biggest obstacle in terms of real A(G)I for the current wave of Deep Learning is almost total lack of abstract reasoning\n",
    "- Interpretation Techniques for Deep Learning\n",
    "- Bayesian Deep Learning\n",
    "- Meta-Learning will be the new SGD\n",
    "- Generative Models drives a New Kind of Modeling\n",
    "- Metamorphosis (2015- ): Notion of depth is hidden inside Recurrent, Attention, and Memory to invent real power of learning."
   ]
  },
  {
   "cell_type": "code",
   "execution_count": null,
   "metadata": {},
   "outputs": [],
   "source": []
  }
 ],
 "metadata": {
  "kernelspec": {
   "display_name": "Python 3",
   "language": "python",
   "name": "python3"
  },
  "language_info": {
   "codemirror_mode": {
    "name": "ipython",
    "version": 3
   },
   "file_extension": ".py",
   "mimetype": "text/x-python",
   "name": "python",
   "nbconvert_exporter": "python",
   "pygments_lexer": "ipython3",
   "version": "3.6.6"
  }
 },
 "nbformat": 4,
 "nbformat_minor": 2
}
