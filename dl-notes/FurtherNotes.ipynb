{
 "cells": [
  {
   "cell_type": "markdown",
   "metadata": {},
   "source": [
    "# Further Notes"
   ]
  },
  {
   "cell_type": "markdown",
   "metadata": {},
   "source": [
    "### Webinar with Andrew Ng 04.12.2018:\n",
    "\n",
    "- Do coursework\n",
    "- Read research papers (several every week)\n",
    "- Gain technical skills\n",
    "- Do your own projects\n",
    "- Do dirty work: Data extraction and preprocessing\n",
    "- Lifelong learning (a bit every week)\n",
    "- A lot of untapped opportunities today are outside of the software industry (McKinsey report)\n",
    "- Search for novel application areas\n",
    "- Interact with successful, hard-working people to become a professional yourself\n",
    "- When joining a company, profile the team and projects you join\n",
    "- After reading 100 research papers you should become an expert\n",
    "- Exciting things: \n",
    "  - How to train on small amount of data\n",
    "  - Generalize to new distributions of data\n",
    "  - How we work as ML engineers together\n",
    "- Programming will be the new language babies of future will learn\n",
    "- To efficiently choose papers to read, read introductions of the whole bunch first and then decide"
   ]
  },
  {
   "cell_type": "code",
   "execution_count": null,
   "metadata": {},
   "outputs": [],
   "source": []
  }
 ],
 "metadata": {
  "kernelspec": {
   "display_name": "Python 3",
   "language": "python",
   "name": "python3"
  },
  "language_info": {
   "codemirror_mode": {
    "name": "ipython",
    "version": 3
   },
   "file_extension": ".py",
   "mimetype": "text/x-python",
   "name": "python",
   "nbconvert_exporter": "python",
   "pygments_lexer": "ipython3",
   "version": "3.6.6"
  }
 },
 "nbformat": 4,
 "nbformat_minor": 2
}
