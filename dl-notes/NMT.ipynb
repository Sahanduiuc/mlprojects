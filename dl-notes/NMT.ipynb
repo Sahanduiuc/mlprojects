{
 "cells": [
  {
   "cell_type": "markdown",
   "metadata": {},
   "source": [
    "# Neural Machine Translation"
   ]
  },
  {
   "cell_type": "markdown",
   "metadata": {},
   "source": [
    "- Neural machine translation, or NMT for short, is the use of neural network models to learn a statistical model for machine translation.\n",
    "- The strength of NMT lies in its ability to learn directly, in an end-to-end fashion, the mapping from input text to associated output text.\n",
    "- One of the most reliable ways is the use of recurrent neural networks organized into an encoder-decoder architecture that allow for variable length input and output sequences."
   ]
  },
  {
   "cell_type": "markdown",
   "metadata": {},
   "source": [
    "## Encoder-decoder model"
   ]
  },
  {
   "cell_type": "markdown",
   "metadata": {},
   "source": [
    "- This architecture is comprised of two models: \n",
    "    - one for reading the input sequence and encoding it into a fixed-length vector (which is a lower-dimensional representation, or information bottleneck), \n",
    "    - and a second for decoding the vector and outputting the reconstructed/translated sequence.\n",
    "- The encoders are trained with the decoders. The loss function is based on computing the delta between the actual and reconstructed/translated input. The optimizer will try to train both encoder and decoder to lower the reconstruction/translation loss.\n",
    "\n",
    "<img width=350 src=\"images/687474703a2f2f6936342e74696e797069632e636f6d2f333032617168692e706e67.png\"/>\n",
    "<center><a href=\"https://arxiv.org/pdf/1406.1078.pdf\" style=\"color: lightgrey\">Credit</a></center>"
   ]
  },
  {
   "cell_type": "markdown",
   "metadata": {},
   "source": [
    "## Sequence generation"
   ]
  },
  {
   "cell_type": "markdown",
   "metadata": {},
   "source": [
    "- The sequence of data contains crucial information about what is coming next.\n",
    "\n",
    "<img width=400 src=\"images/0*SUipu9efyQeKHdlk..png\"/>\n",
    "<center><a href=\"https://codeburst.io/recurrent-neural-network-4ca9fd4f242\" style=\"color: lightgrey\">Credit</a></center>\n",
    "\n",
    "- Machine translation model can be thought of as a “Conditional Language Model”, for a system that translates French to English, the model can be thought of probability of English sentence conditioned on French sentence.\n",
    "- Sequence models often operate by generating probability distributions across the vocabulary of output words and it is up to decoding algorithms to sample the probability distributions to generate the most likely sequences of words.\n",
    "- Each of the conditional distributions will be predicted using the output unit at a given time step.\n",
    "- We can then use the chain rule of conditional probability to calculate the joint probability of the sequence.\n",
    "\n",
    "<img width=550 src=\"images/joint_probability.png\"/>\n",
    "\n",
    "- This way an ancestral sampling can be achieved: \n",
    "    - pick the first character/word, called the seed, to start the sequence,\n",
    "    - create a probability distribution over all possible outputs (using softmax), \n",
    "    - then randomly sample from that distribution,\n",
    "    - and finally feed the sampled character/word back in as an input in the next time step."
   ]
  },
  {
   "cell_type": "markdown",
   "metadata": {},
   "source": [
    "### Greedy search"
   ]
  },
  {
   "cell_type": "markdown",
   "metadata": {},
   "source": [
    "- Decoding the most likely output sequence involves searching through all the possible output sequences based on their likelihood. However, the search problem is exponential in the length of the output sequence and is intractable (NP-complete) to search completely.\n",
    "- As the size of the search graph is exponential in the source sentence length, we have to use approximations to find a solution efficiently.\n",
    "- A simple approximation is to use a greedy search that selects the most likely word at each step in the output sequence.\n",
    "- While this approach is often effective, it is obviously non-optimal."
   ]
  },
  {
   "cell_type": "markdown",
   "metadata": {},
   "source": [
    "### Beam search"
   ]
  },
  {
   "cell_type": "markdown",
   "metadata": {},
   "source": [
    "- The beam search generates the sequence word by word while keeping a fixed number (beam) of active candidate sequences at each time step.\n",
    "- At each step, the probability distributions of $k$ candidates are generated. If any one maximizes the joint probability, the algorithm halts. Otherwise, it selects the $k$ best successors from the complete list and repeats.\n",
    "\n",
    "Light beam | Beam search strategy\n",
    ":-:|:-:\n",
    "<img width=300 src=\"images/20111215083108904.jpg\"/> | <img width=500 src=\"images/beam.png\"/>\n",
    "<center><a href=\"http://www.fotoimage.org/yellow-beam/\" style=\"color: lightgrey\">Credit</a></center> | <center><a href=\"https://www.analyticsvidhya.com/blog/2018/03/essentials-of-deep-learning-sequence-to-sequence-modelling-with-attention-part-i/\" style=\"color: lightgrey\">Credit</a></center>\n",
    "\n",
    "- Unlike exact search algorithms like BFS (Breadth First Search) or DFS (Depth First Search), Beam Search runs faster but is not guaranteed to find the exact solution.\n",
    "- By increasing the beam size, the translation performance can increase at the expense of significantly reducing the decoder speed.\n",
    "- Common beam width values are $k=1$ for a greedy search and values of $k=5$ or $k=10$ for common benchmark problems in machine translation."
   ]
  },
  {
   "cell_type": "markdown",
   "metadata": {},
   "source": [
    "#### Length normalization:\n",
    "- Multiplying conditional probabilities may cause a numerical underflow. So, in practice, we are summing their logarithms.\n",
    "- The other problem is the preference of smaller sequences over the longer ones: because multiplying more fractions gives a smaller value, returning fewer fractions yields a better result. Here we divide the sum by the number of elements in the sequence powered by the length normalization coefficient $\\alpha$. In practice, $\\alpha=0.7$ is somewhere in between two extremes."
   ]
  },
  {
   "cell_type": "markdown",
   "metadata": {},
   "source": [
    "### Resources"
   ]
  },
  {
   "cell_type": "markdown",
   "metadata": {},
   "source": [
    "- [Beam search](http://opennmt.net/OpenNMT/translation/beam_search/)\n",
    "- [Seq2Seq with Attention and Beam Search](https://guillaumegenthial.github.io/sequence-to-sequence.html)"
   ]
  },
  {
   "cell_type": "markdown",
   "metadata": {},
   "source": [
    "## Evaluation"
   ]
  },
  {
   "cell_type": "markdown",
   "metadata": {},
   "source": [
    "- Human judgment is the benchmark for assessing automatic metrics, as humans are the end-users of any translation output.\n",
    "- Therefore, any metric must assign quality scores so they correlate with human judgment of quality.\n",
    "- But even if a metric correlates well with human judgment in one study on one corpus, this successful correlation may not carry over to another corpus."
   ]
  },
  {
   "cell_type": "markdown",
   "metadata": {},
   "source": [
    "### BLEU score"
   ]
  },
  {
   "cell_type": "markdown",
   "metadata": {},
   "source": [
    "- BLEU uses a modified form of precision to compare a candidate translation against multiple reference translations.\n",
    "- For each word in the candidate translation, the algorithm takes its maximum total count, in any of the reference translations.\n",
    "- Since, however, using individual words as the unit of comparison is not optimal, BLEU computes the same modified precision metric using n-grams.\n",
    "- It turns out that if a machine outputs a small number of words it will get a better score, so that a brevity penalty is introduced.\n",
    "\n",
    "<img width=500 src=\"images/bleu_score_range.png\"/>\n",
    "<center><a href=\"https://cloud.google.com/translate/automl/docs/evaluate\" style=\"color: lightgrey\">Credit</a></center>\n",
    "\n",
    "- It has been shown that BLEU scores correlate well with human judgment of translation quality.\n",
    "- More (and more diverse) reference translations result in more accurate scores.\n",
    "- [Evaluating models](https://cloud.google.com/translate/automl/docs/evaluate)"
   ]
  },
  {
   "cell_type": "code",
   "execution_count": null,
   "metadata": {},
   "outputs": [],
   "source": []
  }
 ],
 "metadata": {
  "kernelspec": {
   "display_name": "Python 3",
   "language": "python",
   "name": "python3"
  },
  "language_info": {
   "codemirror_mode": {
    "name": "ipython",
    "version": 3
   },
   "file_extension": ".py",
   "mimetype": "text/x-python",
   "name": "python",
   "nbconvert_exporter": "python",
   "pygments_lexer": "ipython3",
   "version": "3.6.6"
  }
 },
 "nbformat": 4,
 "nbformat_minor": 2
}
