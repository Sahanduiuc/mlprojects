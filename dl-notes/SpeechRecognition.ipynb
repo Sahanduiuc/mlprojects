{
 "cells": [
  {
   "cell_type": "markdown",
   "metadata": {},
   "source": [
    "# Speech Recognition"
   ]
  },
  {
   "cell_type": "markdown",
   "metadata": {},
   "source": [
    "- The deep acoustic model extracts higher-level representations of speech features and computes the probability that in that particular frame, a phoneme is pronounced. \n",
    "- There are 2 main types of deep neural networks used for speech recognition:\n",
    "    - Recurrent acoustic model: the system sequentially sees one vector after the other. When processing a vector, it will not only use information that it sees in the features but it will also use the information from the previous prediction. For instance, it will take into account the fact that the probability that there is a vowel after a consonant is higher than having a consonant again because that’s usually how words are built.\n",
    "    - Convolutional acoustic model: it’s the same type of neural network as the one used in computer vision. It will look at speech features as if we were looking at an image and it is going to use some context around the speech features to compute probabilities.\n",
    "- [Have you ever wondered how Amazon Echo, Siri or Google Home work?](https://mc.ai/have-you-ever-wondered-how-amazon-echo-siri-or-google-home-work/)"
   ]
  },
  {
   "cell_type": "markdown",
   "metadata": {},
   "source": [
    "#### Challenges:\n",
    "- The big problem is that speech varies in speed: automatically aligning audio files of various lengths to a fixed-length piece of text turns out to be hard.\n",
    "- Accented speech and noisy speech (with heavy environmental noise) are still very challenging.\n",
    "- Languages without standard orthography such as Moroccan Arab are problematic since two different people won’t write a sentence in the same way because there is no standard way to write words.\n",
    "- Language evolution is a problem since new words and accents continuously appear in the language and the speech recognition system needs to be retrained to incorporate these evolutions.\n",
    "- Unlike humans, lots of data are needed to train a speech recognition system."
   ]
  },
  {
   "cell_type": "markdown",
   "metadata": {},
   "source": [
    "## Feature extraction"
   ]
  },
  {
   "cell_type": "markdown",
   "metadata": {},
   "source": [
    "- The role of feature extraction is to transform the signal into a representation of the acoustic signals that will be relevant for machine learning. This is in fact done to try to reproduce the human ear perception. But it turns out that the human ear is more sensitive to variations in low frequencies than in high frequencies (Mel-filterbanks logarithmic scale can be applied here).\n",
    "- Using a spectrogram and optionally a 1D conv layer is a common pre-processing step prior to passing audio data to an RNN, GRU or LSTM."
   ]
  },
  {
   "cell_type": "markdown",
   "metadata": {},
   "source": [
    "#### Digital sampling:\n",
    "- According to the Nyquist theorem, we can use math to perfectly reconstruct the original sound wave from the spaced-out samples - as long as we sample at least twice as fast as the highest frequency we want to record.\n",
    "\n",
    "<img width=400 src=\"images/Signal_Sampling.png\"/>\n",
    "<center><a href=\"https://en.wikipedia.org/wiki/Sampling_(signal_processing)\" style=\"color: lightgrey\">Credit</a></center>"
   ]
  },
  {
   "cell_type": "markdown",
   "metadata": {},
   "source": [
    "#### Spectrogram:\n",
    "- Trying to recognize speech patterns by processing raw samples directly is difficult: There are some low sounds, mid-range sounds, and high-pitched sounds sprinkled in. For example: A piano music is as a combination of musical notes mixed together into one complex sound. Also, even human ear doesn't process raw wave forms, but different frequencies.\n",
    "- The standard practice is to first extract spectrograms or MFCC (Mel-Frequency Cepstral Coefficients) out of the raw audio.\n",
    "- A spectrogram is a visual representation of sound with a time and a frequency axis and pixel intensities representing the amplitude or energy of the sound at that moment and at that frequency.\n",
    "\n",
    "<img width=200 src=\"images/76.png\"/>\n",
    "<center><a href=\"https://www.coursera.org/learn/nlp-sequence-models/home/welcome\" style=\"color: lightgrey\">Credit</a></center>\n",
    "\n",
    "- A spectrogram is computed by sliding a window over the raw audio signal, and calculates the most active frequencies in each window using a Fourier transformation.\n",
    "- Short Time Fourier Transform decomposes a function of time (a signal) into the frequencies that make it up, in a way similar to how a musical chord can be expressed as the frequencies (or pitches) of its constituent notes.\n",
    "\n",
    "<img width=450 src=\"images/3311485_orig.gif\"/>\n",
    "<center><a href=\"http://mriquestions.com/fourier-transform-ft.html\" style=\"color: lightgrey\">Credit</a></center>\n",
    "\n",
    "- MFCCs are yet another transformation on spectrograms and are meant to capture characteristics of human speech better. There are also delta and delta-delta transformations on top of MFCC, which you probably can think of them as first and second derivatives. \n",
    "- MFCCs are the standard feature representation in popular speech recognition frameworks.\n",
    "\n",
    "<img width=500 src=\"images/1*sJ6sAVUO4k9d8HYtckxYuw.png\"/>\n",
    "<center><a href=\"https://towardsdatascience.com/speech-recognition-challenge-with-deep-learning-studio-7ad73dc6bfa\" style=\"color: lightgrey\">Credit</a></center>"
   ]
  },
  {
   "cell_type": "markdown",
   "metadata": {},
   "source": [
    "#### Slicing:\n",
    "- We need to slice the spectrogram into short-time segments (typically 10 milliseconds) shifted with a fixed timestep."
   ]
  },
  {
   "cell_type": "markdown",
   "metadata": {},
   "source": [
    "## Data synthesis"
   ]
  },
  {
   "cell_type": "markdown",
   "metadata": {},
   "source": [
    "- Data synthesis is an effective way to create a large training set for speech problems.\n",
    "- The training data can be generated using the audio clips of activates, negatives, and backgrounds.\n",
    "- Mix background noises with word files to get some different ‘environments’ for your sounds to live in during training.\n",
    "- Apply feature engineering to create more “unknown” samples (negatives). You can for example cut and paste pieces of words together to create new words, or you can use pitch shifting or reversing the samples."
   ]
  },
  {
   "cell_type": "markdown",
   "metadata": {},
   "source": [
    "## Connectionist Temporal Classification"
   ]
  },
  {
   "cell_type": "markdown",
   "metadata": {},
   "source": [
    "- Without CTC, every character of a transcription needs to be aligned to its exact location in the audio file: The small fixed-length analysis frames used in the acoustic model do not necessarily correspond to a single sound, because a sound might occupy several frames. Also, it is very expensive to correctly label each vector with the correct phoneme because it needs human manual annotation done by professionals.\n",
    "- CTC is a loss function useful for performing supervised learning on sequence data, without needing an alignment between input data and labels.\n",
    "- Basically, instead of maximizing the probability of one particular phoneme, it will compute each path’s probability and maximize the valid paths to give us the phonetic transcription of the word. It will consider the outputs from the acoustic model as a graph and take each probability of a phoneme as a node. Each path will have its own probability, which will simply be the product of the probability of the nodes.\n",
    "\n",
    "<img width=250 src=\"images/1*BFQYgGofh6HOxnGdkJnO-w.png\"/>\n",
    "<center><a href=\"https://towardsdatascience.com/intuitively-understanding-connectionist-temporal-classification-3797e43a86c\" style=\"color: lightgrey\">Credit</a></center>\n",
    "\n",
    "- CTC computes the probability of an output sequence as a sum over all possible alignments of input sequences that could map to the output sequence.\n",
    "\n",
    "<img width=600 src=\"images/0115.sdt-warp-ctc.png\"/>\n",
    "<center><a href=\"https://github.com/baidu-research/warp-ctc\" style=\"color: lightgrey\">Credit</a></center>\n",
    "\n",
    "- Computing the sum of all such probabilities explicitly would be prohibitively costly due to the combinatorics involved, but CTC uses dynamic programming to dramatically reduce the complexity of the computation.\n",
    "- In order to encode duplicate characters, CTC introduces a pseudo-character called blank."
   ]
  },
  {
   "cell_type": "markdown",
   "metadata": {},
   "source": [
    "### Resources"
   ]
  },
  {
   "cell_type": "markdown",
   "metadata": {},
   "source": [
    "- [Sequence Modeling With CTC](https://distill.pub/2017/ctc/)\n",
    "- [An Intuitive Explanation of Connectionist Temporal Classification](https://towardsdatascience.com/intuitively-understanding-connectionist-temporal-classification-3797e43a86c)"
   ]
  },
  {
   "cell_type": "markdown",
   "metadata": {},
   "source": [
    "## Resources"
   ]
  },
  {
   "cell_type": "markdown",
   "metadata": {},
   "source": [
    "- [How to do Speech Recognition with Deep Learning](https://medium.com/@ageitgey/machine-learning-is-fun-part-6-how-to-do-speech-recognition-with-deep-learning-28293c162f7a)\n",
    "- [Combining CNN and RNN for spoken language identification](https://yerevann.github.io/2016/06/26/combining-cnn-and-rnn-for-spoken-language-identification/)"
   ]
  },
  {
   "cell_type": "code",
   "execution_count": null,
   "metadata": {},
   "outputs": [],
   "source": []
  }
 ],
 "metadata": {
  "kernelspec": {
   "display_name": "Python 3",
   "language": "python",
   "name": "python3"
  },
  "language_info": {
   "codemirror_mode": {
    "name": "ipython",
    "version": 3
   },
   "file_extension": ".py",
   "mimetype": "text/x-python",
   "name": "python",
   "nbconvert_exporter": "python",
   "pygments_lexer": "ipython3",
   "version": "3.6.6"
  }
 },
 "nbformat": 4,
 "nbformat_minor": 2
}
