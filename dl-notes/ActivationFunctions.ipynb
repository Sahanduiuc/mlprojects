{
 "cells": [
  {
   "cell_type": "markdown",
   "metadata": {},
   "source": [
    "# Activation Functions"
   ]
  },
  {
   "cell_type": "markdown",
   "metadata": {},
   "source": [
    "- How do we decide whether the neuron should fire or not?\n",
    "- The activation function of a node maps the resulting values into the desired range"
   ]
  },
  {
   "cell_type": "markdown",
   "metadata": {},
   "source": [
    "#### Non-linearity\n",
    "- A multi-layered neural network can be regarded as a hierarchy of generalized linear models; according to this, activation functions are link functions, which in turn correspond to different distributional assumptions\n",
    "- Only nonlinear activation functions allow to compute nontrivial problems using only a small number of nodes, otherwise it would behave just like a single-layer perceptron.\n",
    "\n",
    "<img width=450 src=\"images/1*cxNqE_CMez7vUIkcLUH8PA.png\"/>\n",
    "<center><a href=\"https://towardsdatascience.com/activation-functions-neural-networks-1cbd9f8d91d6\" style=\"color: lightgrey\">Credit</a></center>"
   ]
  },
  {
   "cell_type": "markdown",
   "metadata": {},
   "source": [
    "#### Comparison of different functions:\n",
    "\n",
    "- Use ReLu which should only be applied to the hidden layers. Be careful with your learning rates and possibly monitor the fraction of “dead” units in a network.\n",
    "- If the model suffers form dead neurons during training then use leaky ReLu or Maxout function\n",
    "- Other functions are discouraged for vanilla feedforward implementation. They are more useful for recurrent networks, probabilistic models, and some autoencoders have additional requirements that rule out the use of piecewise linear activation functions.\n",
    "- For output layers use a softmax function for a multi-class classification, and sigmoid or tanh function for a multi-label classification\n",
    "- In practice, the tanh non-linearity is always preferred to the sigmoid nonlinearity.\n",
    "- [Comparison of non-linear activation functions for deep neural networks on MNIST classification task (2018)](https://arxiv.org/pdf/1804.02763.pdf)"
   ]
  },
  {
   "cell_type": "markdown",
   "metadata": {},
   "source": [
    "## ReLU"
   ]
  },
  {
   "cell_type": "markdown",
   "metadata": {},
   "source": [
    "- The Rectified Linear Unit is simply thresholded at zero\n",
    "\n",
    "<img width=200 src=\"images/1*hBlI5xsJnSpfQY2i_-iHzQ.png\"/>\n",
    "\n",
    "<img width=500 src=\"images/The-rectified-linear-unit.png\"/>\n",
    "<center><a href=\"https://www.researchgate.net/publication/284579051_Fast_and_Accurate_Deep_Network_Learning_by_Exponential_Linear_Units_ELUs/figures?lo=1&utm_source=google&utm_medium=organic\" style=\"color: lightgrey\">Credit</a></center>\n",
    "\n",
    "- Relu is like a switch for linearity. If you don't need it ($x<0$), you \"switch\" it off.\n",
    "\n",
    "<img width=200 src=\"images/oBZxy.png\"/>\n",
    "<center><a href=\"https://ux.stackexchange.com/questions/43250/is-there-a-better-way-to-design-switches-than-i-o/43255\" style=\"color: lightgrey\">Credit</a></center>"
   ]
  },
  {
   "cell_type": "markdown",
   "metadata": {},
   "source": [
    "#### Pros:\n",
    "- Fewer vanishing gradient problems compared to sigmoidal activation functions that saturate in both directions. This arises when $x>0$, where the gradient has a constant value.\n",
    "- Sparse activation. For example, in a randomly initialized network, only about 50% of hidden units are activated (having a non-zero output). This means less neurons are firing and the network is lighter and more robust to noise. Sparsity arises when $x\\leq{0}$.\n",
    "- Efficient computation\n",
    "- It was found to greatly accelerate the convergence of SGD compared to the sigmoid/tanh functions. It is argued that this is due to its linear, non-saturating form.\n",
    "- Biological plausibility: One-sided, compared to the antisymmetry of tanh"
   ]
  },
  {
   "cell_type": "markdown",
   "metadata": {},
   "source": [
    "#### Cons:\n",
    "\n",
    "- It should only be used within hidden layers\n",
    "- Non-differentiable at zero; however it is differentiable anywhere else, and a value of 0 or 1 can be chosen arbitrarily to fill the point where the input is 0\n",
    "- Dying ReLU problem: If the dot product of the input to a ReLU with its weights is negative, the output is 0. The gradient of $max(x,0)$ is 0 when the output is 0. It may be mitigated by using leaky ReLU instead, which assign a small positive slope to the left of $x=0$. With a proper setting of the learning rate this is less frequently an issue."
   ]
  },
  {
   "cell_type": "markdown",
   "metadata": {},
   "source": [
    "### Sparsity"
   ]
  },
  {
   "cell_type": "markdown",
   "metadata": {},
   "source": [
    "<img width=400 src=\"images/sparsity.png\"/>\n",
    "<center><a href=\"https://www.utc.fr/~bordesan/dokuwiki/_media/en/glorot10nipsworkshop.pdf\" style=\"color: lightgrey\">Credit</a></center>\n",
    "\n",
    "- [Deep Sparse Rectifier Neural Networks](https://www.utc.fr/~bordesan/dokuwiki/_media/en/glorot10nipsworkshop.pdf)"
   ]
  },
  {
   "cell_type": "markdown",
   "metadata": {},
   "source": [
    "#### Inspiration from biology:\n",
    "- Biology appears to use a rule that says if the inputs sum to less than zero, don’t let the signal pass\n",
    "- Also, studies conducted on ‘brain energy expenditure’ suggest that biological neurons encode information in a ‘sparse and distributed way‘. This means that the percentage of neurons that are active at the same time are very low (1–4%).\n",
    "- Ordinary artificial neural networks operate at much higher levels of activity and are less robust to small changes in input\n",
    "- With the use of rectifying neurons we can achieve truly sparse representations"
   ]
  },
  {
   "cell_type": "markdown",
   "metadata": {},
   "source": [
    "#### Effect:\n",
    "- Generalization: Dense representations can become strongly correlated during training, and this causes the network to overtrain because the 'hidden information'\n",
    "- Makes internal representation linearly separable (think of Softmax classifier)\n",
    "- Sparse set is going to be more easily distributed because there are few interactions across the network"
   ]
  },
  {
   "cell_type": "markdown",
   "metadata": {},
   "source": [
    "## Maxout"
   ]
  },
  {
   "cell_type": "markdown",
   "metadata": {},
   "source": [
    "- The Maxout neuron (introduced recently by Goodfellow et al.) generalizes the ReLU and its leaky version.\n",
    "\n",
    "<img width=350 src=\"images/Screen Shot 2018-12-05 at 18.57.20.png\"/>\n",
    "\n",
    "<img width=500 src=\"images/main-qimg-b058f6e2ad6be417d165b7d293604bfe.png\"/>\n",
    "<center><a href=\"https://www.quora.com/What-is-the-difference-between-max-pooling-and-max-out\" style=\"color: lightgrey\">Credit</a></center>"
   ]
  },
  {
   "cell_type": "markdown",
   "metadata": {},
   "source": [
    "#### Pros:\n",
    "- The Maxout neuron enjoys all the benefits of a ReLU unit (linear regime of operation, no saturation) and does not have its drawbacks (dying ReLU)"
   ]
  },
  {
   "cell_type": "markdown",
   "metadata": {},
   "source": [
    "#### Cons:\n",
    "- However, unlike the ReLU neurons it doubles the number of parameters for every single neuron, leading to a high total number of parameters."
   ]
  },
  {
   "cell_type": "markdown",
   "metadata": {},
   "source": [
    "## Sigmoid"
   ]
  },
  {
   "cell_type": "markdown",
   "metadata": {},
   "source": [
    "- The Sigmoid (or logistic) function used for binary classification in logistic regression model.\n",
    "- The sigmoid non-linearity takes a real-valued number and “squashes” it into range between 0 and 1.\n",
    "\n",
    "<img width=200 src=\"images/1*DHN75JRJ_EQgGc0spfqLtQ.png\"/>\n",
    "\n",
    "- In statistics, the sigmoid function graphs are common as a cumulative distribution function."
   ]
  },
  {
   "cell_type": "markdown",
   "metadata": {},
   "source": [
    "#### Cons:\n",
    "- Saturates and kills gradients: A very undesirable property of the sigmoid neuron is that when the neuron’s activation saturates at either tail of 0 or 1, the gradient at these regions is almost zero. Also, if the initial weights are too large then most neurons would become saturated and the network will barely learn.\n",
    "- The derivative of the sigmoid maxes out at 0.25. This means when you’re performing backpropagation with sigmoid units, the errors going back into the network will be shrunk by at least 75% at every layer. For layers close to the input layer, the weight updates will be tiny.\n",
    "- Outputs are not zero-centered: This could introduce undesirable zig-zagging dynamics in the gradient updates for the weights.\n",
    "- Sigmoids have fallen out of favor as activations on hidden units."
   ]
  },
  {
   "cell_type": "markdown",
   "metadata": {},
   "source": [
    "## Tanh"
   ]
  },
  {
   "cell_type": "markdown",
   "metadata": {},
   "source": [
    "- The tanh non-linearity squashes a real-valued number to the range $[-1, 1]$\n",
    "- Tanh neuron is simply a scaled sigmoid neuron.\n",
    "\n",
    "<img width=400 src=\"images/1*U-677uRd-StXbAgrAnX2hw.png\"/>\n",
    "\n",
    "<img width=400 src=\"images/1*f9erByySVjTjohfFdNkJYQ.jpeg.png\"/>\n",
    "<center><a href=\"https://www.utc.fr/~bordesan/dokuwiki/_media/en/glorot10nipsworkshop.pdf\" style=\"color: lightgrey\">Credit</a></center>"
   ]
  },
  {
   "cell_type": "markdown",
   "metadata": {},
   "source": [
    "#### Pros:\n",
    "- Unlike the sigmoid neuron its output is zero-centered. Therefore, in practice the tanh non-linearity is always preferred to the sigmoid nonlinearity."
   ]
  },
  {
   "cell_type": "markdown",
   "metadata": {},
   "source": [
    "## Softmax"
   ]
  },
  {
   "cell_type": "markdown",
   "metadata": {},
   "source": [
    "- While sigmoid function can only handle two classes, softmax can handle an arbitrary number of classes\n",
    "- The output of the softmax function is equivalent to a categorical probability distribution, it tells you the probability that any of the classes are true.\n",
    "- It transforms logits into probabilities. Logits simply means that the function operates on the unscaled output of earlier layers and that the relative scale to understand the units is linear.\n",
    "- The calculated probabilities will be in the range of 0 to 1.\n",
    "- The sum of all the probabilities is equals to 1.\n",
    "- Softmax sums over the $n$ different possible values of the class label\n",
    "- It's exponential, can enlarge differences, and so pushes one result closer to 1 while another closer to 0.\n",
    "\n",
    "<img width=250 src=\"images/9eb7c856-ee54-11e6-98ca-a7e03120b1f8.png\"/>\n",
    "\n",
    "- Softmax function is differentiable to train by gradient descent. "
   ]
  },
  {
   "cell_type": "markdown",
   "metadata": {},
   "source": [
    "#### Cross-entropy loss:\n",
    "- We can't use MSE because our prediction function is non-linear. Squaring this prediction as we do in MSE results in a non-convex function with many local minimums. If our cost function has many local minimums, gradient descent may not find the optimal global minimum.\n",
    "- Cross-entropy results in a convex loss function, of which the global minimum will be easy to find. Note that this is not necessarily the case anymore in multilayer neural networks.\n",
    "- Cross entropy is often computed for output of softmax and true labels encoded in one hot encoding\n",
    "- What’s cool about using one-hot encoding for the label vector is that $y_j$ is 0 except for the one true class.\n",
    "\n",
    "<img width=600 src=\"images/CNN_Softmax_Img5.png\"/>\n",
    "<center><a href=\"https://www.superdatascience.com/convolutional-neural-networks-cnn-softmax-cross-entropy/\" style=\"color: lightgrey\">Credit</a></center>\n",
    "\n",
    "- [Softmax classification with cross-entropy](https://peterroelants.github.io/posts/cross-entropy-softmax/)"
   ]
  },
  {
   "cell_type": "code",
   "execution_count": null,
   "metadata": {},
   "outputs": [],
   "source": []
  }
 ],
 "metadata": {
  "kernelspec": {
   "display_name": "Python 3",
   "language": "python",
   "name": "python3"
  },
  "language_info": {
   "codemirror_mode": {
    "name": "ipython",
    "version": 3
   },
   "file_extension": ".py",
   "mimetype": "text/x-python",
   "name": "python",
   "nbconvert_exporter": "python",
   "pygments_lexer": "ipython3",
   "version": "3.6.7"
  }
 },
 "nbformat": 4,
 "nbformat_minor": 2
}
