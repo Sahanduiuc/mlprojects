{
 "cells": [
  {
   "cell_type": "markdown",
   "metadata": {},
   "source": [
    "# Normalization"
   ]
  },
  {
   "cell_type": "markdown",
   "metadata": {},
   "source": [
    "## Input normalization"
   ]
  },
  {
   "cell_type": "markdown",
   "metadata": {},
   "source": [
    "- By normalizing all of our inputs to a standard scale, we're allowing the network to more quickly learn the optimal parameters for each input node.\n",
    "\n",
    "<img width=700 src=\"images/20180128.png\"/>\n",
    "<center><a href=\"https://jsideas.net/batch_normalization/\" style=\"color: lightgrey\">Credit</a></center>\n",
    "\n",
    "- You want to transform your input into the regions that can utilize the non-linearity of your activation function, and not suffer saturation.\n",
    "- It is usually better to have the input values centered around zero, and this is coupled with the weights initialization heuristics which initialize weights around zero\n",
    "- Additionally, it's useful to ensure that our inputs are roughly in the range of -1 to 1 to avoid weird mathematical artifacts associated with floating point number precision"
   ]
  },
  {
   "cell_type": "markdown",
   "metadata": {},
   "source": [
    "#### Methods:\n",
    "- Standard scaler approach: The most popular method is subtracting the mean and dividing by the standard deviation.\n",
    "- Min-Max Scaling: this feature transformation puts your features in a predefined range (like 0 to 1). It can be useful when you have a lot of one-hot encoded features together with dense features. Instead of letting your dense features have different ranges than the OHE ones, this will put them in the same range.\n",
    "- Robust Scaling: let’s say you have some big outliers, but you don’t want your scaling to be affected by them. This type of scaling takes into account the median and interquartile ranges instead of using the mean and standard deviation. It helps you avoid extreme values."
   ]
  },
  {
   "cell_type": "markdown",
   "metadata": {},
   "source": [
    "## Batch normalization"
   ]
  },
  {
   "cell_type": "markdown",
   "metadata": {},
   "source": [
    "#### Internal covariate shift:\n",
    "- As learning progresses, each hidden unit’s input distribution changes every time there is a parameter update in the previous layer\n",
    "- This can result in most inputs being in the nonlinear regime of the activation function and slow down learning\n",
    "- This in turn makes training slow and requires a very small learning rate and a good parameter initialization"
   ]
  },
  {
   "cell_type": "markdown",
   "metadata": {},
   "source": [
    "#### Solution:\n",
    "- We can think of any layer in a neural network as the first layer of a smaller subsequent network\n",
    "- BN is divided in two sub-operations:\n",
    "  - First sub-operation will normalize activation output, dimension-wise with zero mean and unit variance within a mini-batch of training set\n",
    "  - Second sub-operation will optimally shift and scale these normalized activations."
   ]
  },
  {
   "cell_type": "markdown",
   "metadata": {},
   "source": [
    "#### 1. Normalization:\n",
    "- The basic idea behind batch normalization is to limit covariate shift by normalizing the activations of each layer\n",
    "- By normalizing each layer, we're introducing a level of orthogonality between layers\n",
    "\n",
    "<img width=600 src=\"images/prepro1.jpeg\"/>\n",
    "<center><a href=\"http://cs231n.github.io/neural-networks-2/\" style=\"color: lightgrey\">Credit</a></center>\n",
    "\n",
    "- [Setting up the data and the model](http://cs231n.github.io/neural-networks-2/)"
   ]
  },
  {
   "cell_type": "markdown",
   "metadata": {},
   "source": [
    "#### 2. Shifting and scaling:\n",
    "- In practice, restricting the activations of each layer to be strictly 0 mean and unit variance can limit the expressive power of the network. Therefore, in practice, batch normalization allows the network to learn parameters $\\gamma$  and $\\beta$ that can convert the mean and variance to any value that the network desires.\n",
    "- This extra flexibility helps to represent identity transformation and preserve the network capacity.\n",
    "\n",
    "<img width=600 src=\"images/Screenshot from 2017-03-23 21-50-33.png\"/>\n",
    "<center><a href=\"http://tzutalin.blogspot.com/2017/07/deep-learning-batch-normalization-note.html\" style=\"color: lightgrey\">Credit</a></center>\n",
    "\n",
    "- [Batch Normalization: Accelerating Deep Network Training by Reducing Internal Covariate Shift (2015)](https://arxiv.org/pdf/1502.03167v3.pdf)"
   ]
  },
  {
   "cell_type": "markdown",
   "metadata": {},
   "source": [
    "#### Pros:\n",
    "- The network should converge much more quickly\n",
    "- Using batch normalisation allows much higher learning rates, increasing the speed at which networks train.\n",
    "- Batch normalisation helps reduce the sensitivity to the initial starting weights.\n",
    "- As batch normalisation regulates the values going into each activation function, nonlinearities that don’t work well in deep networks tend to become viable again.\n",
    "- Simplifies the creation of deeper networks\n",
    "- You can consider batch normalisation as a bit of extra regularization, allowing you to reduce some of the dropout you might add to a network. Similar to dropout, it adds some noise to each hidden layer’s activations.\n",
    "\n",
    "<img width=400 src=\"images/ModelAccuracy.png\"/>\n",
    "<center><a href=\"https://www.learnopencv.com/batch-normalization-in-deep-networks/\" style=\"color: lightgrey\">Credit</a></center>"
   ]
  },
  {
   "cell_type": "markdown",
   "metadata": {},
   "source": [
    "#### Tips:\n",
    "- During training you have to consider a mini-batch at a time. This requirement of mini-batch training is for learning of two extra parameters for every dimension for every hidden layers along with the weights associated with the network.\n",
    "- Note that batch normalization occurs after each fully-connected layer, but before the activation function and dropout\n",
    "- To get the normalization parameters, which will be used during inference, you can take average of parameters calculated from many equal size mini-batch training. Alternatively, during training, you can track the moving averages of normalization parameters"
   ]
  },
  {
   "cell_type": "code",
   "execution_count": null,
   "metadata": {},
   "outputs": [],
   "source": []
  }
 ],
 "metadata": {
  "kernelspec": {
   "display_name": "Python 3",
   "language": "python",
   "name": "python3"
  },
  "language_info": {
   "codemirror_mode": {
    "name": "ipython",
    "version": 3
   },
   "file_extension": ".py",
   "mimetype": "text/x-python",
   "name": "python",
   "nbconvert_exporter": "python",
   "pygments_lexer": "ipython3",
   "version": "3.6.6"
  }
 },
 "nbformat": 4,
 "nbformat_minor": 2
}
