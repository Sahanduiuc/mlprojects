{
 "cells": [
  {
   "cell_type": "markdown",
   "metadata": {},
   "source": [
    "# Tree-Based Models"
   ]
  },
  {
   "cell_type": "markdown",
   "metadata": {},
   "source": [
    "- Tree-based models are models used for classifying non-linearly separable data (like neural networks). \n",
    "- Applies a “Divide and Conquer” approach by splitting the data into sub-spaces or boxes based on probabilities of outcome.\n",
    "\n",
    "<img width=500 src=\"images/ml-classifiers-2.png\"/>\n",
    "<center><a href=\"https://martin-thoma.com/comparing-classifiers/\" style=\"color: lightgrey\">Credit</a></center>\n",
    "\n",
    "- In general, DT models are very powerful for tabular data; but rather weak to capture linear dependencies as it requires a lot of splits.\n",
    "- For tree-based methods it's hard to capture linear dependencies since it requires a lot of splits. Linear models are generally preferred when\n",
    "    - the underlying function is truly linear,\n",
    "    - there are a very large number of features, especially with very low signal to noise ratio,\n",
    "    - or covariate shift is likely.\n",
    "- The tree-based models can only interpolate but not extrapolate. For example, a decision tree makes constant prediction for the objects that lie beyond the bounding box set by the training set in the feature space."
   ]
  },
  {
   "cell_type": "markdown",
   "metadata": {},
   "source": [
    "## Decision tree"
   ]
  },
  {
   "cell_type": "markdown",
   "metadata": {},
   "source": [
    "- At the heart of the popular algorithms for decision tree construction lies the principle of greedy maximization of information gain: \n",
    "    - At each step the algorithm choose the variable that gives the greatest information gain upon splitting. \n",
    "    <center><img width=350 src=\"images/shannon_equation.jpg\"/></center>\n",
    "    <center><img width=400 src=\"images/Image-12-Equation-600x158.png\"/></center>\n",
    "    - Then the procedure is repeated recursively until the entropy is zero (or some small value to account for overfitting).\n",
    "    <center><img width=230 src=\"images/decision-tree.svg\"/></center>\n",
    "    <center><a href=\"https://victorzhou.com/blog/intro-to-random-forests/\" style=\"color: lightgrey\">Credit</a></center>\n",
    "- The simplest heuristics for handling numeric features in a decision tree is to sort its values in ascending order and check only those thresholds where the value of the target variable changes. The value obtained by leaves in the training data is the mean response of observation falling in that region. \n",
    "- Criterions: In practice, Gini uncertainty and information gain work similarly.\n",
    "- [Introduction to Decision Trees](https://medium.com/greyatom/decision-trees-a-simple-way-to-visualize-a-decision-dc506a403aeb)\n",
    "- [A Simple Guide to Entropy-Based Discretization](https://natmeurer.com/a-simple-guide-to-entropy-based-discretization/)"
   ]
  },
  {
   "cell_type": "markdown",
   "metadata": {},
   "source": [
    "#### Pros:\n",
    "- Graphical representation is very intuitive and users can easily relate their hypothesis\n",
    "- Decision tree is one of the fastest way to identify most significant variables and relation between two or more variables\n",
    "- Decision trees implicitly perform variable screening or feature selection\n",
    "- Data type is not a constraint: It can handle both numerical and categorical variables. Can also handle multi-output problems.\n",
    "- Non-linear relationships between parameters do not affect tree performance\n",
    "- Fast training and forecasting\n",
    "- Small number of hyper-parameters"
   ]
  },
  {
   "cell_type": "markdown",
   "metadata": {},
   "source": [
    "#### Cons:\n",
    "- Overfitting: Decision-tree learners can create over-complex trees that do not generalize the data well.\n",
    "- Not fit for continuous variables: While working with continuous numerical variables, decision tree loses information, when it categorizes variables in different categories.\n",
    "- Small changes to the data can significantly change the decision tree. Decision trees can be unstable because small variations in the data might result in a completely different tree being generated. This is called variance, which needs to be lowered by methods like bagging and boosting.\n",
    "- Decision tree learners create biased trees if some classes dominate\n",
    "- The optimal decision tree search problem is NP-complete\n",
    "- Generally, it gives low prediction accuracy for a dataset as compared to other machine learning algorithms."
   ]
  },
  {
   "cell_type": "markdown",
   "metadata": {},
   "source": [
    "#### Tuning:\n",
    "- A higher value leads to overfitting:\n",
    "    - `max_depth`: the maximum depth of the tree.\n",
    "    - `max_features`: the maximum number of features with which to search for the best partition (this is necessary with a large number of features because it would be \"expensive\" to search for partitions for all features).\n",
    "- A higher value leads to underfitting:\n",
    "    - `min_samples_leaf`: the minimum number of samples in a leaf. This parameter prevents creating trees where any leaf would have only a few members.\n",
    "- Pruning trees. In this approach, the tree is first constructed to the maximum depth. Then, from the bottom up, some nodes of the tree are removed by comparing the quality of the tree with and without that partition (comparison is performed using cross-validation, more on this below)."
   ]
  },
  {
   "cell_type": "markdown",
   "metadata": {},
   "source": [
    "## Random forest"
   ]
  },
  {
   "cell_type": "markdown",
   "metadata": {},
   "source": [
    "- Random forests are combined through the construction of uncorrelated trees using CART, bagging, and the random subspace method.\n",
    "\n",
    "<img width=400 src=\"images/cover.jpg\"/>\n",
    "<center><a href=\"https://www.jpytr.com/post/random_forests_and_jackknife_variance/\" style=\"color: lightgrey\">Credit</a></center>\n",
    "\n",
    "- Bias-variance tradeoff: As random forests training use 1) bootstrap sampling (or sampling with replacement) along with 2) random selection of features for a split, the correlation between the trees (or weak learners) would be low. That means although individual trees would have high variance but the ensemble output will be appropriate (lower variance but the same bias) because the trees are loosely correlated. Thus random forests would give good performance with full depth of decision trees.\n",
    "\n",
    "<img width=500 src=\"images/random-forests.png\"/>\n",
    "<center><a href=\"https://relguzman.blogspot.com/2018/04/random-forests-python.html\" style=\"color: lightgrey\">Credit</a></center>\n",
    "\n",
    "- When bagging with decision trees, we are less concerned about individual trees overfitting the training data. For this reason, the individual decision trees are grown deep and the trees are not pruned.\n",
    "- To make estimators more independent, `ExtraTrees` ca be used, which always tests random splits over fraction of features (in contrast to `RandomForest`, which tests all possible splits over fraction of features).\n",
    "- After training, predictions for unseen samplescan be made by averaging the predictions from all the individual regression trees or by taking the majority vote in the case of classification trees.\n",
    "- Parallelized approach: \n",
    "    - Each tree in forest is independent from the others, so two RF with 500 trees is essentially the same as single RF model with 1000 trees.\n",
    "- Random forests are mostly used in supervised learning, but there is a way to apply them in the unsupervised setting: Using `RandomTreesEmbedding`, we can transform our dataset into a high-dimensional, sparse representation. We first build extremely randomized trees and then use the index of the leaf containing the example as a new feature. Under the hood, calculates proximities between pairs of examples that can subsequantly be used in clustering, outlier detection, or interesting data representations.\n",
    "- [Ensembles and Random Forests: A series of notebooks](https://github.com/Yorko/mlcourse.ai/tree/master/jupyter_english/topic05_ensembles_random_forests)\n",
    "- [Feature Selection Using Random Forests](https://towardsdatascience.com/feature-selection-using-random-forest-26d7b747597f)"
   ]
  },
  {
   "cell_type": "markdown",
   "metadata": {},
   "source": [
    "#### Pros:\n",
    "- High prediction accuracy; will perform better than linear algorithms in most problems\n",
    "- Robust to outliers, thanks to random sampling\n",
    "- Insensitive to the scaling of features as well as any other monotonic transformations due to the random subspace selection\n",
    "- Doesn't require fine-grained parameter tuning, works quite well out-of-the-box\n",
    "- Efficient for datasets with a large number of features and classes\n",
    "- Handles both continuous and discrete variables equally well\n",
    "- Rarely overfits. In practice, an increase in the tree number almost always improves the composition. But, after reaching a certain number of trees, the learning curve is very close to the asymptote.\n",
    "\n",
    "<img width=400 src=\"images/performance_rf.png\"/>\n",
    "<center><a href=\"https://www.researchgate.net/publication/332391062_Wet_and_Dry_Snow_Detection_Using_Sentinel-1_SAR_Data_for_Mountainous_Areas_with_a_Machine_Learning_Technique/figures?lo=1&utm_source=google&utm_medium=organic\" style=\"color: lightgrey\">Credit</a></center>\n",
    "\n",
    "- There are developed methods to estimate feature importance\n",
    "- Works well with missing data and maintains good accuracy levels even when a large part of data is missing\n",
    "- Easily parallelized and highly scalable."
   ]
  },
  {
   "cell_type": "markdown",
   "metadata": {},
   "source": [
    "#### Cons:\n",
    "- The main limitation of Random Forest is that a large number of trees can make the algorithm to slow and ineffective for real-time predictions.\n",
    "- There are no formal $p$-values for feature significance estimation\n",
    "- Performs worse than linear methods in the case of sparse data: text inputs, bag of words, etc - bagging and suboptimal selection of splits may waste most of the model insight on zero-only areas.\n",
    "- Unlike linear regression, Random Forest is unable to extrapolate. But, this can be also regarded as an advantage because outliers do not cause extreme values in Random Forests.\n",
    "- The resulting model is large and requires a lot of RAM\n",
    "- Overfitting:\n",
    "    - Prone to overfitting in some problems, especially, when dealing with noisy data.\n",
    "    - In the case of categorical variables with varying level numbers, random forests favor variables with a greater number of levels. The tree will fit more towards a feature with many levels because this gains greater accuracy."
   ]
  },
  {
   "cell_type": "markdown",
   "metadata": {},
   "source": [
    "#### Tuning:\n",
    "- `n_estimators`: the number of trees in the forest (the higher the better). A sufficient number of trees can be found by plotting the out-of-bag error (controlled by `oob_score`) against the number of trees. OOB error is the mean prediction error on each training sample, using only the trees that did not have it in their bootstrap sample.\n",
    "- A higher value leads to overfitting:\n",
    "    - `max_depth`: the maximum depth of the tree. Usually, depth for random forest is higher than for gradient booster.\n",
    "    - `max_features` $m$: the number of features to consider when looking for the best split. For classification problems, it is advisable to set $m=\\sqrt{d}$. For regression problems, we usually take $m=\\frac{d}{3}$, where $d$ is the number of features.\n",
    "- A higher value leads to underfitting:\n",
    "    - `min_samples_leaf` $n_{min}$: the minimum number of samples required to be at a leaf node. It is recommended to build each tree until all of its leaves contain only $n_\\text{min}=1$ examples for classification and $n_\\text{min} = 5$ examples for regression.\n",
    "- Also don't forget to set `criterion`, `random_state` and `n_jobs`."
   ]
  },
  {
   "cell_type": "markdown",
   "metadata": {},
   "source": [
    "## Boosted trees"
   ]
  },
  {
   "cell_type": "markdown",
   "metadata": {},
   "source": [
    "- Boosting is an efficient algorithm for converting relatively week learners into a strong learner. A weak learner is defined as one whose performance is at least slightly better than random chance. This technique is called boosting because we expect an ensemble to work much better than a single estimator.\n",
    "- Sequential approach: \n",
    "    - In contrast to random forests, boosting is a sequential approach to increase the complexity of models that suffer from high bias, that is, models that underfit the training data. \n",
    "    - The performance of GBDT model drop dramatically if we remove the first tree as compared to RF.\n",
    "- Being mainly focused at reducing bias, we will choose most of the time shallow decision trees.\n",
    "- While this theoretical framework makes it possible to create an ensemble of various estimators, in practice we almost always use GBDT — gradient boosting over decision trees."
   ]
  },
  {
   "cell_type": "markdown",
   "metadata": {},
   "source": [
    "### Adaptive boosting"
   ]
  },
  {
   "cell_type": "markdown",
   "metadata": {},
   "source": [
    "- AdaBoost works by weighting the observations, putting more weight on difficult to classify instances and less on those already handled well. New weak learners are added sequentially that focus their training on the more difficult patterns.\n",
    "- This process iterate until reached to the specified maximum number of estimators.\n",
    "- Predictions are made by majority vote of the weak learners’ predictions, weighted by their individual accuracy.\n",
    "\n",
    "<img width=450 src=\"images/b2b029d898f64bbbb158e15d29595969.png\"/>\n",
    "<center><a href=\"https://nbviewer.jupyter.org/github/Yorko/mlcourse.ai/blob/master/jupyter_english/topic10_boosting/topic10_gradient_boosting.ipynb\" style=\"color: lightgrey\">Credit</a></center>"
   ]
  },
  {
   "cell_type": "markdown",
   "metadata": {},
   "source": [
    "#### Pros:\n",
    "- Simple and easy to program\n",
    "- Few parameters to tune\n",
    "- No prior knowledge needed about a weak learner\n",
    "- Provably effective given Weak Learning Assumption"
   ]
  },
  {
   "cell_type": "markdown",
   "metadata": {},
   "source": [
    "#### Cons:\n",
    "- AdaBoost works well, but the lack of explanation for why the algorithm is successful sewed the seeds of doubt\n",
    "- Weak classifiers too complex leads to overfitting when data has strong outliers\n",
    "- Weak classifiers too weak can lead to low margins, and can also lead to overfitting\n",
    "- From empirical evidence, AdaBoost is particularly vulnerable to uniform noise"
   ]
  },
  {
   "cell_type": "markdown",
   "metadata": {},
   "source": [
    "### Gradient boosting"
   ]
  },
  {
   "cell_type": "markdown",
   "metadata": {},
   "source": [
    "- GBDTs train a basic model on the data and then use the previous model’s error as a feature to build successive models.\n",
    "- Gradient boosting builds an ensemble of trees one-by-one: each decision tree in an ensemble tries to reconstruct the difference between the target function and the current predictions of the ensemble, which is called the residual $R$, to complement well the existing trees and minimize the training error of the ensemble.\n",
    "\n",
    "<img width=250 src=\"images/Screen Shot 2019-05-31 at 13.27.52.png\"/>\n",
    "\n",
    "- This process sequentially reduces the model’s error because each successive model improves against the previous model’s weaknesses. Each newly trained tree model attempts to linearly separate the remaining, hard to separate, space.\n",
    "- While in Adaboost shortcomings are identified by high-weight data points, in Gradient Boosting shortcomings (of existing weak learners) are identified by gradients. Here the tree is paying more attention to events with larger module of gradient (those, which were poorly classified on the previous stages).\n",
    "- Then the predictions $d$ of the individual trees are summed.\n",
    "\n",
    "<img width=400 src=\"images/Screen Shot 2019-05-31 at 13.29.43.png\"/>\n",
    "\n",
    "- Before a tree is added to an ensemble, it's predictions are multiplied by learning rate. The larger the learning rate - the larger the contribution made by a single decision tree.\n",
    "- This process is iteratively carried out until the residuals are zero or until reached to the specified maximum number of estimators.\n",
    "- GBM produces state-of-the-art results for many commercial (and academic) applications.\n",
    "- [Introduction to Boosted Trees](https://xgboost.readthedocs.io/en/latest/tutorials/model.html)\n",
    "- [Gradient Boosting Interactive Playground](http://arogozhnikov.github.io/2016/07/05/gradient_boosting_playground.html)"
   ]
  },
  {
   "cell_type": "markdown",
   "metadata": {},
   "source": [
    "#### Pros:\n",
    "- Gradient boosting works for generic loss functions, while AdaBoost is derived mainly for classification with exponential loss.\n",
    "- Can effortlessly return to any point of training process after the ensemble has been already built."
   ]
  },
  {
   "cell_type": "markdown",
   "metadata": {},
   "source": [
    "#### Cons:\n",
    "- AdaBoost can be interepted from a much more intuitive perspective and can be implemented without the reference to gradients by reweighting the training samples based on classifications from previous learners.\n",
    "- A small change in the feature set or training set can create radical changes in the model\n",
    "- Not easy to understand predictions"
   ]
  },
  {
   "cell_type": "markdown",
   "metadata": {},
   "source": [
    "#### Tuning:\n",
    "- A higher value leads to overfitting:\n",
    "    - `max_depth`: the maximum depth of a tree. Increasing it will lead to a faster fitting the dataset but a longer learning time. If the dataset cannot be overfit, there are a lot more of important features and interactions to extract from the data.\n",
    "    - `num_leaves`: the number of splits in a tree is very dependent on `num_leaves`. In fact, higher `num_leaves` more complex trees GBM can build. The resulting tree can be very deep but have a small number of leaves.\n",
    "    - `subsample`, `bagging_fraction`: controls the fraction of data that will be used at every boosting iteration. The less data is fed, the slower is the training process.\n",
    "    - `colsample_bytree`, `colsample_bylevel`, `feature_fraction`: Consider only a fraction of features to split on.\n",
    "    - `num_round`, `num_iterations`: The number of rounds (trees) for boosting. With each iteration a new tree is built and added to the ensemble with learning rate as weight. The more steps the model does, the faster it learns.\n",
    "    - `eta`, `learning_rate`: Learning rate, also called shrinkage. One effective way to slow down learning in the gradient boosting model and reduce overfitting is to use a lower learning rate. Both `num_round` and `eta` should be tuned simultaneously: We can freeze the learning rate to be reasonably small (0.01) and tune the number of iterations by using early stopping. Then we can do a trick that usually improves the score: multiply `num_round` by some factor and at the same time divide `eta` by that factor.\n",
    "- A higher value leads to underfitting:\n",
    "    - `min_child_weight`, `min_data_in_leaf`: minimum number of instances needed to be in each node (very important). Increasing it will make the model more conservative and regularized. Try a wide range of values depending on data.\n",
    "    - `lambda`, `lambda_l1`: L1 regularization.\n",
    "    - `alpha`, `lambda_l2`: L2 regularization.\n",
    "- Set random seed to verify that different random states do not change training results much. If results vary a lot, the data may be too random and an extensive cross-validation technique should be used.\n",
    "- Based on parameters of [XGBoost](https://xgboost.readthedocs.io/en/latest/parameter.html), [LightGBM](https://lightgbm.readthedocs.io/en/latest/Parameters.html), [CatBoost](https://catboost.ai/docs/concepts/python-reference_parameters-list.html)\n",
    "- [Complete Guide to Parameter Tuning in GBMs](https://www.analyticsvidhya.com/blog/2016/02/complete-guide-parameter-tuning-gradient-boosting-gbm-python/)"
   ]
  },
  {
   "cell_type": "markdown",
   "metadata": {},
   "source": [
    "### Implementations"
   ]
  },
  {
   "cell_type": "markdown",
   "metadata": {},
   "source": [
    "- [Head-to-Head Comparison](https://towardsdatascience.com/catboost-vs-light-gbm-vs-xgboost-5f93620723db)"
   ]
  },
  {
   "cell_type": "markdown",
   "metadata": {},
   "source": [
    "#### XGBoost:\n",
    "<img width=200 src=\"images/xgboost-1101974912.png\"/>\n",
    "\n",
    "- XGBoost is the first GBMT implementation.\n",
    "- XGBoost achieves overall good results but is significantly slower than its competitors, becoming a bottleneck in iterative design and prototyping widely used on Kaggle.\n",
    "- It cannot handle categorical features by itself, it only accepts numerical values similar to Random Forest."
   ]
  },
  {
   "cell_type": "markdown",
   "metadata": {},
   "source": [
    "#### LightGBM:\n",
    "<img width=200 src=\"images/lgbm.png\"/>\n",
    "\n",
    "- LightGBM improves on XGBoost. The LightGBM paper uses XGBoost as a baseline and outperforms it in training speed and the dataset sizes it can handle. LightGBM is upto 6x faster than XGBoost (used to be 10x faster but XGBoost has caught up) becoming popular on Kaggle where experimentation is important. The accuracies are comparable. \n",
    "- LGBM does not convert to one-hot coding but uses a special algorithm to find the split value of categorical features."
   ]
  },
  {
   "cell_type": "markdown",
   "metadata": {},
   "source": [
    "#### CatBoost:\n",
    "<img width=200 src=\"images/Yandex-CatBoost.png\"/>\n",
    "\n",
    "- Catboost improves over LightGBM by handling categorical features better:\n",
    "    - By default, CatBoost uses one-hot encoding for features with small number of different values (`one_hot_max_size`).\n",
    "    - Frequency encoding as a new feature.\n",
    "    - Applying mean encoding carelessly results in a target leakage: Catboost introduces an artificial time - a random permutation, and for each instance, it computes its target statistic (mean encoding) based on all previous instances. CatBoost trains several models simultaneously, each of which is trained on a separate permutation.\n",
    "    - CatBoost also generates combinations of numerical and categorical features.\n",
    "- CatBoost uses symmetric trees, which are simpler predictors making the algorithm more stable to overfitting.\n",
    "- No sparse data support yet.\n",
    "- Overfitting detector: Stops training when the error starts growing on the evaluation dataset.\n",
    "- Handles missing values out of the box: Creates a separate category for categorical features and uses a constant lower or higher than all other values for numeric features.\n",
    "- It is also very stable to changing hyperparameters when you have enough training data.\n",
    "- CatBoost has efficient CPU training implementation. With GPU training it is 2 times faster than LightGBM and 20 times faster than XGBoost. The larger the dataset, the more the speedup."
   ]
  },
  {
   "cell_type": "code",
   "execution_count": null,
   "metadata": {},
   "outputs": [],
   "source": []
  }
 ],
 "metadata": {
  "kernelspec": {
   "display_name": "Python 3",
   "language": "python",
   "name": "python3"
  },
  "language_info": {
   "codemirror_mode": {
    "name": "ipython",
    "version": 3
   },
   "file_extension": ".py",
   "mimetype": "text/x-python",
   "name": "python",
   "nbconvert_exporter": "python",
   "pygments_lexer": "ipython3",
   "version": "3.6.7"
  }
 },
 "nbformat": 4,
 "nbformat_minor": 2
}
