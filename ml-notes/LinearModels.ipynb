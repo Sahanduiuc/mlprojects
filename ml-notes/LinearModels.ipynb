{
 "cells": [
  {
   "cell_type": "markdown",
   "metadata": {},
   "source": [
    "# Linear Models"
   ]
  },
  {
   "cell_type": "markdown",
   "metadata": {},
   "source": [
    "- In linear models, the relationships are modeled using linear predictor functions.\n",
    "- Linear models are frequently favorable due to their interpretability and often good predictive performance.\n",
    "- Linear methods split space into 2 subspaces.\n",
    "\n",
    "<center><img width=150 src=\"images/classifier.png\"/></center>\n",
    "<center><a href=\"https://33bits.wordpress.com/tag/spam/\" style=\"color: lightgrey\">Credit</a></center>\n",
    "\n",
    "- The most famous toy example of where classes cannot be divided by a hyperplane (or line) with no errors is \"the XOR problem\".\n",
    "- But if one were to give polynomial features as an input, then the problem is solved.\n",
    "    - Polynomial features do help, but it is computationally inefficient to build them explicitly. \n",
    "    - SVM with the kernel trick works much faster.\n",
    "    \n",
    "<center><img width=300 src=\"images/xor.png\"/></center>\n",
    "<center><a href=\"https://github.com/Yorko/mlcourse.ai/blob/master/jupyter_english/topic04_linear_models/topic4_linear_models_part4_good_bad_logit_movie_reviews_XOR.ipynb\" style=\"color: lightgrey\">Credit</a></center>"
   ]
  },
  {
   "cell_type": "markdown",
   "metadata": {},
   "source": [
    "#### Pros:\n",
    "- Linear regression is often not computationally expensive.\n",
    "- They are easily comprehensible and transparent in nature.\n",
    "- Can handle a very large number of features, especially with very low signal to noise ratio.\n",
    "- Can be used if covariate shift is likely."
   ]
  },
  {
   "cell_type": "markdown",
   "metadata": {},
   "source": [
    "#### Cons:\n",
    "- They strongly rely on a linear relationship.\n",
    "- Weaker than other algorithms in terms of reducing error rates.\n",
    "- Rely on continuous data to build regression capabilities.\n",
    "- Each missing value removes one data point that could optimize the regression.\n",
    "- Outliers can significantly disrupt the outcomes."
   ]
  },
  {
   "cell_type": "markdown",
   "metadata": {},
   "source": [
    "## Regression"
   ]
  },
  {
   "cell_type": "markdown",
   "metadata": {},
   "source": [
    "- In regression analysis, the coefficients in the regression equation are estimates of the actual population parameters.\n",
    "- Regression analysis:\n",
    "    - Indicates the significant relationships between dependent variables and independent variable.\n",
    "    - Indicates the strength of impact of multiple independent variables on a dependent variable.\n",
    "    - Compares the effects of variables measured on different scales."
   ]
  },
  {
   "cell_type": "markdown",
   "metadata": {},
   "source": [
    "#### Solution approaches:\n",
    "- Solving the model parameters analytically using closed-form equations (`LinearRegression`)\n",
    "- Using an optimization algorithm such as SGD, Newton's method, etc. (`SGDRegressor`)\n",
    "    - Optimization algorithms are particularly useful when the number of samples (and features) is very large."
   ]
  },
  {
   "cell_type": "markdown",
   "metadata": {},
   "source": [
    "#### Tuning:\n",
    "- Construct validation curves to compare the results depending on the complexity of the model (*validation_curve*):\n",
    "    - if the two curves are close to each other and both errors are large, it is a sign of underfitting.\n",
    "    - if the two curves are far from each other, it is a sign of overfitting.\n",
    "- Construct learning curves to compare the results depending on the number of observations (*learning_curve*):\n",
    "    - The parameters of the model are fixed in advance.\n",
    "    - if the curves converge, adding new data won't help, and it is necessary to change the complexity of the model.\n",
    "    - if the curves have not converged, adding new data can improve the result."
   ]
  },
  {
   "cell_type": "markdown",
   "metadata": {},
   "source": [
    "### Linear regression"
   ]
  },
  {
   "cell_type": "markdown",
   "metadata": {},
   "source": [
    "#### OLS:\n",
    "- The OLS (ordinary least squares) is used to estimate the coefficients in a linear regression model by minimizing the sum of squares of the differences between fitted values and observed values regardless of the form of the distribution of the errors.\n",
    "- To solve this optimization problem, we need to calculate derivatives with respect to the model parameters.\n",
    "\n",
    "<center><img width=200 src=\"images/ols.png\"/></center>\n",
    "\n",
    "- The OLS estimator has the desired property of being unbiased. However, it can have a huge variance when\n",
    "    - The predictor variables are highly correlated with each other.\n",
    "    - There are many predictors (independent variables).\n",
    "- The OLS approach can be used to fit models that are not linear models. \n",
    "- When the assumptions are met, OLS regression can be more powerful than other regression methods.\n",
    "- The parametric form makes it relatively easy to interpret.\n",
    "- Challenges:\n",
    "    - OLS cannot distinguish between variables with little or no influence.\n",
    "    - These variables distract from the relevant regressors.\n",
    "    - Least squares perform badly in the presence of outliers.\n",
    "    - Redundant features may unnecessarily degrade the performance."
   ]
  },
  {
   "cell_type": "markdown",
   "metadata": {},
   "source": [
    "#### MLE:\n",
    "- Maximum likelihood estimation (MLE) can be used to estimate parameters if the form of the distribution of the errors is known.\n",
    "- The ML estimator is identical to the OLS estimator given that errors are normally distributed."
   ]
  },
  {
   "cell_type": "markdown",
   "metadata": {},
   "source": [
    "#### Assumptions:\n",
    "- We assume that \n",
    "    - the relationship between dependent and independent variables is linear and additive,\n",
    "    - the observations are independent of one another (no autocorrelation),\n",
    "    - the explanatory variables are independent of each other (no multicollinearity),\n",
    "    - the errors, or residuals, are independent of time, predictions or independent variables (homoscedasticity),\n",
    "    - and the distribution of residuals is normal.\n",
    "- If a linear model makes sense, the residuals will (using residual-by-predicted plot)\n",
    "    - have a constant variance,\n",
    "    - be approximately normally distributed (with a mean of zero), and\n",
    "    - be independent of one another.\n",
    "- The best way to assess assumptions is by using residual plots.\n",
    "<center><img width=350 src=\"images/index.png\"/></center>\n",
    "<center><a href=\"https://newonlinecourses.science.psu.edu/stat501/node/317/\" style=\"color: lightgrey\">Credit</a></center>\n",
    "- The Gauss-Markov theorem states that OLS produces best estimates when the assumptions hold true. Also, as the sample size increases to infinity, the coefficient estimates converge on the actual population parameters.\n",
    "- Many of the assumptions describe properties of the error terms.\n",
    "- We use residuals of a fitted model instead, which are the sample estimate of the error for each observation.\n",
    "- If the residuals also follow the normal distribution, we can safely use hypothesis testing to determine whether the independent variables and the entire model are statistically significant. We can also produce reliable confidence intervals and prediction intervals.\n",
    "- [Regression Model Assumptions](https://www.jmp.com/en_us/statistics-knowledge-portal/what-is-regression/simple-linear-regression-assumptions.html)"
   ]
  },
  {
   "cell_type": "markdown",
   "metadata": {},
   "source": [
    "### Regularization"
   ]
  },
  {
   "cell_type": "markdown",
   "metadata": {},
   "source": [
    "- There are situations where we might reduce variance at the cost of introducing some bias for the sake of stability.\n",
    "- To decrease the model complexity, one can\n",
    "    - pick only a subset of all $p$ variables which is assumed to be relevant,\n",
    "    - project $p$ predictors into a $d$-dimensional subspace with $d<p$,\n",
    "    - or shrink large coefficients towards zero.\n",
    "- Regularization methods add a penalty to the OLS formula.\n",
    "- Cross-validation finds the best approach for a given dataset."
   ]
  },
  {
   "cell_type": "markdown",
   "metadata": {},
   "source": [
    "#### Ridge regression:\n",
    "- Ridge regression decreases the complexity by keeping the variables but penalizing them if they are far from zero.\n",
    "- Ridge penalizes sum of squared coefficients (the so-called L2 penalty).\n",
    "\n",
    "<center><img width=130 src=\"images/ridge.png\"/></center>\n",
    "\n",
    "- Setting $\\alpha$ to 0 is the same as using the OLS.\n",
    "- Ridge regression can shrink parameters close to zero.\n",
    "- Solves solve multicollinearity issue:\n",
    "    - The greater the amount of shrinkage $\\alpha$, the more robust the coefficients become to collinearity.\n",
    "    - The coefficients of correlated predictors are similar.\n",
    "- Penalization term $\\alpha$ can be chosen by performing cross-validation (`RidgeCV`).\n",
    "- Ridge performs well when most predictors impact the response.\n",
    "- Ridge regression assumes the predictors to be standardized."
   ]
  },
  {
   "cell_type": "markdown",
   "metadata": {},
   "source": [
    "#### Lasso regression:\n",
    "- Lasso is quite similar conceptually to ridge regression.\n",
    "- Lasso penalizes the sum of their absolute values (L1 penalty).\n",
    "\n",
    "<center><img width=130 src=\"images/lasso.png\"/></center>\n",
    "\n",
    "- LASSO models can shrink some parameters exactly to zero.\n",
    "- LASSO usually results into sparse models, that are easier to interpret.\n",
    "- As the Lasso regression yields sparse models, it can thus be used to perform feature selection.\n",
    "- Solves solve multicollinearity issue:\n",
    "    - One of the correlated predictors has a larger coefficient, while the rest are (nearly) zeroed.\n",
    "- Lasso performs well when only a few predictors actually influence the response."
   ]
  },
  {
   "cell_type": "markdown",
   "metadata": {},
   "source": [
    "#### Elastic net:\n",
    "- Neither ridge regression nor LASSO dominates one another.\n",
    "- Elastic net combines the penalties of ridge and lasso regression.\n",
    "\n",
    "<center><img width=350 src=\"images/elastic_net.png\"/></center>\n",
    "\n",
    "- L1 penalty helps generating a sparse model.\n",
    "- L2 part overcomes a strict selection.\n",
    "- Parameter $\\rho$ controls numerical stability.\n",
    "- $\\rho=0.5$ tends to handle correlated variables as groups.\n",
    "- Solves solve multicollinearity issue:\n",
    "    - Lasso is likely to pick one of the correlated variables at random, while elastic-net is likely to pick both."
   ]
  },
  {
   "cell_type": "markdown",
   "metadata": {},
   "source": [
    "### Logistic regression"
   ]
  },
  {
   "cell_type": "markdown",
   "metadata": {},
   "source": [
    "- Instead of fitting a straight line or hyperplane, the logistic regression model uses the logistic function to squeeze the output of a linear equation between 0 and 1.\n",
    "\n",
    "<center><img width=200 src=\"images/Sigmoid-Function-300x129.png\"/></center>\n",
    "\n",
    "- Logistic regression is a special case of the linear classifier with an added benefit of predicting a probability $p$ of referring example to the class. \n",
    "- The probability of assignment $p$ is a very important requirement in many business problems e.g. credit scoring.\n",
    "- Logistic regression uses log-likelihood (MLE), which is differentiated and using iterative techniques like Newton method, values of parameters that maximise the log-likelihood are determined.\n",
    "- Logistic regression can also be extended from binary classification to multi-class classification.\n",
    "- It struggles with its restrictive expressiveness (e.g. interactions must be added manually).\n",
    "- If there is a feature that would perfectly separate the two classes, the logistic regression model can no longer be trained."
   ]
  },
  {
   "cell_type": "markdown",
   "metadata": {},
   "source": [
    "#### Interpreting odds:\n",
    "- The interpretation is more difficult because the interpretation of the weights is multiplicative and not additive.\n",
    "- The logistic regression model is just a linear model for the log odds:\n",
    "    - The output is logit (log odds), which is defined as the natural logarithm of the odds (range from $-\\infty$ to $\\infty$).\n",
    "    <center><img width=350 src=\"images/1*aetAOm7gZEhnAfJzI4gl9A.png\"/></center>\n",
    "    - The independent variables are linearly related to the log odds.\n",
    "    - If you increase the value of feature $x_j$ by one unit, the estimated log odds change by a factor of $\\beta_j$.\n",
    "- The odds $odds=\\frac{p}{1-p}$ signifies the ratio of probability of success to probability of failure (range from $0$ to $\\infty$). \n",
    "    - The logit can be untransformed to odds by exponentiating.\n",
    "    - If you increase the value of feature $x_j$ by one unit, the estimated odds change by a factor of $e^{\\beta_j}$.\n",
    "    - This change is the odds ratio (OR), which can also be returned by dividing two odds.\n",
    "    <center><img width=550 src=\"images/logit 16.06.55.png\"/></center>\n",
    "    - The interpretation of the intercept weight is usually not relevant.\n",
    "- For example, the coefficient $\\beta_{gender}=1.69$ results in the odds ratio $e^{1.69}=5.44$ for gender, meaning the odds of being admitted for males is $5.44$ times that of females.\n",
    "- [Interpreting Odd Ratios in Logistic Regression](http://www-hsc.usc.edu/~eckel/biostat2/notes/notes14.pdf)"
   ]
  },
  {
   "cell_type": "markdown",
   "metadata": {},
   "source": [
    "#### Regularization:\n",
    "- Regularization of logistic regression is almost the same as in the case of ridge/lasso regression.\n",
    "- In the case of logistic regression, a reverse regularization coefficient $C=\\frac{1}{\\alpha}$ is typically introduced.\n",
    "- Intuitively $C$ corresponds to the \"complexity\" of the model - model capacity.\n",
    "- Like in SVMs, smaller values specify stronger regularization."
   ]
  },
  {
   "cell_type": "markdown",
   "metadata": {},
   "source": [
    "#### Assumptions:\n",
    "- As compared to the assumptions of linear regression:\n",
    "    - Does not require a linear relationship between the dependent and independent variables.\n",
    "    - The error terms (residuals) do not need to be normally distributed.\n",
    "    - Homoscedasticity is not required.\n",
    "    - The dependent variable in logistic regression is not measured on an interval or ratio scale.\n",
    "    - Other assumptions still apply.\n",
    "- Binary logistic regression requires the dependent variable to be binary.\n",
    "- LR assumes linearity of independent variables and log odds.\n",
    "- Logistic regression typically requires a large sample size."
   ]
  },
  {
   "cell_type": "markdown",
   "metadata": {},
   "source": [
    "## SVM"
   ]
  },
  {
   "cell_type": "markdown",
   "metadata": {},
   "source": [
    "- Support Vector Machine (SVM) is responsible for finding the decision boundary to separate different classes and maximize the margin.\n",
    "- The goal is to choose a hyperplane with the greatest possible margin (distance) between the hyperplane and any point.\n",
    "- Only support vectors are important whereas other training examples are ignorable.\n",
    "    - Support vectors are the data points nearest to the hyperplane.\n",
    "<center><img width=500 src=\"images/1*Ox4UFUKHna9BjW5gfNcQlw.png\"/></center>\n",
    "<center><a href=\"https://towardsdatascience.com/support-vector-machine-simply-explained-fee28eba5496\" style=\"color: lightgrey\">Credit</a></center>\n",
    "- By combining the soft margin (tolerance of misclassifications) and kernel trick together, SVM is able to structure the decision boundary for linear non-separable cases:\n",
    "    - Soft margin tolerates one or few misclassified points.\n",
    "    - Kernels are functions which transform a low-dimensional space to a higher-dimensional space to make the cases separable.\n",
    "    - Think of them as a transformer/processor to generate new features by applying the combination of all the existing features.\n",
    "    - Different kernels functions for different decision boundaries.\n",
    "    - The kernel trick avoids explicit transformation of raw representation into feature vector representation (without ever computing the coordinates of the data in that space), which is often computationally cheaper.\n",
    "<center><img width=400 src=\"images/1*zWzeMGyCc7KvGD9X8lwlnQ.png\"/></center>\n",
    "<center><a href=\"https://towardsdatascience.com/the-kernel-trick-c98cdbcaeb3f\" style=\"color: lightgrey\">Credit</a></center>\n",
    "- SVM is effective in high-dimensional spaces.\n",
    "- Works well on smaller cleaner datasets.\n",
    "- Memory efficient since it uses a subset of training points in the decision function.\n",
    "- Limitations:\n",
    "    - Poor performance if the number of features greater than that of samples.\n",
    "    - Isn’t suited to larger datasets as the training time with SVMs can be high.\n",
    "    - Less effective on noisier datasets with overlapping classes.\n",
    "    - SVMs do not provide probability estimates."
   ]
  },
  {
   "cell_type": "markdown",
   "metadata": {},
   "source": [
    "#### Tuning:\n",
    "- SVMs do not require almost any tuning.\n",
    "- The higher the $C$, the more penalty, and therefore the less wiggling the decision boundary will be.\n",
    "- The higher the $\\gamma$, the more influence on the decision boundary, thereby the more wiggling the boundary will be.\n",
    "- SVC starts to work slower as $C$ increases. Start with a lower $C=10$ and multiply it each time by a factor of 10. \n",
    "- Both `libLinear` and `libSVM` have multicore support and can be compiled for fastest speed.\n",
    "- *sklearn* wraps them both under the hood but is slower."
   ]
  },
  {
   "cell_type": "markdown",
   "metadata": {},
   "source": [
    "## Vowpal Wabbit"
   ]
  },
  {
   "cell_type": "markdown",
   "metadata": {},
   "source": [
    "<img width=200 src=\"images/vowpal-wabbits-github-logo@3x.png\"/>\n",
    "\n",
    "- Stochastic gradient descent (SGD) gives us practical guidance for training both classifiers and regressors with large amounts of data up to hundreds of GBs (depending on computational resources).\n",
    "- SGD is a type of online learning algorithm.\n",
    "    - Online learning is a method of machine learning that stores and processes only one training example at a time sequentially.\n",
    "    - No need to load all data into memory.\n",
    "- Since it’s based on one random data point, it’s very noisy:\n",
    "    - It usually takes dozens of passes over the training set to make the loss small enough.\n",
    "- VW is more performant than sklearn's SGD models in many aspects.\n",
    "    - Compiled C++ code.\n",
    "    - Exploiting multi-core CPUs: parsing of input and learning are done in separate threads.\n",
    "- With the hashing trick implemented, VW is a perfect choice for working with text data.\n",
    "- [Vowpal Wabbit tutorial: blazingly fast learning](https://www.kaggle.com/kashnitsky/vowpal-wabbit-tutorial-blazingly-fast-learning)"
   ]
  },
  {
   "cell_type": "code",
   "execution_count": null,
   "metadata": {},
   "outputs": [],
   "source": []
  }
 ],
 "metadata": {
  "kernelspec": {
   "display_name": "Python 3",
   "language": "python",
   "name": "python3"
  },
  "language_info": {
   "codemirror_mode": {
    "name": "ipython",
    "version": 3
   },
   "file_extension": ".py",
   "mimetype": "text/x-python",
   "name": "python",
   "nbconvert_exporter": "python",
   "pygments_lexer": "ipython3",
   "version": "3.6.7"
  }
 },
 "nbformat": 4,
 "nbformat_minor": 2
}
