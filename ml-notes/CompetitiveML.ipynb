{
 "cells": [
  {
   "cell_type": "markdown",
   "metadata": {},
   "source": [
    "# Competitive Machine Learning"
   ]
  },
  {
   "cell_type": "markdown",
   "metadata": {},
   "source": [
    "#### Goal definition:\n",
    "<center><img width=70 src=\"images/cup.png\"/></center>\n",
    "<center><a href=\"https://www.freepik.com\" style=\"color: lightgrey\">Credit</a></center>\n",
    "    \n",
    "- To learn more about an interesting problem: \n",
    "    - You may want the competition to have a wide discussion on the forums. \n",
    "    - For example, if you are interested in data science with application to medicine, try to predict [lung cancer in the Data Science Bowl 2017](https://www.kaggle.com/c/data-science-bowl-2017) or [seizures in long-term human intracranial EEG recordings]((https://www.kaggle.com/c/melbourne-university-seizure-prediction)).\n",
    "- To get acquainted with new software tools: \n",
    "    - You may want the competition to have required tutorials. \n",
    "    - For example, if you want to learn a neural networks library, choose any of the competitions with images like the [The Nature Conservancy Fisheries Monitoring Competition](https://www.kaggle.com/c/the-nature-conservancy-fisheries-monitoring) or [Planet: Understanding the Amazon from Space](https://www.kaggle.com/c/planet-understanding-the-amazon-from-space).\n",
    "- To hunt for a medal: \n",
    "    - Check how many submissions do participants have. \n",
    "    - If the points that people have over hundred submissions, it can be a clear sign of inconsistency of local validation and leaderboard scores. \n",
    "    - On the other hand, if there are people with few submissions in the top, that usually means there should be a non-trivial approach to this competition or it's discovered only by few people. \n",
    "    - If leaderboard mostly consists of teams with only one participant, you'll probably have enough chances if you gather a good team."
   ]
  },
  {
   "cell_type": "markdown",
   "metadata": {},
   "source": [
    "#### Pipeline:\n",
    "- Never join a competition at its very beginning:\n",
    "    - It happens that a competition starts and someone finds a bug in the data.\n",
    "- Understand the problem:\n",
    "    - Type of problem?\n",
    "    - How BIG is data (what computational resources do you need)?\n",
    "    - What is the metric is being testing on? Find a similar competition.\n",
    "- Start with a quick EDA:\n",
    "    - Check the data for leakages (and discrepancies between train and test).\n",
    "    - Plot features versus the target variable and time (if available).\n",
    "    - Consider univariate predictability metrics (IV, R, AUC).\n",
    "    - Binning numerical features and correlation matrices.\n",
    "- Build a simple (or even primitive) baseline:\n",
    "    - Often you can find baseline solutions provided by organizers or in kernels.\n",
    "    - Start rather with RF than with GBMs.\n",
    "    - At least Random Forest works quite fast and requires almost no tuning of hyperparameters.\n",
    "- Decide on the correct cross-validation scheme:\n",
    "    - *People have won just by selecting the right way to validate.*\n",
    "    - Is time important? Time-based validation.\n",
    "    - New entities in test? Stratified validation.\n",
    "    - Otherwise random K-fold strategy.\n",
    "    - Check if validation is stable (i.e. correlates with public LB score).\n",
    "- Debug the full pipeline:\n",
    "    - From loading data to writing a submission file.\n",
    "- After trying the problem individually, explore the public kernels and forums:\n",
    "    - Other participants have different approaches resulting in diversity.\n",
    "- Proceed from simple to complex:\n",
    "    - Add features in bulks (create many features at once).\n",
    "- Perform hyperparameter tuning:\n",
    "    - When tuning parameters, first try to make the model to overfit.\n",
    "- Perform ensembling:\n",
    "    - Proceed with ensembling only after feature engineering is done.\n",
    "- Select the best on LB and the best submission locally (or the most diverse one)."
   ]
  },
  {
   "cell_type": "markdown",
   "metadata": {},
   "source": [
    "#### Working with ideas:\n",
    "- Organize ideas in some structure: \n",
    "    - What things could work here? What approaches you may want to take? \n",
    "- After you're done, read forums and highlight interesting posts and topics.\n",
    "- Sort ideas into priority order. Most important and promising needs to be implemented first.\n",
    "- Or you may want to organize these ideas into topics. \n",
    "    - Ideas about feature generation, validation, metric optimization.\n",
    "- Now pick up an idea and implement it.\n",
    "- Try to understand the reasons why something works or not. \n",
    "    - Is there some hidden data structure we didn't notice before? The ability to analyze the work and derive conclusions will get you on the right track to reveal hidden data patterns and leaks."
   ]
  },
  {
   "cell_type": "markdown",
   "metadata": {},
   "source": [
    "#### Collaboration:\n",
    "- Advantages:\n",
    "    - Collaboration makes more fun.\n",
    "    - You learn more by sharing knowledge with other participants.\n",
    "    - You score better because you cover more ground and solutions are more diverse.\n",
    "- Start collaborating after getting some experience (2-3 competitions)\n",
    "- Start with people around your rank.\n",
    "- Make solutions uncorrelated:\n",
    "    - Do not overdiscuss things.\n",
    "    - Collaborate with people who have different backgrounds."
   ]
  },
  {
   "cell_type": "markdown",
   "metadata": {},
   "source": [
    "#### Data loading:\n",
    "- Pay attention to optimal usage of computational resources to save a lot of time later.\n",
    "- Running an experiment often requires a lot of kernel restarts which leads to reloading data: \n",
    "    - Do basic preprocessing and convert *csv* files into *hdf5* (`pandas`) or *npy* (`numpy`) for faster loading.\n",
    "- Do not forget that by default data is stored in 64-bit format: \n",
    "    - Most of times you can safely downcast it to 32 bits. This will result in a 2-fold memory saving.\n",
    "- Large datasets can be processed in chunks with `pandas`."
   ]
  },
  {
   "cell_type": "markdown",
   "metadata": {},
   "source": [
    "#### Feature engineering:\n",
    "- The type of problem defines the type of feature engineering:\n",
    "    - Image classification: Scaling, resizing, smoothing, data augmentation ([Previous Data Science Bowls](https://www.kaggle.com/c/data-science-bowl-2018))\n",
    "    - Sound classification: Fourier transform, MFCC, spectograms, scaling ([TensorFlow Speech Recognition Challenge](https://www.kaggle.com/c/tensorflow-speech-recognition-challenge))\n",
    "    - Text classification: N-grams, TF-IDF, SVD, text preprocessing, hashing ([StumbleUpon Evergreen Classification Challenge](https://www.kaggle.com/c/stumbleupon/data))\n",
    "    - Time series: Lags, smoothing, derivatives, outlier removal ([Walmart Recruiting - Store Sales Forecasting](https://www.kaggle.com/c/walmart-recruiting-store-sales-forecasting))\n",
    "    - Categorical features: Encodings ([Amazon.com - Employee Access Challenge](https://www.kaggle.com/c/amazon-employee-access-challenge/data))\n",
    "    - Numeric features: Scaling, binning, outlier removal, dimensionality reduction, univariate transformations ([Africa Soil Property Prediction](https://www.kaggle.com/c/afsis-soil-properties))\n",
    "    - Feature interactions: Multiplication, division ([Homesite Quote Conversion](https://www.kaggle.com/c/homesite-quote-conversion))\n",
    "    - Recommenders: Transactional history, item popularity, frequency of purchase ([Acquire Valued Shoppers Challenge](https://www.kaggle.com/c/acquire-valued-shoppers-challenge/leaderboard))\n",
    "- This process can be automated using selection with cross validation.\n",
    "    - As long as your CV strategy is consistent, time and scalability are the only factors here.\n",
    "- Feature selection techniques:\n",
    "    - Forward: Start from the null model, add one feature at a time and check the CV accuracy.\n",
    "    - Backward: Start from the full model and remove variables one by one.\n",
    "    - Mixed: Use a mix of above techniques.\n",
    "    - Use permutations.\n",
    "    - Use feature importances from RFs and GBMs.\n",
    "    - Apply some statistical tests."
   ]
  },
  {
   "cell_type": "markdown",
   "metadata": {},
   "source": [
    "#### Modeling:\n",
    "- For tabular datasets GBMs work best, while for unstructured data DL work better.\n",
    "- The type of problem defines the type of modeling:\n",
    "    - Image classification: CNNs\n",
    "    - Sound classification: CNNs (CRNN), LSTMs\n",
    "    - Text classification: Linear models, RNNs, Transformers, Factorization machines\n",
    "    - Time series: Autoregressive models, LSTMs\n",
    "    - Categorical features: GBMs, Linear models, NNs, Factorization machines\n",
    "    - Numeric features: GBMs, Linear models, NNs, SVMs\n",
    "    - Interactions: GBMs, Linear models, NNs\n",
    "    - Recommenders: GBMs, Collaborative filtering, NNs, Factorization machines"
   ]
  },
  {
   "cell_type": "markdown",
   "metadata": {},
   "source": [
    "#### Evaluation:\n",
    "- Extensive evaluation is not always needed: \n",
    "    - Even for medium-sized datasets like 100,000 rows you can validate your models with a simple holdout strategy. \n",
    "- Switch to CV only when it is really required:\n",
    "    - For example, when you've already hit some limits and can move forward only with some marginal improvements.\n",
    "- Faster evaluation:\n",
    "    - Start with fastest models like LightGBM.\n",
    "    - Use early stopping to reduce the run time.\n",
    "    - Switch to tuning the models and ensembling only when you are satisfied with feature engineering.\n",
    "    - Rent a larger server if you're uncomfortable with your computational resources."
   ]
  },
  {
   "cell_type": "markdown",
   "metadata": {},
   "source": [
    "#### Ensembling:\n",
    "- Save predictions on internal validation and test sets.\n",
    "    - From all the models trained before, make sure you save their predictions.\n",
    "    - *Sometimes team collaboration is just sending csv files.*\n",
    "- Different ways to combine from averaging to stacking:\n",
    "    - Small data requires simpler ensembling techniques.\n",
    "    - Average a few low-correlated predictions with good scores.\n",
    "- The stacking process requires its own feature engineering.\n",
    "- Most of the times ensembling leads only to a marginal score improvement."
   ]
  },
  {
   "cell_type": "markdown",
   "metadata": {},
   "source": [
    "#### Code organization:\n",
    "- Set up a separate environment for each competition.\n",
    "- If your code is hard to read, you will definitely have problems sooner or later:\n",
    "    - Keep important code clean.\n",
    "    - Use good variable and function names.\n",
    "- Keep your research reproducible:\n",
    "    - Fix all random seeds.\n",
    "    - Write down exactly how any of the features were generated.\n",
    "    - Store the code under a version control system like git.\n",
    "    - You may also create a notebook for each submission so they can be compared later.\n",
    "- Reuse code as much as possible:\n",
    "    - Especially important to use the same code for train and test stages. For example, features should be prepared and transformed by the same code in order to guarantee that they're produced in a consistent manner. \n",
    "    - Move reusable code into separate functions or even separate modules.\n",
    "    - We are provided with training and test CSV files (*train.csv* and *test.csv*). Split the training set to training and holdout sets, and save those to disk as CSV files with the same structure as input files (*train.csv* and *valid.csv*). Then it only takes you to switch the paths to either experiment or produce a submission.\n",
    "    - Use a custom library with frequent operations already implemented.\n",
    "        - [Far0n's framework for Kaggle competitions \"kaggletils\"](https://github.com/Far0n/kaggletils)\n",
    "- Long execution history leads to lots of globally-defined variables:\n",
    "    - Restart the notebook from time to time.\n",
    "- Don't pay too much attention to the code quality when experimenting:\n",
    "    - It's okay to have ugly code unless you don't use it for submission.\n",
    "    - Try focusing entirely on data and google domain-specific knowledge.\n",
    "- Split EDA and model training into separate notebooks.\n",
    "- Use macros for frequent code.\n",
    "    - [28 Jupyter Notebook tips, tricks and shortcuts](https://www.dataquest.io/blog/jupyter-notebook-tips-tricks-shortcuts/)"
   ]
  },
  {
   "cell_type": "markdown",
   "metadata": {},
   "source": [
    "#### Research papers:\n",
    "- Read scientific articles on the topic of the competition.\n",
    "- This can get you ideas about ML-related things (for example, how to optimize AUC).\n",
    "- Way to get familiar with problem domain (especially useful for feature generation)."
   ]
  },
  {
   "cell_type": "code",
   "execution_count": null,
   "metadata": {},
   "outputs": [],
   "source": []
  }
 ],
 "metadata": {
  "kernelspec": {
   "display_name": "Python 3",
   "language": "python",
   "name": "python3"
  },
  "language_info": {
   "codemirror_mode": {
    "name": "ipython",
    "version": 3
   },
   "file_extension": ".py",
   "mimetype": "text/x-python",
   "name": "python",
   "nbconvert_exporter": "python",
   "pygments_lexer": "ipython3",
   "version": "3.6.7"
  }
 },
 "nbformat": 4,
 "nbformat_minor": 2
}
