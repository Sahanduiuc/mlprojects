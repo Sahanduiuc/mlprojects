{
 "cells": [
  {
   "cell_type": "markdown",
   "metadata": {},
   "source": [
    "# Data Leakage"
   ]
  },
  {
   "cell_type": "markdown",
   "metadata": {},
   "source": [
    "- Data leakage is an unexpected information in the data that adds ground truths into the test data.\n",
    "- Data leaks are result of unintentional errors and accidents.\n",
    "- In competitions, top models will use the leaky data rather than be good general model of the underlying problem.\n",
    "- Reversing an anonymization and obfuscation can result in a privacy breach that you did not expect.\n",
    "- You may be creating overly optimistic models that are practically useless and cannot be used in production."
   ]
  },
  {
   "cell_type": "markdown",
   "metadata": {},
   "source": [
    "#### Time series:\n",
    "- Data leaks can occur in time series datasets where creating training and test sets can be difficult.\n",
    "- Split should be done on time (train/public/private):\n",
    "    - In real world we don't have information on future events.\n",
    "- Even when split by time, features may contain information about future:\n",
    "    - For example, fundamental indicators in stock market prediction tasks.\n",
    "- There is only one way to eliminate the possibility of data leaks:\n",
    "    - Remove all features except IDs (e.g. timestamp) from the test set.\n",
    "    - Participants can then create the features based on past and join them themselves."
   ]
  },
  {
   "cell_type": "markdown",
   "metadata": {},
   "source": [
    "#### Metadata:\n",
    "- Analog observations like sound and images where samples are stored in separate files that have a size and a timestamp.\n",
    "- We can access some meta-information such as file creation date, image resolution, etc.\n",
    "- A good practice from organizers is to to erase the metadata, resize the pictures and change the create date."
   ]
  },
  {
   "cell_type": "markdown",
   "metadata": {},
   "source": [
    "#### Row IDs:\n",
    "- Row IDs are unique identifiers of every row usually added for convenience.\n",
    "- They are generated either automatically or manually (e.g. hashing) and are not intended for disclosure.\n",
    "- They may contain traces of information connected to target variable.\n",
    "- A good practice is to leave them out entirely."
   ]
  },
  {
   "cell_type": "markdown",
   "metadata": {},
   "source": [
    "#### Row order:\n",
    "- Rows may be shuffled by target variable.\n",
    "- Rows next to each other may have the same label.\n",
    "- A good practice is to randomly shuffle the data."
   ]
  },
  {
   "cell_type": "markdown",
   "metadata": {},
   "source": [
    "#### Pairwise tasks:\n",
    "- Data leaks can occur in graph problems where random sampling methods can be difficult to construct.\n",
    "- There may be a some non-random subsampling which is cause of data leakage.\n",
    "- Usually organizers sample mostly hard-to-distinguish tasks, which causes imbalance of item frequencies.\n",
    "    - Two items having a similar sets of neighbors results in a higher possibility of being the duplicates.\n",
    "    - Similarities of vector representations in the connectivity matrix can expose this data leakage."
   ]
  },
  {
   "cell_type": "markdown",
   "metadata": {},
   "source": [
    "#### Distance-based tasks:\n",
    "- Using distances we may find a good approximation for the true coordinates:\n",
    "    - For example, write down a system of $N$ equations knowing $N$ distances to unveil the coordinates of unknown points."
   ]
  },
  {
   "cell_type": "code",
   "execution_count": null,
   "metadata": {},
   "outputs": [],
   "source": []
  }
 ],
 "metadata": {
  "kernelspec": {
   "display_name": "Python 3",
   "language": "python",
   "name": "python3"
  },
  "language_info": {
   "codemirror_mode": {
    "name": "ipython",
    "version": 3
   },
   "file_extension": ".py",
   "mimetype": "text/x-python",
   "name": "python",
   "nbconvert_exporter": "python",
   "pygments_lexer": "ipython3",
   "version": "3.6.7"
  }
 },
 "nbformat": 4,
 "nbformat_minor": 2
}
