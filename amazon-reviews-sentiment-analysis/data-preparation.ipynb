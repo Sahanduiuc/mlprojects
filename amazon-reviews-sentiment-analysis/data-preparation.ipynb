{
 "cells": [
  {
   "cell_type": "markdown",
   "metadata": {},
   "source": [
    "# Gather data"
   ]
  },
  {
   "cell_type": "markdown",
   "metadata": {},
   "source": [
    "The idea is to gather a subset of Amazon Customer Reviews for each product category, without downloading huge TSV files. Since Amazon stores this data in public S3 buckets, we will use Amazon Athena for data extraction.\n",
    "\n",
    "Requires an AWS account.\n",
    "\n",
    "Before starting, head over to the Amazon Athena console and manually create a table as described [here](https://s3.amazonaws.com/amazon-reviews-pds/readme.html)."
   ]
  },
  {
   "cell_type": "code",
   "execution_count": 101,
   "metadata": {},
   "outputs": [],
   "source": [
    "import boto3\n",
    "import pandas as pd\n",
    "import io\n",
    "import re\n",
    "import os\n",
    "import time\n",
    "import glob\n",
    "import numpy as np\n",
    "import seaborn as sns\n",
    "import matplotlib.pyplot as plt\n",
    "sns.set()"
   ]
  },
  {
   "cell_type": "markdown",
   "metadata": {},
   "source": [
    "## Find the Athena bucket on S3"
   ]
  },
  {
   "cell_type": "markdown",
   "metadata": {},
   "source": [
    "After creating the table, Athena will automatically create an S3 bucket, which we will use to store the results of our queries. "
   ]
  },
  {
   "cell_type": "code",
   "execution_count": 2,
   "metadata": {},
   "outputs": [],
   "source": [
    "session = boto3.Session()"
   ]
  },
  {
   "cell_type": "code",
   "execution_count": 3,
   "metadata": {},
   "outputs": [],
   "source": [
    "def list_buckets(session):\n",
    "    \"\"\"List all buckets.\"\"\"\n",
    "    s3 = session.client('s3')\n",
    "    response = s3.list_buckets()\n",
    "    buckets = [bucket['Name'] for bucket in response['Buckets']]\n",
    "    print(buckets)"
   ]
  },
  {
   "cell_type": "code",
   "execution_count": 4,
   "metadata": {},
   "outputs": [
    {
     "name": "stdout",
     "output_type": "stream",
     "text": [
      "['aws-athena-query-results-953225455667-us-west-2', 'polakowo-yelp2', 'sagemaker-us-west-2-953225455667']\n"
     ]
    }
   ],
   "source": [
    "list_buckets(session)"
   ]
  },
  {
   "cell_type": "code",
   "execution_count": 5,
   "metadata": {},
   "outputs": [],
   "source": [
    "# You will see a bucket name similar to aws-athena-query-results->region<->account-id<\n",
    "# if you followed instructions in https://s3.amazonaws.com/amazon-reviews-pds/readme.html\n",
    "bucket = 'aws-athena-query-results-953225455667-us-west-2'"
   ]
  },
  {
   "cell_type": "code",
   "execution_count": 8,
   "metadata": {},
   "outputs": [],
   "source": [
    "params = {\n",
    "    'region': 'us-west-2',\n",
    "    'database': 'default',\n",
    "    'bucket': bucket,\n",
    "    'path': 'temp/amazon-reviews'\n",
    "}"
   ]
  },
  {
   "cell_type": "markdown",
   "metadata": {},
   "source": [
    "## List product categories"
   ]
  },
  {
   "cell_type": "markdown",
   "metadata": {},
   "source": [
    "Fetch the available product categories."
   ]
  },
  {
   "cell_type": "code",
   "execution_count": 31,
   "metadata": {},
   "outputs": [],
   "source": [
    "# https://www.ilkkapeltola.fi/2018/04/simple-way-to-query-amazon-athena-in.html\n",
    "def athena_query(client, params):\n",
    "    \"\"\"Query Athena.\"\"\"\n",
    "    response = client.start_query_execution(\n",
    "        QueryString=params[\"query\"],\n",
    "        QueryExecutionContext={\n",
    "            'Database': params['database']\n",
    "        },\n",
    "        ResultConfiguration={\n",
    "            'OutputLocation': 's3://' + params['bucket'] + '/' + params['path']\n",
    "        }\n",
    "    )\n",
    "    return response"
   ]
  },
  {
   "cell_type": "code",
   "execution_count": 84,
   "metadata": {},
   "outputs": [],
   "source": [
    "def athena_to_s3(session, params):\n",
    "    \"\"\"Query Athena and get the S3 filename as a result.\"\"\"\n",
    "    client = session.client('athena', region_name=params[\"region\"])\n",
    "    execution = athena_query(client, params)\n",
    "    execution_id = execution['QueryExecutionId']\n",
    "    state = 'RUNNING'\n",
    "\n",
    "    while state in ['RUNNING']:\n",
    "        response = client.get_query_execution(QueryExecutionId=execution_id)\n",
    "\n",
    "        if 'QueryExecution' in response and \\\n",
    "                'Status' in response['QueryExecution'] and \\\n",
    "                'State' in response['QueryExecution']['Status']:\n",
    "            state = response['QueryExecution']['Status']['State']\n",
    "            if state == 'FAILED':\n",
    "                raise BaseException(response)\n",
    "            elif state == 'SUCCEEDED':\n",
    "                s3_path = response['QueryExecution']['ResultConfiguration']['OutputLocation']\n",
    "                filename = re.findall('.*\\/(.*)', s3_path)[0]\n",
    "                return filename\n",
    "            elif state == 'RUNNING':\n",
    "                time.sleep(1)"
   ]
  },
  {
   "cell_type": "code",
   "execution_count": 39,
   "metadata": {},
   "outputs": [],
   "source": [
    "def pd_read_stream(params, s3_filename):\n",
    "    \"\"\"Stream data from S3 into a dataframe.\"\"\"\n",
    "    s3 = session.client('s3')\n",
    "    obj = s3.get_object(Bucket=params['bucket'], Key=params['path']+'/'+s3_filename)\n",
    "    df = pd.read_csv(io.BytesIO(obj['Body'].read()), encoding='utf8')\n",
    "    return df"
   ]
  },
  {
   "cell_type": "code",
   "execution_count": 40,
   "metadata": {},
   "outputs": [],
   "source": [
    "def list_categories(session, params):\n",
    "    \"\"\"Fetch the list of product categories.\"\"\"\n",
    "    params = dict(params)\n",
    "    params['query'] = \"SELECT DISTINCT(product_category) FROM amazon_reviews_parquet\"\n",
    "    s3_filename = athena_to_s3(session, params)\n",
    "    return sorted(pd_read_stream(params, s3_filename).values.flatten().tolist())"
   ]
  },
  {
   "cell_type": "code",
   "execution_count": 41,
   "metadata": {},
   "outputs": [
    {
     "name": "stdout",
     "output_type": "stream",
     "text": [
      "['Apparel', 'Automotive', 'Baby', 'Beauty', 'Books', 'Camera', 'Digital_Ebook_Purchase', 'Digital_Music_Purchase', 'Digital_Software', 'Digital_Video_Download', 'Digital_Video_Games', 'Electronics', 'Furniture', 'Gift_Card', 'Grocery', 'Health_&_Personal_Care', 'Home', 'Home_Entertainment', 'Home_Improvement', 'Jewelry', 'Kitchen', 'Lawn_and_Garden', 'Luggage', 'Major_Appliances', 'Mobile_Apps', 'Mobile_Electronics', 'Music', 'Musical_Instruments', 'Office_Products', 'Outdoors', 'PC', 'Personal_Care_Appliances', 'Pet_Products', 'Shoes', 'Software', 'Sports', 'Tools', 'Toys', 'Video', 'Video_DVD', 'Video_Games', 'Watches', 'Wireless']\n"
     ]
    }
   ],
   "source": [
    "product_cats = list_categories(session, params)\n",
    "\n",
    "print(product_cats)"
   ]
  },
  {
   "cell_type": "markdown",
   "metadata": {},
   "source": [
    "## Determine minimum sample size"
   ]
  },
  {
   "cell_type": "markdown",
   "metadata": {},
   "source": [
    "For each category, determine the minimum number of reviews such that negative and positive reviews are balanced."
   ]
  },
  {
   "cell_type": "code",
   "execution_count": 63,
   "metadata": {},
   "outputs": [],
   "source": [
    "def get_rating_counts(session, params, product_cats):\n",
    "    \"\"\"Create views to concatenate them later.\"\"\"\n",
    "    params = dict(params)\n",
    "    rating_counts = pd.DataFrame(index=[1, 2, 3, 4, 5])\n",
    "    for i, category in enumerate(product_cats):\n",
    "        # Execute the query\n",
    "        params['query'] = \"\"\"\n",
    "        SELECT star_rating, COUNT(*) as count \n",
    "        FROM amazon_reviews_parquet \n",
    "        WHERE product_category = '{}' AND LENGTH(review_body) > 50 AND LENGTH(review_body) < 1000\n",
    "        GROUP BY star_rating;\n",
    "        \"\"\".format(category)\n",
    "        s3_filename = athena_to_s3(session, params)\n",
    "        df = pd_read_stream(params, s3_filename)\n",
    "        rating_counts[category] = df.set_index('star_rating')['count']\n",
    "        print(category, 'OK')\n",
    "    return rating_counts.transpose()"
   ]
  },
  {
   "cell_type": "code",
   "execution_count": 64,
   "metadata": {},
   "outputs": [
    {
     "name": "stdout",
     "output_type": "stream",
     "text": [
      "Apparel OK\n",
      "Automotive OK\n",
      "Baby OK\n",
      "Beauty OK\n",
      "Books OK\n",
      "Camera OK\n",
      "Digital_Ebook_Purchase OK\n",
      "Digital_Music_Purchase OK\n",
      "Digital_Software OK\n",
      "Digital_Video_Download OK\n",
      "Digital_Video_Games OK\n",
      "Electronics OK\n",
      "Furniture OK\n",
      "Gift_Card OK\n",
      "Grocery OK\n",
      "Health_&_Personal_Care OK\n",
      "Home OK\n",
      "Home_Entertainment OK\n",
      "Home_Improvement OK\n",
      "Jewelry OK\n",
      "Kitchen OK\n",
      "Lawn_and_Garden OK\n",
      "Luggage OK\n",
      "Major_Appliances OK\n",
      "Mobile_Apps OK\n",
      "Mobile_Electronics OK\n",
      "Music OK\n",
      "Musical_Instruments OK\n",
      "Office_Products OK\n",
      "Outdoors OK\n",
      "PC OK\n",
      "Personal_Care_Appliances OK\n",
      "Pet_Products OK\n",
      "Shoes OK\n",
      "Software OK\n",
      "Sports OK\n",
      "Tools OK\n",
      "Toys OK\n",
      "Video OK\n",
      "Video_DVD OK\n",
      "Video_Games OK\n",
      "Watches OK\n",
      "Wireless OK\n",
      "CPU times: user 4.53 s, sys: 220 ms, total: 4.75 s\n",
      "Wall time: 6min 54s\n"
     ]
    }
   ],
   "source": [
    "%%time\n",
    "\n",
    "rating_counts = get_rating_counts(session, params, product_cats)"
   ]
  },
  {
   "cell_type": "code",
   "execution_count": 76,
   "metadata": {},
   "outputs": [
    {
     "data": {
      "text/html": [
       "<div>\n",
       "<style scoped>\n",
       "    .dataframe tbody tr th:only-of-type {\n",
       "        vertical-align: middle;\n",
       "    }\n",
       "\n",
       "    .dataframe tbody tr th {\n",
       "        vertical-align: top;\n",
       "    }\n",
       "\n",
       "    .dataframe thead th {\n",
       "        text-align: right;\n",
       "    }\n",
       "</style>\n",
       "<table border=\"1\" class=\"dataframe\">\n",
       "  <thead>\n",
       "    <tr style=\"text-align: right;\">\n",
       "      <th></th>\n",
       "      <th>1</th>\n",
       "      <th>2</th>\n",
       "      <th>3</th>\n",
       "      <th>4</th>\n",
       "      <th>5</th>\n",
       "    </tr>\n",
       "  </thead>\n",
       "  <tbody>\n",
       "    <tr>\n",
       "      <th>count</th>\n",
       "      <td>43.00</td>\n",
       "      <td>43.00</td>\n",
       "      <td>43.00</td>\n",
       "      <td>43.00</td>\n",
       "      <td>43.00</td>\n",
       "    </tr>\n",
       "    <tr>\n",
       "      <th>mean</th>\n",
       "      <td>242467.40</td>\n",
       "      <td>145076.49</td>\n",
       "      <td>236216.70</td>\n",
       "      <td>500011.98</td>\n",
       "      <td>1738083.00</td>\n",
       "    </tr>\n",
       "    <tr>\n",
       "      <th>std</th>\n",
       "      <td>236837.97</td>\n",
       "      <td>149675.87</td>\n",
       "      <td>272563.47</td>\n",
       "      <td>639334.67</td>\n",
       "      <td>2121057.63</td>\n",
       "    </tr>\n",
       "    <tr>\n",
       "      <th>min</th>\n",
       "      <td>4164.00</td>\n",
       "      <td>1420.00</td>\n",
       "      <td>2546.00</td>\n",
       "      <td>7030.00</td>\n",
       "      <td>35885.00</td>\n",
       "    </tr>\n",
       "    <tr>\n",
       "      <th>25%</th>\n",
       "      <td>60290.50</td>\n",
       "      <td>34975.00</td>\n",
       "      <td>55311.50</td>\n",
       "      <td>128325.00</td>\n",
       "      <td>392685.50</td>\n",
       "    </tr>\n",
       "    <tr>\n",
       "      <th>50%</th>\n",
       "      <td>196841.00</td>\n",
       "      <td>105889.00</td>\n",
       "      <td>157109.00</td>\n",
       "      <td>317725.00</td>\n",
       "      <td>1148261.00</td>\n",
       "    </tr>\n",
       "    <tr>\n",
       "      <th>75%</th>\n",
       "      <td>352189.00</td>\n",
       "      <td>204915.50</td>\n",
       "      <td>328849.50</td>\n",
       "      <td>681887.00</td>\n",
       "      <td>2373146.00</td>\n",
       "    </tr>\n",
       "    <tr>\n",
       "      <th>max</th>\n",
       "      <td>1050133.00</td>\n",
       "      <td>619897.00</td>\n",
       "      <td>1382961.00</td>\n",
       "      <td>3493503.00</td>\n",
       "      <td>10183525.00</td>\n",
       "    </tr>\n",
       "  </tbody>\n",
       "</table>\n",
       "</div>"
      ],
      "text/plain": [
       "                1          2           3           4            5\n",
       "count       43.00      43.00       43.00       43.00        43.00\n",
       "mean    242467.40  145076.49   236216.70   500011.98   1738083.00\n",
       "std     236837.97  149675.87   272563.47   639334.67   2121057.63\n",
       "min       4164.00    1420.00     2546.00     7030.00     35885.00\n",
       "25%      60290.50   34975.00    55311.50   128325.00    392685.50\n",
       "50%     196841.00  105889.00   157109.00   317725.00   1148261.00\n",
       "75%     352189.00  204915.50   328849.50   681887.00   2373146.00\n",
       "max    1050133.00  619897.00  1382961.00  3493503.00  10183525.00"
      ]
     },
     "execution_count": 76,
     "metadata": {},
     "output_type": "execute_result"
    }
   ],
   "source": [
    "rating_counts.describe().applymap(lambda x: '%.2f'%x)"
   ]
  },
  {
   "cell_type": "code",
   "execution_count": 77,
   "metadata": {},
   "outputs": [],
   "source": [
    "# Number of rows per category and rating\n",
    "num_rows = 5000"
   ]
  },
  {
   "cell_type": "markdown",
   "metadata": {},
   "source": [
    "## Extract reviews into a CSV file"
   ]
  },
  {
   "cell_type": "markdown",
   "metadata": {},
   "source": [
    "Since we want to select a fixed number of rows for each category and rating (and we cannot do it dynamically without throwing a limited resources exception), we have first to create a view for each category and rating and then for each category union all its views to get a CSV file. We'll then download all the generated CSV files and concatenate them locally using pandas."
   ]
  },
  {
   "cell_type": "code",
   "execution_count": 86,
   "metadata": {},
   "outputs": [],
   "source": [
    "def create_views(session, params, product_cats, num_rows):\n",
    "    \"\"\"Create views for each category and rating.\"\"\"\n",
    "    params = dict(params)\n",
    "    for i, category in enumerate(product_cats):\n",
    "        for rating in range(1, 6):\n",
    "            params['query'] = \"\"\"\n",
    "            CREATE VIEW temp_view_{}_{} AS\n",
    "            SELECT product_category, review_body, star_rating\n",
    "            FROM amazon_reviews_parquet\n",
    "            WHERE \n",
    "                product_category = '{}' \n",
    "                AND LENGTH(review_body) > 50 \n",
    "                AND LENGTH(review_body) < 1000 \n",
    "                AND star_rating = {}\n",
    "            ORDER BY year DESC\n",
    "            LIMIT {}\n",
    "            \"\"\".format(i, rating, category, rating, num_rows)\n",
    "            s3_filename = athena_to_s3(session, params)\n",
    "        print(category, 'OK')"
   ]
  },
  {
   "cell_type": "code",
   "execution_count": 87,
   "metadata": {},
   "outputs": [
    {
     "name": "stdout",
     "output_type": "stream",
     "text": [
      "Apparel OK\n",
      "Automotive OK\n",
      "Baby OK\n",
      "Beauty OK\n",
      "Books OK\n",
      "Camera OK\n",
      "Digital_Ebook_Purchase OK\n",
      "Digital_Music_Purchase OK\n",
      "Digital_Software OK\n",
      "Digital_Video_Download OK\n",
      "Digital_Video_Games OK\n",
      "Electronics OK\n",
      "Furniture OK\n",
      "Gift_Card OK\n",
      "Grocery OK\n",
      "Health_&_Personal_Care OK\n",
      "Home OK\n",
      "Home_Entertainment OK\n",
      "Home_Improvement OK\n",
      "Jewelry OK\n",
      "Kitchen OK\n",
      "Lawn_and_Garden OK\n",
      "Luggage OK\n",
      "Major_Appliances OK\n",
      "Mobile_Apps OK\n",
      "Mobile_Electronics OK\n",
      "Music OK\n",
      "Musical_Instruments OK\n",
      "Office_Products OK\n",
      "Outdoors OK\n",
      "PC OK\n",
      "Personal_Care_Appliances OK\n",
      "Pet_Products OK\n",
      "Shoes OK\n",
      "Software OK\n",
      "Sports OK\n",
      "Tools OK\n",
      "Toys OK\n",
      "Video OK\n",
      "Video_DVD OK\n",
      "Video_Games OK\n",
      "Watches OK\n",
      "Wireless OK\n",
      "CPU times: user 8.69 s, sys: 447 ms, total: 9.14 s\n",
      "Wall time: 8min 5s\n"
     ]
    }
   ],
   "source": [
    "%%time\n",
    "\n",
    "create_views(session, params, product_cats, num_rows)"
   ]
  },
  {
   "cell_type": "code",
   "execution_count": 92,
   "metadata": {},
   "outputs": [],
   "source": [
    "def union_category_views(session, params, product_cats):\n",
    "    \"\"\"Concatenate all rows from all views.\"\"\"\n",
    "    params = dict(params)\n",
    "    cat_s3_filenames = {}\n",
    "    for i, category in enumerate(product_cats):\n",
    "        select_stmts = [\"SELECT * FROM temp_view_{}_{}\".format(i, rating) for rating in range(1, 6)]\n",
    "        params['query'] = '\\nUNION ALL\\n'.join(select_stmts)\n",
    "        s3_filename = athena_to_s3(session, params)\n",
    "        cat_s3_filenames[category] = s3_filename\n",
    "        print(category, 'OK')\n",
    "    return cat_s3_filenames"
   ]
  },
  {
   "cell_type": "code",
   "execution_count": 93,
   "metadata": {},
   "outputs": [
    {
     "name": "stdout",
     "output_type": "stream",
     "text": [
      "Apparel OK\n",
      "Automotive OK\n",
      "Baby OK\n",
      "Beauty OK\n",
      "Books OK\n",
      "Camera OK\n",
      "Digital_Ebook_Purchase OK\n",
      "Digital_Music_Purchase OK\n",
      "Digital_Software OK\n",
      "Digital_Video_Download OK\n",
      "Digital_Video_Games OK\n",
      "Electronics OK\n",
      "Furniture OK\n",
      "Gift_Card OK\n",
      "Grocery OK\n",
      "Health_&_Personal_Care OK\n",
      "Home OK\n",
      "Home_Entertainment OK\n",
      "Home_Improvement OK\n",
      "Jewelry OK\n",
      "Kitchen OK\n",
      "Lawn_and_Garden OK\n",
      "Luggage OK\n",
      "Major_Appliances OK\n",
      "Mobile_Apps OK\n",
      "Mobile_Electronics OK\n",
      "Music OK\n",
      "Musical_Instruments OK\n",
      "Office_Products OK\n",
      "Outdoors OK\n",
      "PC OK\n",
      "Personal_Care_Appliances OK\n",
      "Pet_Products OK\n",
      "Shoes OK\n",
      "Software OK\n",
      "Sports OK\n",
      "Tools OK\n",
      "Toys OK\n",
      "Video OK\n",
      "Video_DVD OK\n",
      "Video_Games OK\n",
      "Watches OK\n",
      "Wireless OK\n",
      "dict_keys(['Apparel', 'Automotive', 'Baby', 'Beauty', 'Books', 'Camera', 'Digital_Ebook_Purchase', 'Digital_Music_Purchase', 'Digital_Software', 'Digital_Video_Download', 'Digital_Video_Games', 'Electronics', 'Furniture', 'Gift_Card', 'Grocery', 'Health_&_Personal_Care', 'Home', 'Home_Entertainment', 'Home_Improvement', 'Jewelry', 'Kitchen', 'Lawn_and_Garden', 'Luggage', 'Major_Appliances', 'Mobile_Apps', 'Mobile_Electronics', 'Music', 'Musical_Instruments', 'Office_Products', 'Outdoors', 'PC', 'Personal_Care_Appliances', 'Pet_Products', 'Shoes', 'Software', 'Sports', 'Tools', 'Toys', 'Video', 'Video_DVD', 'Video_Games', 'Watches', 'Wireless'])\n",
      "CPU times: user 4.59 s, sys: 229 ms, total: 4.81 s\n",
      "Wall time: 13min 7s\n"
     ]
    }
   ],
   "source": [
    "%%time\n",
    "\n",
    "cat_s3_filenames = union_category_views(session, params, product_cats)\n",
    "\n",
    "print(cat_s3_filenames.keys())"
   ]
  },
  {
   "cell_type": "markdown",
   "metadata": {},
   "source": [
    "## Download the file"
   ]
  },
  {
   "cell_type": "markdown",
   "metadata": {},
   "source": [
    "Download all the CSV files from S3."
   ]
  },
  {
   "cell_type": "code",
   "execution_count": 18,
   "metadata": {},
   "outputs": [],
   "source": [
    "data_dir = 'data'\n",
    "\n",
    "if not os.path.exists(data_dir):\n",
    "    os.makedirs(data_dir)"
   ]
  },
  {
   "cell_type": "code",
   "execution_count": 94,
   "metadata": {},
   "outputs": [],
   "source": [
    "def download_s3_file(session, params, s3_filename, local_path):\n",
    "    \"\"\"Download the CSV file from S3 to a local directory.\"\"\"\n",
    "    s3 = session.client('s3')\n",
    "    s3.download_file(bucket, params['path']+'/'+s3_filename, local_path)"
   ]
  },
  {
   "cell_type": "code",
   "execution_count": 95,
   "metadata": {},
   "outputs": [],
   "source": [
    "def download_csvs(session, params, cat_s3_filenames, data_dir):\n",
    "    \"\"\"Download all our CSV files.\"\"\"\n",
    "    for category, s3_filename in cat_s3_filenames.items():\n",
    "        download_s3_file(session, params, s3_filename, os.path.join(data_dir, category+'.csv'))\n",
    "        print(category, 'OK')"
   ]
  },
  {
   "cell_type": "code",
   "execution_count": 96,
   "metadata": {},
   "outputs": [
    {
     "name": "stdout",
     "output_type": "stream",
     "text": [
      "Apparel OK\n",
      "Automotive OK\n",
      "Baby OK\n",
      "Beauty OK\n",
      "Books OK\n",
      "Camera OK\n",
      "Digital_Ebook_Purchase OK\n",
      "Digital_Music_Purchase OK\n",
      "Digital_Software OK\n",
      "Digital_Video_Download OK\n",
      "Digital_Video_Games OK\n",
      "Electronics OK\n",
      "Furniture OK\n",
      "Gift_Card OK\n",
      "Grocery OK\n",
      "Health_&_Personal_Care OK\n",
      "Home OK\n",
      "Home_Entertainment OK\n",
      "Home_Improvement OK\n",
      "Jewelry OK\n",
      "Kitchen OK\n",
      "Lawn_and_Garden OK\n",
      "Luggage OK\n",
      "Major_Appliances OK\n",
      "Mobile_Apps OK\n",
      "Mobile_Electronics OK\n",
      "Music OK\n",
      "Musical_Instruments OK\n",
      "Office_Products OK\n",
      "Outdoors OK\n",
      "PC OK\n",
      "Personal_Care_Appliances OK\n",
      "Pet_Products OK\n",
      "Shoes OK\n",
      "Software OK\n",
      "Sports OK\n",
      "Tools OK\n",
      "Toys OK\n",
      "Video OK\n",
      "Video_DVD OK\n",
      "Video_Games OK\n",
      "Watches OK\n",
      "Wireless OK\n",
      "CPU times: user 3.37 s, sys: 2.05 s, total: 5.41 s\n",
      "Wall time: 2min 29s\n"
     ]
    }
   ],
   "source": [
    "%%time\n",
    "\n",
    "download_csvs(session, params, cat_s3_filenames, data_dir)"
   ]
  },
  {
   "cell_type": "markdown",
   "metadata": {},
   "source": [
    "## Clean up temporary files"
   ]
  },
  {
   "cell_type": "markdown",
   "metadata": {},
   "source": [
    "Clean up all temporary resources created in the process."
   ]
  },
  {
   "cell_type": "code",
   "execution_count": 97,
   "metadata": {},
   "outputs": [],
   "source": [
    "def view_cleanup(session, params, product_cats):\n",
    "    \"\"\"Drop our temporary views.\"\"\"\n",
    "    params = dict(params)\n",
    "    for i, category in enumerate(product_cats):\n",
    "        for rating in range(1, 6):\n",
    "            params['query'] = 'DROP VIEW IF EXISTS temp_view_{}_{}'.format(i, rating)\n",
    "            s3_filename = athena_to_s3(session, params)\n",
    "        print(category, 'OK')"
   ]
  },
  {
   "cell_type": "code",
   "execution_count": 98,
   "metadata": {},
   "outputs": [
    {
     "name": "stdout",
     "output_type": "stream",
     "text": [
      "Apparel OK\n",
      "Automotive OK\n",
      "Baby OK\n",
      "Beauty OK\n",
      "Books OK\n",
      "Camera OK\n",
      "Digital_Ebook_Purchase OK\n",
      "Digital_Music_Purchase OK\n",
      "Digital_Software OK\n",
      "Digital_Video_Download OK\n",
      "Digital_Video_Games OK\n",
      "Electronics OK\n",
      "Furniture OK\n",
      "Gift_Card OK\n",
      "Grocery OK\n",
      "Health_&_Personal_Care OK\n",
      "Home OK\n",
      "Home_Entertainment OK\n",
      "Home_Improvement OK\n",
      "Jewelry OK\n",
      "Kitchen OK\n",
      "Lawn_and_Garden OK\n",
      "Luggage OK\n",
      "Major_Appliances OK\n",
      "Mobile_Apps OK\n",
      "Mobile_Electronics OK\n",
      "Music OK\n",
      "Musical_Instruments OK\n",
      "Office_Products OK\n",
      "Outdoors OK\n",
      "PC OK\n",
      "Personal_Care_Appliances OK\n",
      "Pet_Products OK\n",
      "Shoes OK\n",
      "Software OK\n",
      "Sports OK\n",
      "Tools OK\n",
      "Toys OK\n",
      "Video OK\n",
      "Video_DVD OK\n",
      "Video_Games OK\n",
      "Watches OK\n",
      "Wireless OK\n"
     ]
    }
   ],
   "source": [
    "view_cleanup(session, params, product_cats)"
   ]
  },
  {
   "cell_type": "code",
   "execution_count": 99,
   "metadata": {},
   "outputs": [],
   "source": [
    "def s3_cleanup(session, params):\n",
    "    \"\"\"Removes all files from our temporary S3 folder, so be careful.\"\"\"\n",
    "    s3 = session.resource('s3')\n",
    "    my_bucket = s3.Bucket(params['bucket'])\n",
    "    for item in my_bucket.objects.filter(Prefix=params['path']):\n",
    "        item.delete()"
   ]
  },
  {
   "cell_type": "code",
   "execution_count": 100,
   "metadata": {},
   "outputs": [],
   "source": [
    "s3_cleanup(session, params)"
   ]
  },
  {
   "cell_type": "markdown",
   "metadata": {},
   "source": [
    "## Explore the data"
   ]
  },
  {
   "cell_type": "code",
   "execution_count": 102,
   "metadata": {},
   "outputs": [],
   "source": [
    "csv_files = glob.glob(os.path.join(data_dir, '*.csv'))"
   ]
  },
  {
   "cell_type": "code",
   "execution_count": 112,
   "metadata": {},
   "outputs": [
    {
     "data": {
      "text/plain": [
       "['data/Digital_Software.csv',\n",
       " 'data/Video_Games.csv',\n",
       " 'data/Home_Improvement.csv',\n",
       " 'data/Kitchen.csv',\n",
       " 'data/Digital_Ebook_Purchase.csv',\n",
       " 'data/Software.csv',\n",
       " 'data/Furniture.csv',\n",
       " 'data/Baby.csv',\n",
       " 'data/Camera.csv',\n",
       " 'data/Pet_Products.csv',\n",
       " 'data/Shoes.csv',\n",
       " 'data/Electronics.csv',\n",
       " 'data/Grocery.csv',\n",
       " 'data/Automotive.csv',\n",
       " 'data/Mobile_Electronics.csv',\n",
       " 'data/Video.csv',\n",
       " 'data/PC.csv',\n",
       " 'data/Music.csv',\n",
       " 'data/Apparel.csv',\n",
       " 'data/Home_Entertainment.csv',\n",
       " 'data/Digital_Video_Download.csv',\n",
       " 'data/Office_Products.csv',\n",
       " 'data/Books.csv',\n",
       " 'data/Sports.csv',\n",
       " 'data/Outdoors.csv',\n",
       " 'data/Tools.csv',\n",
       " 'data/Digital_Music_Purchase.csv',\n",
       " 'data/Luggage.csv',\n",
       " 'data/Video_DVD.csv',\n",
       " 'data/Health_&_Personal_Care.csv',\n",
       " 'data/Lawn_and_Garden.csv',\n",
       " 'data/Home.csv',\n",
       " 'data/Gift_Card.csv',\n",
       " 'data/Beauty.csv',\n",
       " 'data/Personal_Care_Appliances.csv',\n",
       " 'data/Jewelry.csv',\n",
       " 'data/Mobile_Apps.csv',\n",
       " 'data/Wireless.csv',\n",
       " 'data/Watches.csv',\n",
       " 'data/Major_Appliances.csv',\n",
       " 'data/Toys.csv',\n",
       " 'data/Musical_Instruments.csv',\n",
       " 'data/Digital_Video_Games.csv']"
      ]
     },
     "execution_count": 112,
     "metadata": {},
     "output_type": "execute_result"
    }
   ],
   "source": [
    "csv_files"
   ]
  },
  {
   "cell_type": "code",
   "execution_count": 103,
   "metadata": {},
   "outputs": [],
   "source": [
    "df = pd.concat((pd.read_csv(f) for f in csv_files))"
   ]
  },
  {
   "cell_type": "code",
   "execution_count": 104,
   "metadata": {},
   "outputs": [
    {
     "data": {
      "text/plain": [
       "(1067019, 3)"
      ]
     },
     "execution_count": 104,
     "metadata": {},
     "output_type": "execute_result"
    }
   ],
   "source": [
    "df.shape"
   ]
  },
  {
   "cell_type": "code",
   "execution_count": 105,
   "metadata": {},
   "outputs": [
    {
     "data": {
      "text/plain": [
       "product_category    object\n",
       "review_body         object\n",
       "star_rating          int64\n",
       "dtype: object"
      ]
     },
     "execution_count": 105,
     "metadata": {},
     "output_type": "execute_result"
    }
   ],
   "source": [
    "df.dtypes"
   ]
  },
  {
   "cell_type": "code",
   "execution_count": 106,
   "metadata": {},
   "outputs": [],
   "source": [
    "df['review_body'] = df['review_body'].astype(str)"
   ]
  },
  {
   "cell_type": "code",
   "execution_count": 107,
   "metadata": {},
   "outputs": [
    {
     "data": {
      "text/plain": [
       "<matplotlib.axes._subplots.AxesSubplot at 0x1073ec5f8>"
      ]
     },
     "execution_count": 107,
     "metadata": {},
     "output_type": "execute_result"
    },
    {
     "data": {
      "image/png": "[encoded data removed]",
      "text/plain": [
       "<Figure size 432x288 with 1 Axes>"
      ]
     },
     "metadata": {
      "needs_background": "light"
     },
     "output_type": "display_data"
    }
   ],
   "source": [
    "# The number of chars\n",
    "df['review_body'].apply(len).hist()"
   ]
  },
  {
   "cell_type": "code",
   "execution_count": 108,
   "metadata": {},
   "outputs": [
    {
     "data": {
      "text/plain": [
       "<matplotlib.axes._subplots.AxesSubplot at 0x1a15898940>"
      ]
     },
     "execution_count": 108,
     "metadata": {},
     "output_type": "execute_result"
    },
    {
     "data": {
      "image/png": "[encoded data removed]",
      "text/plain": [
       "<Figure size 432x288 with 1 Axes>"
      ]
     },
     "metadata": {
      "needs_background": "light"
     },
     "output_type": "display_data"
    }
   ],
   "source": [
    "# The number of words\n",
    "df['review_body'].apply(lambda x: len(x.split())).hist()"
   ]
  },
  {
   "cell_type": "code",
   "execution_count": 109,
   "metadata": {},
   "outputs": [
    {
     "data": {
      "text/plain": [
       "1    214164\n",
       "2    210309\n",
       "3    212546\n",
       "4    215000\n",
       "5    215000\n",
       "Name: star_rating, dtype: int64"
      ]
     },
     "execution_count": 109,
     "metadata": {},
     "output_type": "execute_result"
    }
   ],
   "source": [
    "# Rating distribution (should be balanced)\n",
    "df['star_rating'].value_counts().sort_index()"
   ]
  },
  {
   "cell_type": "code",
   "execution_count": 110,
   "metadata": {},
   "outputs": [
    {
     "data": {
      "text/plain": [
       "count    1067019.00\n",
       "mean           3.01\n",
       "std            1.42\n",
       "min            1.00\n",
       "25%            2.00\n",
       "50%            3.00\n",
       "75%            4.00\n",
       "max            5.00\n",
       "Name: star_rating, dtype: object"
      ]
     },
     "execution_count": 110,
     "metadata": {},
     "output_type": "execute_result"
    }
   ],
   "source": [
    "df['star_rating'].describe().apply(lambda x: '%.2f'%x)"
   ]
  },
  {
   "cell_type": "code",
   "execution_count": 111,
   "metadata": {},
   "outputs": [
    {
     "data": {
      "text/html": [
       "<div>\n",
       "<style scoped>\n",
       "    .dataframe tbody tr th:only-of-type {\n",
       "        vertical-align: middle;\n",
       "    }\n",
       "\n",
       "    .dataframe tbody tr th {\n",
       "        vertical-align: top;\n",
       "    }\n",
       "\n",
       "    .dataframe thead th {\n",
       "        text-align: right;\n",
       "    }\n",
       "</style>\n",
       "<table border=\"1\" class=\"dataframe\">\n",
       "  <thead>\n",
       "    <tr style=\"text-align: right;\">\n",
       "      <th>star_rating</th>\n",
       "      <th>1</th>\n",
       "      <th>2</th>\n",
       "      <th>3</th>\n",
       "      <th>4</th>\n",
       "      <th>5</th>\n",
       "    </tr>\n",
       "    <tr>\n",
       "      <th>product_category</th>\n",
       "      <th></th>\n",
       "      <th></th>\n",
       "      <th></th>\n",
       "      <th></th>\n",
       "      <th></th>\n",
       "    </tr>\n",
       "  </thead>\n",
       "  <tbody>\n",
       "    <tr>\n",
       "      <th>Apparel</th>\n",
       "      <td>5000</td>\n",
       "      <td>5000</td>\n",
       "      <td>5000</td>\n",
       "      <td>5000</td>\n",
       "      <td>5000</td>\n",
       "    </tr>\n",
       "    <tr>\n",
       "      <th>Automotive</th>\n",
       "      <td>5000</td>\n",
       "      <td>5000</td>\n",
       "      <td>5000</td>\n",
       "      <td>5000</td>\n",
       "      <td>5000</td>\n",
       "    </tr>\n",
       "    <tr>\n",
       "      <th>Baby</th>\n",
       "      <td>5000</td>\n",
       "      <td>5000</td>\n",
       "      <td>5000</td>\n",
       "      <td>5000</td>\n",
       "      <td>5000</td>\n",
       "    </tr>\n",
       "    <tr>\n",
       "      <th>Beauty</th>\n",
       "      <td>5000</td>\n",
       "      <td>5000</td>\n",
       "      <td>5000</td>\n",
       "      <td>5000</td>\n",
       "      <td>5000</td>\n",
       "    </tr>\n",
       "    <tr>\n",
       "      <th>Books</th>\n",
       "      <td>5000</td>\n",
       "      <td>5000</td>\n",
       "      <td>5000</td>\n",
       "      <td>5000</td>\n",
       "      <td>5000</td>\n",
       "    </tr>\n",
       "    <tr>\n",
       "      <th>Camera</th>\n",
       "      <td>5000</td>\n",
       "      <td>5000</td>\n",
       "      <td>5000</td>\n",
       "      <td>5000</td>\n",
       "      <td>5000</td>\n",
       "    </tr>\n",
       "    <tr>\n",
       "      <th>Digital_Ebook_Purchase</th>\n",
       "      <td>5000</td>\n",
       "      <td>5000</td>\n",
       "      <td>5000</td>\n",
       "      <td>5000</td>\n",
       "      <td>5000</td>\n",
       "    </tr>\n",
       "    <tr>\n",
       "      <th>Digital_Music_Purchase</th>\n",
       "      <td>5000</td>\n",
       "      <td>5000</td>\n",
       "      <td>5000</td>\n",
       "      <td>5000</td>\n",
       "      <td>5000</td>\n",
       "    </tr>\n",
       "    <tr>\n",
       "      <th>Digital_Software</th>\n",
       "      <td>5000</td>\n",
       "      <td>5000</td>\n",
       "      <td>5000</td>\n",
       "      <td>5000</td>\n",
       "      <td>5000</td>\n",
       "    </tr>\n",
       "    <tr>\n",
       "      <th>Digital_Video_Download</th>\n",
       "      <td>5000</td>\n",
       "      <td>5000</td>\n",
       "      <td>5000</td>\n",
       "      <td>5000</td>\n",
       "      <td>5000</td>\n",
       "    </tr>\n",
       "    <tr>\n",
       "      <th>Digital_Video_Games</th>\n",
       "      <td>5000</td>\n",
       "      <td>5000</td>\n",
       "      <td>5000</td>\n",
       "      <td>5000</td>\n",
       "      <td>5000</td>\n",
       "    </tr>\n",
       "    <tr>\n",
       "      <th>Electronics</th>\n",
       "      <td>5000</td>\n",
       "      <td>5000</td>\n",
       "      <td>5000</td>\n",
       "      <td>5000</td>\n",
       "      <td>5000</td>\n",
       "    </tr>\n",
       "    <tr>\n",
       "      <th>Furniture</th>\n",
       "      <td>5000</td>\n",
       "      <td>5000</td>\n",
       "      <td>5000</td>\n",
       "      <td>5000</td>\n",
       "      <td>5000</td>\n",
       "    </tr>\n",
       "    <tr>\n",
       "      <th>Gift_Card</th>\n",
       "      <td>4164</td>\n",
       "      <td>1420</td>\n",
       "      <td>2546</td>\n",
       "      <td>5000</td>\n",
       "      <td>5000</td>\n",
       "    </tr>\n",
       "    <tr>\n",
       "      <th>Grocery</th>\n",
       "      <td>5000</td>\n",
       "      <td>5000</td>\n",
       "      <td>5000</td>\n",
       "      <td>5000</td>\n",
       "      <td>5000</td>\n",
       "    </tr>\n",
       "    <tr>\n",
       "      <th>Health_&amp;_Personal_Care</th>\n",
       "      <td>5000</td>\n",
       "      <td>5000</td>\n",
       "      <td>5000</td>\n",
       "      <td>5000</td>\n",
       "      <td>5000</td>\n",
       "    </tr>\n",
       "    <tr>\n",
       "      <th>Home</th>\n",
       "      <td>5000</td>\n",
       "      <td>5000</td>\n",
       "      <td>5000</td>\n",
       "      <td>5000</td>\n",
       "      <td>5000</td>\n",
       "    </tr>\n",
       "    <tr>\n",
       "      <th>Home_Entertainment</th>\n",
       "      <td>5000</td>\n",
       "      <td>5000</td>\n",
       "      <td>5000</td>\n",
       "      <td>5000</td>\n",
       "      <td>5000</td>\n",
       "    </tr>\n",
       "    <tr>\n",
       "      <th>Home_Improvement</th>\n",
       "      <td>5000</td>\n",
       "      <td>5000</td>\n",
       "      <td>5000</td>\n",
       "      <td>5000</td>\n",
       "      <td>5000</td>\n",
       "    </tr>\n",
       "    <tr>\n",
       "      <th>Jewelry</th>\n",
       "      <td>5000</td>\n",
       "      <td>5000</td>\n",
       "      <td>5000</td>\n",
       "      <td>5000</td>\n",
       "      <td>5000</td>\n",
       "    </tr>\n",
       "    <tr>\n",
       "      <th>Kitchen</th>\n",
       "      <td>5000</td>\n",
       "      <td>5000</td>\n",
       "      <td>5000</td>\n",
       "      <td>5000</td>\n",
       "      <td>5000</td>\n",
       "    </tr>\n",
       "    <tr>\n",
       "      <th>Lawn_and_Garden</th>\n",
       "      <td>5000</td>\n",
       "      <td>5000</td>\n",
       "      <td>5000</td>\n",
       "      <td>5000</td>\n",
       "      <td>5000</td>\n",
       "    </tr>\n",
       "    <tr>\n",
       "      <th>Luggage</th>\n",
       "      <td>5000</td>\n",
       "      <td>5000</td>\n",
       "      <td>5000</td>\n",
       "      <td>5000</td>\n",
       "      <td>5000</td>\n",
       "    </tr>\n",
       "    <tr>\n",
       "      <th>Major_Appliances</th>\n",
       "      <td>5000</td>\n",
       "      <td>4204</td>\n",
       "      <td>5000</td>\n",
       "      <td>5000</td>\n",
       "      <td>5000</td>\n",
       "    </tr>\n",
       "    <tr>\n",
       "      <th>Mobile_Apps</th>\n",
       "      <td>5000</td>\n",
       "      <td>5000</td>\n",
       "      <td>5000</td>\n",
       "      <td>5000</td>\n",
       "      <td>5000</td>\n",
       "    </tr>\n",
       "    <tr>\n",
       "      <th>Mobile_Electronics</th>\n",
       "      <td>5000</td>\n",
       "      <td>5000</td>\n",
       "      <td>5000</td>\n",
       "      <td>5000</td>\n",
       "      <td>5000</td>\n",
       "    </tr>\n",
       "    <tr>\n",
       "      <th>Music</th>\n",
       "      <td>5000</td>\n",
       "      <td>5000</td>\n",
       "      <td>5000</td>\n",
       "      <td>5000</td>\n",
       "      <td>5000</td>\n",
       "    </tr>\n",
       "    <tr>\n",
       "      <th>Musical_Instruments</th>\n",
       "      <td>5000</td>\n",
       "      <td>5000</td>\n",
       "      <td>5000</td>\n",
       "      <td>5000</td>\n",
       "      <td>5000</td>\n",
       "    </tr>\n",
       "    <tr>\n",
       "      <th>Office_Products</th>\n",
       "      <td>5000</td>\n",
       "      <td>5000</td>\n",
       "      <td>5000</td>\n",
       "      <td>5000</td>\n",
       "      <td>5000</td>\n",
       "    </tr>\n",
       "    <tr>\n",
       "      <th>Outdoors</th>\n",
       "      <td>5000</td>\n",
       "      <td>5000</td>\n",
       "      <td>5000</td>\n",
       "      <td>5000</td>\n",
       "      <td>5000</td>\n",
       "    </tr>\n",
       "    <tr>\n",
       "      <th>PC</th>\n",
       "      <td>5000</td>\n",
       "      <td>5000</td>\n",
       "      <td>5000</td>\n",
       "      <td>5000</td>\n",
       "      <td>5000</td>\n",
       "    </tr>\n",
       "    <tr>\n",
       "      <th>Personal_Care_Appliances</th>\n",
       "      <td>5000</td>\n",
       "      <td>4685</td>\n",
       "      <td>5000</td>\n",
       "      <td>5000</td>\n",
       "      <td>5000</td>\n",
       "    </tr>\n",
       "    <tr>\n",
       "      <th>Pet_Products</th>\n",
       "      <td>5000</td>\n",
       "      <td>5000</td>\n",
       "      <td>5000</td>\n",
       "      <td>5000</td>\n",
       "      <td>5000</td>\n",
       "    </tr>\n",
       "    <tr>\n",
       "      <th>Shoes</th>\n",
       "      <td>5000</td>\n",
       "      <td>5000</td>\n",
       "      <td>5000</td>\n",
       "      <td>5000</td>\n",
       "      <td>5000</td>\n",
       "    </tr>\n",
       "    <tr>\n",
       "      <th>Software</th>\n",
       "      <td>5000</td>\n",
       "      <td>5000</td>\n",
       "      <td>5000</td>\n",
       "      <td>5000</td>\n",
       "      <td>5000</td>\n",
       "    </tr>\n",
       "    <tr>\n",
       "      <th>Sports</th>\n",
       "      <td>5000</td>\n",
       "      <td>5000</td>\n",
       "      <td>5000</td>\n",
       "      <td>5000</td>\n",
       "      <td>5000</td>\n",
       "    </tr>\n",
       "    <tr>\n",
       "      <th>Tools</th>\n",
       "      <td>5000</td>\n",
       "      <td>5000</td>\n",
       "      <td>5000</td>\n",
       "      <td>5000</td>\n",
       "      <td>5000</td>\n",
       "    </tr>\n",
       "    <tr>\n",
       "      <th>Toys</th>\n",
       "      <td>5000</td>\n",
       "      <td>5000</td>\n",
       "      <td>5000</td>\n",
       "      <td>5000</td>\n",
       "      <td>5000</td>\n",
       "    </tr>\n",
       "    <tr>\n",
       "      <th>Video</th>\n",
       "      <td>5000</td>\n",
       "      <td>5000</td>\n",
       "      <td>5000</td>\n",
       "      <td>5000</td>\n",
       "      <td>5000</td>\n",
       "    </tr>\n",
       "    <tr>\n",
       "      <th>Video_DVD</th>\n",
       "      <td>5000</td>\n",
       "      <td>5000</td>\n",
       "      <td>5000</td>\n",
       "      <td>5000</td>\n",
       "      <td>5000</td>\n",
       "    </tr>\n",
       "    <tr>\n",
       "      <th>Video_Games</th>\n",
       "      <td>5000</td>\n",
       "      <td>5000</td>\n",
       "      <td>5000</td>\n",
       "      <td>5000</td>\n",
       "      <td>5000</td>\n",
       "    </tr>\n",
       "    <tr>\n",
       "      <th>Watches</th>\n",
       "      <td>5000</td>\n",
       "      <td>5000</td>\n",
       "      <td>5000</td>\n",
       "      <td>5000</td>\n",
       "      <td>5000</td>\n",
       "    </tr>\n",
       "    <tr>\n",
       "      <th>Wireless</th>\n",
       "      <td>5000</td>\n",
       "      <td>5000</td>\n",
       "      <td>5000</td>\n",
       "      <td>5000</td>\n",
       "      <td>5000</td>\n",
       "    </tr>\n",
       "  </tbody>\n",
       "</table>\n",
       "</div>"
      ],
      "text/plain": [
       "star_rating                  1     2     3     4     5\n",
       "product_category                                      \n",
       "Apparel                   5000  5000  5000  5000  5000\n",
       "Automotive                5000  5000  5000  5000  5000\n",
       "Baby                      5000  5000  5000  5000  5000\n",
       "Beauty                    5000  5000  5000  5000  5000\n",
       "Books                     5000  5000  5000  5000  5000\n",
       "Camera                    5000  5000  5000  5000  5000\n",
       "Digital_Ebook_Purchase    5000  5000  5000  5000  5000\n",
       "Digital_Music_Purchase    5000  5000  5000  5000  5000\n",
       "Digital_Software          5000  5000  5000  5000  5000\n",
       "Digital_Video_Download    5000  5000  5000  5000  5000\n",
       "Digital_Video_Games       5000  5000  5000  5000  5000\n",
       "Electronics               5000  5000  5000  5000  5000\n",
       "Furniture                 5000  5000  5000  5000  5000\n",
       "Gift_Card                 4164  1420  2546  5000  5000\n",
       "Grocery                   5000  5000  5000  5000  5000\n",
       "Health_&_Personal_Care    5000  5000  5000  5000  5000\n",
       "Home                      5000  5000  5000  5000  5000\n",
       "Home_Entertainment        5000  5000  5000  5000  5000\n",
       "Home_Improvement          5000  5000  5000  5000  5000\n",
       "Jewelry                   5000  5000  5000  5000  5000\n",
       "Kitchen                   5000  5000  5000  5000  5000\n",
       "Lawn_and_Garden           5000  5000  5000  5000  5000\n",
       "Luggage                   5000  5000  5000  5000  5000\n",
       "Major_Appliances          5000  4204  5000  5000  5000\n",
       "Mobile_Apps               5000  5000  5000  5000  5000\n",
       "Mobile_Electronics        5000  5000  5000  5000  5000\n",
       "Music                     5000  5000  5000  5000  5000\n",
       "Musical_Instruments       5000  5000  5000  5000  5000\n",
       "Office_Products           5000  5000  5000  5000  5000\n",
       "Outdoors                  5000  5000  5000  5000  5000\n",
       "PC                        5000  5000  5000  5000  5000\n",
       "Personal_Care_Appliances  5000  4685  5000  5000  5000\n",
       "Pet_Products              5000  5000  5000  5000  5000\n",
       "Shoes                     5000  5000  5000  5000  5000\n",
       "Software                  5000  5000  5000  5000  5000\n",
       "Sports                    5000  5000  5000  5000  5000\n",
       "Tools                     5000  5000  5000  5000  5000\n",
       "Toys                      5000  5000  5000  5000  5000\n",
       "Video                     5000  5000  5000  5000  5000\n",
       "Video_DVD                 5000  5000  5000  5000  5000\n",
       "Video_Games               5000  5000  5000  5000  5000\n",
       "Watches                   5000  5000  5000  5000  5000\n",
       "Wireless                  5000  5000  5000  5000  5000"
      ]
     },
     "execution_count": 111,
     "metadata": {},
     "output_type": "execute_result"
    }
   ],
   "source": [
    "# Category and rating distribution (should be balanced)\n",
    "pd.crosstab(df['product_category'], df['star_rating'])"
   ]
  },
  {
   "cell_type": "markdown",
   "metadata": {},
   "source": [
    "## Consolidate the data"
   ]
  },
  {
   "cell_type": "code",
   "execution_count": 116,
   "metadata": {},
   "outputs": [],
   "source": [
    "def delete_files(csv_files):\n",
    "    \"\"\"Deletes the files.\"\"\"\n",
    "    for file in csv_files:\n",
    "        try:\n",
    "            if os.path.isfile(file):\n",
    "                os.unlink(file)\n",
    "        except Exception as e:\n",
    "            print(e)"
   ]
  },
  {
   "cell_type": "code",
   "execution_count": 117,
   "metadata": {},
   "outputs": [],
   "source": [
    "delete_files(csv_files)"
   ]
  },
  {
   "cell_type": "code",
   "execution_count": 121,
   "metadata": {},
   "outputs": [],
   "source": [
    "df.to_csv(os.path.join(data_dir, 'amazon-reviews-balanced.csv'), header=True, index=False)"
   ]
  },
  {
   "cell_type": "code",
   "execution_count": 122,
   "metadata": {},
   "outputs": [
    {
     "data": {
      "text/html": [
       "<div>\n",
       "<style scoped>\n",
       "    .dataframe tbody tr th:only-of-type {\n",
       "        vertical-align: middle;\n",
       "    }\n",
       "\n",
       "    .dataframe tbody tr th {\n",
       "        vertical-align: top;\n",
       "    }\n",
       "\n",
       "    .dataframe thead th {\n",
       "        text-align: right;\n",
       "    }\n",
       "</style>\n",
       "<table border=\"1\" class=\"dataframe\">\n",
       "  <thead>\n",
       "    <tr style=\"text-align: right;\">\n",
       "      <th></th>\n",
       "      <th>product_category</th>\n",
       "      <th>review_body</th>\n",
       "      <th>star_rating</th>\n",
       "    </tr>\n",
       "  </thead>\n",
       "  <tbody>\n",
       "    <tr>\n",
       "      <th>0</th>\n",
       "      <td>Digital_Software</td>\n",
       "      <td>I have been a loyal TurboTax customer since I ...</td>\n",
       "      <td>2</td>\n",
       "    </tr>\n",
       "    <tr>\n",
       "      <th>1</th>\n",
       "      <td>Digital_Software</td>\n",
       "      <td>I like the product BUT I don't like the fact t...</td>\n",
       "      <td>2</td>\n",
       "    </tr>\n",
       "    <tr>\n",
       "      <th>2</th>\n",
       "      <td>Digital_Software</td>\n",
       "      <td>This really wasn't what I needed. I'm use to u...</td>\n",
       "      <td>2</td>\n",
       "    </tr>\n",
       "    <tr>\n",
       "      <th>3</th>\n",
       "      <td>Digital_Software</td>\n",
       "      <td>Very disappointed this year.  Have been using ...</td>\n",
       "      <td>2</td>\n",
       "    </tr>\n",
       "    <tr>\n",
       "      <th>4</th>\n",
       "      <td>Digital_Software</td>\n",
       "      <td>It just stopped working correctly. All produce...</td>\n",
       "      <td>2</td>\n",
       "    </tr>\n",
       "  </tbody>\n",
       "</table>\n",
       "</div>"
      ],
      "text/plain": [
       "   product_category                                        review_body  \\\n",
       "0  Digital_Software  I have been a loyal TurboTax customer since I ...   \n",
       "1  Digital_Software  I like the product BUT I don't like the fact t...   \n",
       "2  Digital_Software  This really wasn't what I needed. I'm use to u...   \n",
       "3  Digital_Software  Very disappointed this year.  Have been using ...   \n",
       "4  Digital_Software  It just stopped working correctly. All produce...   \n",
       "\n",
       "   star_rating  \n",
       "0            2  \n",
       "1            2  \n",
       "2            2  \n",
       "3            2  \n",
       "4            2  "
      ]
     },
     "execution_count": 122,
     "metadata": {},
     "output_type": "execute_result"
    }
   ],
   "source": [
    "pd.read_csv(os.path.join(data_dir, 'amazon-reviews-balanced.csv')).head()"
   ]
  },
  {
   "cell_type": "code",
   "execution_count": null,
   "metadata": {},
   "outputs": [],
   "source": []
  }
 ],
 "metadata": {
  "kernelspec": {
   "display_name": "Python 3",
   "language": "python",
   "name": "python3"
  },
  "language_info": {
   "codemirror_mode": {
    "name": "ipython",
    "version": 3
   },
   "file_extension": ".py",
   "mimetype": "text/x-python",
   "name": "python",
   "nbconvert_exporter": "python",
   "pygments_lexer": "ipython3",
   "version": "3.7.3"
  },
  "widgets": {
   "application/vnd.jupyter.widget-state+json": {
    "state": {},
    "version_major": 2,
    "version_minor": 0
   }
  }
 },
 "nbformat": 4,
 "nbformat_minor": 4
}
