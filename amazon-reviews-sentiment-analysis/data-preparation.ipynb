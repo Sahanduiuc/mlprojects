{
 "cells": [
  {
   "cell_type": "code",
   "execution_count": 1,
   "metadata": {},
   "outputs": [],
   "source": [
    "%reload_ext autoreload\n",
    "%autoreload 2\n",
    "%matplotlib inline"
   ]
  },
  {
   "cell_type": "code",
   "execution_count": 6,
   "metadata": {},
   "outputs": [],
   "source": [
    "import numpy as np\n",
    "import pandas as pd\n",
    "import matplotlib.pyplot as plt\n",
    "from pathlib import Path"
   ]
  },
  {
   "cell_type": "code",
   "execution_count": 7,
   "metadata": {},
   "outputs": [
    {
     "data": {
      "text/plain": [
       "PosixPath('data')"
      ]
     },
     "execution_count": 7,
     "metadata": {},
     "output_type": "execute_result"
    }
   ],
   "source": [
    "path = Path('data')\n",
    "path.mkdir(parents=True, exist_ok=True)\n",
    "path"
   ]
  },
  {
   "cell_type": "code",
   "execution_count": 8,
   "metadata": {},
   "outputs": [],
   "source": [
    "# Choose a dataset from https://s3.amazonaws.com/amazon-reviews-pds/tsv/index.txt\n",
    "\n",
    "#!wget https://s3.amazonaws.com/amazon-reviews-pds/tsv/amazon_reviews_us_Video_Games_v1_00.tsv.gz -P {path}"
   ]
  },
  {
   "cell_type": "code",
   "execution_count": 9,
   "metadata": {},
   "outputs": [],
   "source": [
    "#!7za -bd -y -so x {path}/amazon_reviews_us_Video_Games_v1_00.tsv.gz > {path}/amazon_reviews_us_Video_Games_v1_00.tsv\n",
    "#!rm {path}/amazon_reviews_us_Video_Games_v1_00.tsv.gz"
   ]
  },
  {
   "cell_type": "code",
   "execution_count": 10,
   "metadata": {},
   "outputs": [
    {
     "name": "stderr",
     "output_type": "stream",
     "text": [
      "b'Skipping line 20630: expected 15 fields, saw 22\\nSkipping line 28172: expected 15 fields, saw 22\\nSkipping line 54791: expected 15 fields, saw 22\\n'\n",
      "b'Skipping line 75419: expected 15 fields, saw 22\\nSkipping line 104832: expected 15 fields, saw 22\\n'\n",
      "b'Skipping line 138464: expected 15 fields, saw 22\\nSkipping line 194849: expected 15 fields, saw 22\\n'\n",
      "b'Skipping line 201568: expected 15 fields, saw 22\\nSkipping line 242567: expected 15 fields, saw 22\\n'\n",
      "b'Skipping line 493585: expected 15 fields, saw 22\\nSkipping line 502478: expected 15 fields, saw 22\\n'\n",
      "b'Skipping line 660750: expected 15 fields, saw 22\\n'\n"
     ]
    },
    {
     "data": {
      "text/html": [
       "<div>\n",
       "<style scoped>\n",
       "    .dataframe tbody tr th:only-of-type {\n",
       "        vertical-align: middle;\n",
       "    }\n",
       "\n",
       "    .dataframe tbody tr th {\n",
       "        vertical-align: top;\n",
       "    }\n",
       "\n",
       "    .dataframe thead th {\n",
       "        text-align: right;\n",
       "    }\n",
       "</style>\n",
       "<table border=\"1\" class=\"dataframe\">\n",
       "  <thead>\n",
       "    <tr style=\"text-align: right;\">\n",
       "      <th></th>\n",
       "      <th>marketplace</th>\n",
       "      <th>customer_id</th>\n",
       "      <th>review_id</th>\n",
       "      <th>product_id</th>\n",
       "      <th>product_parent</th>\n",
       "      <th>product_title</th>\n",
       "      <th>product_category</th>\n",
       "      <th>star_rating</th>\n",
       "      <th>helpful_votes</th>\n",
       "      <th>total_votes</th>\n",
       "      <th>vine</th>\n",
       "      <th>verified_purchase</th>\n",
       "      <th>review_headline</th>\n",
       "      <th>review_body</th>\n",
       "      <th>review_date</th>\n",
       "    </tr>\n",
       "  </thead>\n",
       "  <tbody>\n",
       "    <tr>\n",
       "      <th>1393119</th>\n",
       "      <td>US</td>\n",
       "      <td>38436497</td>\n",
       "      <td>RNS5QX6GE9CAO</td>\n",
       "      <td>B001TOQ8LG</td>\n",
       "      <td>610231462</td>\n",
       "      <td>The Beatles: Rock Band</td>\n",
       "      <td>Video Games</td>\n",
       "      <td>5</td>\n",
       "      <td>4</td>\n",
       "      <td>4</td>\n",
       "      <td>N</td>\n",
       "      <td>N</td>\n",
       "      <td>A very cool game!!!!!</td>\n",
       "      <td>I was reading some of the negative reviews abo...</td>\n",
       "      <td>2009-09-16</td>\n",
       "    </tr>\n",
       "  </tbody>\n",
       "</table>\n",
       "</div>"
      ],
      "text/plain": [
       "        marketplace  customer_id      review_id  product_id  product_parent  \\\n",
       "1393119          US     38436497  RNS5QX6GE9CAO  B001TOQ8LG       610231462   \n",
       "\n",
       "                  product_title product_category  star_rating  helpful_votes  \\\n",
       "1393119  The Beatles: Rock Band      Video Games            5              4   \n",
       "\n",
       "         total_votes vine verified_purchase        review_headline  \\\n",
       "1393119            4    N                 N  A very cool game!!!!!   \n",
       "\n",
       "                                               review_body review_date  \n",
       "1393119  I was reading some of the negative reviews abo...  2009-09-16  "
      ]
     },
     "execution_count": 10,
     "metadata": {},
     "output_type": "execute_result"
    }
   ],
   "source": [
    "reviews_df = pd.read_csv(path/'amazon_reviews_us_Video_Games_v1_00.tsv', sep='\\t', error_bad_lines=False)\n",
    "reviews_df.sample()"
   ]
  },
  {
   "cell_type": "code",
   "execution_count": 11,
   "metadata": {},
   "outputs": [
    {
     "name": "stdout",
     "output_type": "stream",
     "text": [
      "1780268\n"
     ]
    },
    {
     "data": {
      "text/html": [
       "<div>\n",
       "<style scoped>\n",
       "    .dataframe tbody tr th:only-of-type {\n",
       "        vertical-align: middle;\n",
       "    }\n",
       "\n",
       "    .dataframe tbody tr th {\n",
       "        vertical-align: top;\n",
       "    }\n",
       "\n",
       "    .dataframe thead th {\n",
       "        text-align: right;\n",
       "    }\n",
       "</style>\n",
       "<table border=\"1\" class=\"dataframe\">\n",
       "  <thead>\n",
       "    <tr style=\"text-align: right;\">\n",
       "      <th></th>\n",
       "      <th>review_body</th>\n",
       "      <th>star_rating</th>\n",
       "    </tr>\n",
       "  </thead>\n",
       "  <tbody>\n",
       "    <tr>\n",
       "      <th>1347479</th>\n",
       "      <td>I like this game alot just recently statred pl...</td>\n",
       "      <td>5</td>\n",
       "    </tr>\n",
       "  </tbody>\n",
       "</table>\n",
       "</div>"
      ],
      "text/plain": [
       "                                               review_body  star_rating\n",
       "1347479  I like this game alot just recently statred pl...            5"
      ]
     },
     "execution_count": 11,
     "metadata": {},
     "output_type": "execute_result"
    }
   ],
   "source": [
    "# Leave only 2 columns\n",
    "reviews_df = reviews_df.loc[:, ['review_body', 'star_rating']]\n",
    "print(reviews_df.shape[0])\n",
    "reviews_df.sample()"
   ]
  },
  {
   "cell_type": "code",
   "execution_count": 12,
   "metadata": {},
   "outputs": [
    {
     "data": {
      "text/plain": [
       "1780209"
      ]
     },
     "execution_count": 12,
     "metadata": {},
     "output_type": "execute_result"
    }
   ],
   "source": [
    "# Remove nans\n",
    "reviews_df.dropna(inplace=True)\n",
    "reviews_df.shape[0]"
   ]
  },
  {
   "cell_type": "code",
   "execution_count": 13,
   "metadata": {},
   "outputs": [
    {
     "data": {
      "image/png": "[encoded data removed]",
      "text/plain": [
       "<Figure size 432x288 with 1 Axes>"
      ]
     },
     "metadata": {
      "needs_background": "light"
     },
     "output_type": "display_data"
    }
   ],
   "source": [
    "lens = reviews_df['review_body'].map(lambda x: len(x))\n",
    "\n",
    "plt.hist(lens)\n",
    "plt.show()"
   ]
  },
  {
   "cell_type": "code",
   "execution_count": 14,
   "metadata": {},
   "outputs": [
    {
     "name": "stdout",
     "output_type": "stream",
     "text": [
      "1467900\n"
     ]
    },
    {
     "data": {
      "image/png": "[encoded data removed]",
      "text/plain": [
       "<Figure size 432x288 with 1 Axes>"
      ]
     },
     "metadata": {
      "needs_background": "light"
     },
     "output_type": "display_data"
    }
   ],
   "source": [
    "# Remove too short and too long reviews\n",
    "reviews_df = reviews_df[(lens > 10) & (lens < 1000)]\n",
    "lens = reviews_df['review_body'].map(lambda x: len(x))\n",
    "print(reviews_df.shape[0])\n",
    "\n",
    "plt.hist(lens)\n",
    "plt.show()"
   ]
  },
  {
   "cell_type": "code",
   "execution_count": 25,
   "metadata": {},
   "outputs": [
    {
     "data": {
      "text/plain": [
       "1350484"
      ]
     },
     "execution_count": 25,
     "metadata": {},
     "output_type": "execute_result"
    }
   ],
   "source": [
    "# Convert star ratings to either neg or pos\n",
    "def convert_func(x):\n",
    "    if x in (1, 2):\n",
    "        return 0\n",
    "    elif x in (4, 5):\n",
    "        return 1\n",
    "    return np.nan\n",
    "\n",
    "reviews_df['rating'] = reviews_df['star_rating'].map(convert_func)\n",
    "reviews_df.dropna(inplace=True)\n",
    "reviews_df['rating'].astype(np.uint8, inplace=True)\n",
    "reviews_df.shape[0]"
   ]
  },
  {
   "cell_type": "code",
   "execution_count": 26,
   "metadata": {},
   "outputs": [
    {
     "data": {
      "image/png": "[encoded data removed]",
      "text/plain": [
       "<Figure size 432x288 with 1 Axes>"
      ]
     },
     "metadata": {
      "needs_background": "light"
     },
     "output_type": "display_data"
    }
   ],
   "source": [
    "plt.hist(reviews_df['rating'])\n",
    "plt.show()"
   ]
  },
  {
   "cell_type": "code",
   "execution_count": 27,
   "metadata": {},
   "outputs": [
    {
     "data": {
      "text/plain": [
       "480420"
      ]
     },
     "execution_count": 27,
     "metadata": {},
     "output_type": "execute_result"
    }
   ],
   "source": [
    "# Downsample positive reviews\n",
    "import random\n",
    "random.seed(42)\n",
    "\n",
    "zero_idxs = set(reviews_df[reviews_df['rating'] == 0].index)\n",
    "one_idxs = set(reviews_df[reviews_df['rating'] > 0].index)\n",
    "one_idxs = set(random.sample(one_idxs, len(zero_idxs)))\n",
    "reviews_sampled_df = reviews_df[reviews_df.index.isin(zero_idxs | one_idxs)]\n",
    "reviews_sampled_df.shape[0]"
   ]
  },
  {
   "cell_type": "code",
   "execution_count": 28,
   "metadata": {},
   "outputs": [
    {
     "data": {
      "image/png": "[encoded data removed]",
      "text/plain": [
       "<Figure size 432x288 with 1 Axes>"
      ]
     },
     "metadata": {
      "needs_background": "light"
     },
     "output_type": "display_data"
    }
   ],
   "source": [
    "plt.hist(reviews_sampled_df['rating'])\n",
    "plt.show()"
   ]
  },
  {
   "cell_type": "code",
   "execution_count": 30,
   "metadata": {},
   "outputs": [],
   "source": [
    "reviews_sampled_df.to_csv(path/'reviews_sampled.tsv', sep='\\t', index=False)"
   ]
  },
  {
   "cell_type": "code",
   "execution_count": null,
   "metadata": {},
   "outputs": [],
   "source": []
  }
 ],
 "metadata": {
  "kernelspec": {
   "display_name": "Python 3",
   "language": "python",
   "name": "python3"
  },
  "language_info": {
   "codemirror_mode": {
    "name": "ipython",
    "version": 3
   },
   "file_extension": ".py",
   "mimetype": "text/x-python",
   "name": "python",
   "nbconvert_exporter": "python",
   "pygments_lexer": "ipython3",
   "version": "3.7.2"
  }
 },
 "nbformat": 4,
 "nbformat_minor": 2
}
