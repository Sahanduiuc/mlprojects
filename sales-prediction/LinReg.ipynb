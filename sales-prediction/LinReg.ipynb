{
 "cells": [
  {
   "cell_type": "code",
   "execution_count": 1,
   "metadata": {
    "_cell_guid": "b1076dfc-b9ad-4769-8c92-a6c4dae69d19",
    "_uuid": "8f2839f25d086af736a60e9eeb907d3b93b6e0e5"
   },
   "outputs": [
    {
     "name": "stdout",
     "output_type": "stream",
     "text": [
      "../input/competitive-data-science-predict-future-sales:\r\n",
      "item_categories.csv  sales_train.csv\t    shops.csv\r\n",
      "items.csv\t     sample_submission.csv  test.csv\r\n",
      "\r\n",
      "../input/pfs-dataprep:\r\n",
      "__notebook__.ipynb  __results__.html   custom.css  mean_benchmark.csv\r\n",
      "__output__.json     __results___files  data.h5\t   prev_month_benchmark.csv\r\n"
     ]
    }
   ],
   "source": [
    "!ls ../input/*"
   ]
  },
  {
   "cell_type": "code",
   "execution_count": 2,
   "metadata": {
    "_cell_guid": "79c7e3d0-c299-4dcb-8224-4455121ee9b0",
    "_uuid": "d629ff2d2480ee46fbb7e2d37f6b5fab8052498a"
   },
   "outputs": [],
   "source": [
    "import numpy as np\n",
    "import pandas as pd\n",
    "pd.set_option('display.max_rows', 500)\n",
    "pd.set_option('display.max_columns', 100)\n",
    "import seaborn as sns\n",
    "sns.set()\n",
    "import matplotlib.pyplot as plt\n",
    "import warnings\n",
    "warnings.filterwarnings(\"ignore\")\n",
    "from math import sqrt\n",
    "import pickle\n",
    "import gc\n",
    "import math\n",
    "from tqdm import tqdm_notebook\n",
    "\n",
    "from sklearn.compose import ColumnTransformer\n",
    "from sklearn.pipeline import Pipeline\n",
    "from sklearn.impute import SimpleImputer\n",
    "from sklearn.preprocessing import StandardScaler, OneHotEncoder\n",
    "from sklearn.feature_extraction.text import HashingVectorizer\n",
    "from sklearn.model_selection import validation_curve, learning_curve\n",
    "from sklearn.linear_model import LogisticRegression\n",
    "from sklearn.metrics import make_scorer, mean_squared_error\n",
    "\n",
    "# Vowpal Wabbit is prominent for its training speed and support of many training modes, \n",
    "# especially for online learning with big and high-dimentional data.\n",
    "from vowpalwabbit.sklearn_vw import VWRegressor"
   ]
  },
  {
   "cell_type": "code",
   "execution_count": 3,
   "metadata": {},
   "outputs": [],
   "source": [
    "SEED = 42\n",
    "DATA_PATH = '../input/pfs-dataprep/data.h5'\n",
    "# Number of rows for tuning and training\n",
    "TUNE_ROWS = 300000 # (~1 month)\n",
    "TRAIN_ROWS = 2000000 # (~7 months)\n",
    "# Months to reserve for ensembling methods\n",
    "META_MONTHS = 4\n",
    "EXCL_COLS = ['item_cnt_month']\n",
    "HASH_COLS = ['item_id']\n",
    "# All columns except *item_id* are static and hence OHE encoded\n",
    "OHE_COLS = ['month', 'shop_id', 'item_category_id', 'city_id', 'type_id', 'subtype_id']\n",
    "CAT_COLS = OHE_COLS + HASH_COLS\n",
    "LRS = np.logspace(-2, 1, 10)"
   ]
  },
  {
   "cell_type": "code",
   "execution_count": 4,
   "metadata": {},
   "outputs": [
    {
     "name": "stdout",
     "output_type": "stream",
     "text": [
      "(7393103, 59)\n",
      "CPU times: user 10.9 s, sys: 7.34 s, total: 18.3 s\n",
      "Wall time: 18.6 s\n"
     ]
    }
   ],
   "source": [
    "%%time\n",
    "traintest = pd.read_hdf(DATA_PATH, key='traintest')\n",
    "\n",
    "print(traintest.shape)"
   ]
  },
  {
   "cell_type": "code",
   "execution_count": 5,
   "metadata": {},
   "outputs": [
    {
     "name": "stdout",
     "output_type": "stream",
     "text": [
      "300000 238172 2000000 1114452\n"
     ]
    }
   ],
   "source": [
    "tune_train_idx = traintest[traintest.date_block_num<33].sample(n=TUNE_ROWS, random_state=SEED).index\n",
    "tune_valid_idx = traintest[traintest.date_block_num==33].index\n",
    "# VW works well with randomly shuffled data\n",
    "train_idx = traintest[traintest.date_block_num<34-META_MONTHS].sample(n=TRAIN_ROWS, random_state=SEED).index\n",
    "test_idx = traintest[traintest.date_block_num>=34-META_MONTHS].index\n",
    "\n",
    "print(len(tune_train_idx), len(tune_valid_idx), len(train_idx), len(test_idx))"
   ]
  },
  {
   "cell_type": "markdown",
   "metadata": {},
   "source": [
    "### Preprocessing for linear models"
   ]
  },
  {
   "cell_type": "code",
   "execution_count": 6,
   "metadata": {},
   "outputs": [],
   "source": [
    "numeric_features = traintest.columns.difference(['item_cnt_month', *CAT_COLS]).tolist()\n",
    "\n",
    "traintest[OHE_COLS] = traintest[OHE_COLS].astype('category')\n",
    "traintest[HASH_COLS] = traintest[HASH_COLS].astype(str)"
   ]
  },
  {
   "cell_type": "code",
   "execution_count": 7,
   "metadata": {},
   "outputs": [],
   "source": [
    "def split_and_preprocess(train_idx, valid_idx):\n",
    "    # Split data\n",
    "    X_train = traintest.loc[train_idx].drop(EXCL_COLS, axis=1)\n",
    "    y_train = traintest.loc[train_idx].item_cnt_month\n",
    "    X_valid = traintest.loc[valid_idx].drop(EXCL_COLS, axis=1)\n",
    "    y_valid = traintest.loc[valid_idx].item_cnt_month\n",
    "\n",
    "    # Transformer to standard-scale the numerical features\n",
    "    numeric_transformer = StandardScaler()\n",
    "\n",
    "    # Shops and item categories are static in our dataset so OHE is sufficient\n",
    "    # + vowpalwabbit's own algorithm uses global hashing space which may cause conflicts\n",
    "    ohe_transformer = OneHotEncoder()\n",
    "\n",
    "    # Vowpal Wabbit Transformer will encode items with hashing trick\n",
    "    # For nominal data a hashing algorithm performs better than a binary or OHE algorithm\n",
    "\n",
    "    preprocessor = ColumnTransformer(\n",
    "        transformers=[\n",
    "            ('numeric', numeric_transformer, numeric_features),\n",
    "            ('ohe', ohe_transformer, OHE_COLS)])\n",
    "\n",
    "    # Perform transformations\n",
    "    X_train = preprocessor.fit_transform(X_train).astype('float32')\n",
    "    X_valid = preprocessor.transform(X_valid).astype('float32')\n",
    "    \n",
    "    return X_train, y_train, X_valid, y_valid"
   ]
  },
  {
   "cell_type": "markdown",
   "metadata": {},
   "source": [
    "### Vowpal Wabbit"
   ]
  },
  {
   "cell_type": "code",
   "execution_count": 8,
   "metadata": {},
   "outputs": [],
   "source": [
    "def rmse(y_true, y_pred):\n",
    "    # Clipping required by the competition\n",
    "    y_true = pd.Series(y_true).fillna(0).clip(0, 20).values\n",
    "    y_pred = pd.Series(y_pred).fillna(0).clip(0, 20).values\n",
    "    return sqrt(mean_squared_error(y_true, y_pred))"
   ]
  },
  {
   "cell_type": "code",
   "execution_count": 9,
   "metadata": {},
   "outputs": [],
   "source": [
    "def setup_and_fit_model(train_set, eval_set, return_scores=False, **params):\n",
    "    # Fit the Vowpal Wabbit regressor and return the scores \n",
    "    X_train, y_train = train_set\n",
    "    X_valid, y_valid = eval_set\n",
    "    vw = VWRegressor(random_seed=SEED, hash='strings', **params)\n",
    "    vw.fit(X_train, y_train)\n",
    "    train_score = rmse(y_train, vw.predict(X_train))\n",
    "    valid_score = rmse(y_valid, vw.predict(X_valid))\n",
    "    print(\"train_score {:.4f}, valid_score {:.4f}\".format(train_score, valid_score))\n",
    "    if return_scores:\n",
    "        return train_score, valid_score\n",
    "    return vw"
   ]
  },
  {
   "cell_type": "code",
   "execution_count": 10,
   "metadata": {},
   "outputs": [],
   "source": [
    "def tune_lr(train_set, eval_set):\n",
    "    # Find an optimal learning rate for the size of the dataset\n",
    "    X_train, y_train = train_set\n",
    "    X_valid, y_valid = eval_set\n",
    "    train_scores = []\n",
    "    valid_scores = []\n",
    "    for lr in tqdm_notebook(LRS):\n",
    "        print(f'lr {lr}')\n",
    "        train_score, valid_score = setup_and_fit_model((X_train, y_train), (X_valid, y_valid), \n",
    "                                                       return_scores=True, learning_rate=lr)\n",
    "        train_scores.append(train_score)\n",
    "        valid_scores.append(valid_score)\n",
    "        # force the Garbage Collector to release unreferenced memory\n",
    "        gc.collect()\n",
    "        \n",
    "    results = pd.DataFrame({'learning_rate': LRS, 'train_score': train_scores, 'valid_score': valid_scores})\n",
    "    results.plot(x='learning_rate', y=['train_score', 'valid_score'])\n",
    "    return LRS[np.argmin(valid_scores)]"
   ]
  },
  {
   "cell_type": "code",
   "execution_count": 11,
   "metadata": {},
   "outputs": [
    {
     "name": "stdout",
     "output_type": "stream",
     "text": [
      "(300000, 308) (300000,) (238172, 308) (238172,)\n",
      "CPU times: user 6.24 s, sys: 2.1 s, total: 8.34 s\n",
      "Wall time: 8.35 s\n"
     ]
    }
   ],
   "source": [
    "%%time\n",
    "X_train, y_train, X_valid, y_valid = split_and_preprocess(tune_train_idx, tune_valid_idx)\n",
    "\n",
    "print(X_train.shape, y_train.shape, X_valid.shape, y_valid.shape)"
   ]
  },
  {
   "cell_type": "code",
   "execution_count": 12,
   "metadata": {},
   "outputs": [
    {
     "data": {
      "application/vnd.jupyter.widget-view+json": {
       "model_id": "029384b85cd04d88843943b8948eb51d",
       "version_major": 2,
       "version_minor": 0
      },
      "text/plain": [
       "HBox(children=(IntProgress(value=0, max=10), HTML(value='')))"
      ]
     },
     "metadata": {},
     "output_type": "display_data"
    },
    {
     "name": "stdout",
     "output_type": "stream",
     "text": [
      "lr 0.01\n",
      "train_score 1.1567, valid_score 1.0806\n",
      "lr 0.021544346900318832\n",
      "train_score 1.1148, valid_score 1.0528\n",
      "lr 0.046415888336127774\n",
      "train_score 1.0643, valid_score 1.0186\n",
      "lr 0.1\n",
      "train_score 1.0194, valid_score 0.9873\n",
      "lr 0.21544346900318834\n",
      "train_score 0.9901, valid_score 0.9690\n",
      "lr 0.46415888336127775\n",
      "train_score 0.9715, valid_score 0.9637\n",
      "lr 1.0\n",
      "train_score 0.9661, valid_score 0.9692\n",
      "lr 2.154434690031882\n",
      "train_score 0.9708, valid_score 0.9829\n",
      "lr 4.6415888336127775\n",
      "train_score 0.9883, valid_score 1.0083\n",
      "lr 10.0\n",
      "train_score 1.0307, valid_score 1.0497\n",
      "\n"
     ]
    },
    {
     "data": {
      "image/png": "[encoded data removed]",
      "text/plain": [
       "<Figure size 432x288 with 1 Axes>"
      ]
     },
     "metadata": {},
     "output_type": "display_data"
    }
   ],
   "source": [
    "best_lr = tune_lr((X_train, y_train), (X_valid, y_valid))"
   ]
  },
  {
   "cell_type": "code",
   "execution_count": 13,
   "metadata": {},
   "outputs": [
    {
     "name": "stdout",
     "output_type": "stream",
     "text": [
      "0.06962383250419166\n"
     ]
    }
   ],
   "source": [
    "# Simple trick: decrease learning rate while increasing the size of data\n",
    "best_lr *= TUNE_ROWS / TRAIN_ROWS\n",
    "\n",
    "print(best_lr)"
   ]
  },
  {
   "cell_type": "code",
   "execution_count": 14,
   "metadata": {},
   "outputs": [
    {
     "name": "stdout",
     "output_type": "stream",
     "text": [
      "(2000000, 306) (2000000,) (1114452, 306) (1114452,)\n",
      "CPU times: user 31.2 s, sys: 25 s, total: 56.2 s\n",
      "Wall time: 56.2 s\n"
     ]
    }
   ],
   "source": [
    "%%time\n",
    "X_train, y_train, X_test, y_test = split_and_preprocess(train_idx, test_idx)\n",
    "\n",
    "print(X_train.shape, y_train.shape, X_test.shape, y_test.shape)"
   ]
  },
  {
   "cell_type": "code",
   "execution_count": 15,
   "metadata": {},
   "outputs": [
    {
     "name": "stdout",
     "output_type": "stream",
     "text": [
      "train_score 1.0078, valid_score 1.0063\n",
      "CPU times: user 17min 22s, sys: 16.2 s, total: 17min 38s\n",
      "Wall time: 17min 38s\n"
     ]
    }
   ],
   "source": [
    "%%time\n",
    "vw = setup_and_fit_model((X_train, y_train), (X_valid, y_valid), learning_rate=best_lr)"
   ]
  },
  {
   "cell_type": "code",
   "execution_count": 16,
   "metadata": {},
   "outputs": [],
   "source": [
    "def save_preds(preds, fname):\n",
    "    preds = pd.Series(preds, index=test_idx)\n",
    "    preds.to_csv(fname)\n",
    "    print(preds.head())\n",
    "    print(preds.describe()[['mean', 'std', 'min', 'max']])"
   ]
  },
  {
   "cell_type": "code",
   "execution_count": 17,
   "metadata": {},
   "outputs": [],
   "source": [
    "vw_preds = vw.predict(X_test)"
   ]
  },
  {
   "cell_type": "code",
   "execution_count": 18,
   "metadata": {},
   "outputs": [
    {
     "name": "stdout",
     "output_type": "stream",
     "text": [
      "6278651    0.020287\n",
      "6278652    0.437298\n",
      "6278653    0.000000\n",
      "6278654    0.041613\n",
      "6278655    0.214028\n",
      "dtype: float64\n",
      "mean     0.335109\n",
      "std      0.612179\n",
      "min      0.000000\n",
      "max     15.822998\n",
      "dtype: float64\n"
     ]
    }
   ],
   "source": [
    "save_preds(vw_preds, 'vw_preds.csv')"
   ]
  },
  {
   "cell_type": "code",
   "execution_count": 19,
   "metadata": {},
   "outputs": [],
   "source": []
  }
 ],
 "metadata": {
  "kernelspec": {
   "display_name": "Python 3",
   "language": "python",
   "name": "python3"
  },
  "language_info": {
   "codemirror_mode": {
    "name": "ipython",
    "version": 3
   },
   "file_extension": ".py",
   "mimetype": "text/x-python",
   "name": "python",
   "nbconvert_exporter": "python",
   "pygments_lexer": "ipython3",
   "version": "3.6.4"
  }
 },
 "nbformat": 4,
 "nbformat_minor": 1
}
