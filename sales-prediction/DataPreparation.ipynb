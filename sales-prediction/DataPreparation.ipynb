{
 "cells": [
  {
   "cell_type": "code",
   "execution_count": 1,
   "metadata": {
    "_cell_guid": "b1076dfc-b9ad-4769-8c92-a6c4dae69d19",
    "_uuid": "8f2839f25d086af736a60e9eeb907d3b93b6e0e5"
   },
   "outputs": [
    {
     "name": "stdout",
     "output_type": "stream",
     "text": [
      "../input/item_categories.csv  ../input/sample_submission.csv\r\n",
      "../input/items.csv\t      ../input/shops.csv\r\n",
      "../input/sales_train.csv      ../input/test.csv\r\n"
     ]
    }
   ],
   "source": [
    "!ls ../input/*"
   ]
  },
  {
   "cell_type": "code",
   "execution_count": 2,
   "metadata": {},
   "outputs": [],
   "source": [
    "import numpy as np\n",
    "import pandas as pd\n",
    "pd.set_option('display.max_rows', 500)\n",
    "pd.set_option('display.max_columns', 100)\n",
    "import seaborn as sns\n",
    "sns.set()\n",
    "import matplotlib.pyplot as plt\n",
    "import warnings\n",
    "warnings.filterwarnings(\"ignore\")\n",
    "import pickle\n",
    "from itertools import product\n",
    "import gc\n",
    "from sklearn.preprocessing import OneHotEncoder, StandardScaler, LabelEncoder\n",
    "from sklearn.model_selection import KFold\n",
    "from scipy.sparse import csr_matrix, hstack\n",
    "from sklearn.decomposition import TruncatedSVD, NMF\n",
    "from MulticoreTSNE import MulticoreTSNE as TSNE"
   ]
  },
  {
   "cell_type": "code",
   "execution_count": 3,
   "metadata": {},
   "outputs": [],
   "source": [
    "SEED = 42\n",
    "DATA_PATH = '../input/'\n",
    "PROCESS_LAST_MONTHS = 24\n",
    "SPANS = [1, 2, 3, 4, 12]\n",
    "CAT_COLS = ['item_id', 'shop_id', 'item_category_id', 'city_id', 'type_id', 'subtype_id']\n",
    "NUM_COMPONENTS = 5\n",
    "CAT_COMPONENTS = 5"
   ]
  },
  {
   "cell_type": "markdown",
   "metadata": {},
   "source": [
    "### Import data"
   ]
  },
  {
   "cell_type": "code",
   "execution_count": 4,
   "metadata": {
    "_cell_guid": "79c7e3d0-c299-4dcb-8224-4455121ee9b0",
    "_uuid": "d629ff2d2480ee46fbb7e2d37f6b5fab8052498a"
   },
   "outputs": [
    {
     "name": "stdout",
     "output_type": "stream",
     "text": [
      "(2935849, 6) (214200, 3)\n"
     ]
    }
   ],
   "source": [
    "# Load data\n",
    "train = pd.read_csv(DATA_PATH             + \"/sales_train.csv\")\n",
    "item_categories = pd.read_csv(DATA_PATH   + \"/item_categories.csv\")\n",
    "items = pd.read_csv(DATA_PATH             + \"/items.csv\")\n",
    "shops = pd.read_csv(DATA_PATH             + \"/shops.csv\")\n",
    "sample_submission = pd.read_csv(DATA_PATH + \"/sample_submission.csv\")\n",
    "test = pd.read_csv(DATA_PATH              + \"/test.csv\")\n",
    "\n",
    "print(train.shape, test.shape)"
   ]
  },
  {
   "cell_type": "code",
   "execution_count": 5,
   "metadata": {},
   "outputs": [
    {
     "name": "stdout",
     "output_type": "stream",
     "text": [
      "24\n"
     ]
    }
   ],
   "source": [
    "train = train[train.date_block_num>train.date_block_num.max()-PROCESS_LAST_MONTHS]\n",
    "\n",
    "print(train.date_block_num.nunique())"
   ]
  },
  {
   "cell_type": "code",
   "execution_count": 6,
   "metadata": {},
   "outputs": [],
   "source": [
    "# The test data before and after transformations will remain the same order\n",
    "test.drop('ID', axis=1, inplace=True)"
   ]
  },
  {
   "cell_type": "code",
   "execution_count": 7,
   "metadata": {},
   "outputs": [
    {
     "name": "stdout",
     "output_type": "stream",
     "text": [
      "Int64Index([], dtype='int64')\n"
     ]
    }
   ],
   "source": [
    "# Replace negative prices with medians\n",
    "invalid_idxs = train[train.item_price < 0].index\n",
    "print(invalid_idxs)\n",
    "\n",
    "for idx in invalid_idxs:\n",
    "    date_block_num, shop_id, item_id = train.loc[idx, ['date_block_num', 'shop_id', 'item_id']]\n",
    "    train.loc[idx, 'item_price'] = \\\n",
    "        train.loc[(train['date_block_num']==date_block_num) \n",
    "                  & (train['shop_id']==shop_id) \n",
    "                  & (train['item_id']==item_id) \n",
    "                  & (train['item_price']>0), 'item_price'].median()"
   ]
  },
  {
   "cell_type": "markdown",
   "metadata": {},
   "source": [
    "### Monthly sales"
   ]
  },
  {
   "cell_type": "code",
   "execution_count": 8,
   "metadata": {},
   "outputs": [
    {
     "name": "stdout",
     "output_type": "stream",
     "text": [
      "(1039136, 5)\n"
     ]
    }
   ],
   "source": [
    "# Sum up the number of items sold/returned in each month and shop\n",
    "train = train.groupby(['date_block_num','shop_id','item_id']).agg({'item_cnt_day': 'sum', 'item_price': 'mean'}).reset_index()\n",
    "train.rename({'item_cnt_day': 'item_cnt_month'}, axis=1, inplace=True)\n",
    "\n",
    "print(train.shape)"
   ]
  },
  {
   "cell_type": "code",
   "execution_count": 9,
   "metadata": {},
   "outputs": [
    {
     "data": {
      "image/png": "[encoded data removed]",
      "text/plain": [
       "<Figure size 864x288 with 2 Axes>"
      ]
     },
     "metadata": {},
     "output_type": "display_data"
    }
   ],
   "source": [
    "def quantile_cut(sr, lowerq, upperq):\n",
    "    return sr[(sr > sr.quantile(lowerq)) & (sr < sr.quantile(upperq))]\n",
    "\n",
    "fig, ax = plt.subplots(1, 2, figsize=(12, 4))\n",
    "sns.boxplot(quantile_cut(train.item_cnt_month, 0, 0.95), ax=ax[0]);\n",
    "sns.boxplot(quantile_cut(train.item_price, 0, 0.95), ax=ax[1]);"
   ]
  },
  {
   "cell_type": "markdown",
   "metadata": {},
   "source": [
    "### Align train and test"
   ]
  },
  {
   "cell_type": "code",
   "execution_count": 10,
   "metadata": {},
   "outputs": [
    {
     "name": "stdout",
     "output_type": "stream",
     "text": [
      "{'date_block_num', 'item_cnt_month', 'item_price'}\n",
      "set()\n"
     ]
    }
   ],
   "source": [
    "# How columns of both sets differ\n",
    "print(set(train.columns).difference(set(test.columns)))\n",
    "print(set(test.columns).difference(set(train.columns)))"
   ]
  },
  {
   "cell_type": "code",
   "execution_count": 11,
   "metadata": {},
   "outputs": [],
   "source": [
    "# Test set comes from Nov 2015\n",
    "test['date_block_num'] = train.date_block_num.max() + 1"
   ]
  },
  {
   "cell_type": "code",
   "execution_count": 12,
   "metadata": {},
   "outputs": [
    {
     "name": "stdout",
     "output_type": "stream",
     "text": [
      "Both sets\n",
      "\tshop-item pairs   403420\n",
      "Missing in train\n",
      "\tshop ids          0\n",
      "\titem ids          370\n",
      "\tshop-item pairs   106715\n",
      "Missing in test\n",
      "\tshop ids          13\n",
      "\titem ids          13378\n",
      "\tshop-item pairs   189220\n"
     ]
    }
   ],
   "source": [
    "print(\"Both sets\")\n",
    "train_pairs = set(zip(train.shop_id, train.item_id))\n",
    "test_pairs = set(zip(test.shop_id, test.item_id))\n",
    "shop_item_pairs = train_pairs | test_pairs\n",
    "print('\\tshop-item pairs  ', len(shop_item_pairs))\n",
    "\n",
    "print(\"Missing in train\")\n",
    "print('\\tshop ids         ', test.shop_id[~test.shop_id.isin(train.shop_id)].nunique())\n",
    "print('\\titem ids         ', test.item_id[~test.item_id.isin(train.item_id)].nunique())\n",
    "print('\\tshop-item pairs  ', len(test_pairs.difference(train_pairs)))\n",
    "\n",
    "print(\"Missing in test\")\n",
    "print('\\tshop ids         ', train.shop_id[~train.shop_id.isin(test.shop_id)].nunique())\n",
    "print('\\titem ids         ', train.item_id[~train.item_id.isin(test.item_id)].nunique())\n",
    "print('\\tshop-item pairs  ', len(train_pairs.difference(test_pairs)))"
   ]
  },
  {
   "cell_type": "code",
   "execution_count": 13,
   "metadata": {},
   "outputs": [
    {
     "data": {
      "text/plain": [
       "1.0"
      ]
     },
     "execution_count": 13,
     "metadata": {},
     "output_type": "execute_result"
    }
   ],
   "source": [
    "# Fraction of shop/item pairs out of all possible pairs in the test set\n",
    "len(list(product(test.shop_id.unique(), test.item_id.unique()))) / len(test)"
   ]
  },
  {
   "cell_type": "code",
   "execution_count": 14,
   "metadata": {},
   "outputs": [
    {
     "name": "stdout",
     "output_type": "stream",
     "text": [
      "(7178903, 3)\n"
     ]
    }
   ],
   "source": [
    "# Product of all possible shop/item pairs for each month to make train and test similar\n",
    "id_products = []\n",
    "cols = ['date_block_num', 'shop_id', 'item_id']\n",
    "for date_block_num in train.date_block_num.unique():\n",
    "    df = train[train.date_block_num==date_block_num]\n",
    "    group = np.array(list(product([date_block_num], \n",
    "                                  df.shop_id.unique(), \n",
    "                                  df.item_id.unique())))\n",
    "    id_products.append(group)\n",
    "id_products = np.vstack(id_products)\n",
    "id_products = pd.DataFrame(id_products, columns=cols)\n",
    "\n",
    "print(id_products.shape)"
   ]
  },
  {
   "cell_type": "code",
   "execution_count": 15,
   "metadata": {},
   "outputs": [
    {
     "name": "stdout",
     "output_type": "stream",
     "text": [
      "(7178903, 5)\n"
     ]
    }
   ],
   "source": [
    "train = pd.merge(id_products, train, how='left', on=cols)\n",
    "# Leaving upper bound open may be beneficial for learning\n",
    "train['item_cnt_month'] = train['item_cnt_month'].fillna(0).clip(0, 20)\n",
    "\n",
    "print(train.shape)"
   ]
  },
  {
   "cell_type": "code",
   "execution_count": 16,
   "metadata": {},
   "outputs": [],
   "source": [
    "# Ensure we have done everything correctly\n",
    "for num in train.date_block_num.unique():\n",
    "    df = train[train.date_block_num == num]\n",
    "    assert(len(list(product(df.shop_id.unique(), df.item_id.unique()))) / len(df) == 1.0)"
   ]
  },
  {
   "cell_type": "code",
   "execution_count": 17,
   "metadata": {},
   "outputs": [
    {
     "name": "stdout",
     "output_type": "stream",
     "text": [
      "(7393103, 5)\n"
     ]
    }
   ],
   "source": [
    "# Append test to train to make feature engineering easier\n",
    "traintest = train.append(test, ignore_index=True)\n",
    "\n",
    "# Record index of the train part of the concatenated set\n",
    "is_train = traintest.date_block_num < 34\n",
    "\n",
    "print(traintest.shape)"
   ]
  },
  {
   "cell_type": "code",
   "execution_count": 18,
   "metadata": {},
   "outputs": [],
   "source": [
    "del train\n",
    "del test"
   ]
  },
  {
   "cell_type": "markdown",
   "metadata": {},
   "source": [
    "### Text features"
   ]
  },
  {
   "cell_type": "code",
   "execution_count": 19,
   "metadata": {},
   "outputs": [],
   "source": [
    "# Fix duplicate shop names\n",
    "# !Якутск Орджоникидзе, 56 фран == Якутск Орджоникидзе, 56\n",
    "traintest.loc[traintest.shop_id == 0, 'shop_id'] = 57\n",
    "# !Якутск ТЦ \"Центральный\" фран == Якутск ТЦ \"Центральный\"\n",
    "traintest.loc[traintest.shop_id == 1, 'shop_id'] = 58\n",
    "# Жуковский ул. Чкалова 39м? == Жуковский ул. Чкалова 39м²\n",
    "traintest.loc[traintest.shop_id == 10, 'shop_id'] = 11"
   ]
  },
  {
   "cell_type": "code",
   "execution_count": 20,
   "metadata": {},
   "outputs": [
    {
     "name": "stdout",
     "output_type": "stream",
     "text": [
      "shop_id    60\n",
      "city_id    30\n",
      "dtype: int64\n"
     ]
    }
   ],
   "source": [
    "# Extract cities\n",
    "assert((shops.groupby('shop_id')['shop_name'].nunique()==1).all())\n",
    "assert((shops.groupby('shop_name')['shop_id'].nunique()==1).all())\n",
    "\n",
    "shops.loc[shops.shop_name == 'Интернет-магазин ЧС', 'shop_name'] = 'Интернет-магазин ЧС'\n",
    "shops.loc[shops.shop_name == 'Цифровой склад 1С-Онлайн', 'shop_name'] = 'Интернет-магазин 1С-Онлайн'\n",
    "shops.loc[shops.shop_name == 'Сергиев Посад ТЦ \"7Я\"', 'shop_name'] = 'СергиевПосад ТЦ \"7Я\"'\n",
    "shops.loc[shops.shop_name == '!Якутск Орджоникидзе, 56 фран', 'shop_name'] = 'Якутск Орджоникидзе, 56 фран'\n",
    "shops.loc[shops.shop_name == '!Якутск ТЦ \"Центральный\" фран', 'shop_name'] = 'Якутск ТЦ \"Центральный\" фран'\n",
    "shops['city_name'] = shops['shop_name'].str.split(' ').map(lambda x: x[0])\n",
    "shops['city_id'] = LabelEncoder().fit_transform(shops['city_name'])\n",
    "shops = shops[['shop_id', 'city_id']]\n",
    "\n",
    "print(shops.nunique())"
   ]
  },
  {
   "cell_type": "code",
   "execution_count": 21,
   "metadata": {},
   "outputs": [
    {
     "name": "stdout",
     "output_type": "stream",
     "text": [
      "item_category_id    84\n",
      "type_id             20\n",
      "subtype_id          65\n",
      "dtype: int64\n"
     ]
    }
   ],
   "source": [
    "# Extract item category types and subtypes\n",
    "assert((item_categories.groupby('item_category_id')['item_category_name'].nunique()==1).all())\n",
    "assert((item_categories.groupby('item_category_name')['item_category_id'].nunique()==1).all())\n",
    "\n",
    "item_categories['type'] = item_categories['item_category_name'].str.split('-').map(\n",
    "    lambda x: x[0].strip())\n",
    "item_categories['type_id'] = LabelEncoder().fit_transform(item_categories['type'])\n",
    "item_categories['subtype'] = item_categories['item_category_name'].str.split('-').map(\n",
    "    lambda x: x[1].strip() if len(x) > 1 else x[0].strip())\n",
    "item_categories['subtype_id'] = LabelEncoder().fit_transform(item_categories['subtype'])\n",
    "item_categories = item_categories[['item_category_id', 'type_id', 'subtype_id']]\n",
    "\n",
    "print(item_categories.nunique())"
   ]
  },
  {
   "cell_type": "code",
   "execution_count": 22,
   "metadata": {},
   "outputs": [
    {
     "name": "stdout",
     "output_type": "stream",
     "text": [
      "item_id             22170\n",
      "item_category_id       84\n",
      "dtype: int64\n"
     ]
    }
   ],
   "source": [
    "items = items[['item_id', 'item_category_id']]\n",
    "\n",
    "print(items.nunique())"
   ]
  },
  {
   "cell_type": "code",
   "execution_count": 23,
   "metadata": {},
   "outputs": [
    {
     "name": "stdout",
     "output_type": "stream",
     "text": [
      "(7393103, 9)\n"
     ]
    }
   ],
   "source": [
    "# Join with newly extracted features\n",
    "traintest = (traintest.join(items, on='item_id', rsuffix='_other').drop('item_id_other', axis=1)\n",
    "             .join(item_categories, on='item_category_id', rsuffix='_other').drop('item_category_id_other', axis=1)\n",
    "             .join(shops, on='shop_id', rsuffix='_other').drop('shop_id_other', axis=1))\n",
    "\n",
    "print(traintest.shape)"
   ]
  },
  {
   "cell_type": "code",
   "execution_count": 24,
   "metadata": {},
   "outputs": [
    {
     "data": {
      "image/png": "[encoded data removed]",
      "text/plain": [
       "<Figure size 1152x288 with 3 Axes>"
      ]
     },
     "metadata": {},
     "output_type": "display_data"
    }
   ],
   "source": [
    "fig, ax = plt.subplots(1, 3, figsize=(16, 4))\n",
    "sns.boxplot(traintest[is_train].groupby('shop_id')['item_cnt_month'].sum(), ax=ax[0])\n",
    "ax[0].set_title('shop_id')\n",
    "sns.boxplot(quantile_cut(traintest[is_train].groupby('item_id')['item_cnt_month'].sum(), 0, 0.95), ax=ax[1])\n",
    "ax[1].set_title('item_id')\n",
    "sns.boxplot(quantile_cut(traintest[is_train].groupby('item_category_id')['item_cnt_month'].sum(), 0, 0.95), ax=ax[2])\n",
    "ax[2].set_title('item_category_id')\n",
    "plt.show()"
   ]
  },
  {
   "cell_type": "code",
   "execution_count": 25,
   "metadata": {},
   "outputs": [],
   "source": [
    "del item_categories\n",
    "del items\n",
    "del shops"
   ]
  },
  {
   "cell_type": "markdown",
   "metadata": {},
   "source": [
    "### Date features"
   ]
  },
  {
   "cell_type": "code",
   "execution_count": 26,
   "metadata": {},
   "outputs": [],
   "source": [
    "# Extract year and month from each date block\n",
    "traintest['month'] = traintest.date_block_num % 12 + 1"
   ]
  },
  {
   "cell_type": "code",
   "execution_count": 27,
   "metadata": {},
   "outputs": [
    {
     "data": {
      "image/png": "[encoded data removed]",
      "text/plain": [
       "<Figure size 864x288 with 2 Axes>"
      ]
     },
     "metadata": {},
     "output_type": "display_data"
    }
   ],
   "source": [
    "fig, ax = plt.subplots(1, 2, figsize=(12, 4))\n",
    "traintest[is_train].groupby('date_block_num')['item_cnt_month'].mean().plot(ax=ax[0])\n",
    "traintest[is_train].groupby('month')['item_cnt_month'].mean().plot(ax=ax[1])\n",
    "plt.show()"
   ]
  },
  {
   "cell_type": "markdown",
   "metadata": {},
   "source": [
    "### Lagged features"
   ]
  },
  {
   "cell_type": "code",
   "execution_count": 28,
   "metadata": {},
   "outputs": [],
   "source": [
    "def downcast_sr(sr):\n",
    "    sr = sr.fillna(0)\n",
    "    # Downcast that resulting data to the smallest numerical dtype possible\n",
    "    if 'float' in str(sr.dtype):\n",
    "        return pd.to_numeric(sr, downcast='float')\n",
    "    elif 'int' in str(sr.dtype):\n",
    "        return pd.to_numeric(sr, downcast='unsigned')\n",
    "    else:\n",
    "        return sr\n",
    "            \n",
    "def downcast(traintest):\n",
    "    # Reduce memory footprint\n",
    "    for col in traintest.columns:\n",
    "        traintest[col] = downcast_sr(traintest[col])"
   ]
  },
  {
   "cell_type": "code",
   "execution_count": 29,
   "metadata": {},
   "outputs": [],
   "source": [
    "downcast(traintest)"
   ]
  },
  {
   "cell_type": "code",
   "execution_count": 30,
   "metadata": {},
   "outputs": [],
   "source": [
    "def lagged_features(traintest, col, spans=SPANS):\n",
    "    tmp = traintest[['date_block_num', 'shop_id', 'item_id', col]]\n",
    "    for span in spans:\n",
    "        shifted = tmp.copy()\n",
    "        new_col_name = col+'_lag_'+str(span)\n",
    "        shifted.columns = ['date_block_num', 'shop_id', 'item_id', new_col_name]\n",
    "        shifted['date_block_num'] += span\n",
    "        traintest = pd.merge(traintest, shifted, on=['date_block_num', 'shop_id', 'item_id'], how='left')\n",
    "        # Downcast inplace to safe memory\n",
    "        traintest[new_col_name] = downcast_sr(traintest[new_col_name])\n",
    "    return traintest"
   ]
  },
  {
   "cell_type": "code",
   "execution_count": 31,
   "metadata": {},
   "outputs": [
    {
     "name": "stdout",
     "output_type": "stream",
     "text": [
      "CPU times: user 48.4 s, sys: 14.1 s, total: 1min 2s\n",
      "Wall time: 1min 2s\n"
     ]
    }
   ],
   "source": [
    "%%time\n",
    "# Lagged monthly sales/revenue per shop and item\n",
    "traintest = lagged_features(traintest, 'item_cnt_month')\n",
    "traintest = lagged_features(traintest, 'item_price')\n",
    "\n",
    "traintest.drop(['item_price'], axis=1, inplace=True)"
   ]
  },
  {
   "cell_type": "markdown",
   "metadata": {},
   "source": [
    "### Target encoding"
   ]
  },
  {
   "cell_type": "code",
   "execution_count": 32,
   "metadata": {},
   "outputs": [],
   "source": [
    "def kfold_target_enc(train, col, n_splits=5):\n",
    "    # K-fold regularisation for mean encodings\n",
    "    # 1. Split train data into k folds\n",
    "    # 2. Exclude the fold that contains a sample\n",
    "    # 3. Estimate encoding for the sample with the data that left\n",
    "    \n",
    "    globalmean = train['item_cnt_month'].mean()\n",
    "    kf = KFold(n_splits=n_splits, shuffle=False, random_state=SEED)\n",
    "    encoded = pd.Series(index=train.index)\n",
    "    \n",
    "    for train_idx, valid_idx in kf.split(train):\n",
    "        X_train, X_valid = train.iloc[train_idx], train.iloc[valid_idx]\n",
    "        means = X_valid[col].map(X_train.groupby(col)['item_cnt_month'].mean())\n",
    "        encoded.iloc[valid_idx] = means\n",
    "        \n",
    "    encoded = encoded.fillna(globalmean)\n",
    "    return encoded"
   ]
  },
  {
   "cell_type": "code",
   "execution_count": 33,
   "metadata": {},
   "outputs": [],
   "source": [
    "def expanding_target_enc(train, col):\n",
    "    # Expanding mean regularization:\n",
    "    # 1. Fix some random permutation of rows (samples)\n",
    "    # 2. Moving from top to bottom, for each example, estimate the encoding using target mean \n",
    "    # of all the examples before the estimated one. An estimated example is not used.\n",
    "    \n",
    "    globalmean = train['item_cnt_month'].mean()\n",
    "    cumsum = train.groupby(col).item_cnt_month.cumsum() - train.item_cnt_month\n",
    "    sumcnt = train.groupby(col).cumcount()\n",
    "    expanding_mean = cumsum / sumcnt\n",
    "    expanding_mean = expanding_mean.fillna(globalmean)\n",
    "    return expanding_mean"
   ]
  },
  {
   "cell_type": "code",
   "execution_count": 34,
   "metadata": {},
   "outputs": [],
   "source": [
    "def loo_target_enc(train, col, alpha=100):\n",
    "    # LOO with date blocks leads to overfitting but at least visible locally\n",
    "    # Use smoothing to trust larger categories and decrease the leakage\n",
    "    \n",
    "    globalmean = train['item_cnt_month'].mean()\n",
    "    encoded = pd.Series(index=train.index)\n",
    "    \n",
    "    for date_block_num in train.date_block_num.unique():\n",
    "        X_train = train[train.date_block_num != date_block_num]\n",
    "        X_valid = train[train.date_block_num == date_block_num]\n",
    "        means = X_train.groupby(col).item_cnt_month.agg('mean')\n",
    "        nrows = X_train.groupby(col).size()\n",
    "        smoothed_means = (np.multiply(means, nrows) + globalmean * alpha) / (nrows + alpha)\n",
    "        smoothed_means = X_valid[col].map(smoothed_means)\n",
    "        encoded.loc[X_valid.index] = smoothed_means\n",
    "        \n",
    "    encoded = encoded.fillna(globalmean)\n",
    "    return encoded"
   ]
  },
  {
   "cell_type": "code",
   "execution_count": 35,
   "metadata": {},
   "outputs": [],
   "source": [
    "def print_te_corrcoef(train, col, last_months=6):\n",
    "    for fn in [kfold_target_enc, \n",
    "               expanding_target_enc, \n",
    "               loo_target_enc]:\n",
    "        # Limit time window for faster processing\n",
    "        df = train[train.date_block_num>train.date_block_num.max()-last_months]\n",
    "        target = df.item_cnt_month\n",
    "        corrcoef = np.corrcoef(fn(df, col), target)[0][1]\n",
    "        print(\"\\t{:<25}{:.4f}\".format(fn.__name__, corrcoef))"
   ]
  },
  {
   "cell_type": "code",
   "execution_count": 36,
   "metadata": {},
   "outputs": [
    {
     "name": "stdout",
     "output_type": "stream",
     "text": [
      "item_id\n",
      "\tkfold_target_enc         0.4932\n",
      "\texpanding_target_enc     0.5768\n",
      "\tloo_target_enc           0.4891\n",
      "shop_id\n",
      "\tkfold_target_enc         0.1686\n",
      "\texpanding_target_enc     0.2008\n",
      "\tloo_target_enc           0.1697\n",
      "item_category_id\n",
      "\tkfold_target_enc         0.3311\n",
      "\texpanding_target_enc     0.3321\n",
      "\tloo_target_enc           0.3254\n",
      "city_id\n",
      "\tkfold_target_enc         0.1213\n",
      "\texpanding_target_enc     0.1316\n",
      "\tloo_target_enc           0.1218\n",
      "type_id\n",
      "\tkfold_target_enc         0.1515\n",
      "\texpanding_target_enc     0.1542\n",
      "\tloo_target_enc           0.1515\n",
      "subtype_id\n",
      "\tkfold_target_enc         0.3295\n",
      "\texpanding_target_enc     0.3305\n",
      "\tloo_target_enc           0.3237\n"
     ]
    }
   ],
   "source": [
    "# https://www.coursera.org/learn/competitive-data-science/lecture/LGYQ2/regularization\n",
    "for col in CAT_COLS:\n",
    "    print(col)\n",
    "    print_te_corrcoef(traintest[is_train], col)\n",
    "    gc.collect()"
   ]
  },
  {
   "cell_type": "code",
   "execution_count": 37,
   "metadata": {},
   "outputs": [],
   "source": [
    "def lagged_target_enc(traintest, cols):\n",
    "    # Method which rarely leads to overfitting\n",
    "    new_col_name = '_'.join(cols) + '_mean'\n",
    "    groupby = ['date_block_num'] + cols\n",
    "    group = traintest[is_train].groupby(groupby)['item_cnt_month'].apply(np.mean)\n",
    "    group = group.reset_index()\n",
    "    group = group.rename({'item_cnt_month': new_col_name}, axis=1)\n",
    "    traintest = pd.merge(traintest, group, on=groupby, how='left')\n",
    "    traintest = lagged_features(traintest, new_col_name)\n",
    "    traintest.drop(new_col_name, axis=1, inplace=True)\n",
    "    return traintest"
   ]
  },
  {
   "cell_type": "code",
   "execution_count": 38,
   "metadata": {},
   "outputs": [
    {
     "name": "stdout",
     "output_type": "stream",
     "text": [
      "CPU times: user 5min 32s, sys: 2min 31s, total: 8min 3s\n",
      "Wall time: 8min 3s\n"
     ]
    }
   ],
   "source": [
    "%%time\n",
    "# Using of these mean encodings leads to overfitting so lagged features are safer\n",
    "for col in CAT_COLS:\n",
    "    traintest = lagged_target_enc(traintest, [col])\n",
    "    gc.collect()\n",
    "traintest = lagged_target_enc(traintest, ['shop_id', 'item_category_id'])\n",
    "traintest = lagged_target_enc(traintest, ['shop_id', 'type_id'])\n",
    "traintest = lagged_target_enc(traintest, ['shop_id', 'subtype_id'])"
   ]
  },
  {
   "cell_type": "markdown",
   "metadata": {},
   "source": [
    "### Matrix decomposition"
   ]
  },
  {
   "cell_type": "code",
   "execution_count": 39,
   "metadata": {},
   "outputs": [],
   "source": [
    "def decompose_numeric_features(traintest):\n",
    "    # Generate new features with dimensionality reduction\n",
    "    cols = traintest.columns.difference(CAT_COLS)\n",
    "    features = traintest[cols].drop('item_cnt_month', axis=1).values\n",
    "    features = StandardScaler().fit_transform(features)\n",
    "    # Reduce dimensionality using SVD which is best for sparse matrices as compared to PCA\n",
    "    pca_features = TruncatedSVD(n_components=NUM_COMPONENTS, random_state=SEED).fit_transform(features)\n",
    "    pca_features = pd.DataFrame(pca_features, columns=['num_pca_%d'%i for i in range(pca_features.shape[1])])\n",
    "    downcast(pca_features)\n",
    "    traintest = pd.merge(traintest, pca_features, left_index=True, right_index=True)\n",
    "    return traintest"
   ]
  },
  {
   "cell_type": "code",
   "execution_count": 40,
   "metadata": {},
   "outputs": [
    {
     "name": "stdout",
     "output_type": "stream",
     "text": [
      "(7393103, 69)\n",
      "CPU times: user 58 s, sys: 18.9 s, total: 1min 16s\n",
      "Wall time: 52.5 s\n"
     ]
    }
   ],
   "source": [
    "%%time\n",
    "traintest = decompose_numeric_features(traintest)\n",
    "\n",
    "print(traintest.shape)"
   ]
  },
  {
   "cell_type": "code",
   "execution_count": 41,
   "metadata": {},
   "outputs": [],
   "source": [
    "def decompose_categorical_features(traintest):\n",
    "    # Embedding of the categories in a low-dimensional numeric space\n",
    "    # First, transform categorical features into one-hot-encoded features\n",
    "    ohe_features = OneHotEncoder().fit_transform(traintest[CAT_COLS])\n",
    "    # NMF transforms data in a way that makes data more suitable for decision trees\n",
    "    # from n_components=10 very slow\n",
    "    pca_features = NMF(n_components=CAT_COMPONENTS, random_state=SEED).fit_transform(ohe_features)\n",
    "    pca_features = pd.DataFrame(pca_features, columns=['cat_pca_%d'%i for i in range(pca_features.shape[1])])\n",
    "    downcast(pca_features)\n",
    "    traintest = pd.merge(traintest, pca_features, left_index=True, right_index=True)\n",
    "    return traintest"
   ]
  },
  {
   "cell_type": "code",
   "execution_count": 42,
   "metadata": {},
   "outputs": [
    {
     "name": "stdout",
     "output_type": "stream",
     "text": [
      "(7393103, 74)\n",
      "CPU times: user 2min 8s, sys: 42.6 s, total: 2min 50s\n",
      "Wall time: 2min 42s\n"
     ]
    }
   ],
   "source": [
    "%%time\n",
    "# Mean encoding doesn't work as expected, so encode categorical features with matrix factorization\n",
    "traintest = decompose_categorical_features(traintest)\n",
    "\n",
    "print(traintest.shape)"
   ]
  },
  {
   "cell_type": "code",
   "execution_count": 43,
   "metadata": {},
   "outputs": [
    {
     "data": {
      "text/plain": [
       "item_cnt_month                         1.000000\n",
       "item_cnt_month_lag_1                   0.562875\n",
       "item_id_mean_lag_1                     0.468201\n",
       "item_cnt_month_lag_2                   0.417869\n",
       "shop_id_item_category_id_mean_lag_1    0.399798\n",
       "shop_id_subtype_id_mean_lag_1          0.396591\n",
       "item_cnt_month_lag_3                   0.346510\n",
       "num_pca_0                              0.344506\n",
       "item_id_mean_lag_2                     0.340545\n",
       "shop_id_item_category_id_mean_lag_2    0.335555\n",
       "shop_id_subtype_id_mean_lag_2          0.332728\n",
       "shop_id_item_category_id_mean_lag_3    0.300300\n",
       "item_category_id_mean_lag_1            0.297430\n",
       "shop_id_subtype_id_mean_lag_3          0.296740\n",
       "subtype_id_mean_lag_1                  0.294485\n",
       "item_cnt_month_lag_4                   0.293350\n",
       "item_id_mean_lag_3                     0.281390\n",
       "shop_id_type_id_mean_lag_1             0.270261\n",
       "shop_id_item_category_id_mean_lag_4    0.267449\n",
       "shop_id_subtype_id_mean_lag_4          0.264762\n",
       "dtype: float64"
      ]
     },
     "execution_count": 43,
     "metadata": {},
     "output_type": "execute_result"
    }
   ],
   "source": [
    "num_cols = traintest.columns.difference(CAT_COLS)\n",
    "\n",
    "traintest.loc[is_train, num_cols].corrwith(traintest.loc[is_train, 'item_cnt_month']).sort_values(ascending=False).iloc[:20]"
   ]
  },
  {
   "cell_type": "markdown",
   "metadata": {},
   "source": [
    "### Save data"
   ]
  },
  {
   "cell_type": "code",
   "execution_count": 44,
   "metadata": {},
   "outputs": [
    {
     "name": "stdout",
     "output_type": "stream",
     "text": [
      "<class 'pandas.core.frame.DataFrame'>\n",
      "Int64Index: 7393103 entries, 0 to 7393102\n",
      "Data columns (total 74 columns):\n",
      "date_block_num                          uint8\n",
      "item_cnt_month                          float32\n",
      "item_id                                 uint16\n",
      "shop_id                                 uint8\n",
      "item_category_id                        uint8\n",
      "type_id                                 uint8\n",
      "subtype_id                              uint8\n",
      "city_id                                 uint8\n",
      "month                                   uint8\n",
      "item_cnt_month_lag_1                    float32\n",
      "item_cnt_month_lag_2                    float32\n",
      "item_cnt_month_lag_3                    float32\n",
      "item_cnt_month_lag_4                    float32\n",
      "item_cnt_month_lag_12                   float32\n",
      "item_price_lag_1                        float32\n",
      "item_price_lag_2                        float32\n",
      "item_price_lag_3                        float32\n",
      "item_price_lag_4                        float32\n",
      "item_price_lag_12                       float32\n",
      "item_id_mean_lag_1                      float32\n",
      "item_id_mean_lag_2                      float32\n",
      "item_id_mean_lag_3                      float32\n",
      "item_id_mean_lag_4                      float32\n",
      "item_id_mean_lag_12                     float32\n",
      "shop_id_mean_lag_1                      float32\n",
      "shop_id_mean_lag_2                      float32\n",
      "shop_id_mean_lag_3                      float32\n",
      "shop_id_mean_lag_4                      float32\n",
      "shop_id_mean_lag_12                     float32\n",
      "item_category_id_mean_lag_1             float32\n",
      "item_category_id_mean_lag_2             float32\n",
      "item_category_id_mean_lag_3             float32\n",
      "item_category_id_mean_lag_4             float32\n",
      "item_category_id_mean_lag_12            float32\n",
      "city_id_mean_lag_1                      float32\n",
      "city_id_mean_lag_2                      float32\n",
      "city_id_mean_lag_3                      float32\n",
      "city_id_mean_lag_4                      float32\n",
      "city_id_mean_lag_12                     float32\n",
      "type_id_mean_lag_1                      float32\n",
      "type_id_mean_lag_2                      float32\n",
      "type_id_mean_lag_3                      float32\n",
      "type_id_mean_lag_4                      float32\n",
      "type_id_mean_lag_12                     float32\n",
      "subtype_id_mean_lag_1                   float32\n",
      "subtype_id_mean_lag_2                   float32\n",
      "subtype_id_mean_lag_3                   float32\n",
      "subtype_id_mean_lag_4                   float32\n",
      "subtype_id_mean_lag_12                  float32\n",
      "shop_id_item_category_id_mean_lag_1     float32\n",
      "shop_id_item_category_id_mean_lag_2     float32\n",
      "shop_id_item_category_id_mean_lag_3     float32\n",
      "shop_id_item_category_id_mean_lag_4     float32\n",
      "shop_id_item_category_id_mean_lag_12    float32\n",
      "shop_id_type_id_mean_lag_1              float32\n",
      "shop_id_type_id_mean_lag_2              float32\n",
      "shop_id_type_id_mean_lag_3              float32\n",
      "shop_id_type_id_mean_lag_4              float32\n",
      "shop_id_type_id_mean_lag_12             float32\n",
      "shop_id_subtype_id_mean_lag_1           float32\n",
      "shop_id_subtype_id_mean_lag_2           float32\n",
      "shop_id_subtype_id_mean_lag_3           float32\n",
      "shop_id_subtype_id_mean_lag_4           float32\n",
      "shop_id_subtype_id_mean_lag_12          float32\n",
      "num_pca_0                               float32\n",
      "num_pca_1                               float32\n",
      "num_pca_2                               float32\n",
      "num_pca_3                               float32\n",
      "num_pca_4                               float32\n",
      "cat_pca_0                               float32\n",
      "cat_pca_1                               float32\n",
      "cat_pca_2                               float32\n",
      "cat_pca_3                               float32\n",
      "cat_pca_4                               float32\n",
      "dtypes: float32(66), uint16(1), uint8(7)\n",
      "memory usage: 2.2 GB\n"
     ]
    }
   ],
   "source": [
    "traintest.info()"
   ]
  },
  {
   "cell_type": "code",
   "execution_count": 45,
   "metadata": {},
   "outputs": [
    {
     "name": "stdout",
     "output_type": "stream",
     "text": [
      "CPU times: user 13.5 s, sys: 2.7 s, total: 16.2 s\n",
      "Wall time: 20.7 s\n"
     ]
    }
   ],
   "source": [
    "%%time\n",
    "traintest.to_hdf('data.h5', key='traintest', mode='w', format='table')"
   ]
  },
  {
   "cell_type": "markdown",
   "metadata": {},
   "source": [
    "### Mean benchmark"
   ]
  },
  {
   "cell_type": "code",
   "execution_count": 46,
   "metadata": {},
   "outputs": [],
   "source": [
    "def submit(y_pred, fname='submission.csv'):\n",
    "    submission = pd.DataFrame({\n",
    "        \"ID\": range(len(y_pred)), \n",
    "        \"item_cnt_month\": y_pred\n",
    "    })\n",
    "    submission['item_cnt_month'] = submission.item_cnt_month.fillna(0).clip(0, 20)\n",
    "    submission.to_csv(fname, index=False)\n",
    "    print(submission.head())"
   ]
  },
  {
   "cell_type": "code",
   "execution_count": 47,
   "metadata": {},
   "outputs": [
    {
     "name": "stdout",
     "output_type": "stream",
     "text": [
      "   ID  item_cnt_month\n",
      "0   0        0.295224\n",
      "1   1        0.295224\n",
      "2   2        0.295224\n",
      "3   3        0.295224\n",
      "4   4        0.295224\n"
     ]
    }
   ],
   "source": [
    "# Best single-value benchmark for RMSE\n",
    "target = pd.Series(traintest.loc[is_train, 'item_cnt_month'].mean(), \n",
    "                   index=traintest.loc[~is_train].reset_index().index)\n",
    "submit(target, fname='mean_benchmark.csv')"
   ]
  },
  {
   "cell_type": "markdown",
   "metadata": {},
   "source": [
    "### Previous month benchmark"
   ]
  },
  {
   "cell_type": "code",
   "execution_count": 48,
   "metadata": {},
   "outputs": [],
   "source": [
    "def prev_month_benchmark(date_block_num):\n",
    "    merge_on = ['shop_id', 'item_id']\n",
    "    last_month_data = traintest.loc[traintest.date_block_num==date_block_num-1, merge_on+['item_cnt_month']]\n",
    "    this_month_data = traintest.loc[traintest.date_block_num==date_block_num, merge_on]\n",
    "    merged = this_month_data.merge(last_month_data, how='left', on=merge_on)\n",
    "    return merged.item_cnt_month"
   ]
  },
  {
   "cell_type": "code",
   "execution_count": 49,
   "metadata": {},
   "outputs": [
    {
     "name": "stdout",
     "output_type": "stream",
     "text": [
      "   ID  item_cnt_month\n",
      "0   0             0.0\n",
      "1   1             0.0\n",
      "2   2             1.0\n",
      "3   3             0.0\n",
      "4   4             0.0\n"
     ]
    }
   ],
   "source": [
    "submit(prev_month_benchmark(34), fname='prev_month_benchmark.csv')"
   ]
  }
 ],
 "metadata": {
  "kernelspec": {
   "display_name": "Python 3",
   "language": "python",
   "name": "python3"
  },
  "language_info": {
   "codemirror_mode": {
    "name": "ipython",
    "version": 3
   },
   "file_extension": ".py",
   "mimetype": "text/x-python",
   "name": "python",
   "nbconvert_exporter": "python",
   "pygments_lexer": "ipython3",
   "version": "3.6.4"
  }
 },
 "nbformat": 4,
 "nbformat_minor": 1
}
