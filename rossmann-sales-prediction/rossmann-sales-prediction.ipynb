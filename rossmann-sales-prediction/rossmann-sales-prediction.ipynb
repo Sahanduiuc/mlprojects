{
 "cells": [
  {
   "cell_type": "code",
   "execution_count": 1,
   "metadata": {},
   "outputs": [],
   "source": [
    "%reload_ext autoreload\n",
    "%autoreload 2\n",
    "%matplotlib inline"
   ]
  },
  {
   "cell_type": "code",
   "execution_count": 2,
   "metadata": {},
   "outputs": [],
   "source": [
    "from pathlib import Path\n",
    "path = Path('data')\n",
    "\n",
    "import numpy as np\n",
    "import pandas as pd\n",
    "\n",
    "import matplotlib.pyplot as plt\n",
    "import seaborn as sns\n",
    "\n",
    "from fastai import tabular"
   ]
  },
  {
   "cell_type": "markdown",
   "metadata": {},
   "source": [
    "### Define the variables"
   ]
  },
  {
   "cell_type": "code",
   "execution_count": 3,
   "metadata": {},
   "outputs": [],
   "source": [
    "train_df = pd.read_pickle(path/'train_df')\n",
    "test_df = pd.read_pickle(path/'test_df')"
   ]
  },
  {
   "cell_type": "code",
   "execution_count": 4,
   "metadata": {},
   "outputs": [],
   "source": [
    "cat_vars = set()\n",
    "cont_vars = set()\n",
    "label_var = 'Sales'"
   ]
  },
  {
   "cell_type": "code",
   "execution_count": 5,
   "metadata": {},
   "outputs": [
    {
     "data": {
      "text/plain": [
       "Index(['StoreType', 'Assortment', 'PromoInterval', 'State', 'Events'], dtype='object')"
      ]
     },
     "execution_count": 5,
     "metadata": {},
     "output_type": "execute_result"
    }
   ],
   "source": [
    "object_columns = train_df.select_dtypes(include='object').dtypes.index\n",
    "object_columns"
   ]
  },
  {
   "cell_type": "code",
   "execution_count": 6,
   "metadata": {},
   "outputs": [],
   "source": [
    "cat_vars = cat_vars.union(set(object_columns))"
   ]
  },
  {
   "cell_type": "code",
   "execution_count": 7,
   "metadata": {},
   "outputs": [
    {
     "data": {
      "text/plain": [
       "Index(['Promo', 'StateHoliday', 'SchoolHoliday', 'Is_month_end',\n",
       "       'Is_month_start', 'Is_quarter_end', 'Is_quarter_start', 'Is_year_end',\n",
       "       'Is_year_start', 'Promo2'],\n",
       "      dtype='object')"
      ]
     },
     "execution_count": 7,
     "metadata": {},
     "output_type": "execute_result"
    }
   ],
   "source": [
    "bool_columns = train_df.select_dtypes(include='bool').dtypes.index\n",
    "bool_columns"
   ]
  },
  {
   "cell_type": "code",
   "execution_count": 8,
   "metadata": {},
   "outputs": [],
   "source": [
    "cat_vars = cat_vars.union(set(bool_columns))"
   ]
  },
  {
   "cell_type": "code",
   "execution_count": 9,
   "metadata": {},
   "outputs": [
    {
     "data": {
      "text/plain": [
       "Index(['CompetitionOpenSinceMonth', 'CompetitionOpenSinceYear',\n",
       "       'Promo2SinceWeek', 'Promo2SinceYear'],\n",
       "      dtype='object')"
      ]
     },
     "execution_count": 9,
     "metadata": {},
     "output_type": "execute_result"
    }
   ],
   "source": [
    "int32_columns = train_df.select_dtypes(include='int32').dtypes.index\n",
    "int32_columns"
   ]
  },
  {
   "cell_type": "code",
   "execution_count": 10,
   "metadata": {},
   "outputs": [],
   "source": [
    "cat_vars = cat_vars.union(set(int32_columns))"
   ]
  },
  {
   "cell_type": "code",
   "execution_count": 11,
   "metadata": {},
   "outputs": [
    {
     "data": {
      "text/plain": [
       "Index(['Store', 'Sales', 'Customers', 'Year', 'Month', 'Week', 'Day',\n",
       "       'Dayofweek', 'Dayofyear', 'Elapsed', 'trend', 'trend_DE',\n",
       "       'Max_TemperatureC', 'Mean_TemperatureC', 'Min_TemperatureC',\n",
       "       'Dew_PointC', 'MeanDew_PointC', 'Min_DewpointC', 'Max_Humidity',\n",
       "       'Mean_Humidity', 'Min_Humidity', 'Max_Sea_Level_PressurehPa',\n",
       "       'Mean_Sea_Level_PressurehPa', 'Min_Sea_Level_PressurehPa',\n",
       "       'Max_Wind_SpeedKm_h', 'Mean_Wind_SpeedKm_h', 'WindDirDegrees',\n",
       "       'Promo2Days', 'Promo2Weeks', 'CompetitionDaysOpen',\n",
       "       'CompetitionMonthsOpen', 'AfterClosed', 'BeforeClosed',\n",
       "       'AfterSchoolHoliday', 'BeforeSchoolHoliday', 'AfterStateHoliday',\n",
       "       'BeforeStateHoliday', 'AfterPromo', 'BeforePromo', 'Closed_bw',\n",
       "       'SchoolHoliday_bw', 'StateHoliday_bw', 'Promo_bw', 'Closed_fw',\n",
       "       'SchoolHoliday_fw', 'StateHoliday_fw', 'Promo_fw'],\n",
       "      dtype='object')"
      ]
     },
     "execution_count": 11,
     "metadata": {},
     "output_type": "execute_result"
    }
   ],
   "source": [
    "int64_columns = train_df.select_dtypes(include='int64').dtypes.index\n",
    "int64_columns"
   ]
  },
  {
   "cell_type": "code",
   "execution_count": 12,
   "metadata": {},
   "outputs": [],
   "source": [
    "cat_vars = cat_vars.union({'Store', 'Year', 'Month', 'Week', 'Day', 'Dayofweek', 'Dayofyear', 'Promo2Weeks', \n",
    "                           'CompetitionMonthsOpen', 'SchoolHoliday_bw', 'StateHoliday_bw', 'Promo_bw', \n",
    "                           'SchoolHoliday_fw', 'StateHoliday_fw', 'Promo_fw', 'Closed_bw', 'Closed_fw'})\n",
    "cont_vars = cont_vars.union({'trend', 'trend_DE', 'Max_TemperatureC', 'Mean_TemperatureC', \n",
    "                             'Min_TemperatureC', 'Dew_PointC', 'MeanDew_PointC', 'Min_DewpointC', \n",
    "                             'Max_Humidity', 'Mean_Humidity', 'Min_Humidity', 'Max_Sea_Level_PressurehPa',\n",
    "                             'Mean_Sea_Level_PressurehPa', 'Min_Sea_Level_PressurehPa',\n",
    "                             'Max_Wind_SpeedKm_h', 'Mean_Wind_SpeedKm_h', 'WindDirDegrees', 'Promo2Days', \n",
    "                             'CompetitionDaysOpen', 'AfterSchoolHoliday', 'BeforeSchoolHoliday', \n",
    "                             'AfterStateHoliday', 'BeforeStateHoliday', 'AfterPromo', 'BeforePromo', \n",
    "                             'AfterClosed', 'BeforeClosed'})"
   ]
  },
  {
   "cell_type": "code",
   "execution_count": 13,
   "metadata": {},
   "outputs": [
    {
     "data": {
      "text/plain": [
       "Index(['CompetitionDistance', 'Max_VisibilityKm', 'Mean_VisibilityKm',\n",
       "       'Min_VisibilitykM', 'Max_Gust_SpeedKm_h', 'Precipitationmm',\n",
       "       'CloudCover'],\n",
       "      dtype='object')"
      ]
     },
     "execution_count": 13,
     "metadata": {},
     "output_type": "execute_result"
    }
   ],
   "source": [
    "float64_columns = train_df.select_dtypes(include='float64').dtypes.index\n",
    "float64_columns"
   ]
  },
  {
   "cell_type": "code",
   "execution_count": 14,
   "metadata": {},
   "outputs": [],
   "source": [
    "cont_vars = cont_vars.union(float64_columns)"
   ]
  },
  {
   "cell_type": "code",
   "execution_count": 15,
   "metadata": {},
   "outputs": [
    {
     "data": {
      "text/plain": [
       "{'CompetitionOpenSince',\n",
       " 'Customers',\n",
       " 'Date',\n",
       " 'Elapsed',\n",
       " 'Promo2Since',\n",
       " 'Sales'}"
      ]
     },
     "execution_count": 15,
     "metadata": {},
     "output_type": "execute_result"
    }
   ],
   "source": [
    "set(train_df.columns).difference(cat_vars | cont_vars)"
   ]
  },
  {
   "cell_type": "code",
   "execution_count": 16,
   "metadata": {},
   "outputs": [],
   "source": [
    "cat_vars = sorted(cat_vars)\n",
    "cont_vars = sorted(cont_vars)"
   ]
  },
  {
   "cell_type": "code",
   "execution_count": 17,
   "metadata": {},
   "outputs": [
    {
     "data": {
      "text/html": [
       "<div>\n",
       "<style scoped>\n",
       "    .dataframe tbody tr th:only-of-type {\n",
       "        vertical-align: middle;\n",
       "    }\n",
       "\n",
       "    .dataframe tbody tr th {\n",
       "        vertical-align: top;\n",
       "    }\n",
       "\n",
       "    .dataframe thead th {\n",
       "        text-align: right;\n",
       "    }\n",
       "</style>\n",
       "<table border=\"1\" class=\"dataframe\">\n",
       "  <thead>\n",
       "    <tr style=\"text-align: right;\">\n",
       "      <th></th>\n",
       "      <th>count</th>\n",
       "      <th>unique</th>\n",
       "      <th>top</th>\n",
       "      <th>freq</th>\n",
       "    </tr>\n",
       "  </thead>\n",
       "  <tbody>\n",
       "    <tr>\n",
       "      <th>Assortment</th>\n",
       "      <td>844338</td>\n",
       "      <td>3</td>\n",
       "      <td>a</td>\n",
       "      <td>444875</td>\n",
       "    </tr>\n",
       "    <tr>\n",
       "      <th>Closed_bw</th>\n",
       "      <td>844338</td>\n",
       "      <td>7</td>\n",
       "      <td>1</td>\n",
       "      <td>700949</td>\n",
       "    </tr>\n",
       "    <tr>\n",
       "      <th>Closed_fw</th>\n",
       "      <td>844338</td>\n",
       "      <td>7</td>\n",
       "      <td>1</td>\n",
       "      <td>700678</td>\n",
       "    </tr>\n",
       "    <tr>\n",
       "      <th>CompetitionMonthsOpen</th>\n",
       "      <td>844338</td>\n",
       "      <td>25</td>\n",
       "      <td>24</td>\n",
       "      <td>386213</td>\n",
       "    </tr>\n",
       "    <tr>\n",
       "      <th>CompetitionOpenSinceMonth</th>\n",
       "      <td>844338</td>\n",
       "      <td>12</td>\n",
       "      <td>1</td>\n",
       "      <td>278897</td>\n",
       "    </tr>\n",
       "    <tr>\n",
       "      <th>CompetitionOpenSinceYear</th>\n",
       "      <td>844338</td>\n",
       "      <td>23</td>\n",
       "      <td>1900</td>\n",
       "      <td>269222</td>\n",
       "    </tr>\n",
       "    <tr>\n",
       "      <th>Day</th>\n",
       "      <td>844338</td>\n",
       "      <td>31</td>\n",
       "      <td>11</td>\n",
       "      <td>30119</td>\n",
       "    </tr>\n",
       "    <tr>\n",
       "      <th>Dayofweek</th>\n",
       "      <td>844338</td>\n",
       "      <td>7</td>\n",
       "      <td>5</td>\n",
       "      <td>144052</td>\n",
       "    </tr>\n",
       "    <tr>\n",
       "      <th>Dayofyear</th>\n",
       "      <td>844338</td>\n",
       "      <td>365</td>\n",
       "      <td>2</td>\n",
       "      <td>3341</td>\n",
       "    </tr>\n",
       "    <tr>\n",
       "      <th>Events</th>\n",
       "      <td>641281</td>\n",
       "      <td>21</td>\n",
       "      <td>Rain</td>\n",
       "      <td>324320</td>\n",
       "    </tr>\n",
       "    <tr>\n",
       "      <th>Is_month_end</th>\n",
       "      <td>844338</td>\n",
       "      <td>2</td>\n",
       "      <td>False</td>\n",
       "      <td>816299</td>\n",
       "    </tr>\n",
       "    <tr>\n",
       "      <th>Is_month_start</th>\n",
       "      <td>844338</td>\n",
       "      <td>2</td>\n",
       "      <td>False</td>\n",
       "      <td>824972</td>\n",
       "    </tr>\n",
       "    <tr>\n",
       "      <th>Is_quarter_end</th>\n",
       "      <td>844338</td>\n",
       "      <td>2</td>\n",
       "      <td>False</td>\n",
       "      <td>835723</td>\n",
       "    </tr>\n",
       "    <tr>\n",
       "      <th>Is_quarter_start</th>\n",
       "      <td>844338</td>\n",
       "      <td>2</td>\n",
       "      <td>False</td>\n",
       "      <td>836819</td>\n",
       "    </tr>\n",
       "    <tr>\n",
       "      <th>Is_year_end</th>\n",
       "      <td>844338</td>\n",
       "      <td>2</td>\n",
       "      <td>False</td>\n",
       "      <td>842288</td>\n",
       "    </tr>\n",
       "    <tr>\n",
       "      <th>Is_year_start</th>\n",
       "      <td>844338</td>\n",
       "      <td>2</td>\n",
       "      <td>False</td>\n",
       "      <td>844285</td>\n",
       "    </tr>\n",
       "    <tr>\n",
       "      <th>Month</th>\n",
       "      <td>844338</td>\n",
       "      <td>12</td>\n",
       "      <td>1</td>\n",
       "      <td>86335</td>\n",
       "    </tr>\n",
       "    <tr>\n",
       "      <th>Promo</th>\n",
       "      <td>844338</td>\n",
       "      <td>2</td>\n",
       "      <td>False</td>\n",
       "      <td>467463</td>\n",
       "    </tr>\n",
       "    <tr>\n",
       "      <th>Promo2</th>\n",
       "      <td>844338</td>\n",
       "      <td>2</td>\n",
       "      <td>False</td>\n",
       "      <td>423292</td>\n",
       "    </tr>\n",
       "    <tr>\n",
       "      <th>Promo2SinceWeek</th>\n",
       "      <td>844338</td>\n",
       "      <td>24</td>\n",
       "      <td>1</td>\n",
       "      <td>450161</td>\n",
       "    </tr>\n",
       "    <tr>\n",
       "      <th>Promo2SinceYear</th>\n",
       "      <td>844338</td>\n",
       "      <td>8</td>\n",
       "      <td>1900</td>\n",
       "      <td>423292</td>\n",
       "    </tr>\n",
       "    <tr>\n",
       "      <th>Promo2Weeks</th>\n",
       "      <td>844338</td>\n",
       "      <td>26</td>\n",
       "      <td>0</td>\n",
       "      <td>481535</td>\n",
       "    </tr>\n",
       "    <tr>\n",
       "      <th>PromoInterval</th>\n",
       "      <td>421046</td>\n",
       "      <td>3</td>\n",
       "      <td>Jan,Apr,Jul,Oct</td>\n",
       "      <td>242397</td>\n",
       "    </tr>\n",
       "    <tr>\n",
       "      <th>Promo_bw</th>\n",
       "      <td>844338</td>\n",
       "      <td>6</td>\n",
       "      <td>5</td>\n",
       "      <td>195384</td>\n",
       "    </tr>\n",
       "    <tr>\n",
       "      <th>Promo_fw</th>\n",
       "      <td>844338</td>\n",
       "      <td>6</td>\n",
       "      <td>5</td>\n",
       "      <td>201462</td>\n",
       "    </tr>\n",
       "    <tr>\n",
       "      <th>SchoolHoliday</th>\n",
       "      <td>844338</td>\n",
       "      <td>2</td>\n",
       "      <td>False</td>\n",
       "      <td>680893</td>\n",
       "    </tr>\n",
       "    <tr>\n",
       "      <th>SchoolHoliday_bw</th>\n",
       "      <td>844338</td>\n",
       "      <td>8</td>\n",
       "      <td>0</td>\n",
       "      <td>583273</td>\n",
       "    </tr>\n",
       "    <tr>\n",
       "      <th>SchoolHoliday_fw</th>\n",
       "      <td>844338</td>\n",
       "      <td>8</td>\n",
       "      <td>0</td>\n",
       "      <td>584676</td>\n",
       "    </tr>\n",
       "    <tr>\n",
       "      <th>State</th>\n",
       "      <td>844338</td>\n",
       "      <td>12</td>\n",
       "      <td>NW</td>\n",
       "      <td>222930</td>\n",
       "    </tr>\n",
       "    <tr>\n",
       "      <th>StateHoliday</th>\n",
       "      <td>844338</td>\n",
       "      <td>2</td>\n",
       "      <td>False</td>\n",
       "      <td>843428</td>\n",
       "    </tr>\n",
       "    <tr>\n",
       "      <th>StateHoliday_bw</th>\n",
       "      <td>844338</td>\n",
       "      <td>3</td>\n",
       "      <td>0</td>\n",
       "      <td>714596</td>\n",
       "    </tr>\n",
       "    <tr>\n",
       "      <th>StateHoliday_fw</th>\n",
       "      <td>844338</td>\n",
       "      <td>3</td>\n",
       "      <td>0</td>\n",
       "      <td>720392</td>\n",
       "    </tr>\n",
       "    <tr>\n",
       "      <th>Store</th>\n",
       "      <td>844338</td>\n",
       "      <td>1115</td>\n",
       "      <td>682</td>\n",
       "      <td>942</td>\n",
       "    </tr>\n",
       "    <tr>\n",
       "      <th>StoreType</th>\n",
       "      <td>844338</td>\n",
       "      <td>4</td>\n",
       "      <td>a</td>\n",
       "      <td>457042</td>\n",
       "    </tr>\n",
       "    <tr>\n",
       "      <th>Week</th>\n",
       "      <td>844338</td>\n",
       "      <td>52</td>\n",
       "      <td>26</td>\n",
       "      <td>20119</td>\n",
       "    </tr>\n",
       "    <tr>\n",
       "      <th>Year</th>\n",
       "      <td>844338</td>\n",
       "      <td>3</td>\n",
       "      <td>2013</td>\n",
       "      <td>337924</td>\n",
       "    </tr>\n",
       "  </tbody>\n",
       "</table>\n",
       "</div>"
      ],
      "text/plain": [
       "                            count unique              top    freq\n",
       "Assortment                 844338      3                a  444875\n",
       "Closed_bw                  844338      7                1  700949\n",
       "Closed_fw                  844338      7                1  700678\n",
       "CompetitionMonthsOpen      844338     25               24  386213\n",
       "CompetitionOpenSinceMonth  844338     12                1  278897\n",
       "CompetitionOpenSinceYear   844338     23             1900  269222\n",
       "Day                        844338     31               11   30119\n",
       "Dayofweek                  844338      7                5  144052\n",
       "Dayofyear                  844338    365                2    3341\n",
       "Events                     641281     21             Rain  324320\n",
       "Is_month_end               844338      2            False  816299\n",
       "Is_month_start             844338      2            False  824972\n",
       "Is_quarter_end             844338      2            False  835723\n",
       "Is_quarter_start           844338      2            False  836819\n",
       "Is_year_end                844338      2            False  842288\n",
       "Is_year_start              844338      2            False  844285\n",
       "Month                      844338     12                1   86335\n",
       "Promo                      844338      2            False  467463\n",
       "Promo2                     844338      2            False  423292\n",
       "Promo2SinceWeek            844338     24                1  450161\n",
       "Promo2SinceYear            844338      8             1900  423292\n",
       "Promo2Weeks                844338     26                0  481535\n",
       "PromoInterval              421046      3  Jan,Apr,Jul,Oct  242397\n",
       "Promo_bw                   844338      6                5  195384\n",
       "Promo_fw                   844338      6                5  201462\n",
       "SchoolHoliday              844338      2            False  680893\n",
       "SchoolHoliday_bw           844338      8                0  583273\n",
       "SchoolHoliday_fw           844338      8                0  584676\n",
       "State                      844338     12               NW  222930\n",
       "StateHoliday               844338      2            False  843428\n",
       "StateHoliday_bw            844338      3                0  714596\n",
       "StateHoliday_fw            844338      3                0  720392\n",
       "Store                      844338   1115              682     942\n",
       "StoreType                  844338      4                a  457042\n",
       "Week                       844338     52               26   20119\n",
       "Year                       844338      3             2013  337924"
      ]
     },
     "execution_count": 17,
     "metadata": {},
     "output_type": "execute_result"
    }
   ],
   "source": [
    "train_df[cat_vars].astype('object').describe().T"
   ]
  },
  {
   "cell_type": "code",
   "execution_count": 18,
   "metadata": {},
   "outputs": [
    {
     "data": {
      "text/html": [
       "<div>\n",
       "<style scoped>\n",
       "    .dataframe tbody tr th:only-of-type {\n",
       "        vertical-align: middle;\n",
       "    }\n",
       "\n",
       "    .dataframe tbody tr th {\n",
       "        vertical-align: top;\n",
       "    }\n",
       "\n",
       "    .dataframe thead th {\n",
       "        text-align: right;\n",
       "    }\n",
       "</style>\n",
       "<table border=\"1\" class=\"dataframe\">\n",
       "  <thead>\n",
       "    <tr style=\"text-align: right;\">\n",
       "      <th></th>\n",
       "      <th>count</th>\n",
       "      <th>min</th>\n",
       "      <th>max</th>\n",
       "    </tr>\n",
       "  </thead>\n",
       "  <tbody>\n",
       "    <tr>\n",
       "      <th>AfterClosed</th>\n",
       "      <td>844338.0</td>\n",
       "      <td>0.0</td>\n",
       "      <td>926.00</td>\n",
       "    </tr>\n",
       "    <tr>\n",
       "      <th>AfterPromo</th>\n",
       "      <td>844338.0</td>\n",
       "      <td>0.0</td>\n",
       "      <td>188.00</td>\n",
       "    </tr>\n",
       "    <tr>\n",
       "      <th>AfterSchoolHoliday</th>\n",
       "      <td>844338.0</td>\n",
       "      <td>0.0</td>\n",
       "      <td>107.00</td>\n",
       "    </tr>\n",
       "    <tr>\n",
       "      <th>AfterStateHoliday</th>\n",
       "      <td>844338.0</td>\n",
       "      <td>0.0</td>\n",
       "      <td>135.00</td>\n",
       "    </tr>\n",
       "    <tr>\n",
       "      <th>BeforeClosed</th>\n",
       "      <td>844338.0</td>\n",
       "      <td>0.0</td>\n",
       "      <td>986.00</td>\n",
       "    </tr>\n",
       "    <tr>\n",
       "      <th>BeforePromo</th>\n",
       "      <td>844338.0</td>\n",
       "      <td>0.0</td>\n",
       "      <td>16.00</td>\n",
       "    </tr>\n",
       "    <tr>\n",
       "      <th>BeforeSchoolHoliday</th>\n",
       "      <td>844338.0</td>\n",
       "      <td>0.0</td>\n",
       "      <td>194.00</td>\n",
       "    </tr>\n",
       "    <tr>\n",
       "      <th>BeforeStateHoliday</th>\n",
       "      <td>844338.0</td>\n",
       "      <td>0.0</td>\n",
       "      <td>195.00</td>\n",
       "    </tr>\n",
       "    <tr>\n",
       "      <th>CloudCover</th>\n",
       "      <td>776282.0</td>\n",
       "      <td>0.0</td>\n",
       "      <td>8.00</td>\n",
       "    </tr>\n",
       "    <tr>\n",
       "      <th>CompetitionDaysOpen</th>\n",
       "      <td>844338.0</td>\n",
       "      <td>0.0</td>\n",
       "      <td>9177.00</td>\n",
       "    </tr>\n",
       "    <tr>\n",
       "      <th>CompetitionDistance</th>\n",
       "      <td>842152.0</td>\n",
       "      <td>20.0</td>\n",
       "      <td>75860.00</td>\n",
       "    </tr>\n",
       "    <tr>\n",
       "      <th>Dew_PointC</th>\n",
       "      <td>844338.0</td>\n",
       "      <td>-14.0</td>\n",
       "      <td>25.00</td>\n",
       "    </tr>\n",
       "    <tr>\n",
       "      <th>Max_Gust_SpeedKm_h</th>\n",
       "      <td>194051.0</td>\n",
       "      <td>21.0</td>\n",
       "      <td>111.00</td>\n",
       "    </tr>\n",
       "    <tr>\n",
       "      <th>Max_Humidity</th>\n",
       "      <td>844338.0</td>\n",
       "      <td>44.0</td>\n",
       "      <td>100.00</td>\n",
       "    </tr>\n",
       "    <tr>\n",
       "      <th>Max_Sea_Level_PressurehPa</th>\n",
       "      <td>844338.0</td>\n",
       "      <td>976.0</td>\n",
       "      <td>1043.00</td>\n",
       "    </tr>\n",
       "    <tr>\n",
       "      <th>Max_TemperatureC</th>\n",
       "      <td>844338.0</td>\n",
       "      <td>-11.0</td>\n",
       "      <td>38.00</td>\n",
       "    </tr>\n",
       "    <tr>\n",
       "      <th>Max_VisibilityKm</th>\n",
       "      <td>823710.0</td>\n",
       "      <td>0.0</td>\n",
       "      <td>31.00</td>\n",
       "    </tr>\n",
       "    <tr>\n",
       "      <th>Max_Wind_SpeedKm_h</th>\n",
       "      <td>844338.0</td>\n",
       "      <td>3.0</td>\n",
       "      <td>101.00</td>\n",
       "    </tr>\n",
       "    <tr>\n",
       "      <th>MeanDew_PointC</th>\n",
       "      <td>844338.0</td>\n",
       "      <td>-15.0</td>\n",
       "      <td>20.00</td>\n",
       "    </tr>\n",
       "    <tr>\n",
       "      <th>Mean_Humidity</th>\n",
       "      <td>844338.0</td>\n",
       "      <td>30.0</td>\n",
       "      <td>100.00</td>\n",
       "    </tr>\n",
       "    <tr>\n",
       "      <th>Mean_Sea_Level_PressurehPa</th>\n",
       "      <td>844338.0</td>\n",
       "      <td>974.0</td>\n",
       "      <td>1040.00</td>\n",
       "    </tr>\n",
       "    <tr>\n",
       "      <th>Mean_TemperatureC</th>\n",
       "      <td>844338.0</td>\n",
       "      <td>-13.0</td>\n",
       "      <td>31.00</td>\n",
       "    </tr>\n",
       "    <tr>\n",
       "      <th>Mean_VisibilityKm</th>\n",
       "      <td>823710.0</td>\n",
       "      <td>0.0</td>\n",
       "      <td>31.00</td>\n",
       "    </tr>\n",
       "    <tr>\n",
       "      <th>Mean_Wind_SpeedKm_h</th>\n",
       "      <td>844338.0</td>\n",
       "      <td>2.0</td>\n",
       "      <td>53.00</td>\n",
       "    </tr>\n",
       "    <tr>\n",
       "      <th>Min_DewpointC</th>\n",
       "      <td>844338.0</td>\n",
       "      <td>-73.0</td>\n",
       "      <td>18.00</td>\n",
       "    </tr>\n",
       "    <tr>\n",
       "      <th>Min_Humidity</th>\n",
       "      <td>844338.0</td>\n",
       "      <td>4.0</td>\n",
       "      <td>100.00</td>\n",
       "    </tr>\n",
       "    <tr>\n",
       "      <th>Min_Sea_Level_PressurehPa</th>\n",
       "      <td>844338.0</td>\n",
       "      <td>970.0</td>\n",
       "      <td>1038.00</td>\n",
       "    </tr>\n",
       "    <tr>\n",
       "      <th>Min_TemperatureC</th>\n",
       "      <td>844338.0</td>\n",
       "      <td>-15.0</td>\n",
       "      <td>24.00</td>\n",
       "    </tr>\n",
       "    <tr>\n",
       "      <th>Min_VisibilitykM</th>\n",
       "      <td>823710.0</td>\n",
       "      <td>0.0</td>\n",
       "      <td>31.00</td>\n",
       "    </tr>\n",
       "    <tr>\n",
       "      <th>Precipitationmm</th>\n",
       "      <td>844338.0</td>\n",
       "      <td>0.0</td>\n",
       "      <td>58.93</td>\n",
       "    </tr>\n",
       "    <tr>\n",
       "      <th>Promo2Days</th>\n",
       "      <td>844338.0</td>\n",
       "      <td>0.0</td>\n",
       "      <td>2195.00</td>\n",
       "    </tr>\n",
       "    <tr>\n",
       "      <th>WindDirDegrees</th>\n",
       "      <td>844338.0</td>\n",
       "      <td>-1.0</td>\n",
       "      <td>360.00</td>\n",
       "    </tr>\n",
       "    <tr>\n",
       "      <th>trend</th>\n",
       "      <td>844338.0</td>\n",
       "      <td>28.0</td>\n",
       "      <td>100.00</td>\n",
       "    </tr>\n",
       "    <tr>\n",
       "      <th>trend_DE</th>\n",
       "      <td>844338.0</td>\n",
       "      <td>50.0</td>\n",
       "      <td>100.00</td>\n",
       "    </tr>\n",
       "  </tbody>\n",
       "</table>\n",
       "</div>"
      ],
      "text/plain": [
       "                               count    min       max\n",
       "AfterClosed                 844338.0    0.0    926.00\n",
       "AfterPromo                  844338.0    0.0    188.00\n",
       "AfterSchoolHoliday          844338.0    0.0    107.00\n",
       "AfterStateHoliday           844338.0    0.0    135.00\n",
       "BeforeClosed                844338.0    0.0    986.00\n",
       "BeforePromo                 844338.0    0.0     16.00\n",
       "BeforeSchoolHoliday         844338.0    0.0    194.00\n",
       "BeforeStateHoliday          844338.0    0.0    195.00\n",
       "CloudCover                  776282.0    0.0      8.00\n",
       "CompetitionDaysOpen         844338.0    0.0   9177.00\n",
       "CompetitionDistance         842152.0   20.0  75860.00\n",
       "Dew_PointC                  844338.0  -14.0     25.00\n",
       "Max_Gust_SpeedKm_h          194051.0   21.0    111.00\n",
       "Max_Humidity                844338.0   44.0    100.00\n",
       "Max_Sea_Level_PressurehPa   844338.0  976.0   1043.00\n",
       "Max_TemperatureC            844338.0  -11.0     38.00\n",
       "Max_VisibilityKm            823710.0    0.0     31.00\n",
       "Max_Wind_SpeedKm_h          844338.0    3.0    101.00\n",
       "MeanDew_PointC              844338.0  -15.0     20.00\n",
       "Mean_Humidity               844338.0   30.0    100.00\n",
       "Mean_Sea_Level_PressurehPa  844338.0  974.0   1040.00\n",
       "Mean_TemperatureC           844338.0  -13.0     31.00\n",
       "Mean_VisibilityKm           823710.0    0.0     31.00\n",
       "Mean_Wind_SpeedKm_h         844338.0    2.0     53.00\n",
       "Min_DewpointC               844338.0  -73.0     18.00\n",
       "Min_Humidity                844338.0    4.0    100.00\n",
       "Min_Sea_Level_PressurehPa   844338.0  970.0   1038.00\n",
       "Min_TemperatureC            844338.0  -15.0     24.00\n",
       "Min_VisibilitykM            823710.0    0.0     31.00\n",
       "Precipitationmm             844338.0    0.0     58.93\n",
       "Promo2Days                  844338.0    0.0   2195.00\n",
       "WindDirDegrees              844338.0   -1.0    360.00\n",
       "trend                       844338.0   28.0    100.00\n",
       "trend_DE                    844338.0   50.0    100.00"
      ]
     },
     "execution_count": 18,
     "metadata": {},
     "output_type": "execute_result"
    }
   ],
   "source": [
    "train_df[cont_vars].describe().T[['count', 'min', 'max']]"
   ]
  },
  {
   "cell_type": "code",
   "execution_count": 19,
   "metadata": {},
   "outputs": [
    {
     "data": {
      "text/plain": [
       "count    844338.000000\n",
       "mean       6955.959134\n",
       "std        3103.815515\n",
       "min          46.000000\n",
       "25%        4859.000000\n",
       "50%        6369.000000\n",
       "75%        8360.000000\n",
       "max       41551.000000\n",
       "Name: Sales, dtype: float64"
      ]
     },
     "execution_count": 19,
     "metadata": {},
     "output_type": "execute_result"
    }
   ],
   "source": [
    "train_df[label_var].describe()"
   ]
  },
  {
   "cell_type": "markdown",
   "metadata": {},
   "source": [
    "### Build the dataset"
   ]
  },
  {
   "cell_type": "code",
   "execution_count": 20,
   "metadata": {},
   "outputs": [],
   "source": [
    "df = train_df[cat_vars + cont_vars + [label_var, 'Date']].copy()"
   ]
  },
  {
   "cell_type": "code",
   "execution_count": 21,
   "metadata": {},
   "outputs": [
    {
     "data": {
      "text/plain": [
       "(Timestamp('2013-01-01 00:00:00'), Timestamp('2015-07-31 00:00:00'))"
      ]
     },
     "execution_count": 21,
     "metadata": {},
     "output_type": "execute_result"
    }
   ],
   "source": [
    "df.Date.iloc[0], df.Date.iloc[-1]"
   ]
  },
  {
   "cell_type": "code",
   "execution_count": 22,
   "metadata": {},
   "outputs": [
    {
     "data": {
      "text/plain": [
       "(Timestamp('2015-08-01 00:00:00'), Timestamp('2015-09-17 00:00:00'))"
      ]
     },
     "execution_count": 22,
     "metadata": {},
     "output_type": "execute_result"
    }
   ],
   "source": [
    "test_df.Date.iloc[0], test_df.Date.iloc[-1]"
   ]
  },
  {
   "cell_type": "code",
   "execution_count": 23,
   "metadata": {},
   "outputs": [
    {
     "data": {
      "text/plain": [
       "(809658, 844337)"
      ]
     },
     "execution_count": 23,
     "metadata": {},
     "output_type": "execute_result"
    }
   ],
   "source": [
    "cut_date = train_df.Date.iloc[train_df.shape[0] - test_df.shape[0]]\n",
    "valid_idx = train_df.index[train_df.Date > cut_date].tolist()\n",
    "\n",
    "valid_idx[0], valid_idx[-1]"
   ]
  },
  {
   "cell_type": "code",
   "execution_count": 24,
   "metadata": {},
   "outputs": [],
   "source": [
    "procs = [tabular.FillMissing, tabular.Categorify, tabular.Normalize]"
   ]
  },
  {
   "cell_type": "code",
   "execution_count": 25,
   "metadata": {},
   "outputs": [
    {
     "data": {
      "text/plain": [
       "(809658, 34680)"
      ]
     },
     "execution_count": 25,
     "metadata": {},
     "output_type": "execute_result"
    }
   ],
   "source": [
    "test_data = tabular.TabularList.from_df(test_df, path=path, cat_names=cat_vars, cont_names=cont_vars)\n",
    "data = (tabular.TabularList.from_df(df, path=path, cat_names=cat_vars, cont_names=cont_vars, procs=procs)\n",
    "        .split_by_idx(valid_idx)\n",
    "        .label_from_df(cols=label_var, label_cls=tabular.FloatList, log=True)\n",
    "        .add_test(test_data)\n",
    "        .databunch())\n",
    "\n",
    "len(data.train_ds), len(data.valid_ds)"
   ]
  },
  {
   "cell_type": "markdown",
   "metadata": {},
   "source": [
    "### Train the model"
   ]
  },
  {
   "cell_type": "code",
   "execution_count": 26,
   "metadata": {},
   "outputs": [],
   "source": [
    "max_log_y = np.log(np.max(train_df['Sales'])*1.2)\n",
    "y_range = tabular.torch.tensor([0, max_log_y], device=tabular.defaults.device)"
   ]
  },
  {
   "cell_type": "code",
   "execution_count": 27,
   "metadata": {},
   "outputs": [],
   "source": [
    "learn = tabular.tabular_learner(data, \n",
    "                                layers=[1000, 500], \n",
    "                                ps=[0.001, 0.01], \n",
    "                                emb_drop=0.04, \n",
    "                                y_range=y_range, \n",
    "                                metrics=tabular.exp_rmspe)"
   ]
  },
  {
   "cell_type": "code",
   "execution_count": 28,
   "metadata": {},
   "outputs": [
    {
     "data": {
      "text/plain": [
       "TabularModel(\n",
       "  (embeds): ModuleList(\n",
       "    (0): Embedding(4, 3)\n",
       "    (1): Embedding(8, 5)\n",
       "    (2): Embedding(8, 5)\n",
       "    (3): Embedding(26, 10)\n",
       "    (4): Embedding(13, 7)\n",
       "    (5): Embedding(24, 9)\n",
       "    (6): Embedding(32, 11)\n",
       "    (7): Embedding(8, 5)\n",
       "    (8): Embedding(366, 44)\n",
       "    (9): Embedding(22, 9)\n",
       "    (10): Embedding(3, 3)\n",
       "    (11): Embedding(3, 3)\n",
       "    (12): Embedding(3, 3)\n",
       "    (13): Embedding(3, 3)\n",
       "    (14): Embedding(3, 3)\n",
       "    (15): Embedding(3, 3)\n",
       "    (16): Embedding(13, 7)\n",
       "    (17): Embedding(3, 3)\n",
       "    (18): Embedding(3, 3)\n",
       "    (19): Embedding(25, 10)\n",
       "    (20): Embedding(9, 5)\n",
       "    (21): Embedding(27, 10)\n",
       "    (22): Embedding(4, 3)\n",
       "    (23): Embedding(7, 5)\n",
       "    (24): Embedding(7, 5)\n",
       "    (25): Embedding(3, 3)\n",
       "    (26): Embedding(9, 5)\n",
       "    (27): Embedding(9, 5)\n",
       "    (28): Embedding(13, 7)\n",
       "    (29): Embedding(3, 3)\n",
       "    (30): Embedding(4, 3)\n",
       "    (31): Embedding(4, 3)\n",
       "    (32): Embedding(1116, 81)\n",
       "    (33): Embedding(5, 4)\n",
       "    (34): Embedding(53, 15)\n",
       "    (35): Embedding(4, 3)\n",
       "    (36): Embedding(3, 3)\n",
       "    (37): Embedding(3, 3)\n",
       "    (38): Embedding(3, 3)\n",
       "    (39): Embedding(3, 3)\n",
       "    (40): Embedding(3, 3)\n",
       "    (41): Embedding(3, 3)\n",
       "  )\n",
       "  (emb_drop): Dropout(p=0.04)\n",
       "  (bn_cont): BatchNorm1d(34, eps=1e-05, momentum=0.1, affine=True, track_running_stats=True)\n",
       "  (layers): Sequential(\n",
       "    (0): Linear(in_features=361, out_features=1000, bias=True)\n",
       "    (1): ReLU(inplace)\n",
       "    (2): BatchNorm1d(1000, eps=1e-05, momentum=0.1, affine=True, track_running_stats=True)\n",
       "    (3): Dropout(p=0.001)\n",
       "    (4): Linear(in_features=1000, out_features=500, bias=True)\n",
       "    (5): ReLU(inplace)\n",
       "    (6): BatchNorm1d(500, eps=1e-05, momentum=0.1, affine=True, track_running_stats=True)\n",
       "    (7): Dropout(p=0.01)\n",
       "    (8): Linear(in_features=500, out_features=1, bias=True)\n",
       "  )\n",
       ")"
      ]
     },
     "execution_count": 28,
     "metadata": {},
     "output_type": "execute_result"
    }
   ],
   "source": [
    "learn.model"
   ]
  },
  {
   "cell_type": "code",
   "execution_count": 29,
   "metadata": {},
   "outputs": [
    {
     "name": "stdout",
     "output_type": "stream",
     "text": [
      "LR Finder is complete, type {learner_name}.recorder.plot() to see the graph.\n"
     ]
    },
    {
     "data": {
      "image/png": "[encoded data removed]",
      "text/plain": [
       "<Figure size 432x288 with 1 Axes>"
      ]
     },
     "metadata": {
      "needs_background": "light"
     },
     "output_type": "display_data"
    }
   ],
   "source": [
    "learn.lr_find()\n",
    "learn.recorder.plot()"
   ]
  },
  {
   "cell_type": "code",
   "execution_count": 30,
   "metadata": {},
   "outputs": [
    {
     "data": {
      "text/html": [
       "Total time: 13:24 <p><table style='width:300px; margin-bottom:10px'>\n",
       "  <tr>\n",
       "    <th>epoch</th>\n",
       "    <th>train_loss</th>\n",
       "    <th>valid_loss</th>\n",
       "    <th>exp_rmspe</th>\n",
       "  </tr>\n",
       "  <tr>\n",
       "    <th>1</th>\n",
       "    <th>0.022802</th>\n",
       "    <th>0.019900</th>\n",
       "    <th>0.138295</th>\n",
       "  </tr>\n",
       "  <tr>\n",
       "    <th>2</th>\n",
       "    <th>0.019902</th>\n",
       "    <th>0.025917</th>\n",
       "    <th>0.172871</th>\n",
       "  </tr>\n",
       "  <tr>\n",
       "    <th>3</th>\n",
       "    <th>0.014669</th>\n",
       "    <th>0.014708</th>\n",
       "    <th>0.120122</th>\n",
       "  </tr>\n",
       "  <tr>\n",
       "    <th>4</th>\n",
       "    <th>0.012068</th>\n",
       "    <th>0.017258</th>\n",
       "    <th>0.120871</th>\n",
       "  </tr>\n",
       "  <tr>\n",
       "    <th>5</th>\n",
       "    <th>0.010232</th>\n",
       "    <th>0.012781</th>\n",
       "    <th>0.110366</th>\n",
       "  </tr>\n",
       "</table>\n"
      ],
      "text/plain": [
       "<IPython.core.display.HTML object>"
      ]
     },
     "metadata": {},
     "output_type": "display_data"
    }
   ],
   "source": [
    "learn.fit_one_cycle(5, 1e-3, wd=0.2)"
   ]
  },
  {
   "cell_type": "code",
   "execution_count": 31,
   "metadata": {},
   "outputs": [
    {
     "data": {
      "image/png": "[encoded data removed]",
      "text/plain": [
       "<Figure size 432x288 with 1 Axes>"
      ]
     },
     "metadata": {
      "needs_background": "light"
     },
     "output_type": "display_data"
    }
   ],
   "source": [
    "learn.recorder.plot_losses(last=-1)"
   ]
  },
  {
   "cell_type": "code",
   "execution_count": 32,
   "metadata": {},
   "outputs": [],
   "source": [
    "learn.save('stage1')"
   ]
  },
  {
   "cell_type": "code",
   "execution_count": 36,
   "metadata": {},
   "outputs": [],
   "source": [
    "learn.load('stage1');"
   ]
  },
  {
   "cell_type": "code",
   "execution_count": 34,
   "metadata": {},
   "outputs": [
    {
     "name": "stdout",
     "output_type": "stream",
     "text": [
      "LR Finder is complete, type {learner_name}.recorder.plot() to see the graph.\n"
     ]
    },
    {
     "data": {
      "image/png": "[encoded data removed]",
      "text/plain": [
       "<Figure size 432x288 with 1 Axes>"
      ]
     },
     "metadata": {
      "needs_background": "light"
     },
     "output_type": "display_data"
    }
   ],
   "source": [
    "learn.lr_find()\n",
    "learn.recorder.plot()"
   ]
  },
  {
   "cell_type": "code",
   "execution_count": 37,
   "metadata": {},
   "outputs": [
    {
     "data": {
      "text/html": [
       "Total time: 13:20 <p><table style='width:300px; margin-bottom:10px'>\n",
       "  <tr>\n",
       "    <th>epoch</th>\n",
       "    <th>train_loss</th>\n",
       "    <th>valid_loss</th>\n",
       "    <th>exp_rmspe</th>\n",
       "  </tr>\n",
       "  <tr>\n",
       "    <th>1</th>\n",
       "    <th>0.010233</th>\n",
       "    <th>0.012631</th>\n",
       "    <th>0.109698</th>\n",
       "  </tr>\n",
       "  <tr>\n",
       "    <th>2</th>\n",
       "    <th>0.010288</th>\n",
       "    <th>0.012418</th>\n",
       "    <th>0.109913</th>\n",
       "  </tr>\n",
       "  <tr>\n",
       "    <th>3</th>\n",
       "    <th>0.009823</th>\n",
       "    <th>0.012773</th>\n",
       "    <th>0.110692</th>\n",
       "  </tr>\n",
       "  <tr>\n",
       "    <th>4</th>\n",
       "    <th>0.009379</th>\n",
       "    <th>0.014302</th>\n",
       "    <th>0.112351</th>\n",
       "  </tr>\n",
       "  <tr>\n",
       "    <th>5</th>\n",
       "    <th>0.011117</th>\n",
       "    <th>0.013381</th>\n",
       "    <th>0.110699</th>\n",
       "  </tr>\n",
       "</table>\n"
      ],
      "text/plain": [
       "<IPython.core.display.HTML object>"
      ]
     },
     "metadata": {},
     "output_type": "display_data"
    }
   ],
   "source": [
    "learn.fit_one_cycle(5, 1e-5)"
   ]
  },
  {
   "cell_type": "code",
   "execution_count": 38,
   "metadata": {},
   "outputs": [
    {
     "data": {
      "image/png": "[encoded data removed]",
      "text/plain": [
       "<Figure size 432x288 with 1 Axes>"
      ]
     },
     "metadata": {
      "needs_background": "light"
     },
     "output_type": "display_data"
    }
   ],
   "source": [
    "learn.recorder.plot_losses()"
   ]
  },
  {
   "cell_type": "code",
   "execution_count": 39,
   "metadata": {},
   "outputs": [],
   "source": [
    "learn.save('stage2')"
   ]
  },
  {
   "cell_type": "markdown",
   "metadata": {},
   "source": [
    "### Evaluate the model"
   ]
  },
  {
   "cell_type": "code",
   "execution_count": 103,
   "metadata": {},
   "outputs": [],
   "source": [
    "learn.load('stage2');"
   ]
  },
  {
   "cell_type": "code",
   "execution_count": 104,
   "metadata": {},
   "outputs": [],
   "source": [
    "valid_preds = learn.get_preds(tabular.DatasetType.Valid)"
   ]
  },
  {
   "cell_type": "code",
   "execution_count": 105,
   "metadata": {},
   "outputs": [],
   "source": [
    "eval_df = df.iloc[valid_idx].copy()\n",
    "eval_df['PredSales'] = np.exp(valid_preds[0].data).numpy().T[0]"
   ]
  },
  {
   "cell_type": "code",
   "execution_count": 107,
   "metadata": {},
   "outputs": [
    {
     "data": {
      "image/png": "[encoded data removed]",
      "text/plain": [
       "<Figure size 864x288 with 1 Axes>"
      ]
     },
     "metadata": {
      "needs_background": "light"
     },
     "output_type": "display_data"
    }
   ],
   "source": [
    "# Plot actual and predicted time series\n",
    "import matplotlib.dates as mdates\n",
    "from pandas.plotting import register_matplotlib_converters\n",
    "register_matplotlib_converters()\n",
    "\n",
    "grouped = eval_df.melt(id_vars=['Date'], value_vars=['Sales', 'PredSales'])\n",
    "\n",
    "f, ax = plt.subplots(figsize=(12, 4))\n",
    "sns.lineplot(x=\"Date\", y=\"value\", hue=\"variable\", data=grouped, ax=ax)\n",
    "ax.xaxis.set_major_locator(mdates.WeekdayLocator())\n",
    "ax.xaxis.set_major_formatter(mdates.DateFormatter('%b %d'))\n",
    "plt.show()"
   ]
  },
  {
   "cell_type": "markdown",
   "metadata": {},
   "source": [
    "### Explore learned embeddings"
   ]
  },
  {
   "cell_type": "code",
   "execution_count": 108,
   "metadata": {},
   "outputs": [
    {
     "data": {
      "text/plain": [
       "(13, 7)"
      ]
     },
     "execution_count": 108,
     "metadata": {},
     "output_type": "execute_result"
    }
   ],
   "source": [
    "# Discover whether the model captures geographical information\n",
    "def get_embeddings(fld):\n",
    "    embeddings = learn.model.embeds[cat_vars.index(fld)]\n",
    "    return embeddings(tabular.torch.LongTensor(range(embeddings.num_embeddings))).detach().cpu().numpy()\n",
    "\n",
    "store_embeddings = get_embeddings('State')\n",
    "store_embeddings.shape"
   ]
  },
  {
   "cell_type": "code",
   "execution_count": 109,
   "metadata": {},
   "outputs": [
    {
     "data": {
      "text/plain": [
       "(13, 2)"
      ]
     },
     "execution_count": 109,
     "metadata": {},
     "output_type": "execute_result"
    }
   ],
   "source": [
    "from sklearn.decomposition import PCA\n",
    "\n",
    "pca = PCA(n_components=2)\n",
    "store_pca = pca.fit(store_embeddings.T).components_.T\n",
    "store_pca.shape"
   ]
  },
  {
   "cell_type": "code",
   "execution_count": 110,
   "metadata": {},
   "outputs": [
    {
     "data": {
      "image/png": "[encoded data removed]",
      "text/plain": [
       "<Figure size 720x576 with 1 Axes>"
      ]
     },
     "metadata": {
      "needs_background": "light"
     },
     "output_type": "display_data"
    }
   ],
   "source": [
    "X = store_pca[1:, 0]\n",
    "Y = store_pca[1:, 1]\n",
    "plt.figure(figsize=(10, 8))\n",
    "plt.scatter(X, Y)\n",
    "state_name = dict(pd.read_csv(path/'state_names.csv')[['State', 'StateName']].values.tolist())\n",
    "for i, (x, y) in enumerate(zip(X, Y)):\n",
    "    plt.text(x, y + 0.01, state_name[learn.data.classes['State'][i+1]], fontsize=11)\n",
    "plt.show()"
   ]
  },
  {
   "cell_type": "code",
   "execution_count": 111,
   "metadata": {},
   "outputs": [
    {
     "data": {
      "text/plain": [
       "(8, 5)"
      ]
     },
     "execution_count": 111,
     "metadata": {},
     "output_type": "execute_result"
    }
   ],
   "source": [
    "# Discover whether the model captures temporal information\n",
    "dayofweek_embeddings = get_embeddings('Dayofweek')\n",
    "dayofweek_embeddings.shape"
   ]
  },
  {
   "cell_type": "code",
   "execution_count": 112,
   "metadata": {},
   "outputs": [
    {
     "data": {
      "text/plain": [
       "(8, 2)"
      ]
     },
     "execution_count": 112,
     "metadata": {},
     "output_type": "execute_result"
    }
   ],
   "source": [
    "pca = PCA(n_components=2)\n",
    "dayofweek_pca = pca.fit(dayofweek_embeddings.T).components_.T\n",
    "dayofweek_pca.shape"
   ]
  },
  {
   "cell_type": "code",
   "execution_count": 113,
   "metadata": {},
   "outputs": [
    {
     "data": {
      "image/png": "[encoded data removed]",
      "text/plain": [
       "<Figure size 720x576 with 1 Axes>"
      ]
     },
     "metadata": {
      "needs_background": "light"
     },
     "output_type": "display_data"
    }
   ],
   "source": [
    "X = dayofweek_pca[1:, 0]\n",
    "Y = dayofweek_pca[1:, 1]\n",
    "plt.figure(figsize=(10, 8))\n",
    "plt.scatter(X, Y)\n",
    "dayofweek_names = ['Mon', 'Tue', 'Wed', 'Thu', 'Fri', 'Sat', 'Sun']\n",
    "for i, (x, y) in enumerate(zip(X, Y)):\n",
    "    plt.text(x, y + 0.01, dayofweek_names[i], fontsize=11)\n",
    "plt.show()"
   ]
  },
  {
   "cell_type": "code",
   "execution_count": null,
   "metadata": {},
   "outputs": [],
   "source": []
  }
 ],
 "metadata": {
  "kernelspec": {
   "display_name": "Python 3",
   "language": "python",
   "name": "python3"
  },
  "language_info": {
   "codemirror_mode": {
    "name": "ipython",
    "version": 3
   },
   "file_extension": ".py",
   "mimetype": "text/x-python",
   "name": "python",
   "nbconvert_exporter": "python",
   "pygments_lexer": "ipython3",
   "version": "3.6.7"
  }
 },
 "nbformat": 4,
 "nbformat_minor": 2
}
