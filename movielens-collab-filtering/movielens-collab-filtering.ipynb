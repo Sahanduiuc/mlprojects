{
 "cells": [
  {
   "cell_type": "code",
   "execution_count": 1,
   "metadata": {},
   "outputs": [],
   "source": [
    "%reload_ext autoreload\n",
    "%autoreload 2\n",
    "%matplotlib inline"
   ]
  },
  {
   "cell_type": "code",
   "execution_count": 48,
   "metadata": {},
   "outputs": [],
   "source": [
    "import pandas as pd\n",
    "import numpy as np\n",
    "import matplotlib.pyplot as plt\n",
    "import seaborn as sns\n",
    "\n",
    "from pathlib import Path\n",
    "from fastai import collab"
   ]
  },
  {
   "cell_type": "markdown",
   "metadata": {},
   "source": [
    "### Getting the data"
   ]
  },
  {
   "cell_type": "code",
   "execution_count": 3,
   "metadata": {},
   "outputs": [
    {
     "data": {
      "text/plain": [
       "PosixPath('data')"
      ]
     },
     "execution_count": 3,
     "metadata": {},
     "output_type": "execute_result"
    }
   ],
   "source": [
    "path = Path('data')\n",
    "path.mkdir(parents=True, exist_ok=True)\n",
    "path"
   ]
  },
  {
   "cell_type": "code",
   "execution_count": 4,
   "metadata": {},
   "outputs": [],
   "source": [
    "#!wget http://files.grouplens.org/datasets/movielens/ml-latest-small.zip -P {path}"
   ]
  },
  {
   "cell_type": "code",
   "execution_count": 5,
   "metadata": {},
   "outputs": [],
   "source": [
    "#!unzip -q -n {path}/ml-latest-small.zip -d {path}/ml-latest-small\n",
    "#!rm {path}/ml-latest-small.zip"
   ]
  },
  {
   "cell_type": "code",
   "execution_count": 6,
   "metadata": {},
   "outputs": [
    {
     "name": "stdout",
     "output_type": "stream",
     "text": [
      "(100836, 4)\n"
     ]
    },
    {
     "data": {
      "text/html": [
       "<div>\n",
       "<style scoped>\n",
       "    .dataframe tbody tr th:only-of-type {\n",
       "        vertical-align: middle;\n",
       "    }\n",
       "\n",
       "    .dataframe tbody tr th {\n",
       "        vertical-align: top;\n",
       "    }\n",
       "\n",
       "    .dataframe thead th {\n",
       "        text-align: right;\n",
       "    }\n",
       "</style>\n",
       "<table border=\"1\" class=\"dataframe\">\n",
       "  <thead>\n",
       "    <tr style=\"text-align: right;\">\n",
       "      <th></th>\n",
       "      <th>userId</th>\n",
       "      <th>movieId</th>\n",
       "      <th>rating</th>\n",
       "      <th>timestamp</th>\n",
       "    </tr>\n",
       "  </thead>\n",
       "  <tbody>\n",
       "    <tr>\n",
       "      <th>0</th>\n",
       "      <td>1</td>\n",
       "      <td>1</td>\n",
       "      <td>4.0</td>\n",
       "      <td>964982703</td>\n",
       "    </tr>\n",
       "    <tr>\n",
       "      <th>1</th>\n",
       "      <td>1</td>\n",
       "      <td>3</td>\n",
       "      <td>4.0</td>\n",
       "      <td>964981247</td>\n",
       "    </tr>\n",
       "    <tr>\n",
       "      <th>2</th>\n",
       "      <td>1</td>\n",
       "      <td>6</td>\n",
       "      <td>4.0</td>\n",
       "      <td>964982224</td>\n",
       "    </tr>\n",
       "    <tr>\n",
       "      <th>3</th>\n",
       "      <td>1</td>\n",
       "      <td>47</td>\n",
       "      <td>5.0</td>\n",
       "      <td>964983815</td>\n",
       "    </tr>\n",
       "    <tr>\n",
       "      <th>4</th>\n",
       "      <td>1</td>\n",
       "      <td>50</td>\n",
       "      <td>5.0</td>\n",
       "      <td>964982931</td>\n",
       "    </tr>\n",
       "  </tbody>\n",
       "</table>\n",
       "</div>"
      ],
      "text/plain": [
       "   userId  movieId  rating  timestamp\n",
       "0       1        1     4.0  964982703\n",
       "1       1        3     4.0  964981247\n",
       "2       1        6     4.0  964982224\n",
       "3       1       47     5.0  964983815\n",
       "4       1       50     5.0  964982931"
      ]
     },
     "execution_count": 6,
     "metadata": {},
     "output_type": "execute_result"
    }
   ],
   "source": [
    "ratings_df = pd.read_csv(path/'ml-latest-small'/'ml-latest-small'/'ratings.csv')\n",
    "print(ratings_df.shape)\n",
    "ratings_df.head()"
   ]
  },
  {
   "cell_type": "code",
   "execution_count": 7,
   "metadata": {},
   "outputs": [
    {
     "name": "stdout",
     "output_type": "stream",
     "text": [
      "<class 'pandas.core.frame.DataFrame'>\n",
      "RangeIndex: 100836 entries, 0 to 100835\n",
      "Data columns (total 4 columns):\n",
      "userId       100836 non-null int64\n",
      "movieId      100836 non-null int64\n",
      "rating       100836 non-null float64\n",
      "timestamp    100836 non-null int64\n",
      "dtypes: float64(1), int64(3)\n",
      "memory usage: 3.1 MB\n"
     ]
    }
   ],
   "source": [
    "ratings_df.info()"
   ]
  },
  {
   "cell_type": "code",
   "execution_count": 8,
   "metadata": {},
   "outputs": [
    {
     "data": {
      "text/plain": [
       "610"
      ]
     },
     "execution_count": 8,
     "metadata": {},
     "output_type": "execute_result"
    }
   ],
   "source": [
    "ratings_df['userId'].nunique()"
   ]
  },
  {
   "cell_type": "code",
   "execution_count": 9,
   "metadata": {},
   "outputs": [
    {
     "data": {
      "text/plain": [
       "9724"
      ]
     },
     "execution_count": 9,
     "metadata": {},
     "output_type": "execute_result"
    }
   ],
   "source": [
    "ratings_df['movieId'].nunique()"
   ]
  },
  {
   "cell_type": "code",
   "execution_count": 49,
   "metadata": {},
   "outputs": [
    {
     "data": {
      "image/png": "[encoded data removed]",
      "text/plain": [
       "<Figure size 432x288 with 1 Axes>"
      ]
     },
     "metadata": {
      "needs_background": "light"
     },
     "output_type": "display_data"
    }
   ],
   "source": [
    "ratings_df['rating'].hist(grid=False);"
   ]
  },
  {
   "cell_type": "code",
   "execution_count": 11,
   "metadata": {},
   "outputs": [
    {
     "name": "stdout",
     "output_type": "stream",
     "text": [
      "(9742, 3)\n"
     ]
    },
    {
     "data": {
      "text/html": [
       "<div>\n",
       "<style scoped>\n",
       "    .dataframe tbody tr th:only-of-type {\n",
       "        vertical-align: middle;\n",
       "    }\n",
       "\n",
       "    .dataframe tbody tr th {\n",
       "        vertical-align: top;\n",
       "    }\n",
       "\n",
       "    .dataframe thead th {\n",
       "        text-align: right;\n",
       "    }\n",
       "</style>\n",
       "<table border=\"1\" class=\"dataframe\">\n",
       "  <thead>\n",
       "    <tr style=\"text-align: right;\">\n",
       "      <th></th>\n",
       "      <th>movieId</th>\n",
       "      <th>title</th>\n",
       "      <th>genres</th>\n",
       "    </tr>\n",
       "  </thead>\n",
       "  <tbody>\n",
       "    <tr>\n",
       "      <th>0</th>\n",
       "      <td>1</td>\n",
       "      <td>Toy Story (1995)</td>\n",
       "      <td>Adventure|Animation|Children|Comedy|Fantasy</td>\n",
       "    </tr>\n",
       "    <tr>\n",
       "      <th>1</th>\n",
       "      <td>2</td>\n",
       "      <td>Jumanji (1995)</td>\n",
       "      <td>Adventure|Children|Fantasy</td>\n",
       "    </tr>\n",
       "    <tr>\n",
       "      <th>2</th>\n",
       "      <td>3</td>\n",
       "      <td>Grumpier Old Men (1995)</td>\n",
       "      <td>Comedy|Romance</td>\n",
       "    </tr>\n",
       "    <tr>\n",
       "      <th>3</th>\n",
       "      <td>4</td>\n",
       "      <td>Waiting to Exhale (1995)</td>\n",
       "      <td>Comedy|Drama|Romance</td>\n",
       "    </tr>\n",
       "    <tr>\n",
       "      <th>4</th>\n",
       "      <td>5</td>\n",
       "      <td>Father of the Bride Part II (1995)</td>\n",
       "      <td>Comedy</td>\n",
       "    </tr>\n",
       "  </tbody>\n",
       "</table>\n",
       "</div>"
      ],
      "text/plain": [
       "   movieId                               title  \\\n",
       "0        1                    Toy Story (1995)   \n",
       "1        2                      Jumanji (1995)   \n",
       "2        3             Grumpier Old Men (1995)   \n",
       "3        4            Waiting to Exhale (1995)   \n",
       "4        5  Father of the Bride Part II (1995)   \n",
       "\n",
       "                                        genres  \n",
       "0  Adventure|Animation|Children|Comedy|Fantasy  \n",
       "1                   Adventure|Children|Fantasy  \n",
       "2                               Comedy|Romance  \n",
       "3                         Comedy|Drama|Romance  \n",
       "4                                       Comedy  "
      ]
     },
     "execution_count": 11,
     "metadata": {},
     "output_type": "execute_result"
    }
   ],
   "source": [
    "movies_df = pd.read_csv(path/'ml-latest-small'/'ml-latest-small'/'movies.csv')\n",
    "print(movies_df.shape)\n",
    "movies_df.head()"
   ]
  },
  {
   "cell_type": "code",
   "execution_count": 12,
   "metadata": {},
   "outputs": [
    {
     "data": {
      "text/plain": [
       "9737"
      ]
     },
     "execution_count": 12,
     "metadata": {},
     "output_type": "execute_result"
    }
   ],
   "source": [
    "movies_df['title'].nunique()"
   ]
  },
  {
   "cell_type": "code",
   "execution_count": 70,
   "metadata": {},
   "outputs": [
    {
     "data": {
      "image/png": "[encoded data removed]",
      "text/plain": [
       "<Figure size 576x288 with 1 Axes>"
      ]
     },
     "metadata": {
      "needs_background": "light"
     },
     "output_type": "display_data"
    }
   ],
   "source": [
    "# Discover genre distribution\n",
    "from collections import Counter\n",
    "\n",
    "def plot_genre_hist(df, figsize=(8, 4)):\n",
    "    genre_arrs = df['genres'].map(lambda x: x.split('|') if isinstance(x, str) else [str(np.nan)])\n",
    "    most_common_genres = Counter([genre for genre_arr in genre_arrs for genre in genre_arr]).most_common()\n",
    "    f, ax = plt.subplots(figsize=figsize)\n",
    "    df = pd.DataFrame(most_common_genres, columns=['genre', 'count'])\n",
    "    sns.barplot(x='genre', y='count', data=df, palette=sns.light_palette(\"green\", df.shape[0], reverse=True), ax=ax)\n",
    "    plt.xticks(rotation=45, ha=\"right\")\n",
    "    plt.show()\n",
    "    \n",
    "plot_genre_hist(movies_df)"
   ]
  },
  {
   "cell_type": "code",
   "execution_count": 14,
   "metadata": {},
   "outputs": [
    {
     "data": {
      "text/html": [
       "<div>\n",
       "<style scoped>\n",
       "    .dataframe tbody tr th:only-of-type {\n",
       "        vertical-align: middle;\n",
       "    }\n",
       "\n",
       "    .dataframe tbody tr th {\n",
       "        vertical-align: top;\n",
       "    }\n",
       "\n",
       "    .dataframe thead th {\n",
       "        text-align: right;\n",
       "    }\n",
       "</style>\n",
       "<table border=\"1\" class=\"dataframe\">\n",
       "  <thead>\n",
       "    <tr style=\"text-align: right;\">\n",
       "      <th></th>\n",
       "      <th>userId</th>\n",
       "      <th>movieId</th>\n",
       "      <th>rating</th>\n",
       "      <th>timestamp</th>\n",
       "      <th>title</th>\n",
       "    </tr>\n",
       "  </thead>\n",
       "  <tbody>\n",
       "    <tr>\n",
       "      <th>0</th>\n",
       "      <td>1</td>\n",
       "      <td>1</td>\n",
       "      <td>4.0</td>\n",
       "      <td>964982703</td>\n",
       "      <td>Toy Story (1995)</td>\n",
       "    </tr>\n",
       "    <tr>\n",
       "      <th>1</th>\n",
       "      <td>5</td>\n",
       "      <td>1</td>\n",
       "      <td>4.0</td>\n",
       "      <td>847434962</td>\n",
       "      <td>Toy Story (1995)</td>\n",
       "    </tr>\n",
       "    <tr>\n",
       "      <th>2</th>\n",
       "      <td>7</td>\n",
       "      <td>1</td>\n",
       "      <td>4.5</td>\n",
       "      <td>1106635946</td>\n",
       "      <td>Toy Story (1995)</td>\n",
       "    </tr>\n",
       "    <tr>\n",
       "      <th>3</th>\n",
       "      <td>15</td>\n",
       "      <td>1</td>\n",
       "      <td>2.5</td>\n",
       "      <td>1510577970</td>\n",
       "      <td>Toy Story (1995)</td>\n",
       "    </tr>\n",
       "    <tr>\n",
       "      <th>4</th>\n",
       "      <td>17</td>\n",
       "      <td>1</td>\n",
       "      <td>4.5</td>\n",
       "      <td>1305696483</td>\n",
       "      <td>Toy Story (1995)</td>\n",
       "    </tr>\n",
       "  </tbody>\n",
       "</table>\n",
       "</div>"
      ],
      "text/plain": [
       "   userId  movieId  rating   timestamp             title\n",
       "0       1        1     4.0   964982703  Toy Story (1995)\n",
       "1       5        1     4.0   847434962  Toy Story (1995)\n",
       "2       7        1     4.5  1106635946  Toy Story (1995)\n",
       "3      15        1     2.5  1510577970  Toy Story (1995)\n",
       "4      17        1     4.5  1305696483  Toy Story (1995)"
      ]
     },
     "execution_count": 14,
     "metadata": {},
     "output_type": "execute_result"
    }
   ],
   "source": [
    "ratings_df = ratings_df.merge(movies_df[['movieId', 'title']])\n",
    "ratings_df.head()"
   ]
  },
  {
   "cell_type": "code",
   "execution_count": 15,
   "metadata": {},
   "outputs": [
    {
     "data": {
      "text/plain": [
       "False"
      ]
     },
     "execution_count": 15,
     "metadata": {},
     "output_type": "execute_result"
    }
   ],
   "source": [
    "# Consistency check\n",
    "(ratings_df.groupby(by='movieId')['title'].unique().map(len) > 1).any()"
   ]
  },
  {
   "cell_type": "code",
   "execution_count": 16,
   "metadata": {},
   "outputs": [],
   "source": [
    "# Establish info maps\n",
    "genres_map = movies_df.set_index(movies_df['title']).to_dict()['genres']\n",
    "mean_rating_map = ratings_df.groupby(by='title')['rating'].mean().to_dict()"
   ]
  },
  {
   "cell_type": "markdown",
   "metadata": {},
   "source": [
    "### Training the model"
   ]
  },
  {
   "cell_type": "code",
   "execution_count": 17,
   "metadata": {},
   "outputs": [],
   "source": [
    "data = collab.CollabDataBunch.from_df(\n",
    "    ratings_df,\n",
    "    seed=42, \n",
    "    pct_val=0.1, \n",
    "    user_name='userId', \n",
    "    item_name='title', \n",
    "    rating_name='rating', \n",
    "    path=path)"
   ]
  },
  {
   "cell_type": "code",
   "execution_count": 18,
   "metadata": {},
   "outputs": [
    {
     "data": {
      "text/html": [
       "<table>  <col width='10%'>  <col width='10%'>  <col width='10%'>  <tr>\n",
       "    <th>userId</th>\n",
       "    <th>title</th>\n",
       "    <th>target</th>\n",
       "  </tr>\n",
       "  <tr>\n",
       "    <th>91</th>\n",
       "    <th>Hunted, The (1995)</th>\n",
       "    <th>2.5</th>\n",
       "  </tr>\n",
       "  <tr>\n",
       "    <th>268</th>\n",
       "    <th>Analyze This (1999)</th>\n",
       "    <th>3.0</th>\n",
       "  </tr>\n",
       "  <tr>\n",
       "    <th>249</th>\n",
       "    <th>Amityville Horror, The (2005)</th>\n",
       "    <th>2.5</th>\n",
       "  </tr>\n",
       "  <tr>\n",
       "    <th>586</th>\n",
       "    <th>Shutter Island (2010)</th>\n",
       "    <th>3.0</th>\n",
       "  </tr>\n",
       "  <tr>\n",
       "    <th>580</th>\n",
       "    <th>Star Wars: Episode IV - A New Hope (1977)</th>\n",
       "    <th>4.0</th>\n",
       "  </tr>\n",
       "</table>\n"
      ],
      "text/plain": [
       "<IPython.core.display.HTML object>"
      ]
     },
     "metadata": {},
     "output_type": "display_data"
    }
   ],
   "source": [
    "data.show_batch()"
   ]
  },
  {
   "cell_type": "code",
   "execution_count": 19,
   "metadata": {},
   "outputs": [],
   "source": [
    "# Scaled sigmoid function -> give some room for 0.5 and 5\n",
    "y_range = [0, 5.5]"
   ]
  },
  {
   "cell_type": "code",
   "execution_count": 20,
   "metadata": {},
   "outputs": [],
   "source": [
    "# The latent features of users and movies are learned with their combinations\n",
    "learn = collab.collab_learner(data, n_factors=50, y_range=y_range, wd=1e-1)"
   ]
  },
  {
   "cell_type": "code",
   "execution_count": 21,
   "metadata": {},
   "outputs": [
    {
     "data": {
      "text/plain": [
       "EmbeddingDotBias(\n",
       "  (u_weight): Embedding(611, 50)\n",
       "  (i_weight): Embedding(9352, 50)\n",
       "  (u_bias): Embedding(611, 1)\n",
       "  (i_bias): Embedding(9352, 1)\n",
       ")"
      ]
     },
     "execution_count": 21,
     "metadata": {},
     "output_type": "execute_result"
    }
   ],
   "source": [
    "learn.model"
   ]
  },
  {
   "cell_type": "code",
   "execution_count": 22,
   "metadata": {},
   "outputs": [
    {
     "name": "stdout",
     "output_type": "stream",
     "text": [
      "LR Finder is complete, type {learner_name}.recorder.plot() to see the graph.\n"
     ]
    },
    {
     "data": {
      "image/png": "[encoded data removed]",
      "text/plain": [
       "<Figure size 432x288 with 1 Axes>"
      ]
     },
     "metadata": {
      "needs_background": "light"
     },
     "output_type": "display_data"
    }
   ],
   "source": [
    "learn.lr_find()\n",
    "learn.recorder.plot()"
   ]
  },
  {
   "cell_type": "code",
   "execution_count": 23,
   "metadata": {},
   "outputs": [
    {
     "data": {
      "text/html": [
       "Total time: 01:44 <p><table style='width:300px; margin-bottom:10px'>\n",
       "  <tr>\n",
       "    <th>epoch</th>\n",
       "    <th>train_loss</th>\n",
       "    <th>valid_loss</th>\n",
       "  </tr>\n",
       "  <tr>\n",
       "    <th>1</th>\n",
       "    <th>1.233615</th>\n",
       "    <th>1.185374</th>\n",
       "  </tr>\n",
       "  <tr>\n",
       "    <th>2</th>\n",
       "    <th>0.791527</th>\n",
       "    <th>0.767285</th>\n",
       "  </tr>\n",
       "  <tr>\n",
       "    <th>3</th>\n",
       "    <th>0.704626</th>\n",
       "    <th>0.724482</th>\n",
       "  </tr>\n",
       "  <tr>\n",
       "    <th>4</th>\n",
       "    <th>0.666220</th>\n",
       "    <th>0.713869</th>\n",
       "  </tr>\n",
       "  <tr>\n",
       "    <th>5</th>\n",
       "    <th>0.623007</th>\n",
       "    <th>0.712608</th>\n",
       "  </tr>\n",
       "</table>\n"
      ],
      "text/plain": [
       "<IPython.core.display.HTML object>"
      ]
     },
     "metadata": {},
     "output_type": "display_data"
    }
   ],
   "source": [
    "learn.fit_one_cycle(5, 1e-3)"
   ]
  },
  {
   "cell_type": "code",
   "execution_count": 24,
   "metadata": {},
   "outputs": [
    {
     "data": {
      "image/png": "[encoded data removed]",
      "text/plain": [
       "<Figure size 432x288 with 1 Axes>"
      ]
     },
     "metadata": {
      "needs_background": "light"
     },
     "output_type": "display_data"
    }
   ],
   "source": [
    "learn.recorder.plot_losses()"
   ]
  },
  {
   "cell_type": "code",
   "execution_count": 25,
   "metadata": {},
   "outputs": [],
   "source": [
    "learn.save('dotprod')"
   ]
  },
  {
   "cell_type": "markdown",
   "metadata": {},
   "source": [
    "### Biases"
   ]
  },
  {
   "cell_type": "code",
   "execution_count": 26,
   "metadata": {},
   "outputs": [],
   "source": [
    "learn.load('dotprod');"
   ]
  },
  {
   "cell_type": "code",
   "execution_count": 27,
   "metadata": {},
   "outputs": [
    {
     "data": {
      "text/plain": [
       "9351"
      ]
     },
     "execution_count": 27,
     "metadata": {},
     "output_type": "execute_result"
    }
   ],
   "source": [
    "# Take only movies with trained embeddings\n",
    "_, trained_movies = learn.data.classes.values()\n",
    "\n",
    "# Get top movies by number of ratings\n",
    "top_movies = (ratings_df[ratings_df['title'].isin(trained_movies)]\n",
    "              .groupby('title')['rating']\n",
    "              .count()\n",
    "              .sort_values(ascending=False)\n",
    "              .index.values)\n",
    "len(top_movies)"
   ]
  },
  {
   "cell_type": "code",
   "execution_count": 28,
   "metadata": {},
   "outputs": [
    {
     "data": {
      "text/plain": [
       "torch.Size([9351])"
      ]
     },
     "execution_count": 28,
     "metadata": {},
     "output_type": "execute_result"
    }
   ],
   "source": [
    "movie_bias = learn.bias(top_movies, is_item=True)\n",
    "movie_bias.shape"
   ]
  },
  {
   "cell_type": "code",
   "execution_count": 29,
   "metadata": {},
   "outputs": [
    {
     "data": {
      "text/html": [
       "<div>\n",
       "<style scoped>\n",
       "    .dataframe tbody tr th:only-of-type {\n",
       "        vertical-align: middle;\n",
       "    }\n",
       "\n",
       "    .dataframe tbody tr th {\n",
       "        vertical-align: top;\n",
       "    }\n",
       "\n",
       "    .dataframe thead th {\n",
       "        text-align: right;\n",
       "    }\n",
       "</style>\n",
       "<table border=\"1\" class=\"dataframe\">\n",
       "  <thead>\n",
       "    <tr style=\"text-align: right;\">\n",
       "      <th></th>\n",
       "      <th>bias</th>\n",
       "      <th>title</th>\n",
       "      <th>rating</th>\n",
       "    </tr>\n",
       "  </thead>\n",
       "  <tbody>\n",
       "    <tr>\n",
       "      <th>0</th>\n",
       "      <td>0.2818623</td>\n",
       "      <td>Forrest Gump (1994)</td>\n",
       "      <td>4.164134</td>\n",
       "    </tr>\n",
       "    <tr>\n",
       "      <th>1</th>\n",
       "      <td>0.31548634</td>\n",
       "      <td>Shawshank Redemption, The (1994)</td>\n",
       "      <td>4.429022</td>\n",
       "    </tr>\n",
       "    <tr>\n",
       "      <th>2</th>\n",
       "      <td>0.19669765</td>\n",
       "      <td>Pulp Fiction (1994)</td>\n",
       "      <td>4.197068</td>\n",
       "    </tr>\n",
       "    <tr>\n",
       "      <th>3</th>\n",
       "      <td>0.15944496</td>\n",
       "      <td>Silence of the Lambs, The (1991)</td>\n",
       "      <td>4.161290</td>\n",
       "    </tr>\n",
       "    <tr>\n",
       "      <th>4</th>\n",
       "      <td>0.14679599</td>\n",
       "      <td>Matrix, The (1999)</td>\n",
       "      <td>4.192446</td>\n",
       "    </tr>\n",
       "  </tbody>\n",
       "</table>\n",
       "</div>"
      ],
      "text/plain": [
       "         bias                             title    rating\n",
       "0   0.2818623               Forrest Gump (1994)  4.164134\n",
       "1  0.31548634  Shawshank Redemption, The (1994)  4.429022\n",
       "2  0.19669765               Pulp Fiction (1994)  4.197068\n",
       "3  0.15944496  Silence of the Lambs, The (1991)  4.161290\n",
       "4  0.14679599                Matrix, The (1999)  4.192446"
      ]
     },
     "execution_count": 29,
     "metadata": {},
     "output_type": "execute_result"
    }
   ],
   "source": [
    "mean_ratings = ratings_df.groupby('title')['rating'].mean()\n",
    "movie_ratings = [(b.detach().numpy(), i, mean_ratings.loc[i]) for i, b in zip(top_movies, movie_bias)]\n",
    "movie_ratings_df = pd.DataFrame(movie_ratings, columns=['bias', 'title', 'rating'])\n",
    "movie_ratings_df.head()"
   ]
  },
  {
   "cell_type": "code",
   "execution_count": 30,
   "metadata": {},
   "outputs": [
    {
     "data": {
      "text/html": [
       "<div>\n",
       "<style scoped>\n",
       "    .dataframe tbody tr th:only-of-type {\n",
       "        vertical-align: middle;\n",
       "    }\n",
       "\n",
       "    .dataframe tbody tr th {\n",
       "        vertical-align: top;\n",
       "    }\n",
       "\n",
       "    .dataframe thead th {\n",
       "        text-align: right;\n",
       "    }\n",
       "</style>\n",
       "<table border=\"1\" class=\"dataframe\">\n",
       "  <thead>\n",
       "    <tr style=\"text-align: right;\">\n",
       "      <th></th>\n",
       "      <th>bias</th>\n",
       "      <th>title</th>\n",
       "      <th>rating</th>\n",
       "    </tr>\n",
       "  </thead>\n",
       "  <tbody>\n",
       "    <tr>\n",
       "      <th>1348</th>\n",
       "      <td>-0.1494581</td>\n",
       "      <td>Speed 2: Cruise Control (1997)</td>\n",
       "      <td>1.605263</td>\n",
       "    </tr>\n",
       "    <tr>\n",
       "      <th>2390</th>\n",
       "      <td>-0.1422144</td>\n",
       "      <td>Catwoman (2004)</td>\n",
       "      <td>1.333333</td>\n",
       "    </tr>\n",
       "    <tr>\n",
       "      <th>2320</th>\n",
       "      <td>-0.12140908</td>\n",
       "      <td>Stuart Saves His Family (1995)</td>\n",
       "      <td>1.444444</td>\n",
       "    </tr>\n",
       "    <tr>\n",
       "      <th>1313</th>\n",
       "      <td>-0.112731226</td>\n",
       "      <td>Battlefield Earth (2000)</td>\n",
       "      <td>1.657895</td>\n",
       "    </tr>\n",
       "    <tr>\n",
       "      <th>1529</th>\n",
       "      <td>-0.11015938</td>\n",
       "      <td>Superman IV: The Quest for Peace (1987)</td>\n",
       "      <td>1.687500</td>\n",
       "    </tr>\n",
       "  </tbody>\n",
       "</table>\n",
       "</div>"
      ],
      "text/plain": [
       "              bias                                    title    rating\n",
       "1348    -0.1494581           Speed 2: Cruise Control (1997)  1.605263\n",
       "2390    -0.1422144                          Catwoman (2004)  1.333333\n",
       "2320   -0.12140908           Stuart Saves His Family (1995)  1.444444\n",
       "1313  -0.112731226                 Battlefield Earth (2000)  1.657895\n",
       "1529   -0.11015938  Superman IV: The Quest for Peace (1987)  1.687500"
      ]
     },
     "execution_count": 30,
     "metadata": {},
     "output_type": "execute_result"
    }
   ],
   "source": [
    "# Top movies with negative bias\n",
    "movie_ratings_df.sort_values('bias', ascending=True).head()"
   ]
  },
  {
   "cell_type": "code",
   "execution_count": 31,
   "metadata": {},
   "outputs": [
    {
     "data": {
      "text/html": [
       "<div>\n",
       "<style scoped>\n",
       "    .dataframe tbody tr th:only-of-type {\n",
       "        vertical-align: middle;\n",
       "    }\n",
       "\n",
       "    .dataframe tbody tr th {\n",
       "        vertical-align: top;\n",
       "    }\n",
       "\n",
       "    .dataframe thead th {\n",
       "        text-align: right;\n",
       "    }\n",
       "</style>\n",
       "<table border=\"1\" class=\"dataframe\">\n",
       "  <thead>\n",
       "    <tr style=\"text-align: right;\">\n",
       "      <th></th>\n",
       "      <th>bias</th>\n",
       "      <th>title</th>\n",
       "      <th>rating</th>\n",
       "    </tr>\n",
       "  </thead>\n",
       "  <tbody>\n",
       "    <tr>\n",
       "      <th>1</th>\n",
       "      <td>0.31548634</td>\n",
       "      <td>Shawshank Redemption, The (1994)</td>\n",
       "      <td>4.429022</td>\n",
       "    </tr>\n",
       "    <tr>\n",
       "      <th>0</th>\n",
       "      <td>0.2818623</td>\n",
       "      <td>Forrest Gump (1994)</td>\n",
       "      <td>4.164134</td>\n",
       "    </tr>\n",
       "    <tr>\n",
       "      <th>44</th>\n",
       "      <td>0.23649794</td>\n",
       "      <td>Dark Knight, The (2008)</td>\n",
       "      <td>4.238255</td>\n",
       "    </tr>\n",
       "    <tr>\n",
       "      <th>5</th>\n",
       "      <td>0.23342247</td>\n",
       "      <td>Star Wars: Episode IV - A New Hope (1977)</td>\n",
       "      <td>4.231076</td>\n",
       "    </tr>\n",
       "    <tr>\n",
       "      <th>13</th>\n",
       "      <td>0.21834074</td>\n",
       "      <td>Usual Suspects, The (1995)</td>\n",
       "      <td>4.237745</td>\n",
       "    </tr>\n",
       "  </tbody>\n",
       "</table>\n",
       "</div>"
      ],
      "text/plain": [
       "          bias                                      title    rating\n",
       "1   0.31548634           Shawshank Redemption, The (1994)  4.429022\n",
       "0    0.2818623                        Forrest Gump (1994)  4.164134\n",
       "44  0.23649794                    Dark Knight, The (2008)  4.238255\n",
       "5   0.23342247  Star Wars: Episode IV - A New Hope (1977)  4.231076\n",
       "13  0.21834074                 Usual Suspects, The (1995)  4.237745"
      ]
     },
     "execution_count": 31,
     "metadata": {},
     "output_type": "execute_result"
    }
   ],
   "source": [
    "# Top movies with positive bias\n",
    "movie_ratings_df.sort_values('bias', ascending=False).head()"
   ]
  },
  {
   "cell_type": "markdown",
   "metadata": {},
   "source": [
    "### Movie embeddings"
   ]
  },
  {
   "cell_type": "code",
   "execution_count": 32,
   "metadata": {},
   "outputs": [],
   "source": [
    "rand_idxs = np.random.choice(len(top_movies), 30, replace=False)"
   ]
  },
  {
   "cell_type": "code",
   "execution_count": 33,
   "metadata": {},
   "outputs": [
    {
     "data": {
      "text/plain": [
       "torch.Size([9351, 50])"
      ]
     },
     "execution_count": 33,
     "metadata": {},
     "output_type": "execute_result"
    }
   ],
   "source": [
    "movie_weights = learn.weight(top_movies, is_item=True)\n",
    "movie_weights.shape"
   ]
  },
  {
   "cell_type": "code",
   "execution_count": 34,
   "metadata": {},
   "outputs": [
    {
     "data": {
      "text/plain": [
       "torch.Size([9351, 2])"
      ]
     },
     "execution_count": 34,
     "metadata": {},
     "output_type": "execute_result"
    }
   ],
   "source": [
    "# Cluster the weights of each movie into a lower-dimensional space\n",
    "# Clustering based on hard maths\n",
    "movie_pca = movie_weights.pca(2)\n",
    "movie_pca.shape"
   ]
  },
  {
   "cell_type": "code",
   "execution_count": 35,
   "metadata": {},
   "outputs": [
    {
     "data": {
      "image/png": "[encoded data removed]",
      "text/plain": [
       "<Figure size 864x720 with 1 Axes>"
      ]
     },
     "metadata": {
      "needs_background": "light"
     },
     "output_type": "display_data"
    }
   ],
   "source": [
    "def plot_movies(positions, top_movies):\n",
    "    plt.figure(figsize=(12, 10))\n",
    "    plt.scatter(positions[:, 0], positions[:, 1])\n",
    "    for x, y, i in zip(positions[:, 0], positions[:, 1], top_movies):\n",
    "        plt.text(x, y, i, color=np.random.rand(3)*0.7, fontsize=11)\n",
    "    plt.show()\n",
    "    \n",
    "plot_movies(movie_pca[rand_idxs], top_movies[rand_idxs])"
   ]
  },
  {
   "cell_type": "code",
   "execution_count": 36,
   "metadata": {},
   "outputs": [
    {
     "name": "stdout",
     "output_type": "stream",
     "text": [
      "[t-SNE] Computing 61 nearest neighbors...\n",
      "[t-SNE] Indexed 9351 samples in 0.026s...\n",
      "[t-SNE] Computed neighbors for 9351 samples in 7.924s...\n",
      "[t-SNE] Computed conditional probabilities for sample 1000 / 9351\n",
      "[t-SNE] Computed conditional probabilities for sample 2000 / 9351\n",
      "[t-SNE] Computed conditional probabilities for sample 3000 / 9351\n",
      "[t-SNE] Computed conditional probabilities for sample 4000 / 9351\n",
      "[t-SNE] Computed conditional probabilities for sample 5000 / 9351\n",
      "[t-SNE] Computed conditional probabilities for sample 6000 / 9351\n",
      "[t-SNE] Computed conditional probabilities for sample 7000 / 9351\n",
      "[t-SNE] Computed conditional probabilities for sample 8000 / 9351\n",
      "[t-SNE] Computed conditional probabilities for sample 9000 / 9351\n",
      "[t-SNE] Computed conditional probabilities for sample 9351 / 9351\n",
      "[t-SNE] Mean sigma: 0.023462\n",
      "[t-SNE] KL divergence after 250 iterations with early exaggeration: 83.705269\n",
      "[t-SNE] KL divergence after 1000 iterations: 1.941949\n",
      "CPU times: user 6min 4s, sys: 5.63 s, total: 6min 9s\n",
      "Wall time: 2min 12s\n"
     ]
    }
   ],
   "source": [
    "%%time\n",
    "# Clustering based on probability distribution\n",
    "from sklearn.manifold import TSNE\n",
    "\n",
    "tsne = TSNE(n_components=2, verbose=1, perplexity=20).fit_transform(movie_weights)\n",
    "tsne.shape"
   ]
  },
  {
   "cell_type": "code",
   "execution_count": 37,
   "metadata": {},
   "outputs": [
    {
     "data": {
      "image/png": "[encoded data removed]",
      "text/plain": [
       "<Figure size 864x720 with 1 Axes>"
      ]
     },
     "metadata": {
      "needs_background": "light"
     },
     "output_type": "display_data"
    }
   ],
   "source": [
    "plot_movies(tsne[rand_idxs], top_movies[rand_idxs])"
   ]
  },
  {
   "cell_type": "markdown",
   "metadata": {},
   "source": [
    "### Similarity-based lookup"
   ]
  },
  {
   "cell_type": "code",
   "execution_count": 38,
   "metadata": {},
   "outputs": [
    {
     "data": {
      "text/plain": [
       "(9352, 9352)"
      ]
     },
     "execution_count": 38,
     "metadata": {},
     "output_type": "execute_result"
    }
   ],
   "source": [
    "# https://arxiv.org/pdf/1704.02552.pdf\n",
    "from sklearn.metrics.pairwise import cosine_similarity\n",
    "\n",
    "def compute_similarity_matrix(is_item):\n",
    "    trained_users, trained_movies = learn.data.classes.values()\n",
    "    embeddings = learn.weight(trained_movies if is_item else trained_users, is_item=is_item)\n",
    "    return cosine_similarity(embeddings, embeddings)\n",
    "    \n",
    "movie_sim_matrix = compute_similarity_matrix(True)\n",
    "movie_sim_matrix.shape"
   ]
  },
  {
   "cell_type": "code",
   "execution_count": 39,
   "metadata": {},
   "outputs": [
    {
     "data": {
      "text/plain": [
       "[('Matrix, The (1999)', 'Saving Private Ryan (1998)', 0.9828836),\n",
       " ('Matrix, The (1999)', 'American History X (1998)', 0.9786699),\n",
       " ('Matrix, The (1999)', 'Bourne Identity, The (2002)', 0.97705305),\n",
       " ('Matrix, The (1999)', 'Out of Time (2003)', 0.97356594),\n",
       " ('Matrix, The (1999)', 'Shooter (2007)', 0.9733269),\n",
       " ('Matrix, The (1999)', 'Equilibrium (2002)', 0.97242504),\n",
       " ('Matrix, The (1999)', 'Lock, Stock & Two Smoking Barrels (1998)', 0.9720544),\n",
       " ('Matrix, The (1999)', 'Heat (1995)', 0.97160137),\n",
       " ('Matrix, The (1999)', 'Moulin Rouge (2001)', 0.9715679),\n",
       " ('Matrix, The (1999)', 'Casino (1995)', 0.970413)]"
      ]
     },
     "execution_count": 39,
     "metadata": {},
     "output_type": "execute_result"
    }
   ],
   "source": [
    "def embedding_knn(sim_matrix, sources, is_item, k=10):\n",
    "    # kNN involving item-item or user-user relationships\n",
    "    # Set diagonal to zero\n",
    "    sim_matrix = sim_matrix.copy()\n",
    "    np.fill_diagonal(sim_matrix, 0)\n",
    "    \n",
    "    # Reduce the similarity matrix to the relevant embeddings\n",
    "    if not isinstance(sources, list):\n",
    "        sources = [sources]\n",
    "    source_idxs = learn.get_idx(map(str, sources), is_item=is_item)\n",
    "    sim_matrix = sim_matrix[source_idxs]\n",
    "    \n",
    "    # Get indices of top k embeddings in descending order\n",
    "    top_idxs = np.argsort(-sim_matrix, axis=None)[:k]\n",
    "    top_idxs = np.unravel_index(top_idxs, sim_matrix.shape)\n",
    "    if len(sources) == 1:\n",
    "        top_idxs = [0] * k, top_idxs[0]\n",
    "        sim_matrix = np.expand_dims(sim_matrix, 0)\n",
    "    \n",
    "    # Return the names and the similarity score\n",
    "    user_list, item_list = learn.data.classes.values()\n",
    "    lst = item_list if is_item else user_list\n",
    "    return [(lst[source_idxs[i]], lst[j], sim_matrix[i, j]) for i, j in list(zip(*top_idxs))]\n",
    "    \n",
    "embedding_knn(movie_sim_matrix, ['Matrix, The (1999)'], True)"
   ]
  },
  {
   "cell_type": "code",
   "execution_count": 40,
   "metadata": {},
   "outputs": [
    {
     "data": {
      "text/plain": [
       "(611, 611)"
      ]
     },
     "execution_count": 40,
     "metadata": {},
     "output_type": "execute_result"
    }
   ],
   "source": [
    "user_sim_matrix = compute_similarity_matrix(False)\n",
    "user_sim_matrix.shape"
   ]
  },
  {
   "cell_type": "code",
   "execution_count": 41,
   "metadata": {},
   "outputs": [
    {
     "data": {
      "text/plain": [
       "[('1', '60', 0.98525757),\n",
       " ('1', '87', 0.985155),\n",
       " ('1', '49', 0.9844341),\n",
       " ('1', '61', 0.983606),\n",
       " ('1', '88', 0.98343134),\n",
       " ('1', '400', 0.9821479),\n",
       " ('1', '533', 0.98212355),\n",
       " ('1', '66', 0.98191273),\n",
       " ('1', '398', 0.98164326),\n",
       " ('1', '457', 0.9814265)]"
      ]
     },
     "execution_count": 41,
     "metadata": {},
     "output_type": "execute_result"
    }
   ],
   "source": [
    "embedding_knn(user_sim_matrix, [1], False)"
   ]
  },
  {
   "cell_type": "code",
   "execution_count": 42,
   "metadata": {},
   "outputs": [
    {
     "data": {
      "text/html": [
       "<div>\n",
       "<style scoped>\n",
       "    .dataframe tbody tr th:only-of-type {\n",
       "        vertical-align: middle;\n",
       "    }\n",
       "\n",
       "    .dataframe tbody tr th {\n",
       "        vertical-align: top;\n",
       "    }\n",
       "\n",
       "    .dataframe thead th {\n",
       "        text-align: right;\n",
       "    }\n",
       "</style>\n",
       "<table border=\"1\" class=\"dataframe\">\n",
       "  <thead>\n",
       "    <tr style=\"text-align: right;\">\n",
       "      <th></th>\n",
       "      <th>userId</th>\n",
       "      <th>title</th>\n",
       "      <th>genres</th>\n",
       "      <th>bias</th>\n",
       "      <th>mean_rating</th>\n",
       "      <th>rating</th>\n",
       "    </tr>\n",
       "  </thead>\n",
       "  <tbody>\n",
       "    <tr>\n",
       "      <th>16250</th>\n",
       "      <td>1</td>\n",
       "      <td>M*A*S*H (a.k.a. MASH) (1970)</td>\n",
       "      <td>Comedy|Drama|War</td>\n",
       "      <td>0.109324</td>\n",
       "      <td>3.934783</td>\n",
       "      <td>5.0</td>\n",
       "    </tr>\n",
       "    <tr>\n",
       "      <th>14053</th>\n",
       "      <td>1</td>\n",
       "      <td>Excalibur (1981)</td>\n",
       "      <td>Adventure|Fantasy</td>\n",
       "      <td>0.035471</td>\n",
       "      <td>3.640000</td>\n",
       "      <td>5.0</td>\n",
       "    </tr>\n",
       "    <tr>\n",
       "      <th>9066</th>\n",
       "      <td>1</td>\n",
       "      <td>Indiana Jones and the Last Crusade (1989)</td>\n",
       "      <td>Action|Adventure</td>\n",
       "      <td>0.150376</td>\n",
       "      <td>4.046429</td>\n",
       "      <td>5.0</td>\n",
       "    </tr>\n",
       "    <tr>\n",
       "      <th>9206</th>\n",
       "      <td>1</td>\n",
       "      <td>Pink Floyd: The Wall (1982)</td>\n",
       "      <td>Drama|Musical</td>\n",
       "      <td>0.079765</td>\n",
       "      <td>3.760870</td>\n",
       "      <td>5.0</td>\n",
       "    </tr>\n",
       "    <tr>\n",
       "      <th>14254</th>\n",
       "      <td>1</td>\n",
       "      <td>From Russia with Love (1963)</td>\n",
       "      <td>Action|Adventure|Thriller</td>\n",
       "      <td>0.070517</td>\n",
       "      <td>3.750000</td>\n",
       "      <td>5.0</td>\n",
       "    </tr>\n",
       "  </tbody>\n",
       "</table>\n",
       "</div>"
      ],
      "text/plain": [
       "       userId                                      title  \\\n",
       "16250       1               M*A*S*H (a.k.a. MASH) (1970)   \n",
       "14053       1                           Excalibur (1981)   \n",
       "9066        1  Indiana Jones and the Last Crusade (1989)   \n",
       "9206        1                Pink Floyd: The Wall (1982)   \n",
       "14254       1               From Russia with Love (1963)   \n",
       "\n",
       "                          genres      bias  mean_rating  rating  \n",
       "16250           Comedy|Drama|War  0.109324     3.934783     5.0  \n",
       "14053          Adventure|Fantasy  0.035471     3.640000     5.0  \n",
       "9066            Action|Adventure  0.150376     4.046429     5.0  \n",
       "9206               Drama|Musical  0.079765     3.760870     5.0  \n",
       "14254  Action|Adventure|Thriller  0.070517     3.750000     5.0  "
      ]
     },
     "execution_count": 42,
     "metadata": {},
     "output_type": "execute_result"
    }
   ],
   "source": [
    "def get_favorites(user_id):\n",
    "    # Get favorite movies of the user\n",
    "    fav_df = ratings_df.loc[ratings_df['userId'] == user_id, ['userId', 'title', 'rating']]\n",
    "    fav_df['mean_rating'] = fav_df['title'].map(mean_rating_map)\n",
    "    fav_df['genres'] = fav_df['title'].map(genres_map)\n",
    "    fav_df['bias'] = learn.bias(fav_df['title'], is_item=True).detach().numpy()\n",
    "    fav_df = fav_df[['userId', 'title', 'genres', 'bias', 'mean_rating', 'rating']]\n",
    "    return fav_df.sort_values(by='rating', ascending=False)\n",
    "\n",
    "get_favorites(1).head()"
   ]
  },
  {
   "cell_type": "code",
   "execution_count": 43,
   "metadata": {},
   "outputs": [
    {
     "data": {
      "text/html": [
       "<div>\n",
       "<style scoped>\n",
       "    .dataframe tbody tr th:only-of-type {\n",
       "        vertical-align: middle;\n",
       "    }\n",
       "\n",
       "    .dataframe tbody tr th {\n",
       "        vertical-align: top;\n",
       "    }\n",
       "\n",
       "    .dataframe thead th {\n",
       "        text-align: right;\n",
       "    }\n",
       "</style>\n",
       "<table border=\"1\" class=\"dataframe\">\n",
       "  <thead>\n",
       "    <tr style=\"text-align: right;\">\n",
       "      <th></th>\n",
       "      <th>userId</th>\n",
       "      <th>title</th>\n",
       "      <th>genres</th>\n",
       "      <th>bias</th>\n",
       "      <th>mean_rating</th>\n",
       "      <th>rating</th>\n",
       "    </tr>\n",
       "  </thead>\n",
       "  <tbody>\n",
       "    <tr>\n",
       "      <th>97253</th>\n",
       "      <td>356</td>\n",
       "      <td>Son of Rambow (2007)</td>\n",
       "      <td>Children|Comedy|Drama</td>\n",
       "      <td>0.054486</td>\n",
       "      <td>4.666667</td>\n",
       "      <td>5.0</td>\n",
       "    </tr>\n",
       "    <tr>\n",
       "      <th>55909</th>\n",
       "      <td>356</td>\n",
       "      <td>Zack and Miri Make a Porno (2008)</td>\n",
       "      <td>Comedy|Drama|Romance</td>\n",
       "      <td>0.061482</td>\n",
       "      <td>3.523810</td>\n",
       "      <td>5.0</td>\n",
       "    </tr>\n",
       "    <tr>\n",
       "      <th>77211</th>\n",
       "      <td>356</td>\n",
       "      <td>Tootsie (1982)</td>\n",
       "      <td>Comedy|Romance</td>\n",
       "      <td>0.033056</td>\n",
       "      <td>3.421875</td>\n",
       "      <td>5.0</td>\n",
       "    </tr>\n",
       "    <tr>\n",
       "      <th>62886</th>\n",
       "      <td>356</td>\n",
       "      <td>Time Bandits (1981)</td>\n",
       "      <td>Adventure|Comedy|Fantasy|Sci-Fi</td>\n",
       "      <td>0.069664</td>\n",
       "      <td>3.731707</td>\n",
       "      <td>5.0</td>\n",
       "    </tr>\n",
       "    <tr>\n",
       "      <th>34093</th>\n",
       "      <td>356</td>\n",
       "      <td>Dead Poets Society (1989)</td>\n",
       "      <td>Drama</td>\n",
       "      <td>0.140917</td>\n",
       "      <td>3.959302</td>\n",
       "      <td>5.0</td>\n",
       "    </tr>\n",
       "  </tbody>\n",
       "</table>\n",
       "</div>"
      ],
      "text/plain": [
       "       userId                              title  \\\n",
       "97253     356               Son of Rambow (2007)   \n",
       "55909     356  Zack and Miri Make a Porno (2008)   \n",
       "77211     356                     Tootsie (1982)   \n",
       "62886     356                Time Bandits (1981)   \n",
       "34093     356          Dead Poets Society (1989)   \n",
       "\n",
       "                                genres      bias  mean_rating  rating  \n",
       "97253            Children|Comedy|Drama  0.054486     4.666667     5.0  \n",
       "55909             Comedy|Drama|Romance  0.061482     3.523810     5.0  \n",
       "77211                   Comedy|Romance  0.033056     3.421875     5.0  \n",
       "62886  Adventure|Comedy|Fantasy|Sci-Fi  0.069664     3.731707     5.0  \n",
       "34093                            Drama  0.140917     3.959302     5.0  "
      ]
     },
     "execution_count": 43,
     "metadata": {},
     "output_type": "execute_result"
    }
   ],
   "source": [
    "get_favorites(356).head()"
   ]
  },
  {
   "cell_type": "markdown",
   "metadata": {},
   "source": [
    "### Movie recommendation"
   ]
  },
  {
   "cell_type": "code",
   "execution_count": 44,
   "metadata": {},
   "outputs": [
    {
     "data": {
      "text/html": [
       "<div>\n",
       "<style scoped>\n",
       "    .dataframe tbody tr th:only-of-type {\n",
       "        vertical-align: middle;\n",
       "    }\n",
       "\n",
       "    .dataframe tbody tr th {\n",
       "        vertical-align: top;\n",
       "    }\n",
       "\n",
       "    .dataframe thead th {\n",
       "        text-align: right;\n",
       "    }\n",
       "</style>\n",
       "<table border=\"1\" class=\"dataframe\">\n",
       "  <thead>\n",
       "    <tr style=\"text-align: right;\">\n",
       "      <th></th>\n",
       "      <th>userId</th>\n",
       "      <th>title</th>\n",
       "      <th>genres</th>\n",
       "      <th>bias</th>\n",
       "      <th>mean_rating</th>\n",
       "      <th>rating</th>\n",
       "    </tr>\n",
       "  </thead>\n",
       "  <tbody>\n",
       "    <tr>\n",
       "      <th>16250</th>\n",
       "      <td>1</td>\n",
       "      <td>M*A*S*H (a.k.a. MASH) (1970)</td>\n",
       "      <td>Comedy|Drama|War</td>\n",
       "      <td>0.109324</td>\n",
       "      <td>3.934783</td>\n",
       "      <td>5.0</td>\n",
       "    </tr>\n",
       "    <tr>\n",
       "      <th>14053</th>\n",
       "      <td>1</td>\n",
       "      <td>Excalibur (1981)</td>\n",
       "      <td>Adventure|Fantasy</td>\n",
       "      <td>0.035471</td>\n",
       "      <td>3.640000</td>\n",
       "      <td>5.0</td>\n",
       "    </tr>\n",
       "    <tr>\n",
       "      <th>9066</th>\n",
       "      <td>1</td>\n",
       "      <td>Indiana Jones and the Last Crusade (1989)</td>\n",
       "      <td>Action|Adventure</td>\n",
       "      <td>0.150376</td>\n",
       "      <td>4.046429</td>\n",
       "      <td>5.0</td>\n",
       "    </tr>\n",
       "    <tr>\n",
       "      <th>9206</th>\n",
       "      <td>1</td>\n",
       "      <td>Pink Floyd: The Wall (1982)</td>\n",
       "      <td>Drama|Musical</td>\n",
       "      <td>0.079765</td>\n",
       "      <td>3.760870</td>\n",
       "      <td>5.0</td>\n",
       "    </tr>\n",
       "    <tr>\n",
       "      <th>14254</th>\n",
       "      <td>1</td>\n",
       "      <td>From Russia with Love (1963)</td>\n",
       "      <td>Action|Adventure|Thriller</td>\n",
       "      <td>0.070517</td>\n",
       "      <td>3.750000</td>\n",
       "      <td>5.0</td>\n",
       "    </tr>\n",
       "  </tbody>\n",
       "</table>\n",
       "</div>"
      ],
      "text/plain": [
       "       userId                                      title  \\\n",
       "16250       1               M*A*S*H (a.k.a. MASH) (1970)   \n",
       "14053       1                           Excalibur (1981)   \n",
       "9066        1  Indiana Jones and the Last Crusade (1989)   \n",
       "9206        1                Pink Floyd: The Wall (1982)   \n",
       "14254       1               From Russia with Love (1963)   \n",
       "\n",
       "                          genres      bias  mean_rating  rating  \n",
       "16250           Comedy|Drama|War  0.109324     3.934783     5.0  \n",
       "14053          Adventure|Fantasy  0.035471     3.640000     5.0  \n",
       "9066            Action|Adventure  0.150376     4.046429     5.0  \n",
       "9206               Drama|Musical  0.079765     3.760870     5.0  \n",
       "14254  Action|Adventure|Thriller  0.070517     3.750000     5.0  "
      ]
     },
     "execution_count": 44,
     "metadata": {},
     "output_type": "execute_result"
    }
   ],
   "source": [
    "user_id = 1\n",
    "favorites_df = get_favorites(user_id)\n",
    "favorites_df.head()"
   ]
  },
  {
   "cell_type": "code",
   "execution_count": 71,
   "metadata": {},
   "outputs": [
    {
     "data": {
      "image/png": "[encoded data removed]",
      "text/plain": [
       "<Figure size 576x288 with 1 Axes>"
      ]
     },
     "metadata": {
      "needs_background": "light"
     },
     "output_type": "display_data"
    }
   ],
   "source": [
    "plot_genre_hist(favorites_df[favorites_df['rating'] > 4])"
   ]
  },
  {
   "cell_type": "code",
   "execution_count": 46,
   "metadata": {},
   "outputs": [
    {
     "data": {
      "text/html": [
       "<div>\n",
       "<style scoped>\n",
       "    .dataframe tbody tr th:only-of-type {\n",
       "        vertical-align: middle;\n",
       "    }\n",
       "\n",
       "    .dataframe tbody tr th {\n",
       "        vertical-align: top;\n",
       "    }\n",
       "\n",
       "    .dataframe thead th {\n",
       "        text-align: right;\n",
       "    }\n",
       "</style>\n",
       "<table border=\"1\" class=\"dataframe\">\n",
       "  <thead>\n",
       "    <tr style=\"text-align: right;\">\n",
       "      <th></th>\n",
       "      <th>userId</th>\n",
       "      <th>title</th>\n",
       "      <th>genres</th>\n",
       "      <th>bias</th>\n",
       "      <th>mean_rating</th>\n",
       "      <th>rating</th>\n",
       "    </tr>\n",
       "  </thead>\n",
       "  <tbody>\n",
       "    <tr>\n",
       "      <th>4812</th>\n",
       "      <td>1</td>\n",
       "      <td>Shawshank Redemption, The (1994)</td>\n",
       "      <td>Crime|Drama</td>\n",
       "      <td>0.315486</td>\n",
       "      <td>4.429022</td>\n",
       "      <td>5.172297</td>\n",
       "    </tr>\n",
       "    <tr>\n",
       "      <th>1712</th>\n",
       "      <td>1</td>\n",
       "      <td>Godfather, The (1972)</td>\n",
       "      <td>Crime|Drama</td>\n",
       "      <td>0.183414</td>\n",
       "      <td>4.289062</td>\n",
       "      <td>5.124680</td>\n",
       "    </tr>\n",
       "    <tr>\n",
       "      <th>7242</th>\n",
       "      <td>1</td>\n",
       "      <td>Wallace &amp; Gromit: The Best of Aardman Animatio...</td>\n",
       "      <td>Adventure|Animation|Comedy</td>\n",
       "      <td>0.115362</td>\n",
       "      <td>4.092593</td>\n",
       "      <td>5.085392</td>\n",
       "    </tr>\n",
       "    <tr>\n",
       "      <th>3895</th>\n",
       "      <td>1</td>\n",
       "      <td>Amelie (Fabuleux destin d'Amélie Poulain, Le) ...</td>\n",
       "      <td>Comedy|Romance</td>\n",
       "      <td>0.176241</td>\n",
       "      <td>4.183333</td>\n",
       "      <td>5.072953</td>\n",
       "    </tr>\n",
       "    <tr>\n",
       "      <th>236</th>\n",
       "      <td>1</td>\n",
       "      <td>Departed, The (2006)</td>\n",
       "      <td>Crime|Drama|Thriller</td>\n",
       "      <td>0.196264</td>\n",
       "      <td>4.252336</td>\n",
       "      <td>5.069025</td>\n",
       "    </tr>\n",
       "  </tbody>\n",
       "</table>\n",
       "</div>"
      ],
      "text/plain": [
       "      userId                                              title  \\\n",
       "4812       1                   Shawshank Redemption, The (1994)   \n",
       "1712       1                              Godfather, The (1972)   \n",
       "7242       1  Wallace & Gromit: The Best of Aardman Animatio...   \n",
       "3895       1  Amelie (Fabuleux destin d'Amélie Poulain, Le) ...   \n",
       "236        1                               Departed, The (2006)   \n",
       "\n",
       "                          genres      bias  mean_rating    rating  \n",
       "4812                 Crime|Drama  0.315486     4.429022  5.172297  \n",
       "1712                 Crime|Drama  0.183414     4.289062  5.124680  \n",
       "7242  Adventure|Animation|Comedy  0.115362     4.092593  5.085392  \n",
       "3895              Comedy|Romance  0.176241     4.183333  5.072953  \n",
       "236         Crime|Drama|Thriller  0.196264     4.252336  5.069025  "
      ]
     },
     "execution_count": 46,
     "metadata": {},
     "output_type": "execute_result"
    }
   ],
   "source": [
    "def get_unseen_movies(user_id):\n",
    "    # Get the list of unseen movies\n",
    "    _, trained_movies = learn.data.classes.values()\n",
    "    seen_movies = ratings_df.loc[ratings_df['userId'] == user_id, 'title'].unique()\n",
    "    unseen_movies = set(trained_movies).difference(set(seen_movies))\n",
    "    return list(unseen_movies)\n",
    "\n",
    "def recommend_to_user(user_id):\n",
    "    # Predict favorite movies for the user\n",
    "    unseen_movies = get_unseen_movies(user_id)\n",
    "    u = learn.get_idx([str(user_id)] * len(unseen_movies), is_item=False)\n",
    "    m = learn.get_idx(unseen_movies, is_item=True)\n",
    "    pred = learn.model.eval().cpu()(u, m)\n",
    "    \n",
    "    # Build dataframe\n",
    "    pred_df = pd.DataFrame({'userId': user_id, 'title': unseen_movies})\n",
    "    pred_df['genres'] = pred_df['title'].map(genres_map)\n",
    "    pred_df['bias'] = learn.bias(pred_df['title'], is_item=True).detach().numpy()\n",
    "    pred_df['mean_rating'] = pred_df['title'].map(mean_rating_map)\n",
    "    pred_df['rating'] = pred\n",
    "    return pred_df.sort_values(by='rating', ascending=False)\n",
    "\n",
    "pred_df = recommend_to_user(user_id)\n",
    "pred_df.head()"
   ]
  },
  {
   "cell_type": "code",
   "execution_count": 72,
   "metadata": {},
   "outputs": [
    {
     "data": {
      "image/png": "[encoded data removed]",
      "text/plain": [
       "<Figure size 576x288 with 1 Axes>"
      ]
     },
     "metadata": {
      "needs_background": "light"
     },
     "output_type": "display_data"
    }
   ],
   "source": [
    "plot_genre_hist(pred_df[pred_df['rating'] > 4])"
   ]
  },
  {
   "cell_type": "markdown",
   "metadata": {},
   "source": [
    "Keep in mind the following drawbacks:\n",
    "\n",
    "- this approach doesn't address the well-known cold-start problem, that is when new user or new item enters the system\n",
    "- it can't deal with sparse data, meaning it's hard to find users that have rated the same items\n",
    "- it also tends to recommend popular items."
   ]
  },
  {
   "cell_type": "code",
   "execution_count": null,
   "metadata": {},
   "outputs": [],
   "source": []
  }
 ],
 "metadata": {
  "kernelspec": {
   "display_name": "Python 3",
   "language": "python",
   "name": "python3"
  },
  "language_info": {
   "codemirror_mode": {
    "name": "ipython",
    "version": 3
   },
   "file_extension": ".py",
   "mimetype": "text/x-python",
   "name": "python",
   "nbconvert_exporter": "python",
   "pygments_lexer": "ipython3",
   "version": "3.6.7"
  }
 },
 "nbformat": 4,
 "nbformat_minor": 2
}
