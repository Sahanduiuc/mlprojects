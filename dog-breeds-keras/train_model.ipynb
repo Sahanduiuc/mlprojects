{
 "cells": [
  {
   "cell_type": "markdown",
   "metadata": {},
   "source": [
    "### Fixed feature extractor"
   ]
  },
  {
   "cell_type": "code",
   "execution_count": 1,
   "metadata": {},
   "outputs": [
    {
     "name": "stdout",
     "output_type": "stream",
     "text": [
      "Using TensorFlow backend.\n",
      "Config: Namespace(img_size=224)\n",
      "2019-01-26 17:41:55.745905: I tensorflow/core/platform/cpu_feature_guard.cc:141] Your CPU supports instructions that this TensorFlow binary was not compiled to use: AVX2 FMA\n",
      "2019-01-26 17:41:56.136523: I tensorflow/stream_executor/cuda/cuda_gpu_executor.cc:964] successful NUMA node read from SysFS had negative value (-1), but there must be at least one NUMA node, so returning NUMA node zero\n",
      "2019-01-26 17:41:56.136995: I tensorflow/core/common_runtime/gpu/gpu_device.cc:1432] Found device 0 with properties: \n",
      "name: Tesla P100-PCIE-16GB major: 6 minor: 0 memoryClockRate(GHz): 1.3285\n",
      "pciBusID: 0000:00:04.0\n",
      "totalMemory: 15.90GiB freeMemory: 15.61GiB\n",
      "2019-01-26 17:41:56.137032: I tensorflow/core/common_runtime/gpu/gpu_device.cc:1511] Adding visible gpu devices: 0\n",
      "2019-01-26 17:41:56.478439: I tensorflow/core/common_runtime/gpu/gpu_device.cc:982] Device interconnect StreamExecutor with strength 1 edge matrix:\n",
      "2019-01-26 17:41:56.478544: I tensorflow/core/common_runtime/gpu/gpu_device.cc:988]      0 \n",
      "2019-01-26 17:41:56.478553: I tensorflow/core/common_runtime/gpu/gpu_device.cc:1001] 0:   N \n",
      "2019-01-26 17:41:56.478960: I tensorflow/core/common_runtime/gpu/gpu_device.cc:1115] Created TensorFlow device (/job:localhost/replica:0/task:0/device:GPU:0 with 15129 MB memory) -> physical GPU (device: 0, name: Tesla P100-PCIE-16GB, pci bus id: 0000:00:04.0, compute capability: 6.0)\n",
      "Found 7271 images belonging to 120 classes.\n",
      "7271/7271 [==============================] - 131s 18ms/step\n",
      "Found 1472 images belonging to 120 classes.\n",
      "1472/1472 [==============================] - 26s 18ms/step\n"
     ]
    }
   ],
   "source": [
    "# Extract bottleneck features (small size)\n",
    "!python3 './extract_features.py' --img_size=224"
   ]
  },
  {
   "cell_type": "code",
   "execution_count": 2,
   "metadata": {},
   "outputs": [
    {
     "name": "stdout",
     "output_type": "stream",
     "text": [
      "Using TensorFlow backend.\n",
      "Config: Namespace(epochs=5, features_dir='features_224', load_model=None, save_conf_weights=False, save_full=False)\n",
      "Train on 7271 samples, validate on 1472 samples\n",
      "2019-01-26 19:27:23.947945: I tensorflow/core/platform/cpu_feature_guard.cc:141] Your CPU supports instructions that this TensorFlow binary was not compiled to use: AVX2 FMA\n",
      "2019-01-26 19:27:24.337205: I tensorflow/stream_executor/cuda/cuda_gpu_executor.cc:964] successful NUMA node read from SysFS had negative value (-1), but there must be at least one NUMA node, so returning NUMA node zero\n",
      "2019-01-26 19:27:24.337658: I tensorflow/core/common_runtime/gpu/gpu_device.cc:1432] Found device 0 with properties: \n",
      "name: Tesla P100-PCIE-16GB major: 6 minor: 0 memoryClockRate(GHz): 1.3285\n",
      "pciBusID: 0000:00:04.0\n",
      "totalMemory: 15.90GiB freeMemory: 15.61GiB\n",
      "2019-01-26 19:27:24.337695: I tensorflow/core/common_runtime/gpu/gpu_device.cc:1511] Adding visible gpu devices: 0\n",
      "2019-01-26 19:27:24.682216: I tensorflow/core/common_runtime/gpu/gpu_device.cc:982] Device interconnect StreamExecutor with strength 1 edge matrix:\n",
      "2019-01-26 19:27:24.682275: I tensorflow/core/common_runtime/gpu/gpu_device.cc:988]      0 \n",
      "2019-01-26 19:27:24.682285: I tensorflow/core/common_runtime/gpu/gpu_device.cc:1001] 0:   N \n",
      "2019-01-26 19:27:24.682632: I tensorflow/core/common_runtime/gpu/gpu_device.cc:1115] Created TensorFlow device (/job:localhost/replica:0/task:0/device:GPU:0 with 15129 MB memory) -> physical GPU (device: 0, name: Tesla P100-PCIE-16GB, pci bus id: 0000:00:04.0, compute capability: 6.0)\n",
      "Epoch 1/5\n",
      "7271/7271 [==============================] - 1s 134us/step - loss: 1.2227 - acc: 0.7079 - val_loss: 0.6715 - val_acc: 0.8043\n",
      "Epoch 2/5\n",
      "7271/7271 [==============================] - 1s 94us/step - loss: 0.3940 - acc: 0.8733 - val_loss: 0.6094 - val_acc: 0.8132\n",
      "Epoch 3/5\n",
      "7271/7271 [==============================] - 1s 94us/step - loss: 0.2550 - acc: 0.9160 - val_loss: 0.6101 - val_acc: 0.8247\n",
      "Epoch 4/5\n",
      "7271/7271 [==============================] - 1s 94us/step - loss: 0.1298 - acc: 0.9618 - val_loss: 0.5610 - val_acc: 0.8308\n",
      "Epoch 5/5\n",
      "7271/7271 [==============================] - 1s 93us/step - loss: 0.1030 - acc: 0.9724 - val_loss: 0.5579 - val_acc: 0.8349\n",
      "Best model: /home/olegpolakow/projects/dog-breeds/temp/loss_0.5579\n"
     ]
    }
   ],
   "source": [
    "# Train a small FC layer (basically a logistic regression)\n",
    "!python3 './train_from_features.py' --features_dir='features_224' --epochs=5"
   ]
  },
  {
   "cell_type": "code",
   "execution_count": 3,
   "metadata": {},
   "outputs": [
    {
     "name": "stdout",
     "output_type": "stream",
     "text": [
      "Using TensorFlow backend.\n",
      "Config: Namespace(img_size=299)\n",
      "2019-01-26 17:47:46.476394: I tensorflow/core/platform/cpu_feature_guard.cc:141] Your CPU supports instructions that this TensorFlow binary was not compiled to use: AVX2 FMA\n",
      "2019-01-26 17:47:46.858695: I tensorflow/stream_executor/cuda/cuda_gpu_executor.cc:964] successful NUMA node read from SysFS had negative value (-1), but there must be at least one NUMA node, so returning NUMA node zero\n",
      "2019-01-26 17:47:46.859143: I tensorflow/core/common_runtime/gpu/gpu_device.cc:1432] Found device 0 with properties: \n",
      "name: Tesla P100-PCIE-16GB major: 6 minor: 0 memoryClockRate(GHz): 1.3285\n",
      "pciBusID: 0000:00:04.0\n",
      "totalMemory: 15.90GiB freeMemory: 15.61GiB\n",
      "2019-01-26 17:47:46.859178: I tensorflow/core/common_runtime/gpu/gpu_device.cc:1511] Adding visible gpu devices: 0\n",
      "2019-01-26 17:47:47.196947: I tensorflow/core/common_runtime/gpu/gpu_device.cc:982] Device interconnect StreamExecutor with strength 1 edge matrix:\n",
      "2019-01-26 17:47:47.196997: I tensorflow/core/common_runtime/gpu/gpu_device.cc:988]      0 \n",
      "2019-01-26 17:47:47.197021: I tensorflow/core/common_runtime/gpu/gpu_device.cc:1001] 0:   N \n",
      "2019-01-26 17:47:47.197385: I tensorflow/core/common_runtime/gpu/gpu_device.cc:1115] Created TensorFlow device (/job:localhost/replica:0/task:0/device:GPU:0 with 15129 MB memory) -> physical GPU (device: 0, name: Tesla P100-PCIE-16GB, pci bus id: 0000:00:04.0, compute capability: 6.0)\n",
      "Found 7271 images belonging to 120 classes.\n",
      "7271/7271 [==============================] - 139s 19ms/step\n",
      "Found 1472 images belonging to 120 classes.\n",
      "1472/1472 [==============================] - 28s 19ms/step\n"
     ]
    }
   ],
   "source": [
    "# Extract bottleneck features (original size)\n",
    "!python3 './extract_features.py'"
   ]
  },
  {
   "cell_type": "code",
   "execution_count": 4,
   "metadata": {},
   "outputs": [
    {
     "name": "stdout",
     "output_type": "stream",
     "text": [
      "Using TensorFlow backend.\n",
      "Config: Namespace(epochs=5, features_dir='features_299', load_model='loss_0.5579/model_fc.hdf5', save_conf_weights=False, save_full=True)\n",
      "2019-01-26 19:28:07.844417: I tensorflow/core/platform/cpu_feature_guard.cc:141] Your CPU supports instructions that this TensorFlow binary was not compiled to use: AVX2 FMA\n",
      "2019-01-26 19:28:08.227775: I tensorflow/stream_executor/cuda/cuda_gpu_executor.cc:964] successful NUMA node read from SysFS had negative value (-1), but there must be at least one NUMA node, so returning NUMA node zero\n",
      "2019-01-26 19:28:08.228231: I tensorflow/core/common_runtime/gpu/gpu_device.cc:1432] Found device 0 with properties: \n",
      "name: Tesla P100-PCIE-16GB major: 6 minor: 0 memoryClockRate(GHz): 1.3285\n",
      "pciBusID: 0000:00:04.0\n",
      "totalMemory: 15.90GiB freeMemory: 15.61GiB\n",
      "2019-01-26 19:28:08.228264: I tensorflow/core/common_runtime/gpu/gpu_device.cc:1511] Adding visible gpu devices: 0\n",
      "2019-01-26 19:28:08.565502: I tensorflow/core/common_runtime/gpu/gpu_device.cc:982] Device interconnect StreamExecutor with strength 1 edge matrix:\n",
      "2019-01-26 19:28:08.565552: I tensorflow/core/common_runtime/gpu/gpu_device.cc:988]      0 \n",
      "2019-01-26 19:28:08.565561: I tensorflow/core/common_runtime/gpu/gpu_device.cc:1001] 0:   N \n",
      "2019-01-26 19:28:08.565905: I tensorflow/core/common_runtime/gpu/gpu_device.cc:1115] Created TensorFlow device (/job:localhost/replica:0/task:0/device:GPU:0 with 15129 MB memory) -> physical GPU (device: 0, name: Tesla P100-PCIE-16GB, pci bus id: 0000:00:04.0, compute capability: 6.0)\n",
      "Train on 7271 samples, validate on 1472 samples\n",
      "Epoch 1/5\n",
      "7271/7271 [==============================] - 1s 143us/step - loss: 0.2780 - acc: 0.9296 - val_loss: 0.2977 - val_acc: 0.9022\n",
      "Epoch 2/5\n",
      "7271/7271 [==============================] - 1s 102us/step - loss: 0.1389 - acc: 0.9587 - val_loss: 0.2656 - val_acc: 0.9035\n",
      "Epoch 3/5\n",
      "7271/7271 [==============================] - 1s 99us/step - loss: 0.1022 - acc: 0.9697 - val_loss: 0.2733 - val_acc: 0.9096\n",
      "Epoch 4/5\n",
      "7271/7271 [==============================] - 1s 96us/step - loss: 0.0663 - acc: 0.9840 - val_loss: 0.2533 - val_acc: 0.9158\n",
      "Epoch 5/5\n",
      "7271/7271 [==============================] - 1s 94us/step - loss: 0.0568 - acc: 0.9872 - val_loss: 0.2529 - val_acc: 0.9124\n",
      "Best model: /home/olegpolakow/projects/dog-breeds/temp/loss_0.2529\n",
      "Exception ignored in: <bound method BaseSession.__del__ of <tensorflow.python.client.session.Session object at 0x7f0442ef15f8>>\n",
      "Traceback (most recent call last):\n",
      "  File \"/usr/local/lib/python3.5/dist-packages/tensorflow/python/client/session.py\", line 738, in __del__\n",
      "TypeError: 'NoneType' object is not callable\n"
     ]
    }
   ],
   "source": [
    "# Train the same network\n",
    "!python3 './train_from_features.py' --load_model='loss_0.5579/model_fc.hdf5' --epochs=5 --save_full"
   ]
  },
  {
   "cell_type": "markdown",
   "metadata": {},
   "source": [
    "### Fine-tuning"
   ]
  },
  {
   "cell_type": "code",
   "execution_count": 5,
   "metadata": {},
   "outputs": [
    {
     "name": "stdout",
     "output_type": "stream",
     "text": [
      "Using TensorFlow backend.\n",
      "Config: Namespace(augment=False, epochs=3, from_layer=249, img_size=299, load_conf_weights=None, load_model='loss_0.2529/model.hdf5', use_class_weights=True)\n",
      "2019-01-26 19:29:18.810238: I tensorflow/core/platform/cpu_feature_guard.cc:141] Your CPU supports instructions that this TensorFlow binary was not compiled to use: AVX2 FMA\n",
      "2019-01-26 19:29:19.195447: I tensorflow/stream_executor/cuda/cuda_gpu_executor.cc:964] successful NUMA node read from SysFS had negative value (-1), but there must be at least one NUMA node, so returning NUMA node zero\n",
      "2019-01-26 19:29:19.195901: I tensorflow/core/common_runtime/gpu/gpu_device.cc:1432] Found device 0 with properties: \n",
      "name: Tesla P100-PCIE-16GB major: 6 minor: 0 memoryClockRate(GHz): 1.3285\n",
      "pciBusID: 0000:00:04.0\n",
      "totalMemory: 15.90GiB freeMemory: 15.61GiB\n",
      "2019-01-26 19:29:19.195935: I tensorflow/core/common_runtime/gpu/gpu_device.cc:1511] Adding visible gpu devices: 0\n",
      "2019-01-26 19:29:19.521506: I tensorflow/core/common_runtime/gpu/gpu_device.cc:982] Device interconnect StreamExecutor with strength 1 edge matrix:\n",
      "2019-01-26 19:29:19.521561: I tensorflow/core/common_runtime/gpu/gpu_device.cc:988]      0 \n",
      "2019-01-26 19:29:19.521570: I tensorflow/core/common_runtime/gpu/gpu_device.cc:1001] 0:   N \n",
      "2019-01-26 19:29:19.521922: I tensorflow/core/common_runtime/gpu/gpu_device.cc:1115] Created TensorFlow device (/job:localhost/replica:0/task:0/device:GPU:0 with 15129 MB memory) -> physical GPU (device: 0, name: Tesla P100-PCIE-16GB, pci bus id: 0000:00:04.0, compute capability: 6.0)\n",
      "/usr/local/lib/python3.5/dist-packages/keras/engine/saving.py:292: UserWarning: No training configuration found in save file: the model was *not* compiled. Compile it manually.\n",
      "  warnings.warn('No training configuration found in save file: '\n",
      "Found 7271 images belonging to 120 classes.\n",
      "Found 1472 images belonging to 120 classes.\n",
      "Epoch 1/3\n",
      "227/227 [==============================] - 39s 171ms/step - loss: 0.6128 - acc: 0.8787 - val_loss: 0.2818 - val_acc: 0.9056\n",
      "Epoch 2/3\n",
      "227/227 [==============================] - 34s 149ms/step - loss: 0.4254 - acc: 0.9151 - val_loss: 0.2948 - val_acc: 0.8933\n",
      "Epoch 3/3\n",
      "227/227 [==============================] - 33s 147ms/step - loss: 0.3510 - acc: 0.9342 - val_loss: 0.2921 - val_acc: 0.8954\n",
      "Best model: /home/olegpolakow/projects/dog-breeds/temp/loss_0.2818\n"
     ]
    }
   ],
   "source": [
    "# Fine-tune several inception blocks\n",
    "!python3 './fine_tune.py' --load_model='loss_0.2529/model.hdf5' --epochs=3"
   ]
  },
  {
   "cell_type": "code",
   "execution_count": 6,
   "metadata": {},
   "outputs": [
    {
     "name": "stdout",
     "output_type": "stream",
     "text": [
      "Using TensorFlow backend.\n",
      "Config: Namespace(augment=True, epochs=2, from_layer=249, img_size=299, load_conf_weights=None, load_model='loss_0.2818/model.hdf5', use_class_weights=True)\n",
      "2019-01-26 19:32:24.945472: I tensorflow/core/platform/cpu_feature_guard.cc:141] Your CPU supports instructions that this TensorFlow binary was not compiled to use: AVX2 FMA\n",
      "2019-01-26 19:32:25.328465: I tensorflow/stream_executor/cuda/cuda_gpu_executor.cc:964] successful NUMA node read from SysFS had negative value (-1), but there must be at least one NUMA node, so returning NUMA node zero\n",
      "2019-01-26 19:32:25.328980: I tensorflow/core/common_runtime/gpu/gpu_device.cc:1432] Found device 0 with properties: \n",
      "name: Tesla P100-PCIE-16GB major: 6 minor: 0 memoryClockRate(GHz): 1.3285\n",
      "pciBusID: 0000:00:04.0\n",
      "totalMemory: 15.90GiB freeMemory: 15.61GiB\n",
      "2019-01-26 19:32:25.329012: I tensorflow/core/common_runtime/gpu/gpu_device.cc:1511] Adding visible gpu devices: 0\n",
      "2019-01-26 19:32:25.668255: I tensorflow/core/common_runtime/gpu/gpu_device.cc:982] Device interconnect StreamExecutor with strength 1 edge matrix:\n",
      "2019-01-26 19:32:25.668304: I tensorflow/core/common_runtime/gpu/gpu_device.cc:988]      0 \n",
      "2019-01-26 19:32:25.668329: I tensorflow/core/common_runtime/gpu/gpu_device.cc:1001] 0:   N \n",
      "2019-01-26 19:32:25.668691: I tensorflow/core/common_runtime/gpu/gpu_device.cc:1115] Created TensorFlow device (/job:localhost/replica:0/task:0/device:GPU:0 with 15129 MB memory) -> physical GPU (device: 0, name: Tesla P100-PCIE-16GB, pci bus id: 0000:00:04.0, compute capability: 6.0)\n",
      "Found 7271 images belonging to 120 classes.\n",
      "Found 1472 images belonging to 120 classes.\n",
      "Epoch 1/2\n",
      "227/227 [==============================] - 199s 875ms/step - loss: 0.8027 - acc: 0.8393 - val_loss: 0.2901 - val_acc: 0.9015\n",
      "Epoch 2/2\n",
      "227/227 [==============================] - 187s 822ms/step - loss: 0.6718 - acc: 0.8640 - val_loss: 0.2969 - val_acc: 0.8974\n",
      "Best model: /home/olegpolakow/projects/dog-breeds/temp/loss_0.2901\n"
     ]
    }
   ],
   "source": [
    "# Now with data augmentation\n",
    "!python3 './fine_tune.py' --load_model='loss_0.2818/model.hdf5' --augment --epochs=2"
   ]
  },
  {
   "cell_type": "code",
   "execution_count": null,
   "metadata": {},
   "outputs": [],
   "source": []
  }
 ],
 "metadata": {
  "kernelspec": {
   "display_name": "Python 3",
   "language": "python",
   "name": "python3"
  },
  "language_info": {
   "codemirror_mode": {
    "name": "ipython",
    "version": 3
   },
   "file_extension": ".py",
   "mimetype": "text/x-python",
   "name": "python",
   "nbconvert_exporter": "python",
   "pygments_lexer": "ipython3",
   "version": "3.5.3"
  }
 },
 "nbformat": 4,
 "nbformat_minor": 2
}
