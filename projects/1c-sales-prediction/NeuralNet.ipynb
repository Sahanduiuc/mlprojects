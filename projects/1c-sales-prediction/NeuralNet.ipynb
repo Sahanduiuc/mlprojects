{
 "cells": [
  {
   "cell_type": "code",
   "execution_count": 1,
   "metadata": {
    "_cell_guid": "b1076dfc-b9ad-4769-8c92-a6c4dae69d19",
    "_uuid": "8f2839f25d086af736a60e9eeb907d3b93b6e0e5"
   },
   "outputs": [
    {
     "name": "stdout",
     "output_type": "stream",
     "text": [
      "../input/competitive-data-science-predict-future-sales:\r\n",
      "item_categories.csv  sales_train.csv\t    shops.csv\r\n",
      "items.csv\t     sample_submission.csv  test.csv\r\n",
      "\r\n",
      "../input/pfs-dataprep:\r\n",
      "__notebook__.ipynb  __results__.html   custom.css  mean_benchmark.csv\r\n",
      "__output__.json     __results___files  data.h5\t   prev_month_benchmark.csv\r\n"
     ]
    }
   ],
   "source": [
    "!ls ../input/*"
   ]
  },
  {
   "cell_type": "code",
   "execution_count": 2,
   "metadata": {
    "_cell_guid": "79c7e3d0-c299-4dcb-8224-4455121ee9b0",
    "_uuid": "d629ff2d2480ee46fbb7e2d37f6b5fab8052498a"
   },
   "outputs": [],
   "source": [
    "import numpy as np\n",
    "import pandas as pd\n",
    "pd.set_option('display.max_rows', 500)\n",
    "pd.set_option('display.max_columns', 100)\n",
    "import seaborn as sns\n",
    "sns.set()\n",
    "import matplotlib.pyplot as plt\n",
    "import warnings\n",
    "warnings.filterwarnings(\"ignore\")\n",
    "import gc\n",
    "from pathlib import Path\n",
    "from math import sqrt\n",
    "import random\n",
    "from sklearn.metrics import mean_squared_error\n",
    "from sklearn.metrics import confusion_matrix, roc_auc_score\n",
    "\n",
    "from fastai import tabular"
   ]
  },
  {
   "cell_type": "code",
   "execution_count": 3,
   "metadata": {},
   "outputs": [],
   "source": [
    "SEED = 42\n",
    "DATA_PATH = '../input/pfs-dataprep/data.h5'\n",
    "TEMP_PATH = Path('temp')\n",
    "# Number of rows for training\n",
    "TRAIN_ROWS = 3000000 # (~10 months)\n",
    "# Months to reserve for ensembling methods\n",
    "META_MONTHS = 4\n",
    "# Do not exclude target since fastai requires it in the dataframe\n",
    "EXCL_COLS = []\n",
    "CAT_COLS = ['month', 'shop_id', 'item_category_id', 'item_id', 'city_id', 'type_id', 'subtype_id']\n",
    "FIXED_PARAMS = {\n",
    "    'layers': [500, 200], \n",
    "    'ps': [0.3, 0.5], \n",
    "    'emb_drop': 0.2,\n",
    "}\n",
    "BATCH_SIZE = 512\n",
    "PROCS = [tabular.FillMissing, tabular.Categorify, tabular.Normalize]"
   ]
  },
  {
   "cell_type": "code",
   "execution_count": 4,
   "metadata": {},
   "outputs": [
    {
     "name": "stdout",
     "output_type": "stream",
     "text": [
      "CPU times: user 11.1 s, sys: 3.94 s, total: 15.1 s\n",
      "Wall time: 17.2 s\n"
     ]
    }
   ],
   "source": [
    "%%time\n",
    "traintest = pd.read_hdf(DATA_PATH, key='traintest')"
   ]
  },
  {
   "cell_type": "code",
   "execution_count": 5,
   "metadata": {},
   "outputs": [
    {
     "name": "stdout",
     "output_type": "stream",
     "text": [
      "(7393103, 60)\n"
     ]
    }
   ],
   "source": [
    "# Target column required for classification task\n",
    "traintest['item_cnt_month_bin'] = (traintest['item_cnt_month'] > 0).astype('int32')\n",
    "\n",
    "print(traintest.shape)"
   ]
  },
  {
   "cell_type": "code",
   "execution_count": 6,
   "metadata": {},
   "outputs": [
    {
     "name": "stdout",
     "output_type": "stream",
     "text": [
      "3000000 238172 1114452\n"
     ]
    }
   ],
   "source": [
    "train_idx = traintest[traintest.date_block_num<34-META_MONTHS].sample(n=TRAIN_ROWS, random_state=SEED).index\n",
    "valid_idx = traintest[traintest.date_block_num==33].index\n",
    "test_idx = traintest[traintest.date_block_num>=34-META_MONTHS].index\n",
    "\n",
    "print(len(train_idx), len(valid_idx), len(test_idx))"
   ]
  },
  {
   "cell_type": "code",
   "execution_count": 7,
   "metadata": {},
   "outputs": [
    {
     "name": "stdout",
     "output_type": "stream",
     "text": [
      "3238172 238172\n"
     ]
    }
   ],
   "source": [
    "# fastai requires the validation set to be part of the training set\n",
    "train_idx = train_idx.tolist() + valid_idx.tolist()\n",
    "valid_range = range(len(train_idx)-len(valid_idx), len(train_idx))\n",
    "X_train = traintest.loc[train_idx].drop(EXCL_COLS, axis=1)\n",
    "\n",
    "print(len(X_train), len(valid_range))"
   ]
  },
  {
   "cell_type": "code",
   "execution_count": 8,
   "metadata": {},
   "outputs": [
    {
     "name": "stdout",
     "output_type": "stream",
     "text": [
      "(1114452, 60) [30, 31, 32, 33, 34]\n"
     ]
    }
   ],
   "source": [
    "X_test = traintest.loc[test_idx].drop(EXCL_COLS, axis=1)\n",
    "\n",
    "print(X_test.shape, sorted(X_test.date_block_num.unique()))"
   ]
  },
  {
   "cell_type": "code",
   "execution_count": 9,
   "metadata": {},
   "outputs": [],
   "source": [
    "# Model parameters\n",
    "CONT_NAMES = X_train.columns.difference(CAT_COLS + EXCL_COLS + ['item_cnt_month', 'item_cnt_month_bin'])\n",
    "LIST_ARGS = {\n",
    "    'path': TEMP_PATH,\n",
    "    'cat_names': CAT_COLS,\n",
    "    'cont_names': CONT_NAMES,\n",
    "    'procs': PROCS\n",
    "}"
   ]
  },
  {
   "cell_type": "markdown",
   "metadata": {},
   "source": [
    "### Regression"
   ]
  },
  {
   "cell_type": "code",
   "execution_count": 10,
   "metadata": {},
   "outputs": [],
   "source": [
    "def build_dataset(X_train, target, label_cls):\n",
    "    # Construct fastai data blocks (extended torch data loaders) from dataframes\n",
    "    test_data = tabular.TabularList.from_df(X_test, **LIST_ARGS)\n",
    "    data = (tabular.TabularList.from_df(X_train, **LIST_ARGS)\n",
    "            .split_by_idx(valid_range)\n",
    "            .label_from_df(target, label_cls=label_cls)\n",
    "            .add_test(test_data)\n",
    "            .databunch(bs=BATCH_SIZE))\n",
    "    return data"
   ]
  },
  {
   "cell_type": "code",
   "execution_count": 11,
   "metadata": {},
   "outputs": [
    {
     "name": "stdout",
     "output_type": "stream",
     "text": [
      "3000000 238172\n",
      "CPU times: user 42.9 s, sys: 1min 14s, total: 1min 57s\n",
      "Wall time: 1min 57s\n"
     ]
    }
   ],
   "source": [
    "%%time\n",
    "data = build_dataset(X_train, 'item_cnt_month', tabular.FloatList)\n",
    "\n",
    "print(len(data.train_ds), len(data.valid_ds))"
   ]
  },
  {
   "cell_type": "code",
   "execution_count": 12,
   "metadata": {},
   "outputs": [
    {
     "name": "stdout",
     "output_type": "stream",
     "text": [
      "torch.Size([512, 7])\n",
      "torch.Size([512, 51])\n",
      "torch.Size([512])\n",
      "[0. 0. 1. 0. 1.]\n"
     ]
    }
   ],
   "source": [
    "(cat_x, cont_x), y = next(iter(data.train_dl))\n",
    "for o in (cat_x, cont_x, y): print(o.shape)\n",
    "print(tabular.to_np(y)[:5])"
   ]
  },
  {
   "cell_type": "code",
   "execution_count": 13,
   "metadata": {},
   "outputs": [],
   "source": [
    "def set_random_seed():\n",
    "    # This snippet gives repeatable results\n",
    "    np.random.seed(SEED)\n",
    "    tabular.torch.manual_seed(SEED)\n",
    "    random.seed(SEED)\n",
    "    if tabular.torch.cuda.is_available(): \n",
    "        tabular.torch.cuda.manual_seed(SEED)\n",
    "        tabular.torch.cuda.manual_seed_all(SEED)\n",
    "        tabular.torch.backends.cudnn.deterministic = True\n",
    "        tabular.torch.backends.cudnn.benchmark = False\n",
    "        \n",
    "def rmse(y_true, y_pred):\n",
    "    # Clipping required by the competition\n",
    "    y_true = pd.Series(y_true).fillna(0).clip(0, 20).values\n",
    "    y_pred = pd.Series(y_pred).fillna(0).clip(0, 20).values\n",
    "    return sqrt(mean_squared_error(y_true, y_pred))\n",
    "\n",
    "def setup_and_fit_model(data, use_sigmoid=False):\n",
    "    # Set up the model\n",
    "    set_random_seed()\n",
    "    if use_sigmoid:\n",
    "        set_random_seed()\n",
    "        y_max = X_train['item_cnt_month'].max()\n",
    "        y_range = tabular.torch.tensor([0, y_max], device=tabular.defaults.device)\n",
    "        learn = tabular.tabular_learner(data, **FIXED_PARAMS, metrics=tabular.rmse, y_range=y_range)\n",
    "    else:\n",
    "        learn = tabular.tabular_learner(data, **FIXED_PARAMS, metrics=tabular.rmse)\n",
    "    \n",
    "    # Train and validate the model\n",
    "    learn.fit_one_cycle(1, 1e-2, wd=0.2)\n",
    "    valid_preds = learn.get_preds(tabular.DatasetType.Valid)\n",
    "    \n",
    "    # Generate predictions for the test set\n",
    "    test_preds = learn.get_preds(tabular.DatasetType.Test)\n",
    "    test_preds = test_preds[0].data.numpy().T[0]\n",
    "    \n",
    "    # fastai progress bar clears everything printed before, so print afterwards\n",
    "    learn.recorder.plot_losses()\n",
    "    print('RMSE:', rmse(valid_preds[1], valid_preds[0].squeeze()))\n",
    "    \n",
    "    # release unreferenced objects\n",
    "    del learn\n",
    "    gc.collect()\n",
    "    return test_preds"
   ]
  },
  {
   "cell_type": "code",
   "execution_count": 14,
   "metadata": {},
   "outputs": [
    {
     "name": "stdout",
     "output_type": "stream",
     "text": [
      "RMSE: 1.0343356352631008\n",
      "CPU times: user 1min 4s, sys: 10.6 s, total: 1min 14s\n",
      "Wall time: 3min 34s\n"
     ]
    },
    {
     "data": {
      "image/png": "[encoded data removed]",
      "text/plain": [
       "<Figure size 432x288 with 1 Axes>"
      ]
     },
     "metadata": {},
     "output_type": "display_data"
    }
   ],
   "source": [
    "%%time\n",
    "reg_preds = setup_and_fit_model(data)"
   ]
  },
  {
   "cell_type": "code",
   "execution_count": 15,
   "metadata": {},
   "outputs": [
    {
     "name": "stdout",
     "output_type": "stream",
     "text": [
      "RMSE: 0.9969908918980551\n",
      "CPU times: user 1min 7s, sys: 10.5 s, total: 1min 17s\n",
      "Wall time: 3min 36s\n"
     ]
    },
    {
     "data": {
      "image/png": "[encoded data removed]",
      "text/plain": [
       "<Figure size 432x288 with 1 Axes>"
      ]
     },
     "metadata": {},
     "output_type": "display_data"
    }
   ],
   "source": [
    "%%time\n",
    "sigmoid_preds = setup_and_fit_model(data, use_sigmoid=True)"
   ]
  },
  {
   "cell_type": "code",
   "execution_count": 16,
   "metadata": {},
   "outputs": [
    {
     "data": {
      "text/plain": [
       "2644"
      ]
     },
     "execution_count": 16,
     "metadata": {},
     "output_type": "execute_result"
    }
   ],
   "source": [
    "del data\n",
    "gc.collect()"
   ]
  },
  {
   "cell_type": "markdown",
   "metadata": {},
   "source": [
    "### Binary classification"
   ]
  },
  {
   "cell_type": "code",
   "execution_count": 17,
   "metadata": {},
   "outputs": [
    {
     "name": "stdout",
     "output_type": "stream",
     "text": [
      "3000000 238172\n",
      "CPU times: user 45.5 s, sys: 1min 20s, total: 2min 5s\n",
      "Wall time: 2min 4s\n"
     ]
    }
   ],
   "source": [
    "%%time\n",
    "data = build_dataset(X_train, 'item_cnt_month_bin', tabular.CategoryList)\n",
    "\n",
    "print(len(data.train_ds), len(data.valid_ds))"
   ]
  },
  {
   "cell_type": "code",
   "execution_count": 18,
   "metadata": {},
   "outputs": [
    {
     "name": "stdout",
     "output_type": "stream",
     "text": [
      "torch.Size([512, 7])\n",
      "torch.Size([512, 51])\n",
      "torch.Size([512])\n",
      "[0 0 0 0 0]\n"
     ]
    }
   ],
   "source": [
    "(cat_x, cont_x), y = next(iter(data.train_dl))\n",
    "for o in (cat_x, cont_x, y): print(o.shape)\n",
    "print(tabular.to_np(y)[:5])"
   ]
  },
  {
   "cell_type": "code",
   "execution_count": 19,
   "metadata": {},
   "outputs": [],
   "source": [
    "def setup_and_fit_bin_model(data, use_class_weights=False):\n",
    "    # Set up the model\n",
    "    set_random_seed()\n",
    "    if use_class_weights:\n",
    "        # Use class weights in loss function for our imbalanced dataset\n",
    "        value_counts = X_train['item_cnt_month'].value_counts()\n",
    "        class_weights = tabular.FloatTensor([1/value_counts[0], 1/value_counts[1]]).cuda()\n",
    "    else:\n",
    "        class_weights = tabular.FloatTensor([1, 1]).cuda()\n",
    "    loss_func = tabular.CrossEntropyFlat(weight=class_weights)\n",
    "    learn = tabular.tabular_learner(data, **FIXED_PARAMS, metrics=tabular.accuracy, loss_func=loss_func)\n",
    "    \n",
    "    # Train and validate the model\n",
    "    learn.fit_one_cycle(1, 1e-2, wd=0.2)\n",
    "    valid_preds = learn.get_preds(tabular.DatasetType.Valid)\n",
    "    \n",
    "    # Generate predictions for the test set\n",
    "    test_preds = learn.get_preds(tabular.DatasetType.Test)\n",
    "    test_preds = test_preds[0].data.numpy()[:, 1]\n",
    "    \n",
    "    # fastai progress bar clears everything printed before, so print afterwards\n",
    "    learn.recorder.plot_losses()\n",
    "    print(confusion_matrix(valid_preds[1], valid_preds[0].argmax(dim=1)))\n",
    "    print('ROCAUC:', roc_auc_score(valid_preds[1], valid_preds[0].argmax(dim=1)))\n",
    "    \n",
    "    return test_preds"
   ]
  },
  {
   "cell_type": "code",
   "execution_count": 20,
   "metadata": {},
   "outputs": [
    {
     "name": "stdout",
     "output_type": "stream",
     "text": [
      "[[200563   6138]\n",
      " [ 22026   9445]]\n",
      "ROCAUC: 0.6352112508839429\n",
      "CPU times: user 1min 5s, sys: 10.7 s, total: 1min 16s\n",
      "Wall time: 3min 36s\n"
     ]
    },
    {
     "data": {
      "image/png": "[encoded data removed]",
      "text/plain": [
       "<Figure size 432x288 with 1 Axes>"
      ]
     },
     "metadata": {},
     "output_type": "display_data"
    }
   ],
   "source": [
    "%%time\n",
    "bin_preds = setup_and_fit_bin_model(data)"
   ]
  },
  {
   "cell_type": "code",
   "execution_count": 21,
   "metadata": {},
   "outputs": [
    {
     "name": "stdout",
     "output_type": "stream",
     "text": [
      "[[128148  78553]\n",
      " [  3884  27587]]\n",
      "ROCAUC: 0.7482763827055254\n",
      "CPU times: user 1min 7s, sys: 10.5 s, total: 1min 17s\n",
      "Wall time: 3min 31s\n"
     ]
    },
    {
     "data": {
      "image/png": "[encoded data removed]",
      "text/plain": [
       "<Figure size 432x288 with 1 Axes>"
      ]
     },
     "metadata": {},
     "output_type": "display_data"
    }
   ],
   "source": [
    "%%time\n",
    "bin_weighted_preds = setup_and_fit_bin_model(data, use_class_weights=True)"
   ]
  },
  {
   "cell_type": "markdown",
   "metadata": {},
   "source": [
    "### Save predictions"
   ]
  },
  {
   "cell_type": "code",
   "execution_count": 22,
   "metadata": {},
   "outputs": [],
   "source": [
    "def save_preds(preds, fname):\n",
    "    preds = pd.Series(preds, index=test_idx)\n",
    "    preds.to_csv(fname)\n",
    "    print(preds.head())\n",
    "    print(preds.describe()[['mean', 'std', 'min', 'max']])"
   ]
  },
  {
   "cell_type": "code",
   "execution_count": 23,
   "metadata": {},
   "outputs": [
    {
     "name": "stdout",
     "output_type": "stream",
     "text": [
      "6278651    0.203763\n",
      "6278652    0.196599\n",
      "6278653   -0.009731\n",
      "6278654    0.074139\n",
      "6278655    0.099263\n",
      "dtype: float32\n",
      "mean     0.318280\n",
      "std      0.936165\n",
      "min     -0.097603\n",
      "max     41.664585\n",
      "dtype: float64\n"
     ]
    }
   ],
   "source": [
    "save_preds(reg_preds, 'reg_preds.csv')"
   ]
  },
  {
   "cell_type": "code",
   "execution_count": 24,
   "metadata": {},
   "outputs": [
    {
     "name": "stdout",
     "output_type": "stream",
     "text": [
      "6278651    0.174408\n",
      "6278652    0.158561\n",
      "6278653    0.104735\n",
      "6278654    0.107576\n",
      "6278655    0.181897\n",
      "dtype: float32\n",
      "mean     0.357234\n",
      "std      0.843014\n",
      "min      0.004381\n",
      "max     19.770159\n",
      "dtype: float64\n"
     ]
    }
   ],
   "source": [
    "save_preds(sigmoid_preds, 'sigmoid_preds.csv')"
   ]
  },
  {
   "cell_type": "code",
   "execution_count": 25,
   "metadata": {},
   "outputs": [
    {
     "name": "stdout",
     "output_type": "stream",
     "text": [
      "6278651    0.182921\n",
      "6278652    0.248968\n",
      "6278653    0.015179\n",
      "6278654    0.105771\n",
      "6278655    0.147265\n",
      "dtype: float32\n",
      "mean    0.153830\n",
      "std     0.188999\n",
      "min     0.000018\n",
      "max     1.000000\n",
      "dtype: float64\n"
     ]
    }
   ],
   "source": [
    "save_preds(bin_preds, 'bin_preds.csv')"
   ]
  },
  {
   "cell_type": "code",
   "execution_count": 26,
   "metadata": {},
   "outputs": [
    {
     "name": "stdout",
     "output_type": "stream",
     "text": [
      "6278651    0.642152\n",
      "6278652    0.762969\n",
      "6278653    0.144590\n",
      "6278654    0.535137\n",
      "6278655    0.598447\n",
      "dtype: float32\n",
      "mean    0.447381\n",
      "std     0.311033\n",
      "min     0.000052\n",
      "max     1.000000\n",
      "dtype: float64\n"
     ]
    }
   ],
   "source": [
    "save_preds(bin_weighted_preds, 'bin_weighted_preds.csv')"
   ]
  }
 ],
 "metadata": {
  "kernelspec": {
   "display_name": "Python 3",
   "language": "python",
   "name": "python3"
  },
  "language_info": {
   "codemirror_mode": {
    "name": "ipython",
    "version": 3
   },
   "file_extension": ".py",
   "mimetype": "text/x-python",
   "name": "python",
   "nbconvert_exporter": "python",
   "pygments_lexer": "ipython3",
   "version": "3.6.4"
  }
 },
 "nbformat": 4,
 "nbformat_minor": 1
}
