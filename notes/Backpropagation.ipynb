{
 "cells": [
  {
   "cell_type": "markdown",
   "metadata": {},
   "source": [
    "# Backpropagation"
   ]
  },
  {
   "cell_type": "markdown",
   "metadata": {},
   "source": [
    "- Backpropagation is an efficient method of computing gradients in directed graphs of computations\n",
    "- The backward propagation of error is a method used in artificial neural networks to calculate a gradient that is needed in the calculation of the weights to be used in the network.\n",
    "- An error is computed at the output and distributed backwards throughout the network’s layers.\n",
    "- The weights are adjusted in proportion to their contribution to the total error.\n",
    "\n",
    "<img width=500 src=\"images/0*AxqT3EOPEThyRqfK..png\"/>\n",
    "<center><a href=\"https://towardsdatascience.com/how-to-use-batch-normalization-with-tensorflow-and-tf-keras-to-train-deep-neural-networks-faster-60ba4d054b73\" style=\"color: lightgrey\">Credit</a></center>\n",
    "\n",
    "- This is actually a simple implementation of chain rule of derivatives, which simply gives you the ability to compute all required partial derivatives in linear time in terms of the graph size\n",
    "\n",
    "<img width=700 src=\"images/1*q1M7LGiDTirwU-4LcFq7_Q.png\"/>\n",
    "<center><a href=\"https://kratzert.github.io/2016/02/12/understanding-the-gradient-flow-through-the-batch-normalization-layer.html\" style=\"color: lightgrey\">Credit</a></center>\n",
    "\n",
    "-  In the context of learning, backpropagation is commonly used by the gradient descent optimization algorithm to adjust the weight of neurons by calculating the gradient of the loss function."
   ]
  },
  {
   "cell_type": "markdown",
   "metadata": {},
   "source": [
    "#### Benefits:\n",
    "- The backpropagation algorithm is more accurate and cheaper than estimating gradients numerically"
   ]
  },
  {
   "cell_type": "markdown",
   "metadata": {},
   "source": [
    "#### Tips:\n",
    "- Backpropagation is computing gradients with respect to the cost, so anything in any layer that influences the ultimate cost should have a non-zero gradient"
   ]
  },
  {
   "cell_type": "markdown",
   "metadata": {},
   "source": [
    "## Gradient checking"
   ]
  },
  {
   "cell_type": "markdown",
   "metadata": {},
   "source": [
    "- Backpropagation is a notoriously difficult algorithm to debug and get right, especially since many subtly buggy implementations of it\n",
    "- It is very common and indeed arguably necessary to use centered finite difference approximations to check and debug your backpropagation calculations.\n",
    "- Gradient checking verifies closeness between the gradients from backpropagation and the numerical approximation of the gradient (computed using forward propagation).\n",
    "- [Debugging: Gradient Checking](http://ufldl.stanford.edu/tutorial/supervised/DebuggingGradientChecking/)"
   ]
  },
  {
   "cell_type": "markdown",
   "metadata": {},
   "source": [
    "#### Implementation:\n",
    "- Use two-sided Taylor approximation which is 2x more precise than one-sided\n",
    "- Assuming $\\epsilon=10^{−4}$, you’ll usually find that the left- and right-hand sides of the above will agree to at least 4 significant digits (and often many more).\n",
    "\n",
    "<img width=500 src=\"images/Screen Shot 2018-12-06 at 16.04.38.png\"/>\n",
    "\n",
    "- $\\theta$ denotes model parameters\n",
    "- $g$ denotes gradients computed with backpropagation\n",
    "- $J$ denotes loss computed using forward propagation and loss function\n",
    "- If ever we are optimizing over several variables or over matrices, we can always pack these parameters into a long vector and use the same method here to check our derivatives. Then to check i-th parameter, increase/decrease i-th element of the vector by $\\epsilon$."
   ]
  },
  {
   "cell_type": "markdown",
   "metadata": {},
   "source": [
    "#### Tips:\n",
    "- There’s a large range of values of $\\epsilon$ that should work well, but we don’t set $\\epsilon$ to be “extremely” small, say $10^{−20}$, as that would lead to numerical roundoff errors.\n",
    "- Gradient checking is slow, so we don't run it in every iteration of training. You would usually run it only to make sure your code is correct, then turn it off and use backprop for the actual learning process.\n",
    "- Mostly gradient checking doesn't work with dropout\n",
    "- Be sure to disable gradient checking in testing phase"
   ]
  },
  {
   "cell_type": "code",
   "execution_count": null,
   "metadata": {},
   "outputs": [],
   "source": []
  }
 ],
 "metadata": {
  "kernelspec": {
   "display_name": "Python 3",
   "language": "python",
   "name": "python3"
  },
  "language_info": {
   "codemirror_mode": {
    "name": "ipython",
    "version": 3
   },
   "file_extension": ".py",
   "mimetype": "text/x-python",
   "name": "python",
   "nbconvert_exporter": "python",
   "pygments_lexer": "ipython3",
   "version": "3.6.6"
  }
 },
 "nbformat": 4,
 "nbformat_minor": 2
}
