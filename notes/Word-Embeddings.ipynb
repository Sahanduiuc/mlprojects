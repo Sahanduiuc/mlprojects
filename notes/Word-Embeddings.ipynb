{
 "cells": [
  {
   "cell_type": "markdown",
   "metadata": {},
   "source": [
    "# Word Embeddings"
   ]
  },
  {
   "cell_type": "markdown",
   "metadata": {},
   "source": [
    "- Humans treat words as discrete atomic symbols. These encodings are arbitrary, and provide no useful information to the system regarding the relationships that may exist between the individual symbols, since their inner product is zero and the distances between them are the same.\n",
    "- So, instead of a one-hot presentation, we should learn a featurized representation.\n",
    "- Word embeddings are in fact a class of techniques which represent individual words as real-valued vectors in a predefined vector space, where semantically similar words are mapped to nearby points ('are embedded nearby each other').\n",
    "- A word embedding is a learned representation for text where semantically similar words have similar vectors.\n",
    "\n",
    "<img width=500 src=\"images/1*jpnKO5X0Ii8PVdQYFO2z1Q.png\"/>\n",
    "<center><a href=\"https://towardsdatascience.com/word-embedding-with-word2vec-and-fasttext-a209c1d3e12c\" style=\"color: lightgrey\">Credit</a></center>\n",
    "\n",
    "- In a simplified sense each dimension represents a meaning and the word’s numerical weight on that dimension captures the closeness of its association with and to that meaning.\n",
    "- The beauty of representing words as vectors is that they lend themselves to mathematical operators, such as `king — man + woman = queen`, thus enabling analogy reasoning."
   ]
  },
  {
   "cell_type": "markdown",
   "metadata": {},
   "source": [
    "#### Dense representation:\n",
    "-  The number of features is much smaller than the size of the vocabulary: Each word is represented by a real-valued vector, often tens or hundreds of dimensions. This is contrasted to the thousands or millions of dimensions required for sparse word representations, such as a one-hot encoding.\n",
    "- One of the benefits of using dense and low-dimensional vectors is computational: the majority of neural network toolkits do not play well with very high-dimensional, sparse vectors.\n",
    "- The other benefit of the dense representations is generalization power."
   ]
  },
  {
   "cell_type": "markdown",
   "metadata": {},
   "source": [
    "#### Interpretability:\n",
    "- We can visualize the learned vectors by projecting them down to 2 dimensions using for instance something like the t-SNE dimensionality reduction technique, which (as compared to naive methods such as PCA) preserves the neighborhood structure of the data, so that words that are close in the embedding space will remain close in the new space.\n",
    "- Certain directions in the induced vector space specialize towards certain semantic relationships, e.g. male-female, verb tense and even country-capital relationships between words.\n",
    "\n",
    "<img width=500 src=\"images/turian.png\"/>\n",
    "<center><a href=\"https://lvdmaaten.github.io/tsne/\" style=\"color: lightgrey\">Credit</a></center>\n",
    "\n",
    "- Sometimes, the learned embeddings may not have interpretable features at all (e.g., they may combine multiple interpretable features)."
   ]
  },
  {
   "cell_type": "markdown",
   "metadata": {},
   "source": [
    "#### Usage:\n",
    "- Because word embeddings are very computationally expensive to train, most ML practitioners will load a pre-trained set of embeddings.\n",
    "- Learn embeddings:\n",
    "    - Standalone: a model is trained to learn the embedding, which is saved and used as a part of another model.\n",
    "    - Jointly: the embedding is learned as part of a large task-specific model.\n",
    "- Instead of training own embeddings from scratch, pre-trained word embeddings can be used:\n",
    "    - Static: the embedding is kept static and is used as a component of the model.\n",
    "    - Updated: the pre-trained embedding is used to seed the model, but the embedding is updated jointly during the training of the model.\n",
    "- Transfer learning:\n",
    "    - Learn word embeddings from a large text corpus (1-100B words)\n",
    "    - Transfer the word embeddings to a new task with a smaller training set (say, 100k words)\n",
    "    - Optional: continue to finetune the word embeddings with new data"
   ]
  },
  {
   "cell_type": "markdown",
   "metadata": {},
   "source": [
    "## Learning algorithms"
   ]
  },
  {
   "cell_type": "markdown",
   "metadata": {},
   "source": [
    "- We want to build a language model so that we can predict the next word.\n",
    "- The distributed representation is learned based on the usage of words. This allows words that are used in similar ways to result in having similar representations, naturally capturing their meaning.\n",
    "- Word embedding methods learn a real-valued vector representation for a predefined fixed sized vocabulary from a corpus of text.\n",
    "\n",
    "<img width=300 src=\"images/SCOTS corpus.PNG\"/>"
   ]
  },
  {
   "cell_type": "markdown",
   "metadata": {},
   "source": [
    "### Embedding layer"
   ]
  },
  {
   "cell_type": "markdown",
   "metadata": {},
   "source": [
    "- A great strength of neural networks is that they learn better ways to represent data, automatically.\n",
    "- An embedding layer is a word embedding that is learned jointly with a neural network model on a specific NLP task, where one-hot encoded words are mapped to the embedding vectors.\n",
    "- For example, the network will automatically learn to encode gender in a consistent way.\n",
    "\n",
    "<img width=550 src=\"images/1*CVoes2yr1puyXkWT69nMlw.png\"/>\n",
    "<center><a href=\"https://chatbotnewsdaily.com/tensorflow-in-a-nutshell-part-two-hybrid-learning-98c121d35392\" style=\"color: lightgrey\">Credit</a></center>"
   ]
  },
  {
   "cell_type": "markdown",
   "metadata": {},
   "source": [
    "### Word2Vec"
   ]
  },
  {
   "cell_type": "markdown",
   "metadata": {},
   "source": [
    "- Word2vec builds upon distributional hypothesis which states that words that share similar contexts tend to have similar meanings.\n",
    "- A word2vec model is simply a neural network with a single hidden layer that is designed to reconstruct the context of words by estimating the probability that a word is “close” to another word given as input.\n",
    "- The word vector is the model’s attempt to learn a good numerical representation of the word in order to minimize the loss (error) of it’s predictions.\n",
    "- Another place you may have seen this trick is in unsupervised feature learning, where you train an auto-encoder to compress an input vector in the hidden layer, and decompress it back to the original in the output layer. After training it, you strip off the output layer (the decompression step) and just use the hidden layer - it's a trick for learning good image features without having labeled training data."
   ]
  },
  {
   "cell_type": "markdown",
   "metadata": {},
   "source": [
    "#### Negative sampling:\n",
    "- Neural probabilistic language models are traditionally trained using softmax, which is very expensive. \n",
    "\n",
    "<img width=250 src=\"images/39.png\"/>\n",
    "\n",
    "- Negative sampling allows to do something similar to the skip-gram model, but with a much more efficient learning algorithm.\n",
    "- To generate the samples, pick a positive context and $k$ negative contexts (noise words) from the dictionary.\n",
    "- The samples can be picked according to empirical frequencies in words corpus which means according to how often different words appears.\n",
    "- Then it is trained using a binary classification objective, which is less expensive than softmax. This objective is maximized when the model assigns high probabilities to the real words, and low probabilities to noise words."
   ]
  },
  {
   "cell_type": "markdown",
   "metadata": {},
   "source": [
    "#### Learning models:\n",
    "- Word2vec comes in two flavors, the Continuous Bag-of-Words model (CBOW) and the Skip-Gram model. \n",
    "\n",
    "<img width=600 src=\"images/word2vec.png\"/>\n",
    "<center><a href=\"https://www.researchgate.net/publication/326588219_Extending_Thesauri_Using_Word_Embeddings_and_the_Intersection_Method/figures?lo=1&utm_source=google&utm_medium=organic\" style=\"color: lightgrey\">Credit</a></center>\n",
    "\n",
    "- Algorithmically, these models are similar, except that:\n",
    "    - CBOW predicts target words (e.g. 'mat') from source context words ('the cat sits on the'), which works well for smaller datasets.\n",
    "    - Skip-gram does the inverse and predicts source context-words from the target words, which works well for bigger datasets.\n",
    "- Both models are focused on learning about words given their local usage context, where the context is defined by a (sliding) window of neighboring words. The size of the sliding window has a strong effect on the resulting vector similarities. Large windows tend to produce more topical similarities, while smaller windows tend to produce more functional and syntactic similarities.\n",
    "- [Word2Vec Tutorial - The Skip-Gram Model](http://mccormickml.com/2016/04/19/word2vec-tutorial-the-skip-gram-model/)"
   ]
  },
  {
   "cell_type": "markdown",
   "metadata": {},
   "source": [
    "#### Applications:\n",
    "- Text classification & chatbots\n",
    "- Recommender systems and ad targeting: Instead of learning vectors from a sequence of words, you can learn vectors from a sequence of user actions, or sequence of songs in a playlist, etc."
   ]
  },
  {
   "cell_type": "markdown",
   "metadata": {},
   "source": [
    "#### Benefits:\n",
    "- The resulting representations are surprisingly good at capturing syntactic and semantic regularities in language, and that each relationship is characterized by a relation-specific vector offset. This allows vector-oriented reasoning based on the offsets between words. For example, the male/female relationship is automatically learned.\n",
    "- High-quality word embeddings can be learned efficiently (low space and time complexity), allowing larger embeddings to be learned (more dimensions) from much larger corpora of text (billions of words)."
   ]
  },
  {
   "cell_type": "markdown",
   "metadata": {},
   "source": [
    "### GloVe"
   ]
  },
  {
   "cell_type": "markdown",
   "metadata": {},
   "source": [
    "- GloVe algorithm is an extension to the word2vec method for efficiently learning word vectors.\n",
    "- Rather than using a window to define local context, GloVe constructs an explicit word-context or word co-occurrence matrix using statistics across the whole text corpus.\n",
    "\n",
    "<img width=350 src=\"images/1*EaPTHymy22IW4OjnUq84jw.png\"/>\n",
    "<center><a href=\"https://towardsdatascience.com/game-of-thrones-word-embeddings-does-r-l-j-part-1-8ca70a8f1fad\" style=\"color: lightgrey\">Credit</a></center>"
   ]
  },
  {
   "cell_type": "markdown",
   "metadata": {},
   "source": [
    "#### Benefits:\n",
    "- GloVe, is a new global log-bilinear regression model for the unsupervised learning of word representations that outperforms other models on word analogy, word similarity, and named entity recognition tasks."
   ]
  },
  {
   "cell_type": "markdown",
   "metadata": {},
   "source": [
    "## Resources"
   ]
  },
  {
   "cell_type": "markdown",
   "metadata": {},
   "source": [
    "- [What Are Word Embeddings for Text?](https://machinelearningmastery.com/what-are-word-embeddings/)\n",
    "- [Word vectors for non-NLP data and research people](https://towardsdatascience.com/word-vectors-for-non-nlp-data-and-research-people-8d689c692353)"
   ]
  },
  {
   "cell_type": "code",
   "execution_count": null,
   "metadata": {},
   "outputs": [],
   "source": []
  }
 ],
 "metadata": {
  "kernelspec": {
   "display_name": "Python 3",
   "language": "python",
   "name": "python3"
  },
  "language_info": {
   "codemirror_mode": {
    "name": "ipython",
    "version": 3
   },
   "file_extension": ".py",
   "mimetype": "text/x-python",
   "name": "python",
   "nbconvert_exporter": "python",
   "pygments_lexer": "ipython3",
   "version": "3.6.6"
  }
 },
 "nbformat": 4,
 "nbformat_minor": 2
}
