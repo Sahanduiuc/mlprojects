{
 "cells": [
  {
   "cell_type": "markdown",
   "metadata": {},
   "source": [
    "# Recurrect Neural Networks"
   ]
  },
  {
   "cell_type": "markdown",
   "metadata": {},
   "source": [
    "- A glaring limitation of Vanilla Neural Networks (and also Convolutional Networks) is that their API is too constrained: \n",
    "    - They accept a fixed-sized vector as input (e.g. an image) and produce a fixed-sized vector as output (e.g. probabilities of different classes). \n",
    "    - These models perform this mapping using a fixed amount of computational steps (e.g. the number of layers in the model). \n",
    "    - They have no memory of the input they received previously and are therefore bad in predicting what’s coming next.\n",
    "- If your neighbor is cooking a dinner each evening and the receipt changes based on the previous one, a vanilla neural network will try to find patterns based on features such as time and mood, while a RNN will try to find sequence patterns and will succeed.\n",
    "- Unlike feedforward neural networks, RNNs can use their internal state (memory) to process sequences of inputs.\n",
    "\n",
    "<img width=450 src=\"images/mlst_1403.png\"/>\n",
    "<center><a href=\"https://www.oreilly.com/library/view/neural-networks-and/9781492037354/ch04.html\" style=\"color: lightgrey\">Credit</a></center>\n",
    "\n",
    "- A recurrent neural network can be thought of as multiple copies of the same network, each passing a message to a successor.\n",
    "- The outputs in RNNs are just the inputs shifted forward by one, making the RNN a supervised learning model."
   ]
  },
  {
   "cell_type": "markdown",
   "metadata": {},
   "source": [
    "#### Turing completeness:\n",
    "- RNNs are Turing-Complete in the sense that they can to simulate arbitrary programs (with proper weights). If training vanilla neural nets is optimization over functions, training recurrent nets is optimization over programs.\n",
    "\n",
    "<img width=350 src=\"images/maxresdefault.jpg\"/>\n",
    "<center><a href=\"https://www.youtube.com/watch?v=RPQD7-AOjMI\" style=\"color: lightgrey\">Credit</a></center>"
   ]
  },
  {
   "cell_type": "markdown",
   "metadata": {},
   "source": [
    "#### Usage:\n",
    "- Whenever there is a sequence of data and that temporal dynamics that connects the data is more important than the spatial content of each individual frame.\n",
    "- Even if your data is not in form of sequences, you can still formulate and train powerful models that learn to process it sequentially.\n",
    "- Evidence suggests the model is actually quite good at learning complex syntactic structures (such as XML)."
   ]
  },
  {
   "cell_type": "markdown",
   "metadata": {},
   "source": [
    "#### Recurrence:\n",
    "- The most important facet of the RNN is the recurrence. A basic neuron has only connections from his input to his output. The recurrent neuron instead has also a connection from his output again to his input. \n",
    "- This recurrence indicates a dependence on all the information prior to a particular time.\n",
    "- RNNs combine the input vector with their state vector with a fixed (but learned) function to produce a new state vector and the output vector. Output vector’s contents are influenced not only by the input you just fed in, but also on the entire history of inputs you’ve fed in in the past.\n",
    "- Nodes are either \n",
    "    - input nodes (receiving data from outside the network), \n",
    "    - output nodes (yielding results), or \n",
    "    - hidden nodes (that modify the data en route from input to output)."
   ]
  },
  {
   "cell_type": "markdown",
   "metadata": {},
   "source": [
    "#### Backpropagation through time (BPTT):\n",
    "- Since the RNN consists entirely of differentiable operations we can run the backpropagation algorithm (this is just a recursive application of the chain rule from calculus).\n",
    "- Within BPTT the error is back-propagated from the last to the first timestep, while unrolling all the timesteps. \n",
    "- Note that BPTT can be computationally expensive when you have a high number of timesteps."
   ]
  },
  {
   "cell_type": "markdown",
   "metadata": {},
   "source": [
    "#### Architectures:\n",
    "<img width=700 src=\"images/sequences.png\"/>\n",
    "<center><a href=\"http://karpathy.github.io/2015/05/21/rnn-effectiveness/\" style=\"color: lightgrey\">Credit</a></center>\n",
    "\n",
    "- Additionally, we can have bidirectional RNNs that feed in the input sequence in both directions by concatenating the outputs of two RNNs, one processing the sequence from left to right, the other one from right to left.\n",
    "- We can also stack these RNNs in layers to make deep RNNs. In deep RNNs stacking 3 layers is already considered deep and expensive to train."
   ]
  },
  {
   "cell_type": "markdown",
   "metadata": {},
   "source": [
    "#### Benefits:\n",
    "- Store information: The recurrent network can use the feedback connection to store information over time in form of activations. As the time steps increase, the unit gets influenced by larger and larger neighborhood. With that information recurrent networks can watch large regions in the input space.\n",
    "\n",
    "<img width=250 src=\"images/shorttermmemory_300x200.jpg\"/>\n",
    "<center><a href=\"https://www.mindgames.com/game/Short+Term+Memory\" style=\"color: lightgrey\">Credit</a></center>\n",
    "\n",
    "- Learn Sequential Data: The RNN can handle sequential data of arbitrary length\n",
    "- Furthermore the recurrent connections increase the network depth while they keep the number of parameters low by weight sharing\n",
    "- Recurrent connections of neurons are biological inspired and are used for many tasks in the brain"
   ]
  },
  {
   "cell_type": "markdown",
   "metadata": {},
   "source": [
    "#### Drawbacks:\n",
    "- RNN are inefficient and not scalable: If you double the size of the hidden state vector you’d quadruple the amount of FLOPS at each step due to the matrix multiplication. \n",
    "- RNN and LSTM are memory-bandwidth limited problems: it is easy to add more computational units, but hard to add more memory bandwidth.\n",
    "- [The fall of RNN / LSTM](https://towardsdatascience.com/the-fall-of-rnn-lstm-2d1594c74ce0)\n",
    "- RNNs are not inductive: They memorize sequences extremely well, but they don’t necessarily always show convincing signs of generalizing in the correct way. For example, the model opens a `\\begin{proof}` environment but then ends it with a `\\end{lemma}`.\n",
    "\n",
    "<img width=600 src=\"images/Screen Shot 2019-01-06 at 00.06.35.png\"/>\n",
    "<center><a href=\"http://karpathy.github.io/2015/05/21/rnn-effectiveness/\" style=\"color: lightgrey\">Credit</a></center>\n",
    "\n",
    "- Standard RNNs:\n",
    "    - Problems like exploding and vanishing gradients\n",
    "    - The recurrent structures were either exploring short term temporal structures or the long term structures. But not both simultaneously."
   ]
  },
  {
   "cell_type": "markdown",
   "metadata": {},
   "source": [
    "#### Solving gradient problems:\n",
    "- Vanishing gradients: When gradients are being propagated back in time, they can vanish because they they are continuously multiplied by numbers less than one. This is solved by LSTMs and GRUs, and if you’re using a deep feedforward network, this is solved by residual connections.\n",
    "- Exploding gradients: This is when they get exponentially large from being multiplied by numbers larger than 1. Gradient clipping will clip the gradients between two numbers to prevent them from getting too large.\n",
    "\n",
    "<img width=400 src=\"images/gradient_clipping.png\"/>\n",
    "<center><a href=\"http://nmarkou.blogspot.com/2017/07/deep-learning-why-you-should-use.html\" style=\"color: lightgrey\">Credit</a></center>"
   ]
  },
  {
   "cell_type": "markdown",
   "metadata": {},
   "source": [
    "## Gating mechanisms"
   ]
  },
  {
   "cell_type": "markdown",
   "metadata": {},
   "source": [
    "- RNNs suffer from short-term memory: A major problem with gradient descent for standard RNN architectures is that error gradients vanish exponentially quickly with the size of the time lag between important events. RNN model has many local influences, if we not address vanishing gradient problem then RNNs tend not to be very good at capturing long-range dependencies.\n",
    "- If you are trying to process a paragraph of text to do predictions, RNN’s may leave out important information from the beginning.\n",
    "- LSTM’s and GRU’s were created as a method to mitigate short-term memory using mechanisms called gates (pipes).\n",
    "\n",
    "<img width=200 src=\"images/1*oS5taVAKcIII1qNduYnLJA.jpeg\"/>\n",
    "<center><a href=\"https://medium.com/mlreview/understanding-lstm-and-its-diagrams-37e2f46f1714\" style=\"color: lightgrey\">Credit</a></center>\n",
    "\n",
    "- These gates can learn which data in a sequence is important to keep or throw away. Imagine you pick up words like “amazing” and “perfectly balanced breakfast”. You don’t care much for words like “this”, “gave“, “all”, “should”, etc. If a friend asks you the next day what the review said, you probably wouldn’t remember it word for word."
   ]
  },
  {
   "cell_type": "markdown",
   "metadata": {},
   "source": [
    "#### Comparison:\n",
    "- There isn’t a clear winner which one is better. Researchers and engineers usually try both to determine which one works better for their use case.\n",
    "- GRU has fewer tensor operations and parameters than LSTM, as it lacks an output gate.\n",
    "\n",
    "<img width=600 src=\"images/1*yBXV9o5q7L_CvY7quJt3WQ.png\"/>\n",
    "<center><a href=\"https://towardsdatascience.com/illustrated-guide-to-lstms-and-gru-s-a-step-by-step-explanation-44e9eb85bf21\" style=\"color: lightgrey\">Credit</a></center>"
   ]
  },
  {
   "cell_type": "markdown",
   "metadata": {},
   "source": [
    "### Long short-term memory (LSTM)"
   ]
  },
  {
   "cell_type": "markdown",
   "metadata": {},
   "source": [
    "- Long short-term memory (LSTM) is a deep learning system that avoids the vanishing/exploding gradient problem.\n",
    "- LSTM’s enable RNN’s to remember their inputs over a long period of time. This is because LSTM’s contain their information in a memory, that is much like the memory of a computer because the LSTM can read, write and delete information from its memory. An interesting analogy can be drawn between memory cells in LSTMs and memory elements in your calculators, storing the numbers you ask it to.\n",
    "- LSTM can learn tasks that require memories of events that happened thousands or even millions of discrete time steps earlier.\n",
    "- [Understanding LSTM Networks](http://colah.github.io/posts/2015-08-Understanding-LSTMs/)"
   ]
  },
  {
   "cell_type": "markdown",
   "metadata": {},
   "source": [
    "#### Cell state:\n",
    "- The cell state $c_t$ acts as a transport highway that transfers relative information all the way down the sequence chain.\n",
    "- You can think of it as the “memory” of the network.\n",
    "- As the cell state goes on its journey, information get’s added or removed to the cell state via gates."
   ]
  },
  {
   "cell_type": "markdown",
   "metadata": {},
   "source": [
    "#### Gates:\n",
    "- Each LSTM block consists of a forget gate, input gate and an output gate.\n",
    "- The gates in a LSTM are analog, in the form of sigmoids, meaning that they range from 0 to 1.\n",
    "- The forget gate $f_t$ decides what is relevant to keep from prior steps. \n",
    "- The input gate $i_t$ decides what information is relevant to add from the current step. \n",
    "- The output gate $o_t$ determines what the next hidden state should be.\n",
    "\n",
    "<img width=350 src=\"images/final-rnn-implementation-on-fpga-4-638.jpg\"/>"
   ]
  },
  {
   "cell_type": "markdown",
   "metadata": {},
   "source": [
    "### Gated recurrent unit (GRU)"
   ]
  },
  {
   "cell_type": "markdown",
   "metadata": {},
   "source": [
    "- Gated recurrent units (GRUs) are a newer gating mechanism in recurrent neural networks.\n",
    "- GRU’s got rid of the cell state and used the hidden state to transfer information. \n",
    "- The forget and input gates are combined in a complimentary fashion to reduce the unnecessary complexity in model(reducing recurrent parameters by 33%)."
   ]
  },
  {
   "cell_type": "markdown",
   "metadata": {},
   "source": [
    "#### Gates:\n",
    "- GRU has two gates, a reset gate and update gate.\n",
    "- The update gate $z_t$ decides what information to throw away and what new information to add.\n",
    "- The reset gate $r_t$ is another gate is used to decide how much past information to forget. But when you combine the 2 operations as a \"Coupled Input and Forget Gate\" there are similar results compared to the vanilla model.\n",
    "\n",
    "<img width=400 src=\"images/LSTM3-var-GRU.png\"/>"
   ]
  },
  {
   "cell_type": "markdown",
   "metadata": {},
   "source": [
    "## Resources"
   ]
  },
  {
   "cell_type": "markdown",
   "metadata": {},
   "source": [
    "- [The Unreasonable Effectiveness of Recurrent Neural Networks](http://karpathy.github.io/2015/05/21/rnn-effectiveness/)\n",
    "- [Recurrent Neural Networks (RNN) and Long Short-Term Memory (LSTM)](https://youtu.be/WCUNPb-5EYI)"
   ]
  },
  {
   "cell_type": "code",
   "execution_count": null,
   "metadata": {},
   "outputs": [],
   "source": []
  }
 ],
 "metadata": {
  "kernelspec": {
   "display_name": "Python 3",
   "language": "python",
   "name": "python3"
  },
  "language_info": {
   "codemirror_mode": {
    "name": "ipython",
    "version": 3
   },
   "file_extension": ".py",
   "mimetype": "text/x-python",
   "name": "python",
   "nbconvert_exporter": "python",
   "pygments_lexer": "ipython3",
   "version": "3.6.6"
  }
 },
 "nbformat": 4,
 "nbformat_minor": 2
}
